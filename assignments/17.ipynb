{
 "cells": [
  {
   "cell_type": "code",
   "execution_count": 21,
   "metadata": {},
   "outputs": [],
   "source": [
    "import pandas as pd\n",
    "import seaborn as sns\n"
   ]
  },
  {
   "cell_type": "code",
   "execution_count": 22,
   "metadata": {},
   "outputs": [],
   "source": [
    "hostels = pd.read_csv('../data/hostel.csv')\n",
    "penguins = sns.load_dataset(\"penguins\")\n",
    "penguins = penguins.dropna()"
   ]
  },
  {
   "cell_type": "markdown",
   "metadata": {},
   "source": [
    "## Portfolio assignment 17\n",
    "30 min: Train a decision tree to predict the body_mass_g of a penguin based on their characteristics.\n",
    "- Split the penguin dataset into a train (70%) and test (30%) set.\n",
    "- Use the train set to fit a DecisionTreeRegressor. You are free to to choose which columns you want to use as feature variables and you are also free to choose the max_depth of the tree. \n",
    "<b>Note</b>: Some machine learning algorithms can not handle missing values. You will either need to \n",
    " - replace missing values (with the mean or most popular value). For replacing missing values you can use .fillna(\\<value\\>) https://pandas.pydata.org/docs/reference/api/pandas.Series.fillna.html\n",
    " - remove rows with missing data.  You can remove rows with missing data with .dropna() https://pandas.pydata.org/pandas-docs/stable/reference/api/pandas.DataFrame.dropna.html\n",
    "- Use your decision tree model to make predictions for both the train and test set.\n",
    "- Calculate the RMSE for both the train set predictions and test set predictions.\n",
    "- Is the RMSE different? Did you expect this difference?\n",
    "- Use the plot_tree_regression function above to create a plot of the decision tree. Take a few minutes to analyse the decision tree. Do you understand the tree?"
   ]
  },
  {
   "cell_type": "code",
   "execution_count": 23,
   "metadata": {},
   "outputs": [],
   "source": [
    "from sklearn.tree import DecisionTreeRegressor\n"
   ]
  },
  {
   "cell_type": "code",
   "execution_count": 24,
   "metadata": {},
   "outputs": [],
   "source": [
    "from sklearn.model_selection import train_test_split"
   ]
  },
  {
   "cell_type": "code",
   "execution_count": 25,
   "metadata": {},
   "outputs": [],
   "source": [
    "def calculate_rmse(predictions, actuals):\n",
    "    if(len(predictions) != len(actuals)):\n",
    "        raise Exception(\"The amount of predictions did not equal the amount of actuals\")\n",
    "    \n",
    "    return (((predictions - actuals) ** 2).sum() / len(actuals)) ** (1/2)\n"
   ]
  },
  {
   "cell_type": "code",
   "execution_count": 26,
   "metadata": {},
   "outputs": [],
   "source": [
    "from sklearn import tree\n",
    "import graphviz\n",
    "\n",
    "def plot_tree_regression(model, features):\n",
    "    # Generate plot data\n",
    "    dot_data = tree.export_graphviz(model, out_file=None, \n",
    "                          feature_names=features,  \n",
    "                          filled=True, rounded=True,  \n",
    "                          special_characters=True)  \n",
    "\n",
    "    # Turn into graph using graphviz\n",
    "    graph = graphviz.Source(dot_data)  \n",
    "\n",
    "    # Write out a pdf\n",
    "    graph.render(\"decision_tree\")\n",
    "\n",
    "    # Display in the notebook\n",
    "    return graph "
   ]
  },
  {
   "cell_type": "code",
   "execution_count": 27,
   "metadata": {},
   "outputs": [
    {
     "name": "stdout",
     "output_type": "stream",
     "text": [
      "(233, 7) (100, 7)\n"
     ]
    }
   ],
   "source": [
    "penguins_train, penguins_test = train_test_split(penguins, test_size=0.3, stratify=penguins['island'], random_state=5)\n",
    "print(penguins_train.shape, penguins_test.shape)"
   ]
  },
  {
   "cell_type": "code",
   "execution_count": 31,
   "metadata": {},
   "outputs": [
    {
     "data": {
      "text/plain": [
       "DecisionTreeRegressor(max_depth=3)"
      ]
     },
     "execution_count": 31,
     "metadata": {},
     "output_type": "execute_result"
    }
   ],
   "source": [
    "features= ['flipper_length_mm']\n",
    "dt_regression = DecisionTreeRegressor(max_depth = 3) # Increase max_depth to see effect in the plot\n",
    "dt_regression.fit(penguins_train[features], penguins_train['body_mass_g'])"
   ]
  },
  {
   "cell_type": "markdown",
   "metadata": {},
   "source": [
    "The RMSE scores are higher than expected and are still somewhat close to each other."
   ]
  },
  {
   "cell_type": "code",
   "execution_count": 29,
   "metadata": {},
   "outputs": [
    {
     "name": "stdout",
     "output_type": "stream",
     "text": [
      "RMSE on training set 157.04850194889698\n",
      "RMSE on test set 158.4155397971188\n"
     ]
    }
   ],
   "source": [
    "predictionsOnTrainset = dt_regression.predict(penguins_train[features])\n",
    "predictionsOnTestset = dt_regression.predict(penguins_test[features])\n",
    "\n",
    "rmseTrain = calculate_rmse(predictionsOnTrainset, penguins_train.bill_length_mm)\n",
    "rmseTest = calculate_rmse(predictionsOnTestset, penguins_test.bill_length_mm)\n",
    "\n",
    "print(\"RMSE on training set \" + str(rmseTrain))\n",
    "print(\"RMSE on test set \" + str(rmseTest))"
   ]
  },
  {
   "cell_type": "code",
   "execution_count": 32,
   "metadata": {},
   "outputs": [
    {
     "data": {
      "image/svg+xml": "<?xml version=\"1.0\" encoding=\"UTF-8\" standalone=\"no\"?>\n<!DOCTYPE svg PUBLIC \"-//W3C//DTD SVG 1.1//EN\"\n \"http://www.w3.org/Graphics/SVG/1.1/DTD/svg11.dtd\">\n<!-- Generated by graphviz version 2.50.0 (20220117.2223)\n -->\n<!-- Title: Tree Pages: 1 -->\n<svg width=\"1852pt\" height=\"373pt\"\n viewBox=\"0.00 0.00 1852.00 373.00\" xmlns=\"http://www.w3.org/2000/svg\" xmlns:xlink=\"http://www.w3.org/1999/xlink\">\n<g id=\"graph0\" class=\"graph\" transform=\"scale(1 1) rotate(0) translate(4 369)\">\n<title>Tree</title>\n<polygon fill=\"white\" stroke=\"transparent\" points=\"-4,4 -4,-369 1848,-369 1848,4 -4,4\"/>\n<!-- 0 -->\n<g id=\"node1\" class=\"node\">\n<title>0</title>\n<path fill=\"#f5d0b6\" stroke=\"black\" d=\"M1002,-365C1002,-365 807,-365 807,-365 801,-365 795,-359 795,-353 795,-353 795,-309 795,-309 795,-303 801,-297 807,-297 807,-297 1002,-297 1002,-297 1008,-297 1014,-303 1014,-309 1014,-309 1014,-353 1014,-353 1014,-359 1008,-365 1002,-365\"/>\n<text text-anchor=\"start\" x=\"808.5\" y=\"-349.8\" font-family=\"Helvetica,sans-Serif\" font-size=\"14.00\">flipper_length_mm ≤ 206.5</text>\n<text text-anchor=\"start\" x=\"803\" y=\"-334.8\" font-family=\"Helvetica,sans-Serif\" font-size=\"14.00\">squared_error = 682837.407</text>\n<text text-anchor=\"start\" x=\"851.5\" y=\"-319.8\" font-family=\"Helvetica,sans-Serif\" font-size=\"14.00\">samples = 233</text>\n<text text-anchor=\"start\" x=\"841\" y=\"-304.8\" font-family=\"Helvetica,sans-Serif\" font-size=\"14.00\">value = 4204.399</text>\n</g>\n<!-- 1 -->\n<g id=\"node2\" class=\"node\">\n<title>1</title>\n<path fill=\"#fcf0e8\" stroke=\"black\" d=\"M771,-261C771,-261 576,-261 576,-261 570,-261 564,-255 564,-249 564,-249 564,-205 564,-205 564,-199 570,-193 576,-193 576,-193 771,-193 771,-193 777,-193 783,-199 783,-205 783,-205 783,-249 783,-249 783,-255 777,-261 771,-261\"/>\n<text text-anchor=\"start\" x=\"577.5\" y=\"-245.8\" font-family=\"Helvetica,sans-Serif\" font-size=\"14.00\">flipper_length_mm ≤ 195.5</text>\n<text text-anchor=\"start\" x=\"572\" y=\"-230.8\" font-family=\"Helvetica,sans-Serif\" font-size=\"14.00\">squared_error = 186614.984</text>\n<text text-anchor=\"start\" x=\"620.5\" y=\"-215.8\" font-family=\"Helvetica,sans-Serif\" font-size=\"14.00\">samples = 146</text>\n<text text-anchor=\"start\" x=\"610\" y=\"-200.8\" font-family=\"Helvetica,sans-Serif\" font-size=\"14.00\">value = 3678.425</text>\n</g>\n<!-- 0&#45;&gt;1 -->\n<g id=\"edge1\" class=\"edge\">\n<title>0&#45;&gt;1</title>\n<path fill=\"none\" stroke=\"black\" d=\"M829.5,-296.88C806.59,-286.77 781.24,-275.58 757.76,-265.21\"/>\n<polygon fill=\"black\" stroke=\"black\" points=\"759.08,-261.96 748.52,-261.12 756.25,-268.37 759.08,-261.96\"/>\n<text text-anchor=\"middle\" x=\"757.55\" y=\"-280.74\" font-family=\"Helvetica,sans-Serif\" font-size=\"14.00\">True</text>\n</g>\n<!-- 8 -->\n<g id=\"node9\" class=\"node\">\n<title>8</title>\n<path fill=\"#ea9b62\" stroke=\"black\" d=\"M1239,-261C1239,-261 1044,-261 1044,-261 1038,-261 1032,-255 1032,-249 1032,-249 1032,-205 1032,-205 1032,-199 1038,-193 1044,-193 1044,-193 1239,-193 1239,-193 1245,-193 1251,-199 1251,-205 1251,-205 1251,-249 1251,-249 1251,-255 1245,-261 1239,-261\"/>\n<text text-anchor=\"start\" x=\"1045.5\" y=\"-245.8\" font-family=\"Helvetica,sans-Serif\" font-size=\"14.00\">flipper_length_mm ≤ 214.5</text>\n<text text-anchor=\"start\" x=\"1040\" y=\"-230.8\" font-family=\"Helvetica,sans-Serif\" font-size=\"14.00\">squared_error = 272210.662</text>\n<text text-anchor=\"start\" x=\"1093\" y=\"-215.8\" font-family=\"Helvetica,sans-Serif\" font-size=\"14.00\">samples = 87</text>\n<text text-anchor=\"start\" x=\"1078\" y=\"-200.8\" font-family=\"Helvetica,sans-Serif\" font-size=\"14.00\">value = 5087.069</text>\n</g>\n<!-- 0&#45;&gt;8 -->\n<g id=\"edge8\" class=\"edge\">\n<title>0&#45;&gt;8</title>\n<path fill=\"none\" stroke=\"black\" d=\"M981.45,-296.88C1004.95,-286.77 1030.96,-275.58 1055.05,-265.21\"/>\n<polygon fill=\"black\" stroke=\"black\" points=\"1056.73,-268.29 1064.53,-261.12 1053.96,-261.86 1056.73,-268.29\"/>\n<text text-anchor=\"middle\" x=\"1055.28\" y=\"-280.65\" font-family=\"Helvetica,sans-Serif\" font-size=\"14.00\">False</text>\n</g>\n<!-- 2 -->\n<g id=\"node3\" class=\"node\">\n<title>2</title>\n<path fill=\"#fef8f4\" stroke=\"black\" d=\"M422,-157C422,-157 227,-157 227,-157 221,-157 215,-151 215,-145 215,-145 215,-101 215,-101 215,-95 221,-89 227,-89 227,-89 422,-89 422,-89 428,-89 434,-95 434,-101 434,-101 434,-145 434,-145 434,-151 428,-157 422,-157\"/>\n<text text-anchor=\"start\" x=\"228.5\" y=\"-141.8\" font-family=\"Helvetica,sans-Serif\" font-size=\"14.00\">flipper_length_mm ≤ 189.5</text>\n<text text-anchor=\"start\" x=\"223\" y=\"-126.8\" font-family=\"Helvetica,sans-Serif\" font-size=\"14.00\">squared_error = 142945.126</text>\n<text text-anchor=\"start\" x=\"271.5\" y=\"-111.8\" font-family=\"Helvetica,sans-Serif\" font-size=\"14.00\">samples = 107</text>\n<text text-anchor=\"start\" x=\"261\" y=\"-96.8\" font-family=\"Helvetica,sans-Serif\" font-size=\"14.00\">value = 3558.645</text>\n</g>\n<!-- 1&#45;&gt;2 -->\n<g id=\"edge2\" class=\"edge\">\n<title>1&#45;&gt;2</title>\n<path fill=\"none\" stroke=\"black\" d=\"M563.55,-193.87C525.52,-182.75 482.72,-170.24 443.96,-158.91\"/>\n<polygon fill=\"black\" stroke=\"black\" points=\"444.77,-155.51 434.19,-156.06 442.81,-162.22 444.77,-155.51\"/>\n</g>\n<!-- 5 -->\n<g id=\"node6\" class=\"node\">\n<title>5</title>\n<path fill=\"#f8dcc9\" stroke=\"black\" d=\"M771,-157C771,-157 576,-157 576,-157 570,-157 564,-151 564,-145 564,-145 564,-101 564,-101 564,-95 570,-89 576,-89 576,-89 771,-89 771,-89 777,-89 783,-95 783,-101 783,-101 783,-145 783,-145 783,-151 777,-157 771,-157\"/>\n<text text-anchor=\"start\" x=\"577.5\" y=\"-141.8\" font-family=\"Helvetica,sans-Serif\" font-size=\"14.00\">flipper_length_mm ≤ 202.5</text>\n<text text-anchor=\"start\" x=\"572\" y=\"-126.8\" font-family=\"Helvetica,sans-Serif\" font-size=\"14.00\">squared_error = 159068.869</text>\n<text text-anchor=\"start\" x=\"625\" y=\"-111.8\" font-family=\"Helvetica,sans-Serif\" font-size=\"14.00\">samples = 39</text>\n<text text-anchor=\"start\" x=\"610\" y=\"-96.8\" font-family=\"Helvetica,sans-Serif\" font-size=\"14.00\">value = 4007.051</text>\n</g>\n<!-- 1&#45;&gt;5 -->\n<g id=\"edge5\" class=\"edge\">\n<title>1&#45;&gt;5</title>\n<path fill=\"none\" stroke=\"black\" d=\"M673.5,-192.88C673.5,-184.78 673.5,-175.98 673.5,-167.47\"/>\n<polygon fill=\"black\" stroke=\"black\" points=\"677,-167.3 673.5,-157.3 670,-167.3 677,-167.3\"/>\n</g>\n<!-- 3 -->\n<g id=\"node4\" class=\"node\">\n<title>3</title>\n<path fill=\"#ffffff\" stroke=\"black\" d=\"M189,-53C189,-53 12,-53 12,-53 6,-53 0,-47 0,-41 0,-41 0,-12 0,-12 0,-6 6,0 12,0 12,0 189,0 189,0 195,0 201,-6 201,-12 201,-12 201,-41 201,-41 201,-47 195,-53 189,-53\"/>\n<text text-anchor=\"start\" x=\"8\" y=\"-37.8\" font-family=\"Helvetica,sans-Serif\" font-size=\"14.00\">squared_error = 97674.04</text>\n<text text-anchor=\"start\" x=\"52\" y=\"-22.8\" font-family=\"Helvetica,sans-Serif\" font-size=\"14.00\">samples = 54</text>\n<text text-anchor=\"start\" x=\"37\" y=\"-7.8\" font-family=\"Helvetica,sans-Serif\" font-size=\"14.00\">value = 3439.815</text>\n</g>\n<!-- 2&#45;&gt;3 -->\n<g id=\"edge3\" class=\"edge\">\n<title>2&#45;&gt;3</title>\n<path fill=\"none\" stroke=\"black\" d=\"M246.16,-88.95C221.54,-78.56 194.54,-67.17 170.54,-57.05\"/>\n<polygon fill=\"black\" stroke=\"black\" points=\"171.72,-53.75 161.15,-53.09 169,-60.2 171.72,-53.75\"/>\n</g>\n<!-- 4 -->\n<g id=\"node5\" class=\"node\">\n<title>4</title>\n<path fill=\"#fcf0e8\" stroke=\"black\" d=\"M417.5,-53C417.5,-53 231.5,-53 231.5,-53 225.5,-53 219.5,-47 219.5,-41 219.5,-41 219.5,-12 219.5,-12 219.5,-6 225.5,0 231.5,0 231.5,0 417.5,0 417.5,0 423.5,0 429.5,-6 429.5,-12 429.5,-12 429.5,-41 429.5,-41 429.5,-47 423.5,-53 417.5,-53\"/>\n<text text-anchor=\"start\" x=\"227.5\" y=\"-37.8\" font-family=\"Helvetica,sans-Serif\" font-size=\"14.00\">squared_error = 160024.92</text>\n<text text-anchor=\"start\" x=\"276\" y=\"-22.8\" font-family=\"Helvetica,sans-Serif\" font-size=\"14.00\">samples = 53</text>\n<text text-anchor=\"start\" x=\"261\" y=\"-7.8\" font-family=\"Helvetica,sans-Serif\" font-size=\"14.00\">value = 3679.717</text>\n</g>\n<!-- 2&#45;&gt;4 -->\n<g id=\"edge4\" class=\"edge\">\n<title>2&#45;&gt;4</title>\n<path fill=\"none\" stroke=\"black\" d=\"M324.5,-88.95C324.5,-80.72 324.5,-71.85 324.5,-63.48\"/>\n<polygon fill=\"black\" stroke=\"black\" points=\"328,-63.24 324.5,-53.24 321,-63.24 328,-63.24\"/>\n</g>\n<!-- 6 -->\n<g id=\"node7\" class=\"node\">\n<title>6</title>\n<path fill=\"#f9e2d2\" stroke=\"black\" d=\"M655,-53C655,-53 460,-53 460,-53 454,-53 448,-47 448,-41 448,-41 448,-12 448,-12 448,-6 454,0 460,0 460,0 655,0 655,0 661,0 667,-6 667,-12 667,-12 667,-41 667,-41 667,-47 661,-53 655,-53\"/>\n<text text-anchor=\"start\" x=\"456\" y=\"-37.8\" font-family=\"Helvetica,sans-Serif\" font-size=\"14.00\">squared_error = 146945.139</text>\n<text text-anchor=\"start\" x=\"509\" y=\"-22.8\" font-family=\"Helvetica,sans-Serif\" font-size=\"14.00\">samples = 30</text>\n<text text-anchor=\"start\" x=\"494\" y=\"-7.8\" font-family=\"Helvetica,sans-Serif\" font-size=\"14.00\">value = 3914.167</text>\n</g>\n<!-- 5&#45;&gt;6 -->\n<g id=\"edge6\" class=\"edge\">\n<title>5&#45;&gt;6</title>\n<path fill=\"none\" stroke=\"black\" d=\"M632.93,-88.95C621.25,-79.43 608.53,-69.07 596.92,-59.62\"/>\n<polygon fill=\"black\" stroke=\"black\" points=\"599.06,-56.84 589.09,-53.24 594.63,-62.27 599.06,-56.84\"/>\n</g>\n<!-- 7 -->\n<g id=\"node8\" class=\"node\">\n<title>7</title>\n<path fill=\"#f4caab\" stroke=\"black\" d=\"M883.5,-53C883.5,-53 697.5,-53 697.5,-53 691.5,-53 685.5,-47 685.5,-41 685.5,-41 685.5,-12 685.5,-12 685.5,-6 691.5,0 697.5,0 697.5,0 883.5,0 883.5,0 889.5,0 895.5,-6 895.5,-12 895.5,-12 895.5,-41 895.5,-41 895.5,-47 889.5,-53 883.5,-53\"/>\n<text text-anchor=\"start\" x=\"693.5\" y=\"-37.8\" font-family=\"Helvetica,sans-Serif\" font-size=\"14.00\">squared_error = 74861.111</text>\n<text text-anchor=\"start\" x=\"746.5\" y=\"-22.8\" font-family=\"Helvetica,sans-Serif\" font-size=\"14.00\">samples = 9</text>\n<text text-anchor=\"start\" x=\"727\" y=\"-7.8\" font-family=\"Helvetica,sans-Serif\" font-size=\"14.00\">value = 4316.667</text>\n</g>\n<!-- 5&#45;&gt;7 -->\n<g id=\"edge7\" class=\"edge\">\n<title>5&#45;&gt;7</title>\n<path fill=\"none\" stroke=\"black\" d=\"M714.42,-88.95C726.2,-79.43 739.03,-69.07 750.74,-59.62\"/>\n<polygon fill=\"black\" stroke=\"black\" points=\"753.06,-62.24 758.64,-53.24 748.66,-56.8 753.06,-62.24\"/>\n</g>\n<!-- 9 -->\n<g id=\"node10\" class=\"node\">\n<title>9</title>\n<path fill=\"#efb388\" stroke=\"black\" d=\"M1239,-157C1239,-157 1044,-157 1044,-157 1038,-157 1032,-151 1032,-145 1032,-145 1032,-101 1032,-101 1032,-95 1038,-89 1044,-89 1044,-89 1239,-89 1239,-89 1245,-89 1251,-95 1251,-101 1251,-101 1251,-145 1251,-145 1251,-151 1245,-157 1239,-157\"/>\n<text text-anchor=\"start\" x=\"1045.5\" y=\"-141.8\" font-family=\"Helvetica,sans-Serif\" font-size=\"14.00\">flipper_length_mm ≤ 210.5</text>\n<text text-anchor=\"start\" x=\"1040\" y=\"-126.8\" font-family=\"Helvetica,sans-Serif\" font-size=\"14.00\">squared_error = 175020.088</text>\n<text text-anchor=\"start\" x=\"1093\" y=\"-111.8\" font-family=\"Helvetica,sans-Serif\" font-size=\"14.00\">samples = 37</text>\n<text text-anchor=\"start\" x=\"1078\" y=\"-96.8\" font-family=\"Helvetica,sans-Serif\" font-size=\"14.00\">value = 4688.514</text>\n</g>\n<!-- 8&#45;&gt;9 -->\n<g id=\"edge9\" class=\"edge\">\n<title>8&#45;&gt;9</title>\n<path fill=\"none\" stroke=\"black\" d=\"M1141.5,-192.88C1141.5,-184.78 1141.5,-175.98 1141.5,-167.47\"/>\n<polygon fill=\"black\" stroke=\"black\" points=\"1145,-167.3 1141.5,-157.3 1138,-167.3 1145,-167.3\"/>\n</g>\n<!-- 12 -->\n<g id=\"node13\" class=\"node\">\n<title>12</title>\n<path fill=\"#e78945\" stroke=\"black\" d=\"M1589.5,-157C1589.5,-157 1405.5,-157 1405.5,-157 1399.5,-157 1393.5,-151 1393.5,-145 1393.5,-145 1393.5,-101 1393.5,-101 1393.5,-95 1399.5,-89 1405.5,-89 1405.5,-89 1589.5,-89 1589.5,-89 1595.5,-89 1601.5,-95 1601.5,-101 1601.5,-101 1601.5,-145 1601.5,-145 1601.5,-151 1595.5,-157 1589.5,-157\"/>\n<text text-anchor=\"start\" x=\"1401.5\" y=\"-141.8\" font-family=\"Helvetica,sans-Serif\" font-size=\"14.00\">flipper_length_mm ≤ 219.5</text>\n<text text-anchor=\"start\" x=\"1405\" y=\"-126.8\" font-family=\"Helvetica,sans-Serif\" font-size=\"14.00\">squared_error = 139601.0</text>\n<text text-anchor=\"start\" x=\"1449\" y=\"-111.8\" font-family=\"Helvetica,sans-Serif\" font-size=\"14.00\">samples = 50</text>\n<text text-anchor=\"start\" x=\"1443\" y=\"-96.8\" font-family=\"Helvetica,sans-Serif\" font-size=\"14.00\">value = 5382.0</text>\n</g>\n<!-- 8&#45;&gt;12 -->\n<g id=\"edge12\" class=\"edge\">\n<title>8&#45;&gt;12</title>\n<path fill=\"none\" stroke=\"black\" d=\"M1251.22,-194.56C1293.2,-182.54 1341.15,-168.8 1383.53,-156.66\"/>\n<polygon fill=\"black\" stroke=\"black\" points=\"1384.67,-159.97 1393.32,-153.85 1382.74,-153.24 1384.67,-159.97\"/>\n</g>\n<!-- 10 -->\n<g id=\"node11\" class=\"node\">\n<title>10</title>\n<path fill=\"#f1bc95\" stroke=\"black\" d=\"M1121,-53C1121,-53 926,-53 926,-53 920,-53 914,-47 914,-41 914,-41 914,-12 914,-12 914,-6 920,0 926,0 926,0 1121,0 1121,0 1127,0 1133,-6 1133,-12 1133,-12 1133,-41 1133,-41 1133,-47 1127,-53 1121,-53\"/>\n<text text-anchor=\"start\" x=\"922\" y=\"-37.8\" font-family=\"Helvetica,sans-Serif\" font-size=\"14.00\">squared_error = 157494.331</text>\n<text text-anchor=\"start\" x=\"975\" y=\"-22.8\" font-family=\"Helvetica,sans-Serif\" font-size=\"14.00\">samples = 21</text>\n<text text-anchor=\"start\" x=\"960\" y=\"-7.8\" font-family=\"Helvetica,sans-Serif\" font-size=\"14.00\">value = 4544.048</text>\n</g>\n<!-- 9&#45;&gt;10 -->\n<g id=\"edge10\" class=\"edge\">\n<title>9&#45;&gt;10</title>\n<path fill=\"none\" stroke=\"black\" d=\"M1100.23,-88.95C1088.35,-79.43 1075.41,-69.07 1063.6,-59.62\"/>\n<polygon fill=\"black\" stroke=\"black\" points=\"1065.63,-56.76 1055.64,-53.24 1061.25,-62.22 1065.63,-56.76\"/>\n</g>\n<!-- 11 -->\n<g id=\"node12\" class=\"node\">\n<title>11</title>\n<path fill=\"#eda775\" stroke=\"black\" d=\"M1358,-53C1358,-53 1163,-53 1163,-53 1157,-53 1151,-47 1151,-41 1151,-41 1151,-12 1151,-12 1151,-6 1157,0 1163,0 1163,0 1358,0 1358,0 1364,0 1370,-6 1370,-12 1370,-12 1370,-41 1370,-41 1370,-47 1364,-53 1358,-53\"/>\n<text text-anchor=\"start\" x=\"1159\" y=\"-37.8\" font-family=\"Helvetica,sans-Serif\" font-size=\"14.00\">squared_error = 134677.734</text>\n<text text-anchor=\"start\" x=\"1212\" y=\"-22.8\" font-family=\"Helvetica,sans-Serif\" font-size=\"14.00\">samples = 16</text>\n<text text-anchor=\"start\" x=\"1197\" y=\"-7.8\" font-family=\"Helvetica,sans-Serif\" font-size=\"14.00\">value = 4878.125</text>\n</g>\n<!-- 9&#45;&gt;11 -->\n<g id=\"edge11\" class=\"edge\">\n<title>9&#45;&gt;11</title>\n<path fill=\"none\" stroke=\"black\" d=\"M1183.12,-88.95C1195.1,-79.43 1208.15,-69.07 1220.06,-59.62\"/>\n<polygon fill=\"black\" stroke=\"black\" points=\"1222.44,-62.2 1228.09,-53.24 1218.08,-56.71 1222.44,-62.2\"/>\n</g>\n<!-- 13 -->\n<g id=\"node14\" class=\"node\">\n<title>13</title>\n<path fill=\"#e99558\" stroke=\"black\" d=\"M1595,-53C1595,-53 1400,-53 1400,-53 1394,-53 1388,-47 1388,-41 1388,-41 1388,-12 1388,-12 1388,-6 1394,0 1400,0 1400,0 1595,0 1595,0 1601,0 1607,-6 1607,-12 1607,-12 1607,-41 1607,-41 1607,-47 1601,-53 1595,-53\"/>\n<text text-anchor=\"start\" x=\"1396\" y=\"-37.8\" font-family=\"Helvetica,sans-Serif\" font-size=\"14.00\">squared_error = 135529.688</text>\n<text text-anchor=\"start\" x=\"1449\" y=\"-22.8\" font-family=\"Helvetica,sans-Serif\" font-size=\"14.00\">samples = 20</text>\n<text text-anchor=\"start\" x=\"1438.5\" y=\"-7.8\" font-family=\"Helvetica,sans-Serif\" font-size=\"14.00\">value = 5188.75</text>\n</g>\n<!-- 12&#45;&gt;13 -->\n<g id=\"edge13\" class=\"edge\">\n<title>12&#45;&gt;13</title>\n<path fill=\"none\" stroke=\"black\" d=\"M1497.5,-88.95C1497.5,-80.72 1497.5,-71.85 1497.5,-63.48\"/>\n<polygon fill=\"black\" stroke=\"black\" points=\"1501,-63.24 1497.5,-53.24 1494,-63.24 1501,-63.24\"/>\n</g>\n<!-- 14 -->\n<g id=\"node15\" class=\"node\">\n<title>14</title>\n<path fill=\"#e58139\" stroke=\"black\" d=\"M1832,-53C1832,-53 1637,-53 1637,-53 1631,-53 1625,-47 1625,-41 1625,-41 1625,-12 1625,-12 1625,-6 1631,0 1637,0 1637,0 1832,0 1832,0 1838,0 1844,-6 1844,-12 1844,-12 1844,-41 1844,-41 1844,-47 1838,-53 1832,-53\"/>\n<text text-anchor=\"start\" x=\"1633\" y=\"-37.8\" font-family=\"Helvetica,sans-Serif\" font-size=\"14.00\">squared_error = 100820.139</text>\n<text text-anchor=\"start\" x=\"1686\" y=\"-22.8\" font-family=\"Helvetica,sans-Serif\" font-size=\"14.00\">samples = 30</text>\n<text text-anchor=\"start\" x=\"1671\" y=\"-7.8\" font-family=\"Helvetica,sans-Serif\" font-size=\"14.00\">value = 5510.833</text>\n</g>\n<!-- 12&#45;&gt;14 -->\n<g id=\"edge14\" class=\"edge\">\n<title>12&#45;&gt;14</title>\n<path fill=\"none\" stroke=\"black\" d=\"M1580.39,-88.95C1606.55,-78.52 1635.26,-67.07 1660.74,-56.91\"/>\n<polygon fill=\"black\" stroke=\"black\" points=\"1662.34,-60.04 1670.33,-53.09 1659.75,-53.54 1662.34,-60.04\"/>\n</g>\n</g>\n</svg>\n",
      "text/plain": [
       "<graphviz.files.Source at 0x7f1444914160>"
      ]
     },
     "execution_count": 32,
     "metadata": {},
     "output_type": "execute_result"
    }
   ],
   "source": [
    "plot_tree_regression(dt_regression, features)"
   ]
  },
  {
   "cell_type": "markdown",
   "metadata": {},
   "source": [
    "Penguins with longer flippers are often heavier."
   ]
  }
 ],
 "metadata": {
  "interpreter": {
   "hash": "d4d1e4263499bec80672ea0156c357c1ee493ec2b1c70f0acce89fc37c4a6abe"
  },
  "kernelspec": {
   "display_name": "Python 3.9.10 ('base')",
   "language": "python",
   "name": "python3"
  },
  "language_info": {
   "codemirror_mode": {
    "name": "ipython",
    "version": 3
   },
   "file_extension": ".py",
   "mimetype": "text/x-python",
   "name": "python",
   "nbconvert_exporter": "python",
   "pygments_lexer": "ipython3",
   "version": "3.9.10"
  },
  "orig_nbformat": 4
 },
 "nbformat": 4,
 "nbformat_minor": 2
}
