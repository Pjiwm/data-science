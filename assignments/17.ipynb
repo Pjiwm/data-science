{
 "cells": [
  {
   "cell_type": "code",
   "execution_count": 45,
   "metadata": {},
   "outputs": [],
   "source": [
    "import pandas as pd\n",
    "import seaborn as sns\n"
   ]
  },
  {
   "cell_type": "code",
   "execution_count": 46,
   "metadata": {},
   "outputs": [],
   "source": [
    "hostels = pd.read_csv('../data/hostel.csv')\n",
    "penguins = sns.load_dataset(\"penguins\")\n",
    "penguins = penguins.dropna()"
   ]
  },
  {
   "cell_type": "markdown",
   "metadata": {},
   "source": [
    "## Portfolio assignment 17\n",
    "30 min: Train a decision tree to predict the body_mass_g of a penguin based on their characteristics.\n",
    "- Split the penguin dataset into a train (70%) and test (30%) set.\n",
    "- Use the train set to fit a DecisionTreeRegressor. You are free to to choose which columns you want to use as feature variables and you are also free to choose the max_depth of the tree. \n",
    "<b>Note</b>: Some machine learning algorithms can not handle missing values. You will either need to \n",
    " - replace missing values (with the mean or most popular value). For replacing missing values you can use .fillna(\\<value\\>) https://pandas.pydata.org/docs/reference/api/pandas.Series.fillna.html\n",
    " - remove rows with missing data.  You can remove rows with missing data with .dropna() https://pandas.pydata.org/pandas-docs/stable/reference/api/pandas.DataFrame.dropna.html\n",
    "- Use your decision tree model to make predictions for both the train and test set.\n",
    "- Calculate the RMSE for both the train set predictions and test set predictions.\n",
    "- Is the RMSE different? Did you expect this difference?\n",
    "- Use the plot_tree_regression function above to create a plot of the decision tree. Take a few minutes to analyse the decision tree. Do you understand the tree?"
   ]
  },
  {
   "cell_type": "code",
   "execution_count": 47,
   "metadata": {},
   "outputs": [],
   "source": [
    "from sklearn.tree import DecisionTreeRegressor\n"
   ]
  },
  {
   "cell_type": "code",
   "execution_count": 48,
   "metadata": {},
   "outputs": [],
   "source": [
    "from sklearn.model_selection import train_test_split"
   ]
  },
  {
   "cell_type": "code",
   "execution_count": 49,
   "metadata": {},
   "outputs": [],
   "source": [
    "def calculate_rmse(predictions, actuals):\n",
    "    if(len(predictions) != len(actuals)):\n",
    "        raise Exception(\"The amount of predictions did not equal the amount of actuals\")\n",
    "    \n",
    "    return (((predictions - actuals) ** 2).sum() / len(actuals)) ** (1/2)\n"
   ]
  },
  {
   "cell_type": "code",
   "execution_count": 50,
   "metadata": {},
   "outputs": [],
   "source": [
    "from sklearn import tree\n",
    "import graphviz\n",
    "\n",
    "def plot_tree_regression(model, features):\n",
    "    # Generate plot data\n",
    "    dot_data = tree.export_graphviz(model, out_file=None, \n",
    "                          feature_names=features,  \n",
    "                          filled=True, rounded=True,  \n",
    "                          special_characters=True)  \n",
    "\n",
    "    # Turn into graph using graphviz\n",
    "    graph = graphviz.Source(dot_data)  \n",
    "\n",
    "    # Write out a pdf\n",
    "    graph.render(\"decision_tree\")\n",
    "\n",
    "    # Display in the notebook\n",
    "    return graph "
   ]
  },
  {
   "cell_type": "code",
   "execution_count": 51,
   "metadata": {},
   "outputs": [
    {
     "name": "stdout",
     "output_type": "stream",
     "text": [
      "(233, 7) (100, 7)\n"
     ]
    }
   ],
   "source": [
    "penguins_train, penguins_test = train_test_split(penguins, test_size=0.3, stratify=penguins['island'], random_state=5)\n",
    "print(penguins_train.shape, penguins_test.shape)"
   ]
  },
  {
   "cell_type": "code",
   "execution_count": 52,
   "metadata": {},
   "outputs": [
    {
     "data": {
      "text/plain": [
       "DecisionTreeRegressor(max_depth=4)"
      ]
     },
     "execution_count": 52,
     "metadata": {},
     "output_type": "execute_result"
    }
   ],
   "source": [
    "features= ['bill_length_mm']\n",
    "dt_regression = DecisionTreeRegressor(max_depth = 4) # Increase max_depth to see effect in the plot\n",
    "dt_regression.fit(penguins_train[features], penguins_train['bill_length_mm'])"
   ]
  },
  {
   "cell_type": "code",
   "execution_count": 53,
   "metadata": {},
   "outputs": [
    {
     "name": "stdout",
     "output_type": "stream",
     "text": [
      "RMSE on training set 0.4516772545579611\n",
      "RMSE on test set 0.4955074184195994\n"
     ]
    }
   ],
   "source": [
    "predictionsOnTrainset = dt_regression.predict(penguins_train[features])\n",
    "predictionsOnTestset = dt_regression.predict(penguins_test[features])\n",
    "\n",
    "rmseTrain = calculate_rmse(predictionsOnTrainset, penguins_train.bill_length_mm)\n",
    "rmseTest = calculate_rmse(predictionsOnTestset, penguins_test.bill_length_mm)\n",
    "\n",
    "print(\"RMSE on training set \" + str(rmseTrain))\n",
    "print(\"RMSE on test set \" + str(rmseTest))"
   ]
  },
  {
   "cell_type": "code",
   "execution_count": 54,
   "metadata": {},
   "outputs": [
    {
     "data": {
      "image/svg+xml": "<?xml version=\"1.0\" encoding=\"UTF-8\" standalone=\"no\"?>\n<!DOCTYPE svg PUBLIC \"-//W3C//DTD SVG 1.1//EN\"\n \"http://www.w3.org/Graphics/SVG/1.1/DTD/svg11.dtd\">\n<!-- Generated by graphviz version 2.50.0 (20220117.2223)\n -->\n<!-- Title: Tree Pages: 1 -->\n<svg width=\"3038pt\" height=\"477pt\"\n viewBox=\"0.00 0.00 3037.50 477.00\" xmlns=\"http://www.w3.org/2000/svg\" xmlns:xlink=\"http://www.w3.org/1999/xlink\">\n<g id=\"graph0\" class=\"graph\" transform=\"scale(1 1) rotate(0) translate(4 473)\">\n<title>Tree</title>\n<polygon fill=\"white\" stroke=\"transparent\" points=\"-4,4 -4,-473 3033.5,-473 3033.5,4 -4,4\"/>\n<!-- 0 -->\n<g id=\"node1\" class=\"node\">\n<title>0</title>\n<path fill=\"#f4cbae\" stroke=\"black\" d=\"M1589,-469C1589,-469 1439,-469 1439,-469 1433,-469 1427,-463 1427,-457 1427,-457 1427,-413 1427,-413 1427,-407 1433,-401 1439,-401 1439,-401 1589,-401 1589,-401 1595,-401 1601,-407 1601,-413 1601,-413 1601,-457 1601,-457 1601,-463 1595,-469 1589,-469\"/>\n<text text-anchor=\"start\" x=\"1435\" y=\"-453.8\" font-family=\"Helvetica,sans-Serif\" font-size=\"14.00\">bill_length_mm ≤ 43.8</text>\n<text text-anchor=\"start\" x=\"1435\" y=\"-438.8\" font-family=\"Helvetica,sans-Serif\" font-size=\"14.00\">squared_error = 29.99</text>\n<text text-anchor=\"start\" x=\"1461\" y=\"-423.8\" font-family=\"Helvetica,sans-Serif\" font-size=\"14.00\">samples = 233</text>\n<text text-anchor=\"start\" x=\"1459.5\" y=\"-408.8\" font-family=\"Helvetica,sans-Serif\" font-size=\"14.00\">value = 44.066</text>\n</g>\n<!-- 1 -->\n<g id=\"node2\" class=\"node\">\n<title>1</title>\n<path fill=\"#f9e4d5\" stroke=\"black\" d=\"M1213.5,-365C1213.5,-365 1054.5,-365 1054.5,-365 1048.5,-365 1042.5,-359 1042.5,-353 1042.5,-353 1042.5,-309 1042.5,-309 1042.5,-303 1048.5,-297 1054.5,-297 1054.5,-297 1213.5,-297 1213.5,-297 1219.5,-297 1225.5,-303 1225.5,-309 1225.5,-309 1225.5,-353 1225.5,-353 1225.5,-359 1219.5,-365 1213.5,-365\"/>\n<text text-anchor=\"start\" x=\"1050.5\" y=\"-349.8\" font-family=\"Helvetica,sans-Serif\" font-size=\"14.00\">bill_length_mm ≤ 38.65</text>\n<text text-anchor=\"start\" x=\"1055\" y=\"-334.8\" font-family=\"Helvetica,sans-Serif\" font-size=\"14.00\">squared_error = 6.878</text>\n<text text-anchor=\"start\" x=\"1081\" y=\"-319.8\" font-family=\"Helvetica,sans-Serif\" font-size=\"14.00\">samples = 111</text>\n<text text-anchor=\"start\" x=\"1079.5\" y=\"-304.8\" font-family=\"Helvetica,sans-Serif\" font-size=\"14.00\">value = 39.083</text>\n</g>\n<!-- 0&#45;&gt;1 -->\n<g id=\"edge1\" class=\"edge\">\n<title>0&#45;&gt;1</title>\n<path fill=\"none\" stroke=\"black\" d=\"M1426.82,-410.6C1369.84,-395.31 1295.21,-375.27 1235.56,-359.26\"/>\n<polygon fill=\"black\" stroke=\"black\" points=\"1236.31,-355.84 1225.74,-356.63 1234.49,-362.6 1236.31,-355.84\"/>\n<text text-anchor=\"middle\" x=\"1238.23\" y=\"-374.58\" font-family=\"Helvetica,sans-Serif\" font-size=\"14.00\">True</text>\n</g>\n<!-- 16 -->\n<g id=\"node17\" class=\"node\">\n<title>16</title>\n<path fill=\"#f0b48a\" stroke=\"black\" d=\"M1969,-365C1969,-365 1819,-365 1819,-365 1813,-365 1807,-359 1807,-353 1807,-353 1807,-309 1807,-309 1807,-303 1813,-297 1819,-297 1819,-297 1969,-297 1969,-297 1975,-297 1981,-303 1981,-309 1981,-309 1981,-353 1981,-353 1981,-359 1975,-365 1969,-365\"/>\n<text text-anchor=\"start\" x=\"1815\" y=\"-349.8\" font-family=\"Helvetica,sans-Serif\" font-size=\"14.00\">bill_length_mm ≤ 48.6</text>\n<text text-anchor=\"start\" x=\"1815\" y=\"-334.8\" font-family=\"Helvetica,sans-Serif\" font-size=\"14.00\">squared_error = 7.869</text>\n<text text-anchor=\"start\" x=\"1841\" y=\"-319.8\" font-family=\"Helvetica,sans-Serif\" font-size=\"14.00\">samples = 122</text>\n<text text-anchor=\"start\" x=\"1848.5\" y=\"-304.8\" font-family=\"Helvetica,sans-Serif\" font-size=\"14.00\">value = 48.6</text>\n</g>\n<!-- 0&#45;&gt;16 -->\n<g id=\"edge16\" class=\"edge\">\n<title>0&#45;&gt;16</title>\n<path fill=\"none\" stroke=\"black\" d=\"M1601.18,-410.6C1659.61,-394.92 1736.6,-374.25 1796.98,-358.04\"/>\n<polygon fill=\"black\" stroke=\"black\" points=\"1798.15,-361.35 1806.9,-355.38 1796.33,-354.59 1798.15,-361.35\"/>\n<text text-anchor=\"middle\" x=\"1794.41\" y=\"-373.34\" font-family=\"Helvetica,sans-Serif\" font-size=\"14.00\">False</text>\n</g>\n<!-- 2 -->\n<g id=\"node3\" class=\"node\">\n<title>2</title>\n<path fill=\"#fcf2ea\" stroke=\"black\" d=\"M645.5,-261C645.5,-261 486.5,-261 486.5,-261 480.5,-261 474.5,-255 474.5,-249 474.5,-249 474.5,-205 474.5,-205 474.5,-199 480.5,-193 486.5,-193 486.5,-193 645.5,-193 645.5,-193 651.5,-193 657.5,-199 657.5,-205 657.5,-205 657.5,-249 657.5,-249 657.5,-255 651.5,-261 645.5,-261\"/>\n<text text-anchor=\"start\" x=\"482.5\" y=\"-245.8\" font-family=\"Helvetica,sans-Serif\" font-size=\"14.00\">bill_length_mm ≤ 36.45</text>\n<text text-anchor=\"start\" x=\"487\" y=\"-230.8\" font-family=\"Helvetica,sans-Serif\" font-size=\"14.00\">squared_error = 2.166</text>\n<text text-anchor=\"start\" x=\"517.5\" y=\"-215.8\" font-family=\"Helvetica,sans-Serif\" font-size=\"14.00\">samples = 45</text>\n<text text-anchor=\"start\" x=\"511.5\" y=\"-200.8\" font-family=\"Helvetica,sans-Serif\" font-size=\"14.00\">value = 36.429</text>\n</g>\n<!-- 1&#45;&gt;2 -->\n<g id=\"edge2\" class=\"edge\">\n<title>1&#45;&gt;2</title>\n<path fill=\"none\" stroke=\"black\" d=\"M1042.43,-313.56C939.98,-295.16 774.48,-265.44 667.98,-246.31\"/>\n<polygon fill=\"black\" stroke=\"black\" points=\"668.33,-242.82 657.87,-244.5 667.09,-249.71 668.33,-242.82\"/>\n</g>\n<!-- 9 -->\n<g id=\"node10\" class=\"node\">\n<title>9</title>\n<path fill=\"#f8dbc7\" stroke=\"black\" d=\"M1209,-261C1209,-261 1059,-261 1059,-261 1053,-261 1047,-255 1047,-249 1047,-249 1047,-205 1047,-205 1047,-199 1053,-193 1059,-193 1059,-193 1209,-193 1209,-193 1215,-193 1221,-199 1221,-205 1221,-205 1221,-249 1221,-249 1221,-255 1215,-261 1209,-261\"/>\n<text text-anchor=\"start\" x=\"1055\" y=\"-245.8\" font-family=\"Helvetica,sans-Serif\" font-size=\"14.00\">bill_length_mm ≤ 41.2</text>\n<text text-anchor=\"start\" x=\"1055\" y=\"-230.8\" font-family=\"Helvetica,sans-Serif\" font-size=\"14.00\">squared_error = 2.013</text>\n<text text-anchor=\"start\" x=\"1085.5\" y=\"-215.8\" font-family=\"Helvetica,sans-Serif\" font-size=\"14.00\">samples = 66</text>\n<text text-anchor=\"start\" x=\"1079.5\" y=\"-200.8\" font-family=\"Helvetica,sans-Serif\" font-size=\"14.00\">value = 40.892</text>\n</g>\n<!-- 1&#45;&gt;9 -->\n<g id=\"edge9\" class=\"edge\">\n<title>1&#45;&gt;9</title>\n<path fill=\"none\" stroke=\"black\" d=\"M1134,-296.88C1134,-288.78 1134,-279.98 1134,-271.47\"/>\n<polygon fill=\"black\" stroke=\"black\" points=\"1137.5,-271.3 1134,-261.3 1130.5,-271.3 1137.5,-271.3\"/>\n</g>\n<!-- 3 -->\n<g id=\"node4\" class=\"node\">\n<title>3</title>\n<path fill=\"#fdf7f3\" stroke=\"black\" d=\"M354,-157C354,-157 204,-157 204,-157 198,-157 192,-151 192,-145 192,-145 192,-101 192,-101 192,-95 198,-89 204,-89 204,-89 354,-89 354,-89 360,-89 366,-95 366,-101 366,-101 366,-145 366,-145 366,-151 360,-157 354,-157\"/>\n<text text-anchor=\"start\" x=\"200\" y=\"-141.8\" font-family=\"Helvetica,sans-Serif\" font-size=\"14.00\">bill_length_mm ≤ 34.8</text>\n<text text-anchor=\"start\" x=\"200\" y=\"-126.8\" font-family=\"Helvetica,sans-Serif\" font-size=\"14.00\">squared_error = 1.144</text>\n<text text-anchor=\"start\" x=\"230.5\" y=\"-111.8\" font-family=\"Helvetica,sans-Serif\" font-size=\"14.00\">samples = 23</text>\n<text text-anchor=\"start\" x=\"224.5\" y=\"-96.8\" font-family=\"Helvetica,sans-Serif\" font-size=\"14.00\">value = 35.278</text>\n</g>\n<!-- 2&#45;&gt;3 -->\n<g id=\"edge3\" class=\"edge\">\n<title>2&#45;&gt;3</title>\n<path fill=\"none\" stroke=\"black\" d=\"M474.4,-193.45C443.03,-182.3 407.84,-169.79 376.05,-158.49\"/>\n<polygon fill=\"black\" stroke=\"black\" points=\"376.9,-155.08 366.31,-155.03 374.56,-161.68 376.9,-155.08\"/>\n</g>\n<!-- 6 -->\n<g id=\"node7\" class=\"node\">\n<title>6</title>\n<path fill=\"#fbece1\" stroke=\"black\" d=\"M645.5,-157C645.5,-157 486.5,-157 486.5,-157 480.5,-157 474.5,-151 474.5,-145 474.5,-145 474.5,-101 474.5,-101 474.5,-95 480.5,-89 486.5,-89 486.5,-89 645.5,-89 645.5,-89 651.5,-89 657.5,-95 657.5,-101 657.5,-101 657.5,-145 657.5,-145 657.5,-151 651.5,-157 645.5,-157\"/>\n<text text-anchor=\"start\" x=\"482.5\" y=\"-141.8\" font-family=\"Helvetica,sans-Serif\" font-size=\"14.00\">bill_length_mm ≤ 37.45</text>\n<text text-anchor=\"start\" x=\"487\" y=\"-126.8\" font-family=\"Helvetica,sans-Serif\" font-size=\"14.00\">squared_error = 0.404</text>\n<text text-anchor=\"start\" x=\"517.5\" y=\"-111.8\" font-family=\"Helvetica,sans-Serif\" font-size=\"14.00\">samples = 22</text>\n<text text-anchor=\"start\" x=\"511.5\" y=\"-96.8\" font-family=\"Helvetica,sans-Serif\" font-size=\"14.00\">value = 37.632</text>\n</g>\n<!-- 2&#45;&gt;6 -->\n<g id=\"edge6\" class=\"edge\">\n<title>2&#45;&gt;6</title>\n<path fill=\"none\" stroke=\"black\" d=\"M566,-192.88C566,-184.78 566,-175.98 566,-167.47\"/>\n<polygon fill=\"black\" stroke=\"black\" points=\"569.5,-167.3 566,-157.3 562.5,-167.3 569.5,-167.3\"/>\n</g>\n<!-- 4 -->\n<g id=\"node5\" class=\"node\">\n<title>4</title>\n<path fill=\"#ffffff\" stroke=\"black\" d=\"M162,-53C162,-53 12,-53 12,-53 6,-53 0,-47 0,-41 0,-41 0,-12 0,-12 0,-6 6,0 12,0 12,0 162,0 162,0 168,0 174,-6 174,-12 174,-12 174,-41 174,-41 174,-47 168,-53 162,-53\"/>\n<text text-anchor=\"start\" x=\"8\" y=\"-37.8\" font-family=\"Helvetica,sans-Serif\" font-size=\"14.00\">squared_error = 0.818</text>\n<text text-anchor=\"start\" x=\"43\" y=\"-22.8\" font-family=\"Helvetica,sans-Serif\" font-size=\"14.00\">samples = 6</text>\n<text text-anchor=\"start\" x=\"32.5\" y=\"-7.8\" font-family=\"Helvetica,sans-Serif\" font-size=\"14.00\">value = 33.783</text>\n</g>\n<!-- 3&#45;&gt;4 -->\n<g id=\"edge4\" class=\"edge\">\n<title>3&#45;&gt;4</title>\n<path fill=\"none\" stroke=\"black\" d=\"M211.85,-88.95C191.12,-78.75 168.42,-67.57 148.13,-57.59\"/>\n<polygon fill=\"black\" stroke=\"black\" points=\"149.5,-54.36 138.99,-53.09 146.41,-60.64 149.5,-54.36\"/>\n</g>\n<!-- 5 -->\n<g id=\"node6\" class=\"node\">\n<title>5</title>\n<path fill=\"#fdf5ef\" stroke=\"black\" d=\"M354,-53C354,-53 204,-53 204,-53 198,-53 192,-47 192,-41 192,-41 192,-12 192,-12 192,-6 198,0 204,0 204,0 354,0 354,0 360,0 366,-6 366,-12 366,-12 366,-41 366,-41 366,-47 360,-53 354,-53\"/>\n<text text-anchor=\"start\" x=\"200\" y=\"-37.8\" font-family=\"Helvetica,sans-Serif\" font-size=\"14.00\">squared_error = 0.192</text>\n<text text-anchor=\"start\" x=\"230.5\" y=\"-22.8\" font-family=\"Helvetica,sans-Serif\" font-size=\"14.00\">samples = 17</text>\n<text text-anchor=\"start\" x=\"224.5\" y=\"-7.8\" font-family=\"Helvetica,sans-Serif\" font-size=\"14.00\">value = 35.806</text>\n</g>\n<!-- 3&#45;&gt;5 -->\n<g id=\"edge5\" class=\"edge\">\n<title>3&#45;&gt;5</title>\n<path fill=\"none\" stroke=\"black\" d=\"M279,-88.95C279,-80.72 279,-71.85 279,-63.48\"/>\n<polygon fill=\"black\" stroke=\"black\" points=\"282.5,-63.24 279,-53.24 275.5,-63.24 282.5,-63.24\"/>\n</g>\n<!-- 7 -->\n<g id=\"node8\" class=\"node\">\n<title>7</title>\n<path fill=\"#fcefe6\" stroke=\"black\" d=\"M537.5,-53C537.5,-53 396.5,-53 396.5,-53 390.5,-53 384.5,-47 384.5,-41 384.5,-41 384.5,-12 384.5,-12 384.5,-6 390.5,0 396.5,0 396.5,0 537.5,0 537.5,0 543.5,0 549.5,-6 549.5,-12 549.5,-12 549.5,-41 549.5,-41 549.5,-47 543.5,-53 537.5,-53\"/>\n<text text-anchor=\"start\" x=\"392.5\" y=\"-37.8\" font-family=\"Helvetica,sans-Serif\" font-size=\"14.00\">squared_error = 0.07</text>\n<text text-anchor=\"start\" x=\"423\" y=\"-22.8\" font-family=\"Helvetica,sans-Serif\" font-size=\"14.00\">samples = 8</text>\n<text text-anchor=\"start\" x=\"421.5\" y=\"-7.8\" font-family=\"Helvetica,sans-Serif\" font-size=\"14.00\">value = 36.9</text>\n</g>\n<!-- 6&#45;&gt;7 -->\n<g id=\"edge7\" class=\"edge\">\n<title>6&#45;&gt;7</title>\n<path fill=\"none\" stroke=\"black\" d=\"M531.37,-88.95C521.6,-79.62 510.97,-69.47 501.22,-60.16\"/>\n<polygon fill=\"black\" stroke=\"black\" points=\"503.61,-57.61 493.96,-53.24 498.78,-62.67 503.61,-57.61\"/>\n</g>\n<!-- 8 -->\n<g id=\"node9\" class=\"node\">\n<title>8</title>\n<path fill=\"#fbeadd\" stroke=\"black\" d=\"M730,-53C730,-53 580,-53 580,-53 574,-53 568,-47 568,-41 568,-41 568,-12 568,-12 568,-6 574,0 580,0 580,0 730,0 730,0 736,0 742,-6 742,-12 742,-12 742,-41 742,-41 742,-47 736,-53 730,-53\"/>\n<text text-anchor=\"start\" x=\"576\" y=\"-37.8\" font-family=\"Helvetica,sans-Serif\" font-size=\"14.00\">squared_error = 0.114</text>\n<text text-anchor=\"start\" x=\"606.5\" y=\"-22.8\" font-family=\"Helvetica,sans-Serif\" font-size=\"14.00\">samples = 14</text>\n<text text-anchor=\"start\" x=\"605\" y=\"-7.8\" font-family=\"Helvetica,sans-Serif\" font-size=\"14.00\">value = 38.05</text>\n</g>\n<!-- 6&#45;&gt;8 -->\n<g id=\"edge8\" class=\"edge\">\n<title>6&#45;&gt;8</title>\n<path fill=\"none\" stroke=\"black\" d=\"M597.13,-88.95C605.74,-79.8 615.1,-69.87 623.72,-60.71\"/>\n<polygon fill=\"black\" stroke=\"black\" points=\"626.45,-62.92 630.76,-53.24 621.36,-58.12 626.45,-62.92\"/>\n</g>\n<!-- 10 -->\n<g id=\"node11\" class=\"node\">\n<title>10</title>\n<path fill=\"#f9e0ce\" stroke=\"black\" d=\"M1115.5,-157C1115.5,-157 956.5,-157 956.5,-157 950.5,-157 944.5,-151 944.5,-145 944.5,-145 944.5,-101 944.5,-101 944.5,-95 950.5,-89 956.5,-89 956.5,-89 1115.5,-89 1115.5,-89 1121.5,-89 1127.5,-95 1127.5,-101 1127.5,-101 1127.5,-145 1127.5,-145 1127.5,-151 1121.5,-157 1115.5,-157\"/>\n<text text-anchor=\"start\" x=\"952.5\" y=\"-141.8\" font-family=\"Helvetica,sans-Serif\" font-size=\"14.00\">bill_length_mm ≤ 39.95</text>\n<text text-anchor=\"start\" x=\"961.5\" y=\"-126.8\" font-family=\"Helvetica,sans-Serif\" font-size=\"14.00\">squared_error = 0.63</text>\n<text text-anchor=\"start\" x=\"987.5\" y=\"-111.8\" font-family=\"Helvetica,sans-Serif\" font-size=\"14.00\">samples = 42</text>\n<text text-anchor=\"start\" x=\"981.5\" y=\"-96.8\" font-family=\"Helvetica,sans-Serif\" font-size=\"14.00\">value = 39.988</text>\n</g>\n<!-- 9&#45;&gt;10 -->\n<g id=\"edge10\" class=\"edge\">\n<title>9&#45;&gt;10</title>\n<path fill=\"none\" stroke=\"black\" d=\"M1102.18,-192.88C1093.54,-183.89 1084.08,-174.04 1075.08,-164.68\"/>\n<polygon fill=\"black\" stroke=\"black\" points=\"1077.45,-162.09 1067.99,-157.3 1072.4,-166.94 1077.45,-162.09\"/>\n</g>\n<!-- 13 -->\n<g id=\"node14\" class=\"node\">\n<title>13</title>\n<path fill=\"#f6d3ba\" stroke=\"black\" d=\"M1308,-157C1308,-157 1158,-157 1158,-157 1152,-157 1146,-151 1146,-145 1146,-145 1146,-101 1146,-101 1146,-95 1152,-89 1158,-89 1158,-89 1308,-89 1308,-89 1314,-89 1320,-95 1320,-101 1320,-101 1320,-145 1320,-145 1320,-151 1314,-157 1308,-157\"/>\n<text text-anchor=\"start\" x=\"1154\" y=\"-141.8\" font-family=\"Helvetica,sans-Serif\" font-size=\"14.00\">bill_length_mm ≤ 42.3</text>\n<text text-anchor=\"start\" x=\"1154\" y=\"-126.8\" font-family=\"Helvetica,sans-Serif\" font-size=\"14.00\">squared_error = 0.497</text>\n<text text-anchor=\"start\" x=\"1184.5\" y=\"-111.8\" font-family=\"Helvetica,sans-Serif\" font-size=\"14.00\">samples = 24</text>\n<text text-anchor=\"start\" x=\"1178.5\" y=\"-96.8\" font-family=\"Helvetica,sans-Serif\" font-size=\"14.00\">value = 42.475</text>\n</g>\n<!-- 9&#45;&gt;13 -->\n<g id=\"edge13\" class=\"edge\">\n<title>9&#45;&gt;13</title>\n<path fill=\"none\" stroke=\"black\" d=\"M1166.14,-192.88C1174.87,-183.89 1184.43,-174.04 1193.52,-164.68\"/>\n<polygon fill=\"black\" stroke=\"black\" points=\"1196.23,-166.91 1200.68,-157.3 1191.2,-162.04 1196.23,-166.91\"/>\n</g>\n<!-- 11 -->\n<g id=\"node12\" class=\"node\">\n<title>11</title>\n<path fill=\"#f9e3d3\" stroke=\"black\" d=\"M922,-53C922,-53 772,-53 772,-53 766,-53 760,-47 760,-41 760,-41 760,-12 760,-12 760,-6 766,0 772,0 772,0 922,0 922,0 928,0 934,-6 934,-12 934,-12 934,-41 934,-41 934,-47 928,-53 922,-53\"/>\n<text text-anchor=\"start\" x=\"768\" y=\"-37.8\" font-family=\"Helvetica,sans-Serif\" font-size=\"14.00\">squared_error = 0.122</text>\n<text text-anchor=\"start\" x=\"798.5\" y=\"-22.8\" font-family=\"Helvetica,sans-Serif\" font-size=\"14.00\">samples = 22</text>\n<text text-anchor=\"start\" x=\"801.5\" y=\"-7.8\" font-family=\"Helvetica,sans-Serif\" font-size=\"14.00\">value = 39.3</text>\n</g>\n<!-- 10&#45;&gt;11 -->\n<g id=\"edge11\" class=\"edge\">\n<title>10&#45;&gt;11</title>\n<path fill=\"none\" stroke=\"black\" d=\"M969.9,-88.95C949.5,-78.75 927.15,-67.57 907.17,-57.59\"/>\n<polygon fill=\"black\" stroke=\"black\" points=\"908.68,-54.43 898.17,-53.09 905.55,-60.69 908.68,-54.43\"/>\n</g>\n<!-- 12 -->\n<g id=\"node13\" class=\"node\">\n<title>12</title>\n<path fill=\"#f8dcc8\" stroke=\"black\" d=\"M1114,-53C1114,-53 964,-53 964,-53 958,-53 952,-47 952,-41 952,-41 952,-12 952,-12 952,-6 958,0 964,0 964,0 1114,0 1114,0 1120,0 1126,-6 1126,-12 1126,-12 1126,-41 1126,-41 1126,-47 1120,-53 1114,-53\"/>\n<text text-anchor=\"start\" x=\"960\" y=\"-37.8\" font-family=\"Helvetica,sans-Serif\" font-size=\"14.00\">squared_error = 0.095</text>\n<text text-anchor=\"start\" x=\"990.5\" y=\"-22.8\" font-family=\"Helvetica,sans-Serif\" font-size=\"14.00\">samples = 20</text>\n<text text-anchor=\"start\" x=\"984.5\" y=\"-7.8\" font-family=\"Helvetica,sans-Serif\" font-size=\"14.00\">value = 40.745</text>\n</g>\n<!-- 10&#45;&gt;12 -->\n<g id=\"edge12\" class=\"edge\">\n<title>10&#45;&gt;12</title>\n<path fill=\"none\" stroke=\"black\" d=\"M1037.05,-88.95C1037.31,-80.72 1037.59,-71.85 1037.86,-63.48\"/>\n<polygon fill=\"black\" stroke=\"black\" points=\"1041.36,-63.34 1038.18,-53.24 1034.37,-63.12 1041.36,-63.34\"/>\n</g>\n<!-- 14 -->\n<g id=\"node15\" class=\"node\">\n<title>14</title>\n<path fill=\"#f7d7c1\" stroke=\"black\" d=\"M1306,-53C1306,-53 1156,-53 1156,-53 1150,-53 1144,-47 1144,-41 1144,-41 1144,-12 1144,-12 1144,-6 1150,0 1156,0 1156,0 1306,0 1306,0 1312,0 1318,-6 1318,-12 1318,-12 1318,-41 1318,-41 1318,-47 1312,-53 1306,-53\"/>\n<text text-anchor=\"start\" x=\"1152\" y=\"-37.8\" font-family=\"Helvetica,sans-Serif\" font-size=\"14.00\">squared_error = 0.091</text>\n<text text-anchor=\"start\" x=\"1187\" y=\"-22.8\" font-family=\"Helvetica,sans-Serif\" font-size=\"14.00\">samples = 9</text>\n<text text-anchor=\"start\" x=\"1176.5\" y=\"-7.8\" font-family=\"Helvetica,sans-Serif\" font-size=\"14.00\">value = 41.678</text>\n</g>\n<!-- 13&#45;&gt;14 -->\n<g id=\"edge14\" class=\"edge\">\n<title>13&#45;&gt;14</title>\n<path fill=\"none\" stroke=\"black\" d=\"M1232.3,-88.95C1232.13,-80.72 1231.94,-71.85 1231.76,-63.48\"/>\n<polygon fill=\"black\" stroke=\"black\" points=\"1235.26,-63.16 1231.54,-53.24 1228.26,-63.31 1235.26,-63.16\"/>\n</g>\n<!-- 15 -->\n<g id=\"node16\" class=\"node\">\n<title>15</title>\n<path fill=\"#f5d1b6\" stroke=\"black\" d=\"M1489.5,-53C1489.5,-53 1348.5,-53 1348.5,-53 1342.5,-53 1336.5,-47 1336.5,-41 1336.5,-41 1336.5,-12 1336.5,-12 1336.5,-6 1342.5,0 1348.5,0 1348.5,0 1489.5,0 1489.5,0 1495.5,0 1501.5,-6 1501.5,-12 1501.5,-12 1501.5,-41 1501.5,-41 1501.5,-47 1495.5,-53 1489.5,-53\"/>\n<text text-anchor=\"start\" x=\"1344.5\" y=\"-37.8\" font-family=\"Helvetica,sans-Serif\" font-size=\"14.00\">squared_error = 0.13</text>\n<text text-anchor=\"start\" x=\"1370.5\" y=\"-22.8\" font-family=\"Helvetica,sans-Serif\" font-size=\"14.00\">samples = 15</text>\n<text text-anchor=\"start\" x=\"1364.5\" y=\"-7.8\" font-family=\"Helvetica,sans-Serif\" font-size=\"14.00\">value = 42.953</text>\n</g>\n<!-- 13&#45;&gt;15 -->\n<g id=\"edge15\" class=\"edge\">\n<title>13&#45;&gt;15</title>\n<path fill=\"none\" stroke=\"black\" d=\"M1298.05,-88.95C1318.04,-78.79 1339.93,-67.67 1359.52,-57.72\"/>\n<polygon fill=\"black\" stroke=\"black\" points=\"1361.31,-60.74 1368.64,-53.09 1358.14,-54.5 1361.31,-60.74\"/>\n</g>\n<!-- 17 -->\n<g id=\"node18\" class=\"node\">\n<title>17</title>\n<path fill=\"#f2c09b\" stroke=\"black\" d=\"M1969,-261C1969,-261 1819,-261 1819,-261 1813,-261 1807,-255 1807,-249 1807,-249 1807,-205 1807,-205 1807,-199 1813,-193 1819,-193 1819,-193 1969,-193 1969,-193 1975,-193 1981,-199 1981,-205 1981,-205 1981,-249 1981,-249 1981,-255 1975,-261 1969,-261\"/>\n<text text-anchor=\"start\" x=\"1815\" y=\"-245.8\" font-family=\"Helvetica,sans-Serif\" font-size=\"14.00\">bill_length_mm ≤ 46.3</text>\n<text text-anchor=\"start\" x=\"1815\" y=\"-230.8\" font-family=\"Helvetica,sans-Serif\" font-size=\"14.00\">squared_error = 1.479</text>\n<text text-anchor=\"start\" x=\"1845.5\" y=\"-215.8\" font-family=\"Helvetica,sans-Serif\" font-size=\"14.00\">samples = 62</text>\n<text text-anchor=\"start\" x=\"1839.5\" y=\"-200.8\" font-family=\"Helvetica,sans-Serif\" font-size=\"14.00\">value = 46.371</text>\n</g>\n<!-- 16&#45;&gt;17 -->\n<g id=\"edge17\" class=\"edge\">\n<title>16&#45;&gt;17</title>\n<path fill=\"none\" stroke=\"black\" d=\"M1894,-296.88C1894,-288.78 1894,-279.98 1894,-271.47\"/>\n<polygon fill=\"black\" stroke=\"black\" points=\"1897.5,-271.3 1894,-261.3 1890.5,-271.3 1897.5,-271.3\"/>\n</g>\n<!-- 24 -->\n<g id=\"node25\" class=\"node\">\n<title>24</title>\n<path fill=\"#eda977\" stroke=\"black\" d=\"M2547.5,-261C2547.5,-261 2388.5,-261 2388.5,-261 2382.5,-261 2376.5,-255 2376.5,-249 2376.5,-249 2376.5,-205 2376.5,-205 2376.5,-199 2382.5,-193 2388.5,-193 2388.5,-193 2547.5,-193 2547.5,-193 2553.5,-193 2559.5,-199 2559.5,-205 2559.5,-205 2559.5,-249 2559.5,-249 2559.5,-255 2553.5,-261 2547.5,-261\"/>\n<text text-anchor=\"start\" x=\"2384.5\" y=\"-245.8\" font-family=\"Helvetica,sans-Serif\" font-size=\"14.00\">bill_length_mm ≤ 53.15</text>\n<text text-anchor=\"start\" x=\"2389\" y=\"-230.8\" font-family=\"Helvetica,sans-Serif\" font-size=\"14.00\">squared_error = 4.032</text>\n<text text-anchor=\"start\" x=\"2419.5\" y=\"-215.8\" font-family=\"Helvetica,sans-Serif\" font-size=\"14.00\">samples = 60</text>\n<text text-anchor=\"start\" x=\"2413.5\" y=\"-200.8\" font-family=\"Helvetica,sans-Serif\" font-size=\"14.00\">value = 50.903</text>\n</g>\n<!-- 16&#45;&gt;24 -->\n<g id=\"edge24\" class=\"edge\">\n<title>16&#45;&gt;24</title>\n<path fill=\"none\" stroke=\"black\" d=\"M1981.18,-314.51C2084.58,-296.13 2256.69,-265.55 2366.13,-246.1\"/>\n<polygon fill=\"black\" stroke=\"black\" points=\"2366.96,-249.51 2376.19,-244.31 2365.74,-242.62 2366.96,-249.51\"/>\n</g>\n<!-- 18 -->\n<g id=\"node19\" class=\"node\">\n<title>18</title>\n<path fill=\"#f3c5a4\" stroke=\"black\" d=\"M1875.5,-157C1875.5,-157 1716.5,-157 1716.5,-157 1710.5,-157 1704.5,-151 1704.5,-145 1704.5,-145 1704.5,-101 1704.5,-101 1704.5,-95 1710.5,-89 1716.5,-89 1716.5,-89 1875.5,-89 1875.5,-89 1881.5,-89 1887.5,-95 1887.5,-101 1887.5,-101 1887.5,-145 1887.5,-145 1887.5,-151 1881.5,-157 1875.5,-157\"/>\n<text text-anchor=\"start\" x=\"1712.5\" y=\"-141.8\" font-family=\"Helvetica,sans-Serif\" font-size=\"14.00\">bill_length_mm ≤ 44.95</text>\n<text text-anchor=\"start\" x=\"1721.5\" y=\"-126.8\" font-family=\"Helvetica,sans-Serif\" font-size=\"14.00\">squared_error = 0.34</text>\n<text text-anchor=\"start\" x=\"1747.5\" y=\"-111.8\" font-family=\"Helvetica,sans-Serif\" font-size=\"14.00\">samples = 29</text>\n<text text-anchor=\"start\" x=\"1741.5\" y=\"-96.8\" font-family=\"Helvetica,sans-Serif\" font-size=\"14.00\">value = 45.297</text>\n</g>\n<!-- 17&#45;&gt;18 -->\n<g id=\"edge18\" class=\"edge\">\n<title>17&#45;&gt;18</title>\n<path fill=\"none\" stroke=\"black\" d=\"M1862.18,-192.88C1853.54,-183.89 1844.08,-174.04 1835.08,-164.68\"/>\n<polygon fill=\"black\" stroke=\"black\" points=\"1837.45,-162.09 1827.99,-157.3 1832.4,-166.94 1837.45,-162.09\"/>\n</g>\n<!-- 21 -->\n<g id=\"node22\" class=\"node\">\n<title>21</title>\n<path fill=\"#f1bb94\" stroke=\"black\" d=\"M2068,-157C2068,-157 1918,-157 1918,-157 1912,-157 1906,-151 1906,-145 1906,-145 1906,-101 1906,-101 1906,-95 1912,-89 1918,-89 1918,-89 2068,-89 2068,-89 2074,-89 2080,-95 2080,-101 2080,-101 2080,-145 2080,-145 2080,-151 2074,-157 2068,-157\"/>\n<text text-anchor=\"start\" x=\"1914\" y=\"-141.8\" font-family=\"Helvetica,sans-Serif\" font-size=\"14.00\">bill_length_mm ≤ 47.3</text>\n<text text-anchor=\"start\" x=\"1914\" y=\"-126.8\" font-family=\"Helvetica,sans-Serif\" font-size=\"14.00\">squared_error = 0.575</text>\n<text text-anchor=\"start\" x=\"1944.5\" y=\"-111.8\" font-family=\"Helvetica,sans-Serif\" font-size=\"14.00\">samples = 33</text>\n<text text-anchor=\"start\" x=\"1938.5\" y=\"-96.8\" font-family=\"Helvetica,sans-Serif\" font-size=\"14.00\">value = 47.315</text>\n</g>\n<!-- 17&#45;&gt;21 -->\n<g id=\"edge21\" class=\"edge\">\n<title>17&#45;&gt;21</title>\n<path fill=\"none\" stroke=\"black\" d=\"M1926.14,-192.88C1934.87,-183.89 1944.43,-174.04 1953.52,-164.68\"/>\n<polygon fill=\"black\" stroke=\"black\" points=\"1956.23,-166.91 1960.68,-157.3 1951.2,-162.04 1956.23,-166.91\"/>\n</g>\n<!-- 19 -->\n<g id=\"node20\" class=\"node\">\n<title>19</title>\n<path fill=\"#f4c9ab\" stroke=\"black\" d=\"M1682,-53C1682,-53 1532,-53 1532,-53 1526,-53 1520,-47 1520,-41 1520,-41 1520,-12 1520,-12 1520,-6 1526,0 1532,0 1532,0 1682,0 1682,0 1688,0 1694,-6 1694,-12 1694,-12 1694,-41 1694,-41 1694,-47 1688,-53 1682,-53\"/>\n<text text-anchor=\"start\" x=\"1528\" y=\"-37.8\" font-family=\"Helvetica,sans-Serif\" font-size=\"14.00\">squared_error = 0.141</text>\n<text text-anchor=\"start\" x=\"1563\" y=\"-22.8\" font-family=\"Helvetica,sans-Serif\" font-size=\"14.00\">samples = 6</text>\n<text text-anchor=\"start\" x=\"1552.5\" y=\"-7.8\" font-family=\"Helvetica,sans-Serif\" font-size=\"14.00\">value = 44.417</text>\n</g>\n<!-- 18&#45;&gt;19 -->\n<g id=\"edge19\" class=\"edge\">\n<title>18&#45;&gt;19</title>\n<path fill=\"none\" stroke=\"black\" d=\"M1729.9,-88.95C1709.5,-78.75 1687.15,-67.57 1667.17,-57.59\"/>\n<polygon fill=\"black\" stroke=\"black\" points=\"1668.68,-54.43 1658.17,-53.09 1665.55,-60.69 1668.68,-54.43\"/>\n</g>\n<!-- 20 -->\n<g id=\"node21\" class=\"node\">\n<title>20</title>\n<path fill=\"#f3c4a2\" stroke=\"black\" d=\"M1874,-53C1874,-53 1724,-53 1724,-53 1718,-53 1712,-47 1712,-41 1712,-41 1712,-12 1712,-12 1712,-6 1718,0 1724,0 1724,0 1874,0 1874,0 1880,0 1886,-6 1886,-12 1886,-12 1886,-41 1886,-41 1886,-47 1880,-53 1874,-53\"/>\n<text text-anchor=\"start\" x=\"1720\" y=\"-37.8\" font-family=\"Helvetica,sans-Serif\" font-size=\"14.00\">squared_error = 0.138</text>\n<text text-anchor=\"start\" x=\"1750.5\" y=\"-22.8\" font-family=\"Helvetica,sans-Serif\" font-size=\"14.00\">samples = 23</text>\n<text text-anchor=\"start\" x=\"1744.5\" y=\"-7.8\" font-family=\"Helvetica,sans-Serif\" font-size=\"14.00\">value = 45.526</text>\n</g>\n<!-- 18&#45;&gt;20 -->\n<g id=\"edge20\" class=\"edge\">\n<title>18&#45;&gt;20</title>\n<path fill=\"none\" stroke=\"black\" d=\"M1797.05,-88.95C1797.31,-80.72 1797.59,-71.85 1797.86,-63.48\"/>\n<polygon fill=\"black\" stroke=\"black\" points=\"1801.36,-63.34 1798.18,-53.24 1794.37,-63.12 1801.36,-63.34\"/>\n</g>\n<!-- 22 -->\n<g id=\"node23\" class=\"node\">\n<title>22</title>\n<path fill=\"#f2be99\" stroke=\"black\" d=\"M2066,-53C2066,-53 1916,-53 1916,-53 1910,-53 1904,-47 1904,-41 1904,-41 1904,-12 1904,-12 1904,-6 1910,0 1916,0 1916,0 2066,0 2066,0 2072,0 2078,-6 2078,-12 2078,-12 2078,-41 2078,-41 2078,-47 2072,-53 2066,-53\"/>\n<text text-anchor=\"start\" x=\"1912\" y=\"-37.8\" font-family=\"Helvetica,sans-Serif\" font-size=\"14.00\">squared_error = 0.047</text>\n<text text-anchor=\"start\" x=\"1942.5\" y=\"-22.8\" font-family=\"Helvetica,sans-Serif\" font-size=\"14.00\">samples = 18</text>\n<text text-anchor=\"start\" x=\"1936.5\" y=\"-7.8\" font-family=\"Helvetica,sans-Serif\" font-size=\"14.00\">value = 46.683</text>\n</g>\n<!-- 21&#45;&gt;22 -->\n<g id=\"edge22\" class=\"edge\">\n<title>21&#45;&gt;22</title>\n<path fill=\"none\" stroke=\"black\" d=\"M1992.3,-88.95C1992.13,-80.72 1991.94,-71.85 1991.76,-63.48\"/>\n<polygon fill=\"black\" stroke=\"black\" points=\"1995.26,-63.16 1991.54,-53.24 1988.26,-63.31 1995.26,-63.16\"/>\n</g>\n<!-- 23 -->\n<g id=\"node24\" class=\"node\">\n<title>23</title>\n<path fill=\"#f0b78e\" stroke=\"black\" d=\"M2258,-53C2258,-53 2108,-53 2108,-53 2102,-53 2096,-47 2096,-41 2096,-41 2096,-12 2096,-12 2096,-6 2102,0 2108,0 2108,0 2258,0 2258,0 2264,0 2270,-6 2270,-12 2270,-12 2270,-41 2270,-41 2270,-47 2264,-53 2258,-53\"/>\n<text text-anchor=\"start\" x=\"2104\" y=\"-37.8\" font-family=\"Helvetica,sans-Serif\" font-size=\"14.00\">squared_error = 0.154</text>\n<text text-anchor=\"start\" x=\"2134.5\" y=\"-22.8\" font-family=\"Helvetica,sans-Serif\" font-size=\"14.00\">samples = 15</text>\n<text text-anchor=\"start\" x=\"2128.5\" y=\"-7.8\" font-family=\"Helvetica,sans-Serif\" font-size=\"14.00\">value = 48.073</text>\n</g>\n<!-- 21&#45;&gt;23 -->\n<g id=\"edge23\" class=\"edge\">\n<title>21&#45;&gt;23</title>\n<path fill=\"none\" stroke=\"black\" d=\"M2059.45,-88.95C2079.96,-78.75 2102.43,-67.57 2122.51,-57.59\"/>\n<polygon fill=\"black\" stroke=\"black\" points=\"2124.16,-60.67 2131.56,-53.09 2121.04,-54.41 2124.16,-60.67\"/>\n</g>\n<!-- 25 -->\n<g id=\"node26\" class=\"node\">\n<title>25</title>\n<path fill=\"#eeab7b\" stroke=\"black\" d=\"M2543,-157C2543,-157 2393,-157 2393,-157 2387,-157 2381,-151 2381,-145 2381,-145 2381,-101 2381,-101 2381,-95 2387,-89 2393,-89 2393,-89 2543,-89 2543,-89 2549,-89 2555,-95 2555,-101 2555,-101 2555,-145 2555,-145 2555,-151 2549,-157 2543,-157\"/>\n<text text-anchor=\"start\" x=\"2389\" y=\"-141.8\" font-family=\"Helvetica,sans-Serif\" font-size=\"14.00\">bill_length_mm ≤ 50.6</text>\n<text text-anchor=\"start\" x=\"2389\" y=\"-126.8\" font-family=\"Helvetica,sans-Serif\" font-size=\"14.00\">squared_error = 1.246</text>\n<text text-anchor=\"start\" x=\"2419.5\" y=\"-111.8\" font-family=\"Helvetica,sans-Serif\" font-size=\"14.00\">samples = 55</text>\n<text text-anchor=\"start\" x=\"2413.5\" y=\"-96.8\" font-family=\"Helvetica,sans-Serif\" font-size=\"14.00\">value = 50.433</text>\n</g>\n<!-- 24&#45;&gt;25 -->\n<g id=\"edge25\" class=\"edge\">\n<title>24&#45;&gt;25</title>\n<path fill=\"none\" stroke=\"black\" d=\"M2468,-192.88C2468,-184.78 2468,-175.98 2468,-167.47\"/>\n<polygon fill=\"black\" stroke=\"black\" points=\"2471.5,-167.3 2468,-157.3 2464.5,-167.3 2471.5,-167.3\"/>\n</g>\n<!-- 28 -->\n<g id=\"node29\" class=\"node\">\n<title>28</title>\n<path fill=\"#e88f4f\" stroke=\"black\" d=\"M2838.5,-157C2838.5,-157 2679.5,-157 2679.5,-157 2673.5,-157 2667.5,-151 2667.5,-145 2667.5,-145 2667.5,-101 2667.5,-101 2667.5,-95 2673.5,-89 2679.5,-89 2679.5,-89 2838.5,-89 2838.5,-89 2844.5,-89 2850.5,-95 2850.5,-101 2850.5,-101 2850.5,-145 2850.5,-145 2850.5,-151 2844.5,-157 2838.5,-157\"/>\n<text text-anchor=\"start\" x=\"2675.5\" y=\"-141.8\" font-family=\"Helvetica,sans-Serif\" font-size=\"14.00\">bill_length_mm ≤ 56.55</text>\n<text text-anchor=\"start\" x=\"2680\" y=\"-126.8\" font-family=\"Helvetica,sans-Serif\" font-size=\"14.00\">squared_error = 5.446</text>\n<text text-anchor=\"start\" x=\"2715\" y=\"-111.8\" font-family=\"Helvetica,sans-Serif\" font-size=\"14.00\">samples = 5</text>\n<text text-anchor=\"start\" x=\"2709\" y=\"-96.8\" font-family=\"Helvetica,sans-Serif\" font-size=\"14.00\">value = 56.08</text>\n</g>\n<!-- 24&#45;&gt;28 -->\n<g id=\"edge28\" class=\"edge\">\n<title>24&#45;&gt;28</title>\n<path fill=\"none\" stroke=\"black\" d=\"M2559.67,-193.87C2590.78,-182.96 2625.7,-170.72 2657.52,-159.57\"/>\n<polygon fill=\"black\" stroke=\"black\" points=\"2659.01,-162.76 2667.29,-156.15 2656.69,-156.15 2659.01,-162.76\"/>\n</g>\n<!-- 26 -->\n<g id=\"node27\" class=\"node\">\n<title>26</title>\n<path fill=\"#eeaf81\" stroke=\"black\" d=\"M2450,-53C2450,-53 2300,-53 2300,-53 2294,-53 2288,-47 2288,-41 2288,-41 2288,-12 2288,-12 2288,-6 2294,0 2300,0 2300,0 2450,0 2450,0 2456,0 2462,-6 2462,-12 2462,-12 2462,-41 2462,-41 2462,-47 2456,-53 2450,-53\"/>\n<text text-anchor=\"start\" x=\"2296\" y=\"-37.8\" font-family=\"Helvetica,sans-Serif\" font-size=\"14.00\">squared_error = 0.328</text>\n<text text-anchor=\"start\" x=\"2326.5\" y=\"-22.8\" font-family=\"Helvetica,sans-Serif\" font-size=\"14.00\">samples = 33</text>\n<text text-anchor=\"start\" x=\"2320.5\" y=\"-7.8\" font-family=\"Helvetica,sans-Serif\" font-size=\"14.00\">value = 49.667</text>\n</g>\n<!-- 25&#45;&gt;26 -->\n<g id=\"edge26\" class=\"edge\">\n<title>25&#45;&gt;26</title>\n<path fill=\"none\" stroke=\"black\" d=\"M2435.47,-88.95C2426.38,-79.71 2416.5,-69.67 2407.42,-60.44\"/>\n<polygon fill=\"black\" stroke=\"black\" points=\"2409.84,-57.91 2400.33,-53.24 2404.85,-62.82 2409.84,-57.91\"/>\n</g>\n<!-- 27 -->\n<g id=\"node28\" class=\"node\">\n<title>27</title>\n<path fill=\"#eda572\" stroke=\"black\" d=\"M2642,-53C2642,-53 2492,-53 2492,-53 2486,-53 2480,-47 2480,-41 2480,-41 2480,-12 2480,-12 2480,-6 2486,0 2492,0 2492,0 2642,0 2642,0 2648,0 2654,-6 2654,-12 2654,-12 2654,-41 2654,-41 2654,-47 2648,-53 2642,-53\"/>\n<text text-anchor=\"start\" x=\"2488\" y=\"-37.8\" font-family=\"Helvetica,sans-Serif\" font-size=\"14.00\">squared_error = 0.422</text>\n<text text-anchor=\"start\" x=\"2518.5\" y=\"-22.8\" font-family=\"Helvetica,sans-Serif\" font-size=\"14.00\">samples = 22</text>\n<text text-anchor=\"start\" x=\"2512.5\" y=\"-7.8\" font-family=\"Helvetica,sans-Serif\" font-size=\"14.00\">value = 51.582</text>\n</g>\n<!-- 25&#45;&gt;27 -->\n<g id=\"edge27\" class=\"edge\">\n<title>25&#45;&gt;27</title>\n<path fill=\"none\" stroke=\"black\" d=\"M2502.63,-88.95C2512.4,-79.62 2523.03,-69.47 2532.78,-60.16\"/>\n<polygon fill=\"black\" stroke=\"black\" points=\"2535.22,-62.67 2540.04,-53.24 2530.39,-57.61 2535.22,-62.67\"/>\n</g>\n<!-- 29 -->\n<g id=\"node30\" class=\"node\">\n<title>29</title>\n<path fill=\"#ea985d\" stroke=\"black\" d=\"M2834,-53C2834,-53 2684,-53 2684,-53 2678,-53 2672,-47 2672,-41 2672,-41 2672,-12 2672,-12 2672,-6 2678,0 2684,0 2684,0 2834,0 2834,0 2840,0 2846,-6 2846,-12 2846,-12 2846,-41 2846,-41 2846,-47 2840,-53 2834,-53\"/>\n<text text-anchor=\"start\" x=\"2680\" y=\"-37.8\" font-family=\"Helvetica,sans-Serif\" font-size=\"14.00\">squared_error = 0.429</text>\n<text text-anchor=\"start\" x=\"2715\" y=\"-22.8\" font-family=\"Helvetica,sans-Serif\" font-size=\"14.00\">samples = 3</text>\n<text text-anchor=\"start\" x=\"2704.5\" y=\"-7.8\" font-family=\"Helvetica,sans-Serif\" font-size=\"14.00\">value = 54.267</text>\n</g>\n<!-- 28&#45;&gt;29 -->\n<g id=\"edge29\" class=\"edge\">\n<title>28&#45;&gt;29</title>\n<path fill=\"none\" stroke=\"black\" d=\"M2759,-88.95C2759,-80.72 2759,-71.85 2759,-63.48\"/>\n<polygon fill=\"black\" stroke=\"black\" points=\"2762.5,-63.24 2759,-53.24 2755.5,-63.24 2762.5,-63.24\"/>\n</g>\n<!-- 30 -->\n<g id=\"node31\" class=\"node\">\n<title>30</title>\n<path fill=\"#e58139\" stroke=\"black\" d=\"M3017.5,-53C3017.5,-53 2876.5,-53 2876.5,-53 2870.5,-53 2864.5,-47 2864.5,-41 2864.5,-41 2864.5,-12 2864.5,-12 2864.5,-6 2870.5,0 2876.5,0 2876.5,0 3017.5,0 3017.5,0 3023.5,0 3029.5,-6 3029.5,-12 3029.5,-12 3029.5,-41 3029.5,-41 3029.5,-47 3023.5,-53 3017.5,-53\"/>\n<text text-anchor=\"start\" x=\"2872.5\" y=\"-37.8\" font-family=\"Helvetica,sans-Serif\" font-size=\"14.00\">squared_error = 0.64</text>\n<text text-anchor=\"start\" x=\"2903\" y=\"-22.8\" font-family=\"Helvetica,sans-Serif\" font-size=\"14.00\">samples = 2</text>\n<text text-anchor=\"start\" x=\"2901.5\" y=\"-7.8\" font-family=\"Helvetica,sans-Serif\" font-size=\"14.00\">value = 58.8</text>\n</g>\n<!-- 28&#45;&gt;30 -->\n<g id=\"edge30\" class=\"edge\">\n<title>28&#45;&gt;30</title>\n<path fill=\"none\" stroke=\"black\" d=\"M2824.75,-88.95C2845.05,-78.75 2867.28,-67.57 2887.15,-57.59\"/>\n<polygon fill=\"black\" stroke=\"black\" points=\"2888.73,-60.71 2896.1,-53.09 2885.59,-54.45 2888.73,-60.71\"/>\n</g>\n</g>\n</svg>\n",
      "text/plain": [
       "<graphviz.files.Source at 0x7ff5a3ff3fa0>"
      ]
     },
     "execution_count": 54,
     "metadata": {},
     "output_type": "execute_result"
    }
   ],
   "source": [
    "plot_tree_regression(dt_regression, features)"
   ]
  }
 ],
 "metadata": {
  "interpreter": {
   "hash": "d4d1e4263499bec80672ea0156c357c1ee493ec2b1c70f0acce89fc37c4a6abe"
  },
  "kernelspec": {
   "display_name": "Python 3.9.10 ('base')",
   "language": "python",
   "name": "python3"
  },
  "language_info": {
   "codemirror_mode": {
    "name": "ipython",
    "version": 3
   },
   "file_extension": ".py",
   "mimetype": "text/x-python",
   "name": "python",
   "nbconvert_exporter": "python",
   "pygments_lexer": "ipython3",
   "version": "3.9.10"
  },
  "orig_nbformat": 4
 },
 "nbformat": 4,
 "nbformat_minor": 2
}
