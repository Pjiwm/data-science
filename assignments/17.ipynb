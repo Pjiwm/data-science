{
 "cells": [
  {
   "cell_type": "code",
   "execution_count": 11,
   "metadata": {},
   "outputs": [],
   "source": [
    "import pandas as pd\n",
    "import seaborn as sns\n"
   ]
  },
  {
   "cell_type": "code",
   "execution_count": 12,
   "metadata": {},
   "outputs": [],
   "source": [
    "hostels = pd.read_csv('../data/hostel.csv')\n",
    "penguins = sns.load_dataset(\"penguins\")\n",
    "penguins = penguins.dropna()"
   ]
  },
  {
   "cell_type": "markdown",
   "metadata": {},
   "source": [
    "## Portfolio assignment 17\n",
    "30 min: Train a decision tree to predict the body_mass_g of a penguin based on their characteristics.\n",
    "- Split the penguin dataset into a train (70%) and test (30%) set.\n",
    "- Use the train set to fit a DecisionTreeRegressor. You are free to to choose which columns you want to use as feature variables and you are also free to choose the max_depth of the tree. \n",
    "<b>Note</b>: Some machine learning algorithms can not handle missing values. You will either need to \n",
    " - replace missing values (with the mean or most popular value). For replacing missing values you can use .fillna(\\<value\\>) https://pandas.pydata.org/docs/reference/api/pandas.Series.fillna.html\n",
    " - remove rows with missing data.  You can remove rows with missing data with .dropna() https://pandas.pydata.org/pandas-docs/stable/reference/api/pandas.DataFrame.dropna.html\n",
    "- Use your decision tree model to make predictions for both the train and test set.\n",
    "- Calculate the RMSE for both the train set predictions and test set predictions.\n",
    "- Is the RMSE different? Did you expect this difference?\n",
    "- Use the plot_tree_regression function above to create a plot of the decision tree. Take a few minutes to analyse the decision tree. Do you understand the tree?"
   ]
  },
  {
   "cell_type": "code",
   "execution_count": 13,
   "metadata": {},
   "outputs": [],
   "source": [
    "from sklearn.tree import DecisionTreeRegressor\n"
   ]
  },
  {
   "cell_type": "code",
   "execution_count": 14,
   "metadata": {},
   "outputs": [],
   "source": [
    "from sklearn.model_selection import train_test_split"
   ]
  },
  {
   "cell_type": "code",
   "execution_count": 15,
   "metadata": {},
   "outputs": [],
   "source": [
    "def calculate_rmse(predictions, actuals):\n",
    "    if(len(predictions) != len(actuals)):\n",
    "        raise Exception(\"The amount of predictions did not equal the amount of actuals\")\n",
    "    \n",
    "    return (((predictions - actuals) ** 2).sum() / len(actuals)) ** (1/2)\n"
   ]
  },
  {
   "cell_type": "code",
   "execution_count": 16,
   "metadata": {},
   "outputs": [],
   "source": [
    "from sklearn import tree\n",
    "import graphviz\n",
    "\n",
    "def plot_tree_regression(model, features):\n",
    "    # Generate plot data\n",
    "    dot_data = tree.export_graphviz(model, out_file=None, \n",
    "                          feature_names=features,  \n",
    "                          filled=True, rounded=True,  \n",
    "                          special_characters=True)  \n",
    "\n",
    "    # Turn into graph using graphviz\n",
    "    graph = graphviz.Source(dot_data)  \n",
    "\n",
    "    # Write out a pdf\n",
    "    graph.render(\"decision_tree\")\n",
    "\n",
    "    # Display in the notebook\n",
    "    return graph "
   ]
  },
  {
   "cell_type": "code",
   "execution_count": 17,
   "metadata": {},
   "outputs": [
    {
     "name": "stdout",
     "output_type": "stream",
     "text": [
      "(233, 7) (100, 7)\n"
     ]
    }
   ],
   "source": [
    "penguins_train, penguins_test = train_test_split(penguins, test_size=0.3, stratify=penguins['island'], random_state=5)\n",
    "print(penguins_train.shape, penguins_test.shape)"
   ]
  },
  {
   "cell_type": "code",
   "execution_count": 18,
   "metadata": {},
   "outputs": [
    {
     "data": {
      "text/plain": [
       "DecisionTreeRegressor(max_depth=3)"
      ]
     },
     "execution_count": 18,
     "metadata": {},
     "output_type": "execute_result"
    }
   ],
   "source": [
    "features= ['bill_length_mm']\n",
    "dt_regression = DecisionTreeRegressor(max_depth = 3) # Increase max_depth to see effect in the plot\n",
    "dt_regression.fit(penguins_train[features], penguins_train['bill_length_mm'])"
   ]
  },
  {
   "cell_type": "markdown",
   "metadata": {},
   "source": [
    "The RMSE scores are higher than expected and are still somewhat close to each other."
   ]
  },
  {
   "cell_type": "code",
   "execution_count": 19,
   "metadata": {},
   "outputs": [
    {
     "name": "stdout",
     "output_type": "stream",
     "text": [
      "RMSE on training set 0.9222501770441042\n",
      "RMSE on test set 0.7816712049209473\n"
     ]
    }
   ],
   "source": [
    "predictionsOnTrainset = dt_regression.predict(penguins_train[features])\n",
    "predictionsOnTestset = dt_regression.predict(penguins_test[features])\n",
    "\n",
    "rmseTrain = calculate_rmse(predictionsOnTrainset, penguins_train.bill_length_mm)\n",
    "rmseTest = calculate_rmse(predictionsOnTestset, penguins_test.bill_length_mm)\n",
    "\n",
    "print(\"RMSE on training set \" + str(rmseTrain))\n",
    "print(\"RMSE on test set \" + str(rmseTest))"
   ]
  },
  {
   "cell_type": "code",
   "execution_count": 20,
   "metadata": {},
   "outputs": [
    {
     "data": {
      "image/svg+xml": "<?xml version=\"1.0\" encoding=\"UTF-8\" standalone=\"no\"?>\n<!DOCTYPE svg PUBLIC \"-//W3C//DTD SVG 1.1//EN\"\n \"http://www.w3.org/Graphics/SVG/1.1/DTD/svg11.dtd\">\n<!-- Generated by graphviz version 2.50.0 (20220117.2223)\n -->\n<!-- Title: Tree Pages: 1 -->\n<svg width=\"1510pt\" height=\"373pt\"\n viewBox=\"0.00 0.00 1510.00 373.00\" xmlns=\"http://www.w3.org/2000/svg\" xmlns:xlink=\"http://www.w3.org/1999/xlink\">\n<g id=\"graph0\" class=\"graph\" transform=\"scale(1 1) rotate(0) translate(4 369)\">\n<title>Tree</title>\n<polygon fill=\"white\" stroke=\"transparent\" points=\"-4,4 -4,-369 1506,-369 1506,4 -4,4\"/>\n<!-- 0 -->\n<g id=\"node1\" class=\"node\">\n<title>0</title>\n<path fill=\"#f4caab\" stroke=\"black\" d=\"M819,-365C819,-365 669,-365 669,-365 663,-365 657,-359 657,-353 657,-353 657,-309 657,-309 657,-303 663,-297 669,-297 669,-297 819,-297 819,-297 825,-297 831,-303 831,-309 831,-309 831,-353 831,-353 831,-359 825,-365 819,-365\"/>\n<text text-anchor=\"start\" x=\"665\" y=\"-349.8\" font-family=\"Helvetica,sans-Serif\" font-size=\"14.00\">bill_length_mm ≤ 43.8</text>\n<text text-anchor=\"start\" x=\"665\" y=\"-334.8\" font-family=\"Helvetica,sans-Serif\" font-size=\"14.00\">squared_error = 29.99</text>\n<text text-anchor=\"start\" x=\"691\" y=\"-319.8\" font-family=\"Helvetica,sans-Serif\" font-size=\"14.00\">samples = 233</text>\n<text text-anchor=\"start\" x=\"689.5\" y=\"-304.8\" font-family=\"Helvetica,sans-Serif\" font-size=\"14.00\">value = 44.066</text>\n</g>\n<!-- 1 -->\n<g id=\"node2\" class=\"node\">\n<title>1</title>\n<path fill=\"#fae8db\" stroke=\"black\" d=\"M640.5,-261C640.5,-261 481.5,-261 481.5,-261 475.5,-261 469.5,-255 469.5,-249 469.5,-249 469.5,-205 469.5,-205 469.5,-199 475.5,-193 481.5,-193 481.5,-193 640.5,-193 640.5,-193 646.5,-193 652.5,-199 652.5,-205 652.5,-205 652.5,-249 652.5,-249 652.5,-255 646.5,-261 640.5,-261\"/>\n<text text-anchor=\"start\" x=\"477.5\" y=\"-245.8\" font-family=\"Helvetica,sans-Serif\" font-size=\"14.00\">bill_length_mm ≤ 38.65</text>\n<text text-anchor=\"start\" x=\"482\" y=\"-230.8\" font-family=\"Helvetica,sans-Serif\" font-size=\"14.00\">squared_error = 6.878</text>\n<text text-anchor=\"start\" x=\"508\" y=\"-215.8\" font-family=\"Helvetica,sans-Serif\" font-size=\"14.00\">samples = 111</text>\n<text text-anchor=\"start\" x=\"506.5\" y=\"-200.8\" font-family=\"Helvetica,sans-Serif\" font-size=\"14.00\">value = 39.083</text>\n</g>\n<!-- 0&#45;&gt;1 -->\n<g id=\"edge1\" class=\"edge\">\n<title>0&#45;&gt;1</title>\n<path fill=\"none\" stroke=\"black\" d=\"M684.59,-296.88C666.92,-287.04 647.42,-276.17 629.24,-266.03\"/>\n<polygon fill=\"black\" stroke=\"black\" points=\"630.87,-262.94 620.43,-261.12 627.46,-269.05 630.87,-262.94\"/>\n<text text-anchor=\"middle\" x=\"627.26\" y=\"-281.47\" font-family=\"Helvetica,sans-Serif\" font-size=\"14.00\">True</text>\n</g>\n<!-- 8 -->\n<g id=\"node9\" class=\"node\">\n<title>8</title>\n<path fill=\"#eeae80\" stroke=\"black\" d=\"M1009,-261C1009,-261 859,-261 859,-261 853,-261 847,-255 847,-249 847,-249 847,-205 847,-205 847,-199 853,-193 859,-193 859,-193 1009,-193 1009,-193 1015,-193 1021,-199 1021,-205 1021,-205 1021,-249 1021,-249 1021,-255 1015,-261 1009,-261\"/>\n<text text-anchor=\"start\" x=\"855\" y=\"-245.8\" font-family=\"Helvetica,sans-Serif\" font-size=\"14.00\">bill_length_mm ≤ 48.6</text>\n<text text-anchor=\"start\" x=\"855\" y=\"-230.8\" font-family=\"Helvetica,sans-Serif\" font-size=\"14.00\">squared_error = 7.869</text>\n<text text-anchor=\"start\" x=\"881\" y=\"-215.8\" font-family=\"Helvetica,sans-Serif\" font-size=\"14.00\">samples = 122</text>\n<text text-anchor=\"start\" x=\"888.5\" y=\"-200.8\" font-family=\"Helvetica,sans-Serif\" font-size=\"14.00\">value = 48.6</text>\n</g>\n<!-- 0&#45;&gt;8 -->\n<g id=\"edge8\" class=\"edge\">\n<title>0&#45;&gt;8</title>\n<path fill=\"none\" stroke=\"black\" d=\"M805.69,-296.88C824.12,-286.99 844.46,-276.07 863.41,-265.9\"/>\n<polygon fill=\"black\" stroke=\"black\" points=\"865.14,-268.94 872.3,-261.12 861.83,-262.77 865.14,-268.94\"/>\n<text text-anchor=\"middle\" x=\"865.08\" y=\"-281.36\" font-family=\"Helvetica,sans-Serif\" font-size=\"14.00\">False</text>\n</g>\n<!-- 2 -->\n<g id=\"node3\" class=\"node\">\n<title>2</title>\n<path fill=\"#fef8f4\" stroke=\"black\" d=\"M358.5,-157C358.5,-157 199.5,-157 199.5,-157 193.5,-157 187.5,-151 187.5,-145 187.5,-145 187.5,-101 187.5,-101 187.5,-95 193.5,-89 199.5,-89 199.5,-89 358.5,-89 358.5,-89 364.5,-89 370.5,-95 370.5,-101 370.5,-101 370.5,-145 370.5,-145 370.5,-151 364.5,-157 358.5,-157\"/>\n<text text-anchor=\"start\" x=\"195.5\" y=\"-141.8\" font-family=\"Helvetica,sans-Serif\" font-size=\"14.00\">bill_length_mm ≤ 36.45</text>\n<text text-anchor=\"start\" x=\"200\" y=\"-126.8\" font-family=\"Helvetica,sans-Serif\" font-size=\"14.00\">squared_error = 2.166</text>\n<text text-anchor=\"start\" x=\"230.5\" y=\"-111.8\" font-family=\"Helvetica,sans-Serif\" font-size=\"14.00\">samples = 45</text>\n<text text-anchor=\"start\" x=\"224.5\" y=\"-96.8\" font-family=\"Helvetica,sans-Serif\" font-size=\"14.00\">value = 36.429</text>\n</g>\n<!-- 1&#45;&gt;2 -->\n<g id=\"edge2\" class=\"edge\">\n<title>1&#45;&gt;2</title>\n<path fill=\"none\" stroke=\"black\" d=\"M469.44,-192.88C440.98,-182.59 409.44,-171.18 380.34,-160.66\"/>\n<polygon fill=\"black\" stroke=\"black\" points=\"381.17,-157.23 370.58,-157.12 378.79,-163.82 381.17,-157.23\"/>\n</g>\n<!-- 5 -->\n<g id=\"node6\" class=\"node\">\n<title>5</title>\n<path fill=\"#f8ddca\" stroke=\"black\" d=\"M636,-157C636,-157 486,-157 486,-157 480,-157 474,-151 474,-145 474,-145 474,-101 474,-101 474,-95 480,-89 486,-89 486,-89 636,-89 636,-89 642,-89 648,-95 648,-101 648,-101 648,-145 648,-145 648,-151 642,-157 636,-157\"/>\n<text text-anchor=\"start\" x=\"482\" y=\"-141.8\" font-family=\"Helvetica,sans-Serif\" font-size=\"14.00\">bill_length_mm ≤ 41.2</text>\n<text text-anchor=\"start\" x=\"482\" y=\"-126.8\" font-family=\"Helvetica,sans-Serif\" font-size=\"14.00\">squared_error = 2.013</text>\n<text text-anchor=\"start\" x=\"512.5\" y=\"-111.8\" font-family=\"Helvetica,sans-Serif\" font-size=\"14.00\">samples = 66</text>\n<text text-anchor=\"start\" x=\"506.5\" y=\"-96.8\" font-family=\"Helvetica,sans-Serif\" font-size=\"14.00\">value = 40.892</text>\n</g>\n<!-- 1&#45;&gt;5 -->\n<g id=\"edge5\" class=\"edge\">\n<title>1&#45;&gt;5</title>\n<path fill=\"none\" stroke=\"black\" d=\"M561,-192.88C561,-184.78 561,-175.98 561,-167.47\"/>\n<polygon fill=\"black\" stroke=\"black\" points=\"564.5,-167.3 561,-157.3 557.5,-167.3 564.5,-167.3\"/>\n</g>\n<!-- 3 -->\n<g id=\"node4\" class=\"node\">\n<title>3</title>\n<path fill=\"#ffffff\" stroke=\"black\" d=\"M162,-53C162,-53 12,-53 12,-53 6,-53 0,-47 0,-41 0,-41 0,-12 0,-12 0,-6 6,0 12,0 12,0 162,0 162,0 168,0 174,-6 174,-12 174,-12 174,-41 174,-41 174,-47 168,-53 162,-53\"/>\n<text text-anchor=\"start\" x=\"8\" y=\"-37.8\" font-family=\"Helvetica,sans-Serif\" font-size=\"14.00\">squared_error = 1.144</text>\n<text text-anchor=\"start\" x=\"38.5\" y=\"-22.8\" font-family=\"Helvetica,sans-Serif\" font-size=\"14.00\">samples = 23</text>\n<text text-anchor=\"start\" x=\"32.5\" y=\"-7.8\" font-family=\"Helvetica,sans-Serif\" font-size=\"14.00\">value = 35.278</text>\n</g>\n<!-- 2&#45;&gt;3 -->\n<g id=\"edge3\" class=\"edge\">\n<title>2&#45;&gt;3</title>\n<path fill=\"none\" stroke=\"black\" d=\"M211.85,-88.95C191.12,-78.75 168.42,-67.57 148.13,-57.59\"/>\n<polygon fill=\"black\" stroke=\"black\" points=\"149.5,-54.36 138.99,-53.09 146.41,-60.64 149.5,-54.36\"/>\n</g>\n<!-- 4 -->\n<g id=\"node5\" class=\"node\">\n<title>4</title>\n<path fill=\"#fcf1e9\" stroke=\"black\" d=\"M354,-53C354,-53 204,-53 204,-53 198,-53 192,-47 192,-41 192,-41 192,-12 192,-12 192,-6 198,0 204,0 204,0 354,0 354,0 360,0 366,-6 366,-12 366,-12 366,-41 366,-41 366,-47 360,-53 354,-53\"/>\n<text text-anchor=\"start\" x=\"200\" y=\"-37.8\" font-family=\"Helvetica,sans-Serif\" font-size=\"14.00\">squared_error = 0.404</text>\n<text text-anchor=\"start\" x=\"230.5\" y=\"-22.8\" font-family=\"Helvetica,sans-Serif\" font-size=\"14.00\">samples = 22</text>\n<text text-anchor=\"start\" x=\"224.5\" y=\"-7.8\" font-family=\"Helvetica,sans-Serif\" font-size=\"14.00\">value = 37.632</text>\n</g>\n<!-- 2&#45;&gt;4 -->\n<g id=\"edge4\" class=\"edge\">\n<title>2&#45;&gt;4</title>\n<path fill=\"none\" stroke=\"black\" d=\"M279,-88.95C279,-80.72 279,-71.85 279,-63.48\"/>\n<polygon fill=\"black\" stroke=\"black\" points=\"282.5,-63.24 279,-53.24 275.5,-63.24 282.5,-63.24\"/>\n</g>\n<!-- 6 -->\n<g id=\"node7\" class=\"node\">\n<title>6</title>\n<path fill=\"#f9e2d2\" stroke=\"black\" d=\"M537.5,-53C537.5,-53 396.5,-53 396.5,-53 390.5,-53 384.5,-47 384.5,-41 384.5,-41 384.5,-12 384.5,-12 384.5,-6 390.5,0 396.5,0 396.5,0 537.5,0 537.5,0 543.5,0 549.5,-6 549.5,-12 549.5,-12 549.5,-41 549.5,-41 549.5,-47 543.5,-53 537.5,-53\"/>\n<text text-anchor=\"start\" x=\"392.5\" y=\"-37.8\" font-family=\"Helvetica,sans-Serif\" font-size=\"14.00\">squared_error = 0.63</text>\n<text text-anchor=\"start\" x=\"418.5\" y=\"-22.8\" font-family=\"Helvetica,sans-Serif\" font-size=\"14.00\">samples = 42</text>\n<text text-anchor=\"start\" x=\"412.5\" y=\"-7.8\" font-family=\"Helvetica,sans-Serif\" font-size=\"14.00\">value = 39.988</text>\n</g>\n<!-- 5&#45;&gt;6 -->\n<g id=\"edge6\" class=\"edge\">\n<title>5&#45;&gt;6</title>\n<path fill=\"none\" stroke=\"black\" d=\"M528.12,-88.95C518.93,-79.71 508.95,-69.67 499.76,-60.44\"/>\n<polygon fill=\"black\" stroke=\"black\" points=\"502.13,-57.86 492.6,-53.24 497.17,-62.79 502.13,-57.86\"/>\n</g>\n<!-- 7 -->\n<g id=\"node8\" class=\"node\">\n<title>7</title>\n<path fill=\"#f6d3ba\" stroke=\"black\" d=\"M730,-53C730,-53 580,-53 580,-53 574,-53 568,-47 568,-41 568,-41 568,-12 568,-12 568,-6 574,0 580,0 580,0 730,0 730,0 736,0 742,-6 742,-12 742,-12 742,-41 742,-41 742,-47 736,-53 730,-53\"/>\n<text text-anchor=\"start\" x=\"576\" y=\"-37.8\" font-family=\"Helvetica,sans-Serif\" font-size=\"14.00\">squared_error = 0.497</text>\n<text text-anchor=\"start\" x=\"606.5\" y=\"-22.8\" font-family=\"Helvetica,sans-Serif\" font-size=\"14.00\">samples = 24</text>\n<text text-anchor=\"start\" x=\"600.5\" y=\"-7.8\" font-family=\"Helvetica,sans-Serif\" font-size=\"14.00\">value = 42.475</text>\n</g>\n<!-- 5&#45;&gt;7 -->\n<g id=\"edge7\" class=\"edge\">\n<title>5&#45;&gt;7</title>\n<path fill=\"none\" stroke=\"black\" d=\"M593.88,-88.95C603.07,-79.71 613.05,-69.67 622.24,-60.44\"/>\n<polygon fill=\"black\" stroke=\"black\" points=\"624.83,-62.79 629.4,-53.24 619.87,-57.86 624.83,-62.79\"/>\n</g>\n<!-- 9 -->\n<g id=\"node10\" class=\"node\">\n<title>9</title>\n<path fill=\"#f1bc95\" stroke=\"black\" d=\"M1009,-157C1009,-157 859,-157 859,-157 853,-157 847,-151 847,-145 847,-145 847,-101 847,-101 847,-95 853,-89 859,-89 859,-89 1009,-89 1009,-89 1015,-89 1021,-95 1021,-101 1021,-101 1021,-145 1021,-145 1021,-151 1015,-157 1009,-157\"/>\n<text text-anchor=\"start\" x=\"855\" y=\"-141.8\" font-family=\"Helvetica,sans-Serif\" font-size=\"14.00\">bill_length_mm ≤ 46.3</text>\n<text text-anchor=\"start\" x=\"855\" y=\"-126.8\" font-family=\"Helvetica,sans-Serif\" font-size=\"14.00\">squared_error = 1.479</text>\n<text text-anchor=\"start\" x=\"885.5\" y=\"-111.8\" font-family=\"Helvetica,sans-Serif\" font-size=\"14.00\">samples = 62</text>\n<text text-anchor=\"start\" x=\"879.5\" y=\"-96.8\" font-family=\"Helvetica,sans-Serif\" font-size=\"14.00\">value = 46.371</text>\n</g>\n<!-- 8&#45;&gt;9 -->\n<g id=\"edge9\" class=\"edge\">\n<title>8&#45;&gt;9</title>\n<path fill=\"none\" stroke=\"black\" d=\"M934,-192.88C934,-184.78 934,-175.98 934,-167.47\"/>\n<polygon fill=\"black\" stroke=\"black\" points=\"937.5,-167.3 934,-157.3 930.5,-167.3 937.5,-167.3\"/>\n</g>\n<!-- 12 -->\n<g id=\"node13\" class=\"node\">\n<title>12</title>\n<path fill=\"#eba06a\" stroke=\"black\" d=\"M1302.5,-157C1302.5,-157 1143.5,-157 1143.5,-157 1137.5,-157 1131.5,-151 1131.5,-145 1131.5,-145 1131.5,-101 1131.5,-101 1131.5,-95 1137.5,-89 1143.5,-89 1143.5,-89 1302.5,-89 1302.5,-89 1308.5,-89 1314.5,-95 1314.5,-101 1314.5,-101 1314.5,-145 1314.5,-145 1314.5,-151 1308.5,-157 1302.5,-157\"/>\n<text text-anchor=\"start\" x=\"1139.5\" y=\"-141.8\" font-family=\"Helvetica,sans-Serif\" font-size=\"14.00\">bill_length_mm ≤ 53.15</text>\n<text text-anchor=\"start\" x=\"1144\" y=\"-126.8\" font-family=\"Helvetica,sans-Serif\" font-size=\"14.00\">squared_error = 4.032</text>\n<text text-anchor=\"start\" x=\"1174.5\" y=\"-111.8\" font-family=\"Helvetica,sans-Serif\" font-size=\"14.00\">samples = 60</text>\n<text text-anchor=\"start\" x=\"1168.5\" y=\"-96.8\" font-family=\"Helvetica,sans-Serif\" font-size=\"14.00\">value = 50.903</text>\n</g>\n<!-- 8&#45;&gt;12 -->\n<g id=\"edge12\" class=\"edge\">\n<title>8&#45;&gt;12</title>\n<path fill=\"none\" stroke=\"black\" d=\"M1021.1,-195.26C1052.79,-184.07 1088.88,-171.34 1121.7,-159.75\"/>\n<polygon fill=\"black\" stroke=\"black\" points=\"1123.05,-162.99 1131.31,-156.36 1120.72,-156.39 1123.05,-162.99\"/>\n</g>\n<!-- 10 -->\n<g id=\"node11\" class=\"node\">\n<title>10</title>\n<path fill=\"#f2c2a0\" stroke=\"black\" d=\"M913.5,-53C913.5,-53 772.5,-53 772.5,-53 766.5,-53 760.5,-47 760.5,-41 760.5,-41 760.5,-12 760.5,-12 760.5,-6 766.5,0 772.5,0 772.5,0 913.5,0 913.5,0 919.5,0 925.5,-6 925.5,-12 925.5,-12 925.5,-41 925.5,-41 925.5,-47 919.5,-53 913.5,-53\"/>\n<text text-anchor=\"start\" x=\"768.5\" y=\"-37.8\" font-family=\"Helvetica,sans-Serif\" font-size=\"14.00\">squared_error = 0.34</text>\n<text text-anchor=\"start\" x=\"794.5\" y=\"-22.8\" font-family=\"Helvetica,sans-Serif\" font-size=\"14.00\">samples = 29</text>\n<text text-anchor=\"start\" x=\"788.5\" y=\"-7.8\" font-family=\"Helvetica,sans-Serif\" font-size=\"14.00\">value = 45.297</text>\n</g>\n<!-- 9&#45;&gt;10 -->\n<g id=\"edge10\" class=\"edge\">\n<title>9&#45;&gt;10</title>\n<path fill=\"none\" stroke=\"black\" d=\"M902.17,-88.95C893.36,-79.8 883.8,-69.87 874.98,-60.71\"/>\n<polygon fill=\"black\" stroke=\"black\" points=\"877.24,-58.01 867.78,-53.24 872.2,-62.87 877.24,-58.01\"/>\n</g>\n<!-- 11 -->\n<g id=\"node12\" class=\"node\">\n<title>11</title>\n<path fill=\"#f0b68c\" stroke=\"black\" d=\"M1106,-53C1106,-53 956,-53 956,-53 950,-53 944,-47 944,-41 944,-41 944,-12 944,-12 944,-6 950,0 956,0 956,0 1106,0 1106,0 1112,0 1118,-6 1118,-12 1118,-12 1118,-41 1118,-41 1118,-47 1112,-53 1106,-53\"/>\n<text text-anchor=\"start\" x=\"952\" y=\"-37.8\" font-family=\"Helvetica,sans-Serif\" font-size=\"14.00\">squared_error = 0.575</text>\n<text text-anchor=\"start\" x=\"982.5\" y=\"-22.8\" font-family=\"Helvetica,sans-Serif\" font-size=\"14.00\">samples = 33</text>\n<text text-anchor=\"start\" x=\"976.5\" y=\"-7.8\" font-family=\"Helvetica,sans-Serif\" font-size=\"14.00\">value = 47.315</text>\n</g>\n<!-- 9&#45;&gt;11 -->\n<g id=\"edge11\" class=\"edge\">\n<title>9&#45;&gt;11</title>\n<path fill=\"none\" stroke=\"black\" d=\"M967.93,-88.95C977.41,-79.71 987.71,-69.67 997.19,-60.44\"/>\n<polygon fill=\"black\" stroke=\"black\" points=\"999.86,-62.72 1004.58,-53.24 994.98,-57.71 999.86,-62.72\"/>\n</g>\n<!-- 13 -->\n<g id=\"node14\" class=\"node\">\n<title>13</title>\n<path fill=\"#eca36f\" stroke=\"black\" d=\"M1298,-53C1298,-53 1148,-53 1148,-53 1142,-53 1136,-47 1136,-41 1136,-41 1136,-12 1136,-12 1136,-6 1142,0 1148,0 1148,0 1298,0 1298,0 1304,0 1310,-6 1310,-12 1310,-12 1310,-41 1310,-41 1310,-47 1304,-53 1298,-53\"/>\n<text text-anchor=\"start\" x=\"1144\" y=\"-37.8\" font-family=\"Helvetica,sans-Serif\" font-size=\"14.00\">squared_error = 1.246</text>\n<text text-anchor=\"start\" x=\"1174.5\" y=\"-22.8\" font-family=\"Helvetica,sans-Serif\" font-size=\"14.00\">samples = 55</text>\n<text text-anchor=\"start\" x=\"1168.5\" y=\"-7.8\" font-family=\"Helvetica,sans-Serif\" font-size=\"14.00\">value = 50.433</text>\n</g>\n<!-- 12&#45;&gt;13 -->\n<g id=\"edge13\" class=\"edge\">\n<title>12&#45;&gt;13</title>\n<path fill=\"none\" stroke=\"black\" d=\"M1223,-88.95C1223,-80.72 1223,-71.85 1223,-63.48\"/>\n<polygon fill=\"black\" stroke=\"black\" points=\"1226.5,-63.24 1223,-53.24 1219.5,-63.24 1226.5,-63.24\"/>\n</g>\n<!-- 14 -->\n<g id=\"node15\" class=\"node\">\n<title>14</title>\n<path fill=\"#e58139\" stroke=\"black\" d=\"M1490,-53C1490,-53 1340,-53 1340,-53 1334,-53 1328,-47 1328,-41 1328,-41 1328,-12 1328,-12 1328,-6 1334,0 1340,0 1340,0 1490,0 1490,0 1496,0 1502,-6 1502,-12 1502,-12 1502,-41 1502,-41 1502,-47 1496,-53 1490,-53\"/>\n<text text-anchor=\"start\" x=\"1336\" y=\"-37.8\" font-family=\"Helvetica,sans-Serif\" font-size=\"14.00\">squared_error = 5.446</text>\n<text text-anchor=\"start\" x=\"1371\" y=\"-22.8\" font-family=\"Helvetica,sans-Serif\" font-size=\"14.00\">samples = 5</text>\n<text text-anchor=\"start\" x=\"1365\" y=\"-7.8\" font-family=\"Helvetica,sans-Serif\" font-size=\"14.00\">value = 56.08</text>\n</g>\n<!-- 12&#45;&gt;14 -->\n<g id=\"edge14\" class=\"edge\">\n<title>12&#45;&gt;14</title>\n<path fill=\"none\" stroke=\"black\" d=\"M1290.15,-88.95C1310.88,-78.75 1333.58,-67.57 1353.87,-57.59\"/>\n<polygon fill=\"black\" stroke=\"black\" points=\"1355.59,-60.64 1363.01,-53.09 1352.5,-54.36 1355.59,-60.64\"/>\n</g>\n</g>\n</svg>\n",
      "text/plain": [
       "<graphviz.files.Source at 0x7f1443da96a0>"
      ]
     },
     "execution_count": 20,
     "metadata": {},
     "output_type": "execute_result"
    }
   ],
   "source": [
    "plot_tree_regression(dt_regression, features)"
   ]
  }
 ],
 "metadata": {
  "interpreter": {
   "hash": "d4d1e4263499bec80672ea0156c357c1ee493ec2b1c70f0acce89fc37c4a6abe"
  },
  "kernelspec": {
   "display_name": "Python 3.9.10 ('base')",
   "language": "python",
   "name": "python3"
  },
  "language_info": {
   "codemirror_mode": {
    "name": "ipython",
    "version": 3
   },
   "file_extension": ".py",
   "mimetype": "text/x-python",
   "name": "python",
   "nbconvert_exporter": "python",
   "pygments_lexer": "ipython3",
   "version": "3.9.10"
  },
  "orig_nbformat": 4
 },
 "nbformat": 4,
 "nbformat_minor": 2
}
