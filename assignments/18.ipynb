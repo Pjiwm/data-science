{
 "cells": [
  {
   "cell_type": "code",
   "execution_count": 23,
   "metadata": {},
   "outputs": [],
   "source": [
    "import pandas as pd\n",
    "import seaborn as sns\n"
   ]
  },
  {
   "cell_type": "code",
   "execution_count": 24,
   "metadata": {},
   "outputs": [],
   "source": [
    "hostels = pd.read_csv('../data/hostel.csv')\n",
    "penguins = sns.load_dataset(\"penguins\")\n",
    "hostels = hostels.dropna()"
   ]
  },
  {
   "cell_type": "markdown",
   "metadata": {},
   "source": [
    "## Portfolio assignment 18\n",
    "30 min: Train a decision tree to predict one of the numerical columns of your own dataset.\n",
    "- Split your dataset into a train (70%) and test (30%) set.\n",
    "- Use the train set to fit a DecisionTreeRegressor. You are free to to choose which columns you want to use as feature variables and you are also free to choose the max_depth of the tree. \n",
    "- Use your decision tree model to make predictions for both the train and test set.\n",
    "- Calculate the accuracy for both the train set predictions and test set predictions.\n",
    "- Is the accurracy different? Did you expect this difference?\n",
    "- Use the plot_tree function above to create a plot of the decision tree. Take a few minutes to analyse the decision tree. Do you understand the tree?\n",
    "    \n",
    "![](https://i.imgur.com/0v1CGNV.png)"
   ]
  },
  {
   "cell_type": "code",
   "execution_count": 25,
   "metadata": {},
   "outputs": [],
   "source": [
    "from sklearn.tree import DecisionTreeRegressor\n",
    "from sklearn.model_selection import train_test_split\n"
   ]
  },
  {
   "cell_type": "code",
   "execution_count": 26,
   "metadata": {},
   "outputs": [],
   "source": [
    "from sklearn import tree\n",
    "import graphviz"
   ]
  },
  {
   "cell_type": "code",
   "execution_count": 27,
   "metadata": {},
   "outputs": [],
   "source": [
    "def calculate_rmse(predictions, actuals):\n",
    "    if(len(predictions) != len(actuals)):\n",
    "        raise Exception(\"The amount of predictions did not equal the amount of actuals\")\n",
    "    \n",
    "    return (((predictions - actuals) ** 2).sum() / len(actuals)) ** (1/2)"
   ]
  },
  {
   "cell_type": "code",
   "execution_count": 28,
   "metadata": {},
   "outputs": [],
   "source": [
    "\n",
    "def plot_tree_regression(model, features):\n",
    "    # Generate plot data\n",
    "    dot_data = tree.export_graphviz(model, out_file=None, \n",
    "                          feature_names=features,  \n",
    "                          filled=True, rounded=True,  \n",
    "                          special_characters=True)  \n",
    "\n",
    "    # Turn into graph using graphviz\n",
    "    graph = graphviz.Source(dot_data)  \n",
    "\n",
    "    # Write out a pdf\n",
    "    graph.render(\"decision_tree\")\n",
    "\n",
    "    # Display in the notebook\n",
    "    return graph "
   ]
  },
  {
   "cell_type": "code",
   "execution_count": 29,
   "metadata": {},
   "outputs": [
    {
     "data": {
      "text/html": [
       "<div>\n",
       "<style scoped>\n",
       "    .dataframe tbody tr th:only-of-type {\n",
       "        vertical-align: middle;\n",
       "    }\n",
       "\n",
       "    .dataframe tbody tr th {\n",
       "        vertical-align: top;\n",
       "    }\n",
       "\n",
       "    .dataframe thead th {\n",
       "        text-align: right;\n",
       "    }\n",
       "</style>\n",
       "<table border=\"1\" class=\"dataframe\">\n",
       "  <thead>\n",
       "    <tr style=\"text-align: right;\">\n",
       "      <th></th>\n",
       "      <th>Unnamed: 0</th>\n",
       "      <th>hostel.name</th>\n",
       "      <th>City</th>\n",
       "      <th>price.from</th>\n",
       "      <th>Distance</th>\n",
       "      <th>summary.score</th>\n",
       "      <th>rating.band</th>\n",
       "      <th>atmosphere</th>\n",
       "      <th>cleanliness</th>\n",
       "      <th>facilities</th>\n",
       "      <th>location.y</th>\n",
       "      <th>security</th>\n",
       "      <th>staff</th>\n",
       "      <th>valueformoney</th>\n",
       "      <th>lon</th>\n",
       "      <th>lat</th>\n",
       "    </tr>\n",
       "  </thead>\n",
       "  <tbody>\n",
       "    <tr>\n",
       "      <th>0</th>\n",
       "      <td>1</td>\n",
       "      <td>\"Bike &amp; Bed\" CharinCo Hostel</td>\n",
       "      <td>Osaka</td>\n",
       "      <td>3300</td>\n",
       "      <td>2.9km from city centre</td>\n",
       "      <td>9.2</td>\n",
       "      <td>Superb</td>\n",
       "      <td>8.9</td>\n",
       "      <td>9.4</td>\n",
       "      <td>9.3</td>\n",
       "      <td>8.9</td>\n",
       "      <td>9.0</td>\n",
       "      <td>9.4</td>\n",
       "      <td>9.4</td>\n",
       "      <td>135.513767</td>\n",
       "      <td>34.682678</td>\n",
       "    </tr>\n",
       "    <tr>\n",
       "      <th>2</th>\n",
       "      <td>3</td>\n",
       "      <td>&amp;And Hostel Akihabara</td>\n",
       "      <td>Tokyo</td>\n",
       "      <td>3600</td>\n",
       "      <td>7.8km from city centre</td>\n",
       "      <td>8.7</td>\n",
       "      <td>Fabulous</td>\n",
       "      <td>8.0</td>\n",
       "      <td>7.0</td>\n",
       "      <td>9.0</td>\n",
       "      <td>8.0</td>\n",
       "      <td>10.0</td>\n",
       "      <td>10.0</td>\n",
       "      <td>9.0</td>\n",
       "      <td>139.777472</td>\n",
       "      <td>35.697447</td>\n",
       "    </tr>\n",
       "    <tr>\n",
       "      <th>3</th>\n",
       "      <td>4</td>\n",
       "      <td>&amp;And Hostel Ueno</td>\n",
       "      <td>Tokyo</td>\n",
       "      <td>2600</td>\n",
       "      <td>8.7km from city centre</td>\n",
       "      <td>7.4</td>\n",
       "      <td>Very Good</td>\n",
       "      <td>8.0</td>\n",
       "      <td>7.5</td>\n",
       "      <td>7.5</td>\n",
       "      <td>7.5</td>\n",
       "      <td>7.0</td>\n",
       "      <td>8.0</td>\n",
       "      <td>6.5</td>\n",
       "      <td>139.783667</td>\n",
       "      <td>35.712716</td>\n",
       "    </tr>\n",
       "  </tbody>\n",
       "</table>\n",
       "</div>"
      ],
      "text/plain": [
       "   Unnamed: 0                   hostel.name   City  price.from  \\\n",
       "0           1  \"Bike & Bed\" CharinCo Hostel  Osaka        3300   \n",
       "2           3         &And Hostel Akihabara  Tokyo        3600   \n",
       "3           4              &And Hostel Ueno  Tokyo        2600   \n",
       "\n",
       "                 Distance  summary.score rating.band  atmosphere  cleanliness  \\\n",
       "0  2.9km from city centre            9.2      Superb         8.9          9.4   \n",
       "2  7.8km from city centre            8.7    Fabulous         8.0          7.0   \n",
       "3  8.7km from city centre            7.4   Very Good         8.0          7.5   \n",
       "\n",
       "   facilities  location.y  security  staff  valueformoney         lon  \\\n",
       "0         9.3         8.9       9.0    9.4            9.4  135.513767   \n",
       "2         9.0         8.0      10.0   10.0            9.0  139.777472   \n",
       "3         7.5         7.5       7.0    8.0            6.5  139.783667   \n",
       "\n",
       "         lat  \n",
       "0  34.682678  \n",
       "2  35.697447  \n",
       "3  35.712716  "
      ]
     },
     "execution_count": 29,
     "metadata": {},
     "output_type": "execute_result"
    }
   ],
   "source": [
    "hostels.head(3)"
   ]
  },
  {
   "cell_type": "code",
   "execution_count": 30,
   "metadata": {},
   "outputs": [
    {
     "name": "stdout",
     "output_type": "stream",
     "text": [
      "(208, 16) (298, 16)\n"
     ]
    }
   ],
   "source": [
    "hostels_train, hostels_test = train_test_split(hostels, test_size=0.3, stratify=hostels['City'], random_state=5)\n",
    "print(hostels_train.shape, hostels.shape)\n"
   ]
  },
  {
   "cell_type": "code",
   "execution_count": 31,
   "metadata": {},
   "outputs": [
    {
     "data": {
      "text/plain": [
       "DecisionTreeRegressor(max_depth=2)"
      ]
     },
     "execution_count": 31,
     "metadata": {},
     "output_type": "execute_result"
    }
   ],
   "source": [
    "features= ['atmosphere']\n",
    "dt_regression = DecisionTreeRegressor(max_depth = 2) # Increase max_depth to see effect in the plot\n",
    "dt_regression.fit(hostels_train[features], hostels_train[features])"
   ]
  },
  {
   "cell_type": "code",
   "execution_count": 32,
   "metadata": {},
   "outputs": [
    {
     "name": "stdout",
     "output_type": "stream",
     "text": [
      "RMSE on training set 0.4391718635273142\n",
      "RMSE on test set 0.4301713550943852\n"
     ]
    }
   ],
   "source": [
    "predictionsOnTrainset = dt_regression.predict(hostels_train[features])\n",
    "predictionsOnTestset = dt_regression.predict(hostels_test[features])\n",
    "\n",
    "rmseTrain = calculate_rmse(predictionsOnTrainset, hostels_train.atmosphere)\n",
    "rmseTest = calculate_rmse(predictionsOnTestset, hostels_test.atmosphere)\n",
    "\n",
    "print(\"RMSE on training set \" + str(rmseTrain))\n",
    "print(\"RMSE on test set \" + str(rmseTest))"
   ]
  },
  {
   "cell_type": "markdown",
   "metadata": {},
   "source": [
    "The dataset isn't too big, adding too much depth will make both values immensly small. The test value is slightly lower than the training set value with a depth of 2. Applying too many features seemed to lower the accarucy a lot as well."
   ]
  },
  {
   "cell_type": "code",
   "execution_count": 33,
   "metadata": {},
   "outputs": [
    {
     "data": {
      "image/svg+xml": "<?xml version=\"1.0\" encoding=\"UTF-8\" standalone=\"no\"?>\n<!DOCTYPE svg PUBLIC \"-//W3C//DTD SVG 1.1//EN\"\n \"http://www.w3.org/Graphics/SVG/1.1/DTD/svg11.dtd\">\n<!-- Generated by graphviz version 2.50.0 (20220117.2223)\n -->\n<!-- Title: Tree Pages: 1 -->\n<svg width=\"750pt\" height=\"269pt\"\n viewBox=\"0.00 0.00 749.50 269.00\" xmlns=\"http://www.w3.org/2000/svg\" xmlns:xlink=\"http://www.w3.org/1999/xlink\">\n<g id=\"graph0\" class=\"graph\" transform=\"scale(1 1) rotate(0) translate(4 265)\">\n<title>Tree</title>\n<polygon fill=\"white\" stroke=\"transparent\" points=\"-4,4 -4,-265 745.5,-265 745.5,4 -4,4\"/>\n<!-- 0 -->\n<g id=\"node1\" class=\"node\">\n<title>0</title>\n<path fill=\"#e99355\" stroke=\"black\" d=\"M441.5,-261C441.5,-261 291.5,-261 291.5,-261 285.5,-261 279.5,-255 279.5,-249 279.5,-249 279.5,-205 279.5,-205 279.5,-199 285.5,-193 291.5,-193 291.5,-193 441.5,-193 441.5,-193 447.5,-193 453.5,-199 453.5,-205 453.5,-205 453.5,-249 453.5,-249 453.5,-255 447.5,-261 441.5,-261\"/>\n<text text-anchor=\"start\" x=\"298.5\" y=\"-245.8\" font-family=\"Helvetica,sans-Serif\" font-size=\"14.00\">atmosphere ≤ 7.25</text>\n<text text-anchor=\"start\" x=\"287.5\" y=\"-230.8\" font-family=\"Helvetica,sans-Serif\" font-size=\"14.00\">squared_error = 1.751</text>\n<text text-anchor=\"start\" x=\"313.5\" y=\"-215.8\" font-family=\"Helvetica,sans-Serif\" font-size=\"14.00\">samples = 208</text>\n<text text-anchor=\"start\" x=\"325.5\" y=\"-200.8\" font-family=\"Helvetica,sans-Serif\" font-size=\"14.00\">value = 8.3</text>\n</g>\n<!-- 1 -->\n<g id=\"node2\" class=\"node\">\n<title>1</title>\n<path fill=\"#f3c4a3\" stroke=\"black\" d=\"M345.5,-157C345.5,-157 195.5,-157 195.5,-157 189.5,-157 183.5,-151 183.5,-145 183.5,-145 183.5,-101 183.5,-101 183.5,-95 189.5,-89 195.5,-89 195.5,-89 345.5,-89 345.5,-89 351.5,-89 357.5,-95 357.5,-101 357.5,-101 357.5,-145 357.5,-145 357.5,-151 351.5,-157 345.5,-157\"/>\n<text text-anchor=\"start\" x=\"202.5\" y=\"-141.8\" font-family=\"Helvetica,sans-Serif\" font-size=\"14.00\">atmosphere ≤ 4.65</text>\n<text text-anchor=\"start\" x=\"191.5\" y=\"-126.8\" font-family=\"Helvetica,sans-Serif\" font-size=\"14.00\">squared_error = 2.295</text>\n<text text-anchor=\"start\" x=\"222\" y=\"-111.8\" font-family=\"Helvetica,sans-Serif\" font-size=\"14.00\">samples = 29</text>\n<text text-anchor=\"start\" x=\"220.5\" y=\"-96.8\" font-family=\"Helvetica,sans-Serif\" font-size=\"14.00\">value = 5.783</text>\n</g>\n<!-- 0&#45;&gt;1 -->\n<g id=\"edge1\" class=\"edge\">\n<title>0&#45;&gt;1</title>\n<path fill=\"none\" stroke=\"black\" d=\"M335.33,-192.88C326.86,-183.89 317.6,-174.04 308.79,-164.68\"/>\n<polygon fill=\"black\" stroke=\"black\" points=\"311.24,-162.18 301.84,-157.3 306.15,-166.98 311.24,-162.18\"/>\n<text text-anchor=\"middle\" x=\"301.08\" y=\"-178.59\" font-family=\"Helvetica,sans-Serif\" font-size=\"14.00\">True</text>\n</g>\n<!-- 4 -->\n<g id=\"node5\" class=\"node\">\n<title>4</title>\n<path fill=\"#e78b48\" stroke=\"black\" d=\"M533,-157C533,-157 392,-157 392,-157 386,-157 380,-151 380,-145 380,-145 380,-101 380,-101 380,-95 386,-89 392,-89 392,-89 533,-89 533,-89 539,-89 545,-95 545,-101 545,-101 545,-145 545,-145 545,-151 539,-157 533,-157\"/>\n<text text-anchor=\"start\" x=\"394.5\" y=\"-141.8\" font-family=\"Helvetica,sans-Serif\" font-size=\"14.00\">atmosphere ≤ 8.65</text>\n<text text-anchor=\"start\" x=\"388\" y=\"-126.8\" font-family=\"Helvetica,sans-Serif\" font-size=\"14.00\">squared_error = 0.47</text>\n<text text-anchor=\"start\" x=\"409.5\" y=\"-111.8\" font-family=\"Helvetica,sans-Serif\" font-size=\"14.00\">samples = 179</text>\n<text text-anchor=\"start\" x=\"412.5\" y=\"-96.8\" font-family=\"Helvetica,sans-Serif\" font-size=\"14.00\">value = 8.707</text>\n</g>\n<!-- 0&#45;&gt;4 -->\n<g id=\"edge4\" class=\"edge\">\n<title>0&#45;&gt;4</title>\n<path fill=\"none\" stroke=\"black\" d=\"M397.67,-192.88C406.14,-183.89 415.4,-174.04 424.21,-164.68\"/>\n<polygon fill=\"black\" stroke=\"black\" points=\"426.85,-166.98 431.16,-157.3 421.76,-162.18 426.85,-166.98\"/>\n<text text-anchor=\"middle\" x=\"431.92\" y=\"-178.59\" font-family=\"Helvetica,sans-Serif\" font-size=\"14.00\">False</text>\n</g>\n<!-- 2 -->\n<g id=\"node3\" class=\"node\">\n<title>2</title>\n<path fill=\"#ffffff\" stroke=\"black\" d=\"M153,-53C153,-53 12,-53 12,-53 6,-53 0,-47 0,-41 0,-41 0,-12 0,-12 0,-6 6,0 12,0 12,0 153,0 153,0 159,0 165,-6 165,-12 165,-12 165,-41 165,-41 165,-47 159,-53 153,-53\"/>\n<text text-anchor=\"start\" x=\"8\" y=\"-37.8\" font-family=\"Helvetica,sans-Serif\" font-size=\"14.00\">squared_error = 0.96</text>\n<text text-anchor=\"start\" x=\"38.5\" y=\"-22.8\" font-family=\"Helvetica,sans-Serif\" font-size=\"14.00\">samples = 5</text>\n<text text-anchor=\"start\" x=\"41.5\" y=\"-7.8\" font-family=\"Helvetica,sans-Serif\" font-size=\"14.00\">value = 2.8</text>\n</g>\n<!-- 1&#45;&gt;2 -->\n<g id=\"edge2\" class=\"edge\">\n<title>1&#45;&gt;2</title>\n<path fill=\"none\" stroke=\"black\" d=\"M204.75,-88.95C184.45,-78.75 162.22,-67.57 142.35,-57.59\"/>\n<polygon fill=\"black\" stroke=\"black\" points=\"143.91,-54.45 133.4,-53.09 140.77,-60.71 143.91,-54.45\"/>\n</g>\n<!-- 3 -->\n<g id=\"node4\" class=\"node\">\n<title>3</title>\n<path fill=\"#f0b890\" stroke=\"black\" d=\"M345.5,-53C345.5,-53 195.5,-53 195.5,-53 189.5,-53 183.5,-47 183.5,-41 183.5,-41 183.5,-12 183.5,-12 183.5,-6 189.5,0 195.5,0 195.5,0 345.5,0 345.5,0 351.5,0 357.5,-6 357.5,-12 357.5,-12 357.5,-41 357.5,-41 357.5,-47 351.5,-53 345.5,-53\"/>\n<text text-anchor=\"start\" x=\"191.5\" y=\"-37.8\" font-family=\"Helvetica,sans-Serif\" font-size=\"14.00\">squared_error = 0.333</text>\n<text text-anchor=\"start\" x=\"222\" y=\"-22.8\" font-family=\"Helvetica,sans-Serif\" font-size=\"14.00\">samples = 24</text>\n<text text-anchor=\"start\" x=\"220.5\" y=\"-7.8\" font-family=\"Helvetica,sans-Serif\" font-size=\"14.00\">value = 6.404</text>\n</g>\n<!-- 1&#45;&gt;3 -->\n<g id=\"edge3\" class=\"edge\">\n<title>1&#45;&gt;3</title>\n<path fill=\"none\" stroke=\"black\" d=\"M270.5,-88.95C270.5,-80.72 270.5,-71.85 270.5,-63.48\"/>\n<polygon fill=\"black\" stroke=\"black\" points=\"274,-63.24 270.5,-53.24 267,-63.24 274,-63.24\"/>\n</g>\n<!-- 5 -->\n<g id=\"node6\" class=\"node\">\n<title>5</title>\n<path fill=\"#ea975c\" stroke=\"black\" d=\"M537.5,-53C537.5,-53 387.5,-53 387.5,-53 381.5,-53 375.5,-47 375.5,-41 375.5,-41 375.5,-12 375.5,-12 375.5,-6 381.5,0 387.5,0 387.5,0 537.5,0 537.5,0 543.5,0 549.5,-6 549.5,-12 549.5,-12 549.5,-41 549.5,-41 549.5,-47 543.5,-53 537.5,-53\"/>\n<text text-anchor=\"start\" x=\"383.5\" y=\"-37.8\" font-family=\"Helvetica,sans-Serif\" font-size=\"14.00\">squared_error = 0.124</text>\n<text text-anchor=\"start\" x=\"414\" y=\"-22.8\" font-family=\"Helvetica,sans-Serif\" font-size=\"14.00\">samples = 79</text>\n<text text-anchor=\"start\" x=\"412.5\" y=\"-7.8\" font-family=\"Helvetica,sans-Serif\" font-size=\"14.00\">value = 8.073</text>\n</g>\n<!-- 4&#45;&gt;5 -->\n<g id=\"edge5\" class=\"edge\">\n<title>4&#45;&gt;5</title>\n<path fill=\"none\" stroke=\"black\" d=\"M462.5,-88.95C462.5,-80.72 462.5,-71.85 462.5,-63.48\"/>\n<polygon fill=\"black\" stroke=\"black\" points=\"466,-63.24 462.5,-53.24 459,-63.24 466,-63.24\"/>\n</g>\n<!-- 6 -->\n<g id=\"node7\" class=\"node\">\n<title>6</title>\n<path fill=\"#e58139\" stroke=\"black\" d=\"M729.5,-53C729.5,-53 579.5,-53 579.5,-53 573.5,-53 567.5,-47 567.5,-41 567.5,-41 567.5,-12 567.5,-12 567.5,-6 573.5,0 579.5,0 579.5,0 729.5,0 729.5,0 735.5,0 741.5,-6 741.5,-12 741.5,-12 741.5,-41 741.5,-41 741.5,-47 735.5,-53 729.5,-53\"/>\n<text text-anchor=\"start\" x=\"575.5\" y=\"-37.8\" font-family=\"Helvetica,sans-Serif\" font-size=\"14.00\">squared_error = 0.175</text>\n<text text-anchor=\"start\" x=\"601.5\" y=\"-22.8\" font-family=\"Helvetica,sans-Serif\" font-size=\"14.00\">samples = 100</text>\n<text text-anchor=\"start\" x=\"604.5\" y=\"-7.8\" font-family=\"Helvetica,sans-Serif\" font-size=\"14.00\">value = 9.208</text>\n</g>\n<!-- 4&#45;&gt;6 -->\n<g id=\"edge6\" class=\"edge\">\n<title>4&#45;&gt;6</title>\n<path fill=\"none\" stroke=\"black\" d=\"M529.65,-88.95C550.38,-78.75 573.08,-67.57 593.37,-57.59\"/>\n<polygon fill=\"black\" stroke=\"black\" points=\"595.09,-60.64 602.51,-53.09 592,-54.36 595.09,-60.64\"/>\n</g>\n</g>\n</svg>\n",
      "text/plain": [
       "<graphviz.files.Source at 0x7fc84cde8370>"
      ]
     },
     "execution_count": 33,
     "metadata": {},
     "output_type": "execute_result"
    }
   ],
   "source": [
    "plot_tree_regression(dt_regression, features)"
   ]
  },
  {
   "cell_type": "markdown",
   "metadata": {},
   "source": [
    "TODO explain regression tree"
   ]
  }
 ],
 "metadata": {
  "interpreter": {
   "hash": "d4d1e4263499bec80672ea0156c357c1ee493ec2b1c70f0acce89fc37c4a6abe"
  },
  "kernelspec": {
   "display_name": "Python 3.9.10 ('base')",
   "language": "python",
   "name": "python3"
  },
  "language_info": {
   "codemirror_mode": {
    "name": "ipython",
    "version": 3
   },
   "file_extension": ".py",
   "mimetype": "text/x-python",
   "name": "python",
   "nbconvert_exporter": "python",
   "pygments_lexer": "ipython3",
   "version": "3.9.10"
  },
  "orig_nbformat": 4
 },
 "nbformat": 4,
 "nbformat_minor": 2
}
