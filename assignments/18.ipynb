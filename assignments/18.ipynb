{
 "cells": [
  {
   "cell_type": "code",
   "execution_count": 79,
   "metadata": {},
   "outputs": [],
   "source": [
    "import pandas as pd\n",
    "import seaborn as sns\n"
   ]
  },
  {
   "cell_type": "code",
   "execution_count": 80,
   "metadata": {},
   "outputs": [],
   "source": [
    "hostels = pd.read_csv('../data/hostel.csv')\n",
    "penguins = sns.load_dataset(\"penguins\")\n",
    "hostels = hostels.dropna()"
   ]
  },
  {
   "cell_type": "markdown",
   "metadata": {},
   "source": [
    "## Portfolio assignment 18\n",
    "30 min: Train a decision tree to predict one of the numerical columns of your own dataset.\n",
    "- Split your dataset into a train (70%) and test (30%) set.\n",
    "- Use the train set to fit a DecisionTreeRegressor. You are free to to choose which columns you want to use as feature variables and you are also free to choose the max_depth of the tree. \n",
    "- Use your decision tree model to make predictions for both the train and test set.\n",
    "- Calculate the accuracy for both the train set predictions and test set predictions.\n",
    "- Is the accurracy different? Did you expect this difference?\n",
    "- Use the plot_tree function above to create a plot of the decision tree. Take a few minutes to analyse the decision tree. Do you understand the tree?\n",
    "    \n",
    "![](https://i.imgur.com/0v1CGNV.png)"
   ]
  },
  {
   "cell_type": "code",
   "execution_count": 81,
   "metadata": {},
   "outputs": [],
   "source": [
    "from sklearn.tree import DecisionTreeRegressor\n",
    "from sklearn.model_selection import train_test_split\n"
   ]
  },
  {
   "cell_type": "code",
   "execution_count": 82,
   "metadata": {},
   "outputs": [],
   "source": [
    "from sklearn import tree\n",
    "import graphviz"
   ]
  },
  {
   "cell_type": "code",
   "execution_count": 83,
   "metadata": {},
   "outputs": [],
   "source": [
    "def calculate_rmse(predictions, actuals):\n",
    "    if(len(predictions) != len(actuals)):\n",
    "        raise Exception(\"The amount of predictions did not equal the amount of actuals\")\n",
    "    \n",
    "    return (((predictions - actuals) ** 2).sum() / len(actuals)) ** (1/2)"
   ]
  },
  {
   "cell_type": "code",
   "execution_count": 84,
   "metadata": {},
   "outputs": [],
   "source": [
    "\n",
    "def plot_tree_regression(model, features):\n",
    "    # Generate plot data\n",
    "    dot_data = tree.export_graphviz(model, out_file=None, \n",
    "                          feature_names=features,  \n",
    "                          filled=True, rounded=True,  \n",
    "                          special_characters=True)  \n",
    "\n",
    "    # Turn into graph using graphviz\n",
    "    graph = graphviz.Source(dot_data)  \n",
    "\n",
    "    # Write out a pdf\n",
    "    graph.render(\"decision_tree\")\n",
    "\n",
    "    # Display in the notebook\n",
    "    return graph "
   ]
  },
  {
   "cell_type": "code",
   "execution_count": 85,
   "metadata": {},
   "outputs": [
    {
     "data": {
      "text/html": [
       "<div>\n",
       "<style scoped>\n",
       "    .dataframe tbody tr th:only-of-type {\n",
       "        vertical-align: middle;\n",
       "    }\n",
       "\n",
       "    .dataframe tbody tr th {\n",
       "        vertical-align: top;\n",
       "    }\n",
       "\n",
       "    .dataframe thead th {\n",
       "        text-align: right;\n",
       "    }\n",
       "</style>\n",
       "<table border=\"1\" class=\"dataframe\">\n",
       "  <thead>\n",
       "    <tr style=\"text-align: right;\">\n",
       "      <th></th>\n",
       "      <th>Unnamed: 0</th>\n",
       "      <th>hostel.name</th>\n",
       "      <th>City</th>\n",
       "      <th>price.from</th>\n",
       "      <th>Distance</th>\n",
       "      <th>summary.score</th>\n",
       "      <th>rating.band</th>\n",
       "      <th>atmosphere</th>\n",
       "      <th>cleanliness</th>\n",
       "      <th>facilities</th>\n",
       "      <th>location.y</th>\n",
       "      <th>security</th>\n",
       "      <th>staff</th>\n",
       "      <th>valueformoney</th>\n",
       "      <th>lon</th>\n",
       "      <th>lat</th>\n",
       "    </tr>\n",
       "  </thead>\n",
       "  <tbody>\n",
       "    <tr>\n",
       "      <th>0</th>\n",
       "      <td>1</td>\n",
       "      <td>\"Bike &amp; Bed\" CharinCo Hostel</td>\n",
       "      <td>Osaka</td>\n",
       "      <td>3300</td>\n",
       "      <td>2.9km from city centre</td>\n",
       "      <td>9.2</td>\n",
       "      <td>Superb</td>\n",
       "      <td>8.9</td>\n",
       "      <td>9.4</td>\n",
       "      <td>9.3</td>\n",
       "      <td>8.9</td>\n",
       "      <td>9.0</td>\n",
       "      <td>9.4</td>\n",
       "      <td>9.4</td>\n",
       "      <td>135.513767</td>\n",
       "      <td>34.682678</td>\n",
       "    </tr>\n",
       "    <tr>\n",
       "      <th>2</th>\n",
       "      <td>3</td>\n",
       "      <td>&amp;And Hostel Akihabara</td>\n",
       "      <td>Tokyo</td>\n",
       "      <td>3600</td>\n",
       "      <td>7.8km from city centre</td>\n",
       "      <td>8.7</td>\n",
       "      <td>Fabulous</td>\n",
       "      <td>8.0</td>\n",
       "      <td>7.0</td>\n",
       "      <td>9.0</td>\n",
       "      <td>8.0</td>\n",
       "      <td>10.0</td>\n",
       "      <td>10.0</td>\n",
       "      <td>9.0</td>\n",
       "      <td>139.777472</td>\n",
       "      <td>35.697447</td>\n",
       "    </tr>\n",
       "    <tr>\n",
       "      <th>3</th>\n",
       "      <td>4</td>\n",
       "      <td>&amp;And Hostel Ueno</td>\n",
       "      <td>Tokyo</td>\n",
       "      <td>2600</td>\n",
       "      <td>8.7km from city centre</td>\n",
       "      <td>7.4</td>\n",
       "      <td>Very Good</td>\n",
       "      <td>8.0</td>\n",
       "      <td>7.5</td>\n",
       "      <td>7.5</td>\n",
       "      <td>7.5</td>\n",
       "      <td>7.0</td>\n",
       "      <td>8.0</td>\n",
       "      <td>6.5</td>\n",
       "      <td>139.783667</td>\n",
       "      <td>35.712716</td>\n",
       "    </tr>\n",
       "  </tbody>\n",
       "</table>\n",
       "</div>"
      ],
      "text/plain": [
       "   Unnamed: 0                   hostel.name   City  price.from  \\\n",
       "0           1  \"Bike & Bed\" CharinCo Hostel  Osaka        3300   \n",
       "2           3         &And Hostel Akihabara  Tokyo        3600   \n",
       "3           4              &And Hostel Ueno  Tokyo        2600   \n",
       "\n",
       "                 Distance  summary.score rating.band  atmosphere  cleanliness  \\\n",
       "0  2.9km from city centre            9.2      Superb         8.9          9.4   \n",
       "2  7.8km from city centre            8.7    Fabulous         8.0          7.0   \n",
       "3  8.7km from city centre            7.4   Very Good         8.0          7.5   \n",
       "\n",
       "   facilities  location.y  security  staff  valueformoney         lon  \\\n",
       "0         9.3         8.9       9.0    9.4            9.4  135.513767   \n",
       "2         9.0         8.0      10.0   10.0            9.0  139.777472   \n",
       "3         7.5         7.5       7.0    8.0            6.5  139.783667   \n",
       "\n",
       "         lat  \n",
       "0  34.682678  \n",
       "2  35.697447  \n",
       "3  35.712716  "
      ]
     },
     "execution_count": 85,
     "metadata": {},
     "output_type": "execute_result"
    }
   ],
   "source": [
    "hostels.head(3)"
   ]
  },
  {
   "cell_type": "code",
   "execution_count": 86,
   "metadata": {},
   "outputs": [
    {
     "name": "stdout",
     "output_type": "stream",
     "text": [
      "(208, 16) (298, 16)\n"
     ]
    }
   ],
   "source": [
    "hostels_train, hostels_test = train_test_split(hostels, test_size=0.3, stratify=hostels['City'], random_state=5)\n",
    "print(hostels_train.shape, hostels.shape)\n"
   ]
  },
  {
   "cell_type": "code",
   "execution_count": 87,
   "metadata": {},
   "outputs": [
    {
     "data": {
      "text/plain": [
       "DecisionTreeRegressor(max_depth=3)"
      ]
     },
     "execution_count": 87,
     "metadata": {},
     "output_type": "execute_result"
    }
   ],
   "source": [
    "features= ['atmosphere']\n",
    "dt_regression = DecisionTreeRegressor(max_depth = 3) # Increase max_depth to see effect in the plot\n",
    "dt_regression.fit(hostels_train[features], hostels_train['summary.score'])"
   ]
  },
  {
   "cell_type": "code",
   "execution_count": 88,
   "metadata": {},
   "outputs": [
    {
     "name": "stdout",
     "output_type": "stream",
     "text": [
      "RMSE on training set 0.7433612461041694\n",
      "RMSE on test set 0.6483974712085854\n"
     ]
    }
   ],
   "source": [
    "predictionsOnTrainset = dt_regression.predict(hostels_train[features])\n",
    "predictionsOnTestset = dt_regression.predict(hostels_test[features])\n",
    "\n",
    "rmseTrain = calculate_rmse(predictionsOnTrainset, hostels_train.atmosphere)\n",
    "rmseTest = calculate_rmse(predictionsOnTestset, hostels_test.atmosphere)\n",
    "\n",
    "print(\"RMSE on training set \" + str(rmseTrain))\n",
    "print(\"RMSE on test set \" + str(rmseTest))"
   ]
  },
  {
   "cell_type": "markdown",
   "metadata": {},
   "source": [
    "The dataset isn't too big, adding too much depth will make both values immensly small. The test value is slightly lower than the training set value with a depth of 2. Applying too many features seemed to lower the accarucy a lot as well."
   ]
  },
  {
   "cell_type": "code",
   "execution_count": 89,
   "metadata": {},
   "outputs": [
    {
     "data": {
      "image/svg+xml": "<?xml version=\"1.0\" encoding=\"UTF-8\" standalone=\"no\"?>\n<!DOCTYPE svg PUBLIC \"-//W3C//DTD SVG 1.1//EN\"\n \"http://www.w3.org/Graphics/SVG/1.1/DTD/svg11.dtd\">\n<!-- Generated by graphviz version 2.50.0 (20220117.2223)\n -->\n<!-- Title: Tree Pages: 1 -->\n<svg width=\"1492pt\" height=\"373pt\"\n viewBox=\"0.00 0.00 1491.50 373.00\" xmlns=\"http://www.w3.org/2000/svg\" xmlns:xlink=\"http://www.w3.org/1999/xlink\">\n<g id=\"graph0\" class=\"graph\" transform=\"scale(1 1) rotate(0) translate(4 369)\">\n<title>Tree</title>\n<polygon fill=\"white\" stroke=\"transparent\" points=\"-4,4 -4,-369 1487.5,-369 1487.5,4 -4,4\"/>\n<!-- 0 -->\n<g id=\"node1\" class=\"node\">\n<title>0</title>\n<path fill=\"#e89253\" stroke=\"black\" d=\"M807.5,-365C807.5,-365 657.5,-365 657.5,-365 651.5,-365 645.5,-359 645.5,-353 645.5,-353 645.5,-309 645.5,-309 645.5,-303 651.5,-297 657.5,-297 657.5,-297 807.5,-297 807.5,-297 813.5,-297 819.5,-303 819.5,-309 819.5,-309 819.5,-353 819.5,-353 819.5,-359 813.5,-365 807.5,-365\"/>\n<text text-anchor=\"start\" x=\"669\" y=\"-349.8\" font-family=\"Helvetica,sans-Serif\" font-size=\"14.00\">atmosphere ≤ 6.9</text>\n<text text-anchor=\"start\" x=\"653.5\" y=\"-334.8\" font-family=\"Helvetica,sans-Serif\" font-size=\"14.00\">squared_error = 0.916</text>\n<text text-anchor=\"start\" x=\"679.5\" y=\"-319.8\" font-family=\"Helvetica,sans-Serif\" font-size=\"14.00\">samples = 208</text>\n<text text-anchor=\"start\" x=\"682.5\" y=\"-304.8\" font-family=\"Helvetica,sans-Serif\" font-size=\"14.00\">value = 8.822</text>\n</g>\n<!-- 1 -->\n<g id=\"node2\" class=\"node\">\n<title>1</title>\n<path fill=\"#f3c4a3\" stroke=\"black\" d=\"M622.5,-261C622.5,-261 472.5,-261 472.5,-261 466.5,-261 460.5,-255 460.5,-249 460.5,-249 460.5,-205 460.5,-205 460.5,-199 466.5,-193 472.5,-193 472.5,-193 622.5,-193 622.5,-193 628.5,-193 634.5,-199 634.5,-205 634.5,-205 634.5,-249 634.5,-249 634.5,-255 628.5,-261 622.5,-261\"/>\n<text text-anchor=\"start\" x=\"479.5\" y=\"-245.8\" font-family=\"Helvetica,sans-Serif\" font-size=\"14.00\">atmosphere ≤ 4.65</text>\n<text text-anchor=\"start\" x=\"468.5\" y=\"-230.8\" font-family=\"Helvetica,sans-Serif\" font-size=\"14.00\">squared_error = 2.205</text>\n<text text-anchor=\"start\" x=\"499\" y=\"-215.8\" font-family=\"Helvetica,sans-Serif\" font-size=\"14.00\">samples = 20</text>\n<text text-anchor=\"start\" x=\"502\" y=\"-200.8\" font-family=\"Helvetica,sans-Serif\" font-size=\"14.00\">value = 6.73</text>\n</g>\n<!-- 0&#45;&gt;1 -->\n<g id=\"edge1\" class=\"edge\">\n<title>0&#45;&gt;1</title>\n<path fill=\"none\" stroke=\"black\" d=\"M672.44,-296.88C654.57,-287.04 634.86,-276.17 616.48,-266.03\"/>\n<polygon fill=\"black\" stroke=\"black\" points=\"618.03,-262.89 607.58,-261.12 614.65,-269.02 618.03,-262.89\"/>\n<text text-anchor=\"middle\" x=\"614.52\" y=\"-281.44\" font-family=\"Helvetica,sans-Serif\" font-size=\"14.00\">True</text>\n</g>\n<!-- 8 -->\n<g id=\"node9\" class=\"node\">\n<title>8</title>\n<path fill=\"#e78c4a\" stroke=\"black\" d=\"M999.5,-261C999.5,-261 849.5,-261 849.5,-261 843.5,-261 837.5,-255 837.5,-249 837.5,-249 837.5,-205 837.5,-205 837.5,-199 843.5,-193 849.5,-193 849.5,-193 999.5,-193 999.5,-193 1005.5,-193 1011.5,-199 1011.5,-205 1011.5,-205 1011.5,-249 1011.5,-249 1011.5,-255 1005.5,-261 999.5,-261\"/>\n<text text-anchor=\"start\" x=\"856.5\" y=\"-245.8\" font-family=\"Helvetica,sans-Serif\" font-size=\"14.00\">atmosphere ≤ 8.55</text>\n<text text-anchor=\"start\" x=\"845.5\" y=\"-230.8\" font-family=\"Helvetica,sans-Serif\" font-size=\"14.00\">squared_error = 0.264</text>\n<text text-anchor=\"start\" x=\"871.5\" y=\"-215.8\" font-family=\"Helvetica,sans-Serif\" font-size=\"14.00\">samples = 188</text>\n<text text-anchor=\"start\" x=\"874.5\" y=\"-200.8\" font-family=\"Helvetica,sans-Serif\" font-size=\"14.00\">value = 9.044</text>\n</g>\n<!-- 0&#45;&gt;8 -->\n<g id=\"edge8\" class=\"edge\">\n<title>0&#45;&gt;8</title>\n<path fill=\"none\" stroke=\"black\" d=\"M794.84,-296.88C813.46,-286.99 834.02,-276.07 853.17,-265.9\"/>\n<polygon fill=\"black\" stroke=\"black\" points=\"854.96,-268.91 862.15,-261.12 851.67,-262.73 854.96,-268.91\"/>\n<text text-anchor=\"middle\" x=\"854.83\" y=\"-281.33\" font-family=\"Helvetica,sans-Serif\" font-size=\"14.00\">False</text>\n</g>\n<!-- 2 -->\n<g id=\"node3\" class=\"node\">\n<title>2</title>\n<path fill=\"#fdf4ed\" stroke=\"black\" d=\"M341,-157C341,-157 200,-157 200,-157 194,-157 188,-151 188,-145 188,-145 188,-101 188,-101 188,-95 194,-89 200,-89 200,-89 341,-89 341,-89 347,-89 353,-95 353,-101 353,-101 353,-145 353,-145 353,-151 347,-157 341,-157\"/>\n<text text-anchor=\"start\" x=\"207\" y=\"-141.8\" font-family=\"Helvetica,sans-Serif\" font-size=\"14.00\">atmosphere ≤ 3.0</text>\n<text text-anchor=\"start\" x=\"196\" y=\"-126.8\" font-family=\"Helvetica,sans-Serif\" font-size=\"14.00\">squared_error = 0.87</text>\n<text text-anchor=\"start\" x=\"226.5\" y=\"-111.8\" font-family=\"Helvetica,sans-Serif\" font-size=\"14.00\">samples = 5</text>\n<text text-anchor=\"start\" x=\"225\" y=\"-96.8\" font-family=\"Helvetica,sans-Serif\" font-size=\"14.00\">value = 4.76</text>\n</g>\n<!-- 1&#45;&gt;2 -->\n<g id=\"edge2\" class=\"edge\">\n<title>1&#45;&gt;2</title>\n<path fill=\"none\" stroke=\"black\" d=\"M460.24,-193.87C429.19,-182.44 394.15,-169.53 362.71,-157.95\"/>\n<polygon fill=\"black\" stroke=\"black\" points=\"363.67,-154.58 353.08,-154.41 361.25,-161.15 363.67,-154.58\"/>\n</g>\n<!-- 5 -->\n<g id=\"node6\" class=\"node\">\n<title>5</title>\n<path fill=\"#f0b48a\" stroke=\"black\" d=\"M622.5,-157C622.5,-157 472.5,-157 472.5,-157 466.5,-157 460.5,-151 460.5,-145 460.5,-145 460.5,-101 460.5,-101 460.5,-95 466.5,-89 472.5,-89 472.5,-89 622.5,-89 622.5,-89 628.5,-89 634.5,-95 634.5,-101 634.5,-101 634.5,-145 634.5,-145 634.5,-151 628.5,-157 622.5,-157\"/>\n<text text-anchor=\"start\" x=\"484\" y=\"-141.8\" font-family=\"Helvetica,sans-Serif\" font-size=\"14.00\">atmosphere ≤ 5.4</text>\n<text text-anchor=\"start\" x=\"468.5\" y=\"-126.8\" font-family=\"Helvetica,sans-Serif\" font-size=\"14.00\">squared_error = 0.925</text>\n<text text-anchor=\"start\" x=\"499\" y=\"-111.8\" font-family=\"Helvetica,sans-Serif\" font-size=\"14.00\">samples = 15</text>\n<text text-anchor=\"start\" x=\"497.5\" y=\"-96.8\" font-family=\"Helvetica,sans-Serif\" font-size=\"14.00\">value = 7.387</text>\n</g>\n<!-- 1&#45;&gt;5 -->\n<g id=\"edge5\" class=\"edge\">\n<title>1&#45;&gt;5</title>\n<path fill=\"none\" stroke=\"black\" d=\"M547.5,-192.88C547.5,-184.78 547.5,-175.98 547.5,-167.47\"/>\n<polygon fill=\"black\" stroke=\"black\" points=\"551,-167.3 547.5,-157.3 544,-167.3 551,-167.3\"/>\n</g>\n<!-- 3 -->\n<g id=\"node4\" class=\"node\">\n<title>3</title>\n<path fill=\"#ffffff\" stroke=\"black\" d=\"M153,-53C153,-53 12,-53 12,-53 6,-53 0,-47 0,-41 0,-41 0,-12 0,-12 0,-6 6,0 12,0 12,0 153,0 153,0 159,0 165,-6 165,-12 165,-12 165,-41 165,-41 165,-47 159,-53 153,-53\"/>\n<text text-anchor=\"start\" x=\"8\" y=\"-37.8\" font-family=\"Helvetica,sans-Serif\" font-size=\"14.00\">squared_error = 0.72</text>\n<text text-anchor=\"start\" x=\"38.5\" y=\"-22.8\" font-family=\"Helvetica,sans-Serif\" font-size=\"14.00\">samples = 3</text>\n<text text-anchor=\"start\" x=\"41.5\" y=\"-7.8\" font-family=\"Helvetica,sans-Serif\" font-size=\"14.00\">value = 4.3</text>\n</g>\n<!-- 2&#45;&gt;3 -->\n<g id=\"edge3\" class=\"edge\">\n<title>2&#45;&gt;3</title>\n<path fill=\"none\" stroke=\"black\" d=\"M204.75,-88.95C184.45,-78.75 162.22,-67.57 142.35,-57.59\"/>\n<polygon fill=\"black\" stroke=\"black\" points=\"143.91,-54.45 133.4,-53.09 140.77,-60.71 143.91,-54.45\"/>\n</g>\n<!-- 4 -->\n<g id=\"node5\" class=\"node\">\n<title>4</title>\n<path fill=\"#f9e3d3\" stroke=\"black\" d=\"M345.5,-53C345.5,-53 195.5,-53 195.5,-53 189.5,-53 183.5,-47 183.5,-41 183.5,-41 183.5,-12 183.5,-12 183.5,-6 189.5,0 195.5,0 195.5,0 345.5,0 345.5,0 351.5,0 357.5,-6 357.5,-12 357.5,-12 357.5,-41 357.5,-41 357.5,-47 351.5,-53 345.5,-53\"/>\n<text text-anchor=\"start\" x=\"191.5\" y=\"-37.8\" font-family=\"Helvetica,sans-Serif\" font-size=\"14.00\">squared_error = 0.303</text>\n<text text-anchor=\"start\" x=\"226.5\" y=\"-22.8\" font-family=\"Helvetica,sans-Serif\" font-size=\"14.00\">samples = 2</text>\n<text text-anchor=\"start\" x=\"225\" y=\"-7.8\" font-family=\"Helvetica,sans-Serif\" font-size=\"14.00\">value = 5.45</text>\n</g>\n<!-- 2&#45;&gt;4 -->\n<g id=\"edge4\" class=\"edge\">\n<title>2&#45;&gt;4</title>\n<path fill=\"none\" stroke=\"black\" d=\"M270.5,-88.95C270.5,-80.72 270.5,-71.85 270.5,-63.48\"/>\n<polygon fill=\"black\" stroke=\"black\" points=\"274,-63.24 270.5,-53.24 267,-63.24 274,-63.24\"/>\n</g>\n<!-- 6 -->\n<g id=\"node7\" class=\"node\">\n<title>6</title>\n<path fill=\"#f6d1b7\" stroke=\"black\" d=\"M519.5,-53C519.5,-53 387.5,-53 387.5,-53 381.5,-53 375.5,-47 375.5,-41 375.5,-41 375.5,-12 375.5,-12 375.5,-6 381.5,0 387.5,0 387.5,0 519.5,0 519.5,0 525.5,0 531.5,-6 531.5,-12 531.5,-12 531.5,-41 531.5,-41 531.5,-47 525.5,-53 519.5,-53\"/>\n<text text-anchor=\"start\" x=\"383.5\" y=\"-37.8\" font-family=\"Helvetica,sans-Serif\" font-size=\"14.00\">squared_error = 0.0</text>\n<text text-anchor=\"start\" x=\"409.5\" y=\"-22.8\" font-family=\"Helvetica,sans-Serif\" font-size=\"14.00\">samples = 1</text>\n<text text-anchor=\"start\" x=\"412.5\" y=\"-7.8\" font-family=\"Helvetica,sans-Serif\" font-size=\"14.00\">value = 6.2</text>\n</g>\n<!-- 5&#45;&gt;6 -->\n<g id=\"edge6\" class=\"edge\">\n<title>5&#45;&gt;6</title>\n<path fill=\"none\" stroke=\"black\" d=\"M514.62,-88.95C505.43,-79.71 495.45,-69.67 486.26,-60.44\"/>\n<polygon fill=\"black\" stroke=\"black\" points=\"488.63,-57.86 479.1,-53.24 483.67,-62.79 488.63,-57.86\"/>\n</g>\n<!-- 7 -->\n<g id=\"node8\" class=\"node\">\n<title>7</title>\n<path fill=\"#efb286\" stroke=\"black\" d=\"M711.5,-53C711.5,-53 561.5,-53 561.5,-53 555.5,-53 549.5,-47 549.5,-41 549.5,-41 549.5,-12 549.5,-12 549.5,-6 555.5,0 561.5,0 561.5,0 711.5,0 711.5,0 717.5,0 723.5,-6 723.5,-12 723.5,-12 723.5,-41 723.5,-41 723.5,-47 717.5,-53 711.5,-53\"/>\n<text text-anchor=\"start\" x=\"557.5\" y=\"-37.8\" font-family=\"Helvetica,sans-Serif\" font-size=\"14.00\">squared_error = 0.883</text>\n<text text-anchor=\"start\" x=\"588\" y=\"-22.8\" font-family=\"Helvetica,sans-Serif\" font-size=\"14.00\">samples = 14</text>\n<text text-anchor=\"start\" x=\"586.5\" y=\"-7.8\" font-family=\"Helvetica,sans-Serif\" font-size=\"14.00\">value = 7.471</text>\n</g>\n<!-- 5&#45;&gt;7 -->\n<g id=\"edge7\" class=\"edge\">\n<title>5&#45;&gt;7</title>\n<path fill=\"none\" stroke=\"black\" d=\"M578.63,-88.95C587.24,-79.8 596.6,-69.87 605.22,-60.71\"/>\n<polygon fill=\"black\" stroke=\"black\" points=\"607.95,-62.92 612.26,-53.24 602.86,-58.12 607.95,-62.92\"/>\n</g>\n<!-- 9 -->\n<g id=\"node10\" class=\"node\">\n<title>9</title>\n<path fill=\"#e9965a\" stroke=\"black\" d=\"M999.5,-157C999.5,-157 849.5,-157 849.5,-157 843.5,-157 837.5,-151 837.5,-145 837.5,-145 837.5,-101 837.5,-101 837.5,-95 843.5,-89 849.5,-89 849.5,-89 999.5,-89 999.5,-89 1005.5,-89 1011.5,-95 1011.5,-101 1011.5,-101 1011.5,-145 1011.5,-145 1011.5,-151 1005.5,-157 999.5,-157\"/>\n<text text-anchor=\"start\" x=\"856.5\" y=\"-141.8\" font-family=\"Helvetica,sans-Serif\" font-size=\"14.00\">atmosphere ≤ 7.35</text>\n<text text-anchor=\"start\" x=\"845.5\" y=\"-126.8\" font-family=\"Helvetica,sans-Serif\" font-size=\"14.00\">squared_error = 0.189</text>\n<text text-anchor=\"start\" x=\"876\" y=\"-111.8\" font-family=\"Helvetica,sans-Serif\" font-size=\"14.00\">samples = 82</text>\n<text text-anchor=\"start\" x=\"874.5\" y=\"-96.8\" font-family=\"Helvetica,sans-Serif\" font-size=\"14.00\">value = 8.634</text>\n</g>\n<!-- 8&#45;&gt;9 -->\n<g id=\"edge9\" class=\"edge\">\n<title>8&#45;&gt;9</title>\n<path fill=\"none\" stroke=\"black\" d=\"M924.5,-192.88C924.5,-184.78 924.5,-175.98 924.5,-167.47\"/>\n<polygon fill=\"black\" stroke=\"black\" points=\"928,-167.3 924.5,-157.3 921,-167.3 928,-167.3\"/>\n</g>\n<!-- 12 -->\n<g id=\"node13\" class=\"node\">\n<title>12</title>\n<path fill=\"#e6843e\" stroke=\"black\" d=\"M1279,-157C1279,-157 1138,-157 1138,-157 1132,-157 1126,-151 1126,-145 1126,-145 1126,-101 1126,-101 1126,-95 1132,-89 1138,-89 1138,-89 1279,-89 1279,-89 1285,-89 1291,-95 1291,-101 1291,-101 1291,-145 1291,-145 1291,-151 1285,-157 1279,-157\"/>\n<text text-anchor=\"start\" x=\"1140.5\" y=\"-141.8\" font-family=\"Helvetica,sans-Serif\" font-size=\"14.00\">atmosphere ≤ 9.05</text>\n<text text-anchor=\"start\" x=\"1134\" y=\"-126.8\" font-family=\"Helvetica,sans-Serif\" font-size=\"14.00\">squared_error = 0.09</text>\n<text text-anchor=\"start\" x=\"1155.5\" y=\"-111.8\" font-family=\"Helvetica,sans-Serif\" font-size=\"14.00\">samples = 106</text>\n<text text-anchor=\"start\" x=\"1158.5\" y=\"-96.8\" font-family=\"Helvetica,sans-Serif\" font-size=\"14.00\">value = 9.361</text>\n</g>\n<!-- 8&#45;&gt;12 -->\n<g id=\"edge12\" class=\"edge\">\n<title>8&#45;&gt;12</title>\n<path fill=\"none\" stroke=\"black\" d=\"M1011.64,-194.7C1044.73,-182.82 1082.53,-169.24 1116.09,-157.19\"/>\n<polygon fill=\"black\" stroke=\"black\" points=\"1117.67,-160.34 1125.9,-153.67 1115.3,-153.75 1117.67,-160.34\"/>\n</g>\n<!-- 10 -->\n<g id=\"node11\" class=\"node\">\n<title>10</title>\n<path fill=\"#eca16c\" stroke=\"black\" d=\"M903.5,-53C903.5,-53 753.5,-53 753.5,-53 747.5,-53 741.5,-47 741.5,-41 741.5,-41 741.5,-12 741.5,-12 741.5,-6 747.5,0 753.5,0 753.5,0 903.5,0 903.5,0 909.5,0 915.5,-6 915.5,-12 915.5,-12 915.5,-41 915.5,-41 915.5,-47 909.5,-53 903.5,-53\"/>\n<text text-anchor=\"start\" x=\"749.5\" y=\"-37.8\" font-family=\"Helvetica,sans-Serif\" font-size=\"14.00\">squared_error = 0.166</text>\n<text text-anchor=\"start\" x=\"780\" y=\"-22.8\" font-family=\"Helvetica,sans-Serif\" font-size=\"14.00\">samples = 11</text>\n<text text-anchor=\"start\" x=\"778.5\" y=\"-7.8\" font-family=\"Helvetica,sans-Serif\" font-size=\"14.00\">value = 8.164</text>\n</g>\n<!-- 9&#45;&gt;10 -->\n<g id=\"edge10\" class=\"edge\">\n<title>9&#45;&gt;10</title>\n<path fill=\"none\" stroke=\"black\" d=\"M890.92,-88.95C881.54,-79.71 871.34,-69.67 861.96,-60.44\"/>\n<polygon fill=\"black\" stroke=\"black\" points=\"864.23,-57.76 854.65,-53.24 859.32,-62.75 864.23,-57.76\"/>\n</g>\n<!-- 11 -->\n<g id=\"node12\" class=\"node\">\n<title>11</title>\n<path fill=\"#e99457\" stroke=\"black\" d=\"M1095.5,-53C1095.5,-53 945.5,-53 945.5,-53 939.5,-53 933.5,-47 933.5,-41 933.5,-41 933.5,-12 933.5,-12 933.5,-6 939.5,0 945.5,0 945.5,0 1095.5,0 1095.5,0 1101.5,0 1107.5,-6 1107.5,-12 1107.5,-12 1107.5,-41 1107.5,-41 1107.5,-47 1101.5,-53 1095.5,-53\"/>\n<text text-anchor=\"start\" x=\"941.5\" y=\"-37.8\" font-family=\"Helvetica,sans-Serif\" font-size=\"14.00\">squared_error = 0.153</text>\n<text text-anchor=\"start\" x=\"972\" y=\"-22.8\" font-family=\"Helvetica,sans-Serif\" font-size=\"14.00\">samples = 71</text>\n<text text-anchor=\"start\" x=\"970.5\" y=\"-7.8\" font-family=\"Helvetica,sans-Serif\" font-size=\"14.00\">value = 8.707</text>\n</g>\n<!-- 9&#45;&gt;11 -->\n<g id=\"edge11\" class=\"edge\">\n<title>9&#45;&gt;11</title>\n<path fill=\"none\" stroke=\"black\" d=\"M958.08,-88.95C967.46,-79.71 977.66,-69.67 987.04,-60.44\"/>\n<polygon fill=\"black\" stroke=\"black\" points=\"989.68,-62.75 994.35,-53.24 984.77,-57.76 989.68,-62.75\"/>\n</g>\n<!-- 13 -->\n<g id=\"node14\" class=\"node\">\n<title>13</title>\n<path fill=\"#e68843\" stroke=\"black\" d=\"M1279,-53C1279,-53 1138,-53 1138,-53 1132,-53 1126,-47 1126,-41 1126,-41 1126,-12 1126,-12 1126,-6 1132,0 1138,0 1138,0 1279,0 1279,0 1285,0 1291,-6 1291,-12 1291,-12 1291,-41 1291,-41 1291,-47 1285,-53 1279,-53\"/>\n<text text-anchor=\"start\" x=\"1134\" y=\"-37.8\" font-family=\"Helvetica,sans-Serif\" font-size=\"14.00\">squared_error = 0.05</text>\n<text text-anchor=\"start\" x=\"1160\" y=\"-22.8\" font-family=\"Helvetica,sans-Serif\" font-size=\"14.00\">samples = 55</text>\n<text text-anchor=\"start\" x=\"1158.5\" y=\"-7.8\" font-family=\"Helvetica,sans-Serif\" font-size=\"14.00\">value = 9.229</text>\n</g>\n<!-- 12&#45;&gt;13 -->\n<g id=\"edge13\" class=\"edge\">\n<title>12&#45;&gt;13</title>\n<path fill=\"none\" stroke=\"black\" d=\"M1208.5,-88.95C1208.5,-80.72 1208.5,-71.85 1208.5,-63.48\"/>\n<polygon fill=\"black\" stroke=\"black\" points=\"1212,-63.24 1208.5,-53.24 1205,-63.24 1212,-63.24\"/>\n</g>\n<!-- 14 -->\n<g id=\"node15\" class=\"node\">\n<title>14</title>\n<path fill=\"#e58139\" stroke=\"black\" d=\"M1471.5,-53C1471.5,-53 1321.5,-53 1321.5,-53 1315.5,-53 1309.5,-47 1309.5,-41 1309.5,-41 1309.5,-12 1309.5,-12 1309.5,-6 1315.5,0 1321.5,0 1321.5,0 1471.5,0 1471.5,0 1477.5,0 1483.5,-6 1483.5,-12 1483.5,-12 1483.5,-41 1483.5,-41 1483.5,-47 1477.5,-53 1471.5,-53\"/>\n<text text-anchor=\"start\" x=\"1317.5\" y=\"-37.8\" font-family=\"Helvetica,sans-Serif\" font-size=\"14.00\">squared_error = 0.095</text>\n<text text-anchor=\"start\" x=\"1348\" y=\"-22.8\" font-family=\"Helvetica,sans-Serif\" font-size=\"14.00\">samples = 51</text>\n<text text-anchor=\"start\" x=\"1346.5\" y=\"-7.8\" font-family=\"Helvetica,sans-Serif\" font-size=\"14.00\">value = 9.504</text>\n</g>\n<!-- 12&#45;&gt;14 -->\n<g id=\"edge14\" class=\"edge\">\n<title>12&#45;&gt;14</title>\n<path fill=\"none\" stroke=\"black\" d=\"M1274.25,-88.95C1294.55,-78.75 1316.78,-67.57 1336.65,-57.59\"/>\n<polygon fill=\"black\" stroke=\"black\" points=\"1338.23,-60.71 1345.6,-53.09 1335.09,-54.45 1338.23,-60.71\"/>\n</g>\n</g>\n</svg>\n",
      "text/plain": [
       "<graphviz.files.Source at 0x7fc84dab2f70>"
      ]
     },
     "execution_count": 89,
     "metadata": {},
     "output_type": "execute_result"
    }
   ],
   "source": [
    "plot_tree_regression(dt_regression, features)"
   ]
  },
  {
   "cell_type": "markdown",
   "metadata": {},
   "source": [
    "The better the atmosphere of the hostel the better the overall score seems to be."
   ]
  }
 ],
 "metadata": {
  "interpreter": {
   "hash": "d4d1e4263499bec80672ea0156c357c1ee493ec2b1c70f0acce89fc37c4a6abe"
  },
  "kernelspec": {
   "display_name": "Python 3.9.10 ('base')",
   "language": "python",
   "name": "python3"
  },
  "language_info": {
   "codemirror_mode": {
    "name": "ipython",
    "version": 3
   },
   "file_extension": ".py",
   "mimetype": "text/x-python",
   "name": "python",
   "nbconvert_exporter": "python",
   "pygments_lexer": "ipython3",
   "version": "3.9.10"
  },
  "orig_nbformat": 4
 },
 "nbformat": 4,
 "nbformat_minor": 2
}
