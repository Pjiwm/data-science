{
 "cells": [
  {
   "cell_type": "code",
   "execution_count": 2,
   "metadata": {},
   "outputs": [],
   "source": [
    "import pandas as pd\n",
    "import seaborn as sns"
   ]
  },
  {
   "cell_type": "code",
   "execution_count": 3,
   "metadata": {},
   "outputs": [],
   "source": [
    "hostels = pd.read_csv('../data/hostel.csv')\n",
    "penguins = sns.load_dataset(\"penguins\")"
   ]
  },
  {
   "cell_type": "markdown",
   "metadata": {},
   "source": [
    "### Portfolio assignment 14\n",
    "Perform a bivariate analysis on at least 1 combination of 2 columns with categorical data in the dataset that you chose in portfolio assignment 4.\n",
    "- Do you expect their to be a correlation between the two columns?\n",
    "- Create a contingency table. Do you observe different ratios between categories here?\n",
    "- Create a bar plot for this contingency table. Do you observe different ratios between categories here?\n",
    "- Do a chi-squared test. What does the result say? What's the chance of there being a correlation between the two columns?\n",
    "\n",
    "![](https://i.imgur.com/0v1CGNV.png)"
   ]
  },
  {
   "cell_type": "markdown",
   "metadata": {},
   "source": [
    "I think there might be a correlation between the city and its overall rating."
   ]
  },
  {
   "cell_type": "code",
   "execution_count": 18,
   "metadata": {},
   "outputs": [
    {
     "data": {
      "text/html": [
       "<div>\n",
       "<style scoped>\n",
       "    .dataframe tbody tr th:only-of-type {\n",
       "        vertical-align: middle;\n",
       "    }\n",
       "\n",
       "    .dataframe tbody tr th {\n",
       "        vertical-align: top;\n",
       "    }\n",
       "\n",
       "    .dataframe thead th {\n",
       "        text-align: right;\n",
       "    }\n",
       "</style>\n",
       "<table border=\"1\" class=\"dataframe\">\n",
       "  <thead>\n",
       "    <tr style=\"text-align: right;\">\n",
       "      <th></th>\n",
       "      <th>Unnamed: 0</th>\n",
       "      <th>hostel.name</th>\n",
       "      <th>City</th>\n",
       "      <th>price.from</th>\n",
       "      <th>Distance</th>\n",
       "      <th>summary.score</th>\n",
       "      <th>rating.band</th>\n",
       "      <th>atmosphere</th>\n",
       "      <th>cleanliness</th>\n",
       "      <th>facilities</th>\n",
       "      <th>location.y</th>\n",
       "      <th>security</th>\n",
       "      <th>staff</th>\n",
       "      <th>valueformoney</th>\n",
       "      <th>lon</th>\n",
       "      <th>lat</th>\n",
       "    </tr>\n",
       "  </thead>\n",
       "  <tbody>\n",
       "    <tr>\n",
       "      <th>0</th>\n",
       "      <td>1</td>\n",
       "      <td>\"Bike &amp; Bed\" CharinCo Hostel</td>\n",
       "      <td>Osaka</td>\n",
       "      <td>3300</td>\n",
       "      <td>2.9km from city centre</td>\n",
       "      <td>9.2</td>\n",
       "      <td>Superb</td>\n",
       "      <td>8.9</td>\n",
       "      <td>9.4</td>\n",
       "      <td>9.3</td>\n",
       "      <td>8.9</td>\n",
       "      <td>9.0</td>\n",
       "      <td>9.4</td>\n",
       "      <td>9.4</td>\n",
       "      <td>135.513767</td>\n",
       "      <td>34.682678</td>\n",
       "    </tr>\n",
       "    <tr>\n",
       "      <th>1</th>\n",
       "      <td>2</td>\n",
       "      <td>&amp; And Hostel</td>\n",
       "      <td>Fukuoka-City</td>\n",
       "      <td>2600</td>\n",
       "      <td>0.7km from city centre</td>\n",
       "      <td>9.5</td>\n",
       "      <td>Superb</td>\n",
       "      <td>9.4</td>\n",
       "      <td>9.7</td>\n",
       "      <td>9.5</td>\n",
       "      <td>9.7</td>\n",
       "      <td>9.2</td>\n",
       "      <td>9.7</td>\n",
       "      <td>9.5</td>\n",
       "      <td>NaN</td>\n",
       "      <td>NaN</td>\n",
       "    </tr>\n",
       "    <tr>\n",
       "      <th>2</th>\n",
       "      <td>3</td>\n",
       "      <td>&amp;And Hostel Akihabara</td>\n",
       "      <td>Tokyo</td>\n",
       "      <td>3600</td>\n",
       "      <td>7.8km from city centre</td>\n",
       "      <td>8.7</td>\n",
       "      <td>Fabulous</td>\n",
       "      <td>8.0</td>\n",
       "      <td>7.0</td>\n",
       "      <td>9.0</td>\n",
       "      <td>8.0</td>\n",
       "      <td>10.0</td>\n",
       "      <td>10.0</td>\n",
       "      <td>9.0</td>\n",
       "      <td>139.777472</td>\n",
       "      <td>35.697447</td>\n",
       "    </tr>\n",
       "  </tbody>\n",
       "</table>\n",
       "</div>"
      ],
      "text/plain": [
       "   Unnamed: 0                   hostel.name          City  price.from  \\\n",
       "0           1  \"Bike & Bed\" CharinCo Hostel         Osaka        3300   \n",
       "1           2                  & And Hostel  Fukuoka-City        2600   \n",
       "2           3         &And Hostel Akihabara         Tokyo        3600   \n",
       "\n",
       "                 Distance  summary.score rating.band  atmosphere  cleanliness  \\\n",
       "0  2.9km from city centre            9.2      Superb         8.9          9.4   \n",
       "1  0.7km from city centre            9.5      Superb         9.4          9.7   \n",
       "2  7.8km from city centre            8.7    Fabulous         8.0          7.0   \n",
       "\n",
       "   facilities  location.y  security  staff  valueformoney         lon  \\\n",
       "0         9.3         8.9       9.0    9.4            9.4  135.513767   \n",
       "1         9.5         9.7       9.2    9.7            9.5         NaN   \n",
       "2         9.0         8.0      10.0   10.0            9.0  139.777472   \n",
       "\n",
       "         lat  \n",
       "0  34.682678  \n",
       "1        NaN  \n",
       "2  35.697447  "
      ]
     },
     "execution_count": 18,
     "metadata": {},
     "output_type": "execute_result"
    }
   ],
   "source": [
    "hostels.head(3)"
   ]
  },
  {
   "cell_type": "code",
   "execution_count": 8,
   "metadata": {},
   "outputs": [
    {
     "data": {
      "text/html": [
       "<div>\n",
       "<style scoped>\n",
       "    .dataframe tbody tr th:only-of-type {\n",
       "        vertical-align: middle;\n",
       "    }\n",
       "\n",
       "    .dataframe tbody tr th {\n",
       "        vertical-align: top;\n",
       "    }\n",
       "\n",
       "    .dataframe thead th {\n",
       "        text-align: right;\n",
       "    }\n",
       "</style>\n",
       "<table border=\"1\" class=\"dataframe\">\n",
       "  <thead>\n",
       "    <tr style=\"text-align: right;\">\n",
       "      <th></th>\n",
       "      <th>Unnamed: 0</th>\n",
       "      <th>price.from</th>\n",
       "      <th>summary.score</th>\n",
       "      <th>atmosphere</th>\n",
       "      <th>cleanliness</th>\n",
       "      <th>facilities</th>\n",
       "      <th>location.y</th>\n",
       "      <th>security</th>\n",
       "      <th>staff</th>\n",
       "      <th>valueformoney</th>\n",
       "      <th>lon</th>\n",
       "      <th>lat</th>\n",
       "    </tr>\n",
       "    <tr>\n",
       "      <th>City</th>\n",
       "      <th></th>\n",
       "      <th></th>\n",
       "      <th></th>\n",
       "      <th></th>\n",
       "      <th></th>\n",
       "      <th></th>\n",
       "      <th></th>\n",
       "      <th></th>\n",
       "      <th></th>\n",
       "      <th></th>\n",
       "      <th></th>\n",
       "      <th></th>\n",
       "    </tr>\n",
       "  </thead>\n",
       "  <tbody>\n",
       "    <tr>\n",
       "      <th>Fukuoka-City</th>\n",
       "      <td>155.894737</td>\n",
       "      <td>2736.842105</td>\n",
       "      <td>9.070588</td>\n",
       "      <td>8.817647</td>\n",
       "      <td>9.376471</td>\n",
       "      <td>8.900000</td>\n",
       "      <td>9.017647</td>\n",
       "      <td>9.076471</td>\n",
       "      <td>9.358824</td>\n",
       "      <td>8.982353</td>\n",
       "      <td>130.420316</td>\n",
       "      <td>33.586296</td>\n",
       "    </tr>\n",
       "    <tr>\n",
       "      <th>Hiroshima</th>\n",
       "      <td>150.714286</td>\n",
       "      <td>2578.571429</td>\n",
       "      <td>9.171429</td>\n",
       "      <td>8.535714</td>\n",
       "      <td>9.535714</td>\n",
       "      <td>8.785714</td>\n",
       "      <td>9.228571</td>\n",
       "      <td>9.371429</td>\n",
       "      <td>9.450000</td>\n",
       "      <td>9.242857</td>\n",
       "      <td>132.435495</td>\n",
       "      <td>34.385859</td>\n",
       "    </tr>\n",
       "    <tr>\n",
       "      <th>Kyoto</th>\n",
       "      <td>174.320513</td>\n",
       "      <td>2293.589744</td>\n",
       "      <td>8.961644</td>\n",
       "      <td>8.441096</td>\n",
       "      <td>9.345205</td>\n",
       "      <td>8.793151</td>\n",
       "      <td>8.884932</td>\n",
       "      <td>9.094521</td>\n",
       "      <td>9.168493</td>\n",
       "      <td>9.013699</td>\n",
       "      <td>135.761126</td>\n",
       "      <td>34.997727</td>\n",
       "    </tr>\n",
       "    <tr>\n",
       "      <th>Osaka</th>\n",
       "      <td>177.673077</td>\n",
       "      <td>12014.423077</td>\n",
       "      <td>8.626733</td>\n",
       "      <td>8.091089</td>\n",
       "      <td>8.754455</td>\n",
       "      <td>8.501980</td>\n",
       "      <td>8.560396</td>\n",
       "      <td>8.697030</td>\n",
       "      <td>9.064356</td>\n",
       "      <td>8.700000</td>\n",
       "      <td>135.198067</td>\n",
       "      <td>34.324737</td>\n",
       "    </tr>\n",
       "    <tr>\n",
       "      <th>Tokyo</th>\n",
       "      <td>169.338583</td>\n",
       "      <td>10647.244094</td>\n",
       "      <td>8.719672</td>\n",
       "      <td>8.125410</td>\n",
       "      <td>8.914754</td>\n",
       "      <td>8.495902</td>\n",
       "      <td>8.586066</td>\n",
       "      <td>9.000000</td>\n",
       "      <td>9.101639</td>\n",
       "      <td>8.808197</td>\n",
       "      <td>139.767171</td>\n",
       "      <td>35.698671</td>\n",
       "    </tr>\n",
       "  </tbody>\n",
       "</table>\n",
       "</div>"
      ],
      "text/plain": [
       "              Unnamed: 0    price.from  summary.score  atmosphere  \\\n",
       "City                                                                \n",
       "Fukuoka-City  155.894737   2736.842105       9.070588    8.817647   \n",
       "Hiroshima     150.714286   2578.571429       9.171429    8.535714   \n",
       "Kyoto         174.320513   2293.589744       8.961644    8.441096   \n",
       "Osaka         177.673077  12014.423077       8.626733    8.091089   \n",
       "Tokyo         169.338583  10647.244094       8.719672    8.125410   \n",
       "\n",
       "              cleanliness  facilities  location.y  security     staff  \\\n",
       "City                                                                    \n",
       "Fukuoka-City     9.376471    8.900000    9.017647  9.076471  9.358824   \n",
       "Hiroshima        9.535714    8.785714    9.228571  9.371429  9.450000   \n",
       "Kyoto            9.345205    8.793151    8.884932  9.094521  9.168493   \n",
       "Osaka            8.754455    8.501980    8.560396  8.697030  9.064356   \n",
       "Tokyo            8.914754    8.495902    8.586066  9.000000  9.101639   \n",
       "\n",
       "              valueformoney         lon        lat  \n",
       "City                                                \n",
       "Fukuoka-City       8.982353  130.420316  33.586296  \n",
       "Hiroshima          9.242857  132.435495  34.385859  \n",
       "Kyoto              9.013699  135.761126  34.997727  \n",
       "Osaka              8.700000  135.198067  34.324737  \n",
       "Tokyo              8.808197  139.767171  35.698671  "
      ]
     },
     "execution_count": 8,
     "metadata": {},
     "output_type": "execute_result"
    }
   ],
   "source": [
    "hostels.groupby('City').mean()"
   ]
  },
  {
   "cell_type": "code",
   "execution_count": 13,
   "metadata": {},
   "outputs": [
    {
     "data": {
      "text/plain": [
       "<AxesSubplot:xlabel='City', ylabel='summary.score'>"
      ]
     },
     "execution_count": 13,
     "metadata": {},
     "output_type": "execute_result"
    },
    {
     "data": {
      "image/png": "[encoded data removed]",
      "text/plain": [
       "<Figure size 432x288 with 1 Axes>"
      ]
     },
     "metadata": {
      "needs_background": "light"
     },
     "output_type": "display_data"
    }
   ],
   "source": [
    "sns.barplot(x=\"City\", y=\"summary.score\", data=hostels, ci = 90)"
   ]
  },
  {
   "cell_type": "code",
   "execution_count": 14,
   "metadata": {},
   "outputs": [
    {
     "data": {
      "text/plain": [
       "<AxesSubplot:xlabel='City', ylabel='summary.score'>"
      ]
     },
     "execution_count": 14,
     "metadata": {},
     "output_type": "execute_result"
    },
    {
     "data": {
      "image/png": "[encoded data removed]",
      "text/plain": [
       "<Figure size 432x288 with 1 Axes>"
      ]
     },
     "metadata": {
      "needs_background": "light"
     },
     "output_type": "display_data"
    }
   ],
   "source": [
    "sns.barplot(x=\"City\", y=\"summary.score\", data=hostels, ci=95)"
   ]
  },
  {
   "cell_type": "code",
   "execution_count": 12,
   "metadata": {},
   "outputs": [
    {
     "data": {
      "text/plain": [
       "<AxesSubplot:xlabel='City', ylabel='summary.score'>"
      ]
     },
     "execution_count": 12,
     "metadata": {},
     "output_type": "execute_result"
    },
    {
     "data": {
      "image/png": "[encoded data removed]",
      "text/plain": [
       "<Figure size 432x288 with 1 Axes>"
      ]
     },
     "metadata": {
      "needs_background": "light"
     },
     "output_type": "display_data"
    }
   ],
   "source": [
    "sns.barplot(x=\"City\", y=\"summary.score\", data=hostels, ci = 99)"
   ]
  },
  {
   "cell_type": "markdown",
   "metadata": {},
   "source": [
    "### Contingency table"
   ]
  },
  {
   "cell_type": "markdown",
   "metadata": {},
   "source": [
    "Ranking best to worst: Fabulous, Superb, Very Good, Good, Rating (Rating is supossed to be the worst one but the naming is very odd)"
   ]
  },
  {
   "cell_type": "markdown",
   "metadata": {},
   "source": [
    "Looking at the table below, the hotels in the Kansai region (Kyoto, Osaka) seem to have similar ratios. At the same time the cities which aren't as well known for tourism (Fukuoka-City, Hiroshima) which have not as much ratings tends to be only on the very positive side (Fabulous and Superb). The capital of Japan Tokyo has a somewhat similar ratio like the cities in the Kansai region."
   ]
  },
  {
   "cell_type": "code",
   "execution_count": 16,
   "metadata": {},
   "outputs": [
    {
     "data": {
      "text/html": [
       "<div>\n",
       "<style scoped>\n",
       "    .dataframe tbody tr th:only-of-type {\n",
       "        vertical-align: middle;\n",
       "    }\n",
       "\n",
       "    .dataframe tbody tr th {\n",
       "        vertical-align: top;\n",
       "    }\n",
       "\n",
       "    .dataframe thead th {\n",
       "        text-align: right;\n",
       "    }\n",
       "</style>\n",
       "<table border=\"1\" class=\"dataframe\">\n",
       "  <thead>\n",
       "    <tr style=\"text-align: right;\">\n",
       "      <th>rating.band</th>\n",
       "      <th>Fabulous</th>\n",
       "      <th>Good</th>\n",
       "      <th>Rating</th>\n",
       "      <th>Superb</th>\n",
       "      <th>Very Good</th>\n",
       "    </tr>\n",
       "    <tr>\n",
       "      <th>City</th>\n",
       "      <th></th>\n",
       "      <th></th>\n",
       "      <th></th>\n",
       "      <th></th>\n",
       "      <th></th>\n",
       "    </tr>\n",
       "  </thead>\n",
       "  <tbody>\n",
       "    <tr>\n",
       "      <th>Fukuoka-City</th>\n",
       "      <td>8</td>\n",
       "      <td>0</td>\n",
       "      <td>0</td>\n",
       "      <td>9</td>\n",
       "      <td>0</td>\n",
       "    </tr>\n",
       "    <tr>\n",
       "      <th>Hiroshima</th>\n",
       "      <td>3</td>\n",
       "      <td>0</td>\n",
       "      <td>0</td>\n",
       "      <td>11</td>\n",
       "      <td>0</td>\n",
       "    </tr>\n",
       "    <tr>\n",
       "      <th>Kyoto</th>\n",
       "      <td>21</td>\n",
       "      <td>2</td>\n",
       "      <td>2</td>\n",
       "      <td>46</td>\n",
       "      <td>2</td>\n",
       "    </tr>\n",
       "    <tr>\n",
       "      <th>Osaka</th>\n",
       "      <td>35</td>\n",
       "      <td>7</td>\n",
       "      <td>3</td>\n",
       "      <td>50</td>\n",
       "      <td>6</td>\n",
       "    </tr>\n",
       "    <tr>\n",
       "      <th>Tokyo</th>\n",
       "      <td>39</td>\n",
       "      <td>2</td>\n",
       "      <td>3</td>\n",
       "      <td>66</td>\n",
       "      <td>12</td>\n",
       "    </tr>\n",
       "  </tbody>\n",
       "</table>\n",
       "</div>"
      ],
      "text/plain": [
       "rating.band   Fabulous  Good  Rating  Superb  Very Good\n",
       "City                                                   \n",
       "Fukuoka-City         8     0       0       9          0\n",
       "Hiroshima            3     0       0      11          0\n",
       "Kyoto               21     2       2      46          2\n",
       "Osaka               35     7       3      50          6\n",
       "Tokyo               39     2       3      66         12"
      ]
     },
     "execution_count": 16,
     "metadata": {},
     "output_type": "execute_result"
    }
   ],
   "source": [
    "contingencyTable = hostels.groupby(['City','rating.band']).size().unstack('rating.band', fill_value=0)\n",
    "contingencyTable"
   ]
  },
  {
   "cell_type": "markdown",
   "metadata": {},
   "source": [
    "When shown as a barplot the same stuff from the table above can be applied with the barplot image below.\n"
   ]
  },
  {
   "cell_type": "code",
   "execution_count": 19,
   "metadata": {},
   "outputs": [
    {
     "data": {
      "text/plain": [
       "<AxesSubplot:xlabel='City'>"
      ]
     },
     "execution_count": 19,
     "metadata": {},
     "output_type": "execute_result"
    },
    {
     "data": {
      "image/png": "[encoded data removed]",
      "text/plain": [
       "<Figure size 432x288 with 1 Axes>"
      ]
     },
     "metadata": {
      "needs_background": "light"
     },
     "output_type": "display_data"
    }
   ],
   "source": [
    "contingencyTable.plot(kind='bar')"
   ]
  },
  {
   "cell_type": "markdown",
   "metadata": {},
   "source": [
    "There's not a high chance there's a correlation."
   ]
  },
  {
   "cell_type": "code",
   "execution_count": 20,
   "metadata": {},
   "outputs": [
    {
     "data": {
      "text/plain": [
       "(17.847526065753286,\n",
       " 0.332900843166079,\n",
       " 16,\n",
       " array([[ 5.51070336,  0.57186544,  0.41590214,  9.4617737 ,  1.03975535],\n",
       "        [ 4.5382263 ,  0.47094801,  0.34250765,  7.79204893,  0.85626911],\n",
       "        [23.66360856,  2.45565749,  1.78593272, 40.62996942,  4.4648318 ],\n",
       "        [32.74006116,  3.39755352,  2.47094801, 56.21406728,  6.17737003],\n",
       "        [39.54740061,  4.10397554,  2.98470948, 67.90214067,  7.4617737 ]]))"
      ]
     },
     "execution_count": 20,
     "metadata": {},
     "output_type": "execute_result"
    }
   ],
   "source": [
    "from scipy.stats import chi2_contingency\n",
    "chi2_contingency(contingencyTable)"
   ]
  },
  {
   "cell_type": "markdown",
   "metadata": {},
   "source": [
    "### DO THIS AGAIN FOR ANOTHER CATEGORICAL COLUMN"
   ]
  }
 ],
 "metadata": {
  "interpreter": {
   "hash": "d4d1e4263499bec80672ea0156c357c1ee493ec2b1c70f0acce89fc37c4a6abe"
  },
  "kernelspec": {
   "display_name": "Python 3.9.5 ('base')",
   "language": "python",
   "name": "python3"
  },
  "language_info": {
   "codemirror_mode": {
    "name": "ipython",
    "version": 3
   },
   "file_extension": ".py",
   "mimetype": "text/x-python",
   "name": "python",
   "nbconvert_exporter": "python",
   "pygments_lexer": "ipython3",
   "version": "3.9.10"
  },
  "orig_nbformat": 4
 },
 "nbformat": 4,
 "nbformat_minor": 2
}
