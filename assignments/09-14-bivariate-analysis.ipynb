{
 "cells": [
  {
   "cell_type": "code",
   "execution_count": 1,
   "metadata": {},
   "outputs": [],
   "source": [
    "import pandas as pd\n",
    "import seaborn as sns"
   ]
  },
  {
   "cell_type": "code",
   "execution_count": 28,
   "metadata": {},
   "outputs": [],
   "source": [
    "hostels = pd.read_csv('../data/hostel.csv')\n",
    "penguins = sns.load_dataset(\"penguins\")"
   ]
  },
  {
   "cell_type": "markdown",
   "metadata": {},
   "source": [
    "### Portfolio assignment 9\n",
    "25 min: Perform a bivariate analysis on the columns with numerical data in the penguins dataset.\n",
    "- Use corr() on the DataFrame to calculate all the correlations. Use the code example above to show the correlation table with colors.\n",
    "- Look at the corrrelations. Do they match your expectations?\n",
    "- Show a scatter plot for\n",
    " - The strongest positive correlation\n",
    " - The strongest negative correlation\n",
    " - The weakest correlation"
   ]
  },
  {
   "cell_type": "markdown",
   "metadata": {},
   "source": [
    "## Expectations\n",
    "I expect that there'll be a correlation between the length and depth of the flipper and the bill, but that the length/depth of a bill does not have a correlation with the length/depth of a flipper."
   ]
  },
  {
   "cell_type": "code",
   "execution_count": 3,
   "metadata": {},
   "outputs": [
    {
     "name": "stderr",
     "output_type": "stream",
     "text": [
      "/tmp/ipykernel_534/1743595949.py:1: FutureWarning: this method is deprecated in favour of `Styler.format(precision=..)`\n",
      "  penguins.corr().style.background_gradient(cmap='coolwarm', axis=None).set_precision(2)\n"
     ]
    },
    {
     "data": {
      "text/html": [
       "<style type=\"text/css\">\n",
       "#T_8b003_row0_col0, #T_8b003_row1_col1, #T_8b003_row2_col2, #T_8b003_row3_col3 {\n",
       "  background-color: #b40426;\n",
       "  color: #f1f1f1;\n",
       "}\n",
       "#T_8b003_row0_col1, #T_8b003_row1_col0 {\n",
       "  background-color: #82a6fb;\n",
       "  color: #f1f1f1;\n",
       "}\n",
       "#T_8b003_row0_col2, #T_8b003_row2_col0 {\n",
       "  background-color: #f08b6e;\n",
       "  color: #f1f1f1;\n",
       "}\n",
       "#T_8b003_row0_col3, #T_8b003_row3_col0 {\n",
       "  background-color: #f59c7d;\n",
       "  color: #000000;\n",
       "}\n",
       "#T_8b003_row1_col2, #T_8b003_row2_col1 {\n",
       "  background-color: #3b4cc0;\n",
       "  color: #f1f1f1;\n",
       "}\n",
       "#T_8b003_row1_col3, #T_8b003_row3_col1 {\n",
       "  background-color: #506bda;\n",
       "  color: #f1f1f1;\n",
       "}\n",
       "#T_8b003_row2_col3, #T_8b003_row3_col2 {\n",
       "  background-color: #d0473d;\n",
       "  color: #f1f1f1;\n",
       "}\n",
       "</style>\n",
       "<table id=\"T_8b003\">\n",
       "  <thead>\n",
       "    <tr>\n",
       "      <th class=\"blank level0\" >&nbsp;</th>\n",
       "      <th id=\"T_8b003_level0_col0\" class=\"col_heading level0 col0\" >bill_length_mm</th>\n",
       "      <th id=\"T_8b003_level0_col1\" class=\"col_heading level0 col1\" >bill_depth_mm</th>\n",
       "      <th id=\"T_8b003_level0_col2\" class=\"col_heading level0 col2\" >flipper_length_mm</th>\n",
       "      <th id=\"T_8b003_level0_col3\" class=\"col_heading level0 col3\" >body_mass_g</th>\n",
       "    </tr>\n",
       "  </thead>\n",
       "  <tbody>\n",
       "    <tr>\n",
       "      <th id=\"T_8b003_level0_row0\" class=\"row_heading level0 row0\" >bill_length_mm</th>\n",
       "      <td id=\"T_8b003_row0_col0\" class=\"data row0 col0\" >1.00</td>\n",
       "      <td id=\"T_8b003_row0_col1\" class=\"data row0 col1\" >-0.24</td>\n",
       "      <td id=\"T_8b003_row0_col2\" class=\"data row0 col2\" >0.66</td>\n",
       "      <td id=\"T_8b003_row0_col3\" class=\"data row0 col3\" >0.60</td>\n",
       "    </tr>\n",
       "    <tr>\n",
       "      <th id=\"T_8b003_level0_row1\" class=\"row_heading level0 row1\" >bill_depth_mm</th>\n",
       "      <td id=\"T_8b003_row1_col0\" class=\"data row1 col0\" >-0.24</td>\n",
       "      <td id=\"T_8b003_row1_col1\" class=\"data row1 col1\" >1.00</td>\n",
       "      <td id=\"T_8b003_row1_col2\" class=\"data row1 col2\" >-0.58</td>\n",
       "      <td id=\"T_8b003_row1_col3\" class=\"data row1 col3\" >-0.47</td>\n",
       "    </tr>\n",
       "    <tr>\n",
       "      <th id=\"T_8b003_level0_row2\" class=\"row_heading level0 row2\" >flipper_length_mm</th>\n",
       "      <td id=\"T_8b003_row2_col0\" class=\"data row2 col0\" >0.66</td>\n",
       "      <td id=\"T_8b003_row2_col1\" class=\"data row2 col1\" >-0.58</td>\n",
       "      <td id=\"T_8b003_row2_col2\" class=\"data row2 col2\" >1.00</td>\n",
       "      <td id=\"T_8b003_row2_col3\" class=\"data row2 col3\" >0.87</td>\n",
       "    </tr>\n",
       "    <tr>\n",
       "      <th id=\"T_8b003_level0_row3\" class=\"row_heading level0 row3\" >body_mass_g</th>\n",
       "      <td id=\"T_8b003_row3_col0\" class=\"data row3 col0\" >0.60</td>\n",
       "      <td id=\"T_8b003_row3_col1\" class=\"data row3 col1\" >-0.47</td>\n",
       "      <td id=\"T_8b003_row3_col2\" class=\"data row3 col2\" >0.87</td>\n",
       "      <td id=\"T_8b003_row3_col3\" class=\"data row3 col3\" >1.00</td>\n",
       "    </tr>\n",
       "  </tbody>\n",
       "</table>\n"
      ],
      "text/plain": [
       "<pandas.io.formats.style.Styler at 0x7fb2540a0670>"
      ]
     },
     "execution_count": 3,
     "metadata": {},
     "output_type": "execute_result"
    }
   ],
   "source": [
    "penguins.corr().style.background_gradient(cmap='coolwarm', axis=None).set_precision(2)"
   ]
  },
  {
   "cell_type": "markdown",
   "metadata": {},
   "source": [
    "Strongest positive correlation."
   ]
  },
  {
   "cell_type": "code",
   "execution_count": 4,
   "metadata": {},
   "outputs": [
    {
     "data": {
      "text/plain": [
       "<AxesSubplot:xlabel='flipper_length_mm', ylabel='body_mass_g'>"
      ]
     },
     "execution_count": 4,
     "metadata": {},
     "output_type": "execute_result"
    },
    {
     "data": {
      "image/png": "[encoded data removed]",
      "text/plain": [
       "<Figure size 432x288 with 1 Axes>"
      ]
     },
     "metadata": {
      "needs_background": "light"
     },
     "output_type": "display_data"
    }
   ],
   "source": [
    "penguins.plot(kind=\"scatter\", x=\"flipper_length_mm\", y=\"body_mass_g\")"
   ]
  },
  {
   "cell_type": "markdown",
   "metadata": {},
   "source": [
    "Strongest negative correlation"
   ]
  },
  {
   "cell_type": "code",
   "execution_count": 5,
   "metadata": {},
   "outputs": [
    {
     "data": {
      "text/plain": [
       "<AxesSubplot:xlabel='flipper_length_mm', ylabel='bill_depth_mm'>"
      ]
     },
     "execution_count": 5,
     "metadata": {},
     "output_type": "execute_result"
    },
    {
     "data": {
      "image/png": "[encoded data removed]",
      "text/plain": [
       "<Figure size 432x288 with 1 Axes>"
      ]
     },
     "metadata": {
      "needs_background": "light"
     },
     "output_type": "display_data"
    }
   ],
   "source": [
    "penguins.plot(kind=\"scatter\", x=\"flipper_length_mm\", y=\"bill_depth_mm\")"
   ]
  },
  {
   "cell_type": "markdown",
   "metadata": {},
   "source": [
    "weakest correlation"
   ]
  },
  {
   "cell_type": "code",
   "execution_count": 6,
   "metadata": {},
   "outputs": [
    {
     "data": {
      "text/plain": [
       "<AxesSubplot:xlabel='bill_length_mm', ylabel='bill_depth_mm'>"
      ]
     },
     "execution_count": 6,
     "metadata": {},
     "output_type": "execute_result"
    },
    {
     "data": {
      "image/png": "[encoded data removed]",
      "text/plain": [
       "<Figure size 432x288 with 1 Axes>"
      ]
     },
     "metadata": {
      "needs_background": "light"
     },
     "output_type": "display_data"
    }
   ],
   "source": [
    "penguins.plot(kind=\"scatter\", x=\"bill_length_mm\", y=\"bill_depth_mm\")"
   ]
  },
  {
   "cell_type": "markdown",
   "metadata": {},
   "source": [
    "## Results\n",
    "Looking at the results there's actually a stronger correlation between bills and flippers instead of the depth/legnth having a orrelation with each other."
   ]
  },
  {
   "cell_type": "markdown",
   "metadata": {},
   "source": [
    "### Portfolio assignment 10\n",
    "15 min: Perform a bivariate analysis (Pearson correlation and scatter plot) on at least 1 combination of 2 columns with numeric data in the dataset that you chose in portfolio assignment 4. Does the correlation and scatter plot match your expectations? Add your answer to your notebook. Commit the Notebook to your portfolio when you're finished. "
   ]
  },
  {
   "cell_type": "code",
   "execution_count": 7,
   "metadata": {},
   "outputs": [
    {
     "name": "stderr",
     "output_type": "stream",
     "text": [
      "/tmp/ipykernel_534/568957024.py:1: FutureWarning: this method is deprecated in favour of `Styler.format(precision=..)`\n",
      "  hostels.corr().style.background_gradient(cmap='coolwarm', axis=None).set_precision(2)\n"
     ]
    },
    {
     "data": {
      "text/html": [
       "<style type=\"text/css\">\n",
       "#T_a9dff_row0_col0, #T_a9dff_row1_col1, #T_a9dff_row2_col2, #T_a9dff_row3_col3, #T_a9dff_row4_col4, #T_a9dff_row5_col5, #T_a9dff_row6_col6, #T_a9dff_row7_col7, #T_a9dff_row8_col8, #T_a9dff_row9_col9, #T_a9dff_row10_col10, #T_a9dff_row11_col11 {\n",
       "  background-color: #b40426;\n",
       "  color: #f1f1f1;\n",
       "}\n",
       "#T_a9dff_row0_col1, #T_a9dff_row1_col0 {\n",
       "  background-color: #80a3fa;\n",
       "  color: #f1f1f1;\n",
       "}\n",
       "#T_a9dff_row0_col2, #T_a9dff_row1_col7, #T_a9dff_row2_col0, #T_a9dff_row5_col11, #T_a9dff_row7_col1, #T_a9dff_row11_col5 {\n",
       "  background-color: #5875e1;\n",
       "  color: #f1f1f1;\n",
       "}\n",
       "#T_a9dff_row0_col3, #T_a9dff_row0_col5, #T_a9dff_row1_col6, #T_a9dff_row3_col0, #T_a9dff_row5_col0, #T_a9dff_row6_col1, #T_a9dff_row8_col11, #T_a9dff_row11_col8 {\n",
       "  background-color: #5d7ce6;\n",
       "  color: #f1f1f1;\n",
       "}\n",
       "#T_a9dff_row0_col4, #T_a9dff_row4_col0, #T_a9dff_row7_col11, #T_a9dff_row11_col7 {\n",
       "  background-color: #5f7fe8;\n",
       "  color: #f1f1f1;\n",
       "}\n",
       "#T_a9dff_row0_col6, #T_a9dff_row6_col0 {\n",
       "  background-color: #506bda;\n",
       "  color: #f1f1f1;\n",
       "}\n",
       "#T_a9dff_row0_col7, #T_a9dff_row7_col0 {\n",
       "  background-color: #5b7ae5;\n",
       "  color: #f1f1f1;\n",
       "}\n",
       "#T_a9dff_row0_col8, #T_a9dff_row8_col0 {\n",
       "  background-color: #6282ea;\n",
       "  color: #f1f1f1;\n",
       "}\n",
       "#T_a9dff_row0_col9, #T_a9dff_row9_col0 {\n",
       "  background-color: #4a63d3;\n",
       "  color: #f1f1f1;\n",
       "}\n",
       "#T_a9dff_row0_col10, #T_a9dff_row10_col0 {\n",
       "  background-color: #6f92f3;\n",
       "  color: #f1f1f1;\n",
       "}\n",
       "#T_a9dff_row0_col11, #T_a9dff_row11_col0 {\n",
       "  background-color: #7b9ff9;\n",
       "  color: #f1f1f1;\n",
       "}\n",
       "#T_a9dff_row1_col2, #T_a9dff_row2_col1, #T_a9dff_row3_col11, #T_a9dff_row5_col10, #T_a9dff_row10_col5, #T_a9dff_row11_col3 {\n",
       "  background-color: #516ddb;\n",
       "  color: #f1f1f1;\n",
       "}\n",
       "#T_a9dff_row1_col3, #T_a9dff_row3_col1 {\n",
       "  background-color: #3d50c3;\n",
       "  color: #f1f1f1;\n",
       "}\n",
       "#T_a9dff_row1_col4, #T_a9dff_row4_col1 {\n",
       "  background-color: #6180e9;\n",
       "  color: #f1f1f1;\n",
       "}\n",
       "#T_a9dff_row1_col5, #T_a9dff_row5_col1 {\n",
       "  background-color: #7093f3;\n",
       "  color: #f1f1f1;\n",
       "}\n",
       "#T_a9dff_row1_col8, #T_a9dff_row8_col1 {\n",
       "  background-color: #5470de;\n",
       "  color: #f1f1f1;\n",
       "}\n",
       "#T_a9dff_row1_col9, #T_a9dff_row9_col1 {\n",
       "  background-color: #3b4cc0;\n",
       "  color: #f1f1f1;\n",
       "}\n",
       "#T_a9dff_row1_col10, #T_a9dff_row10_col1 {\n",
       "  background-color: #6788ee;\n",
       "  color: #f1f1f1;\n",
       "}\n",
       "#T_a9dff_row1_col11, #T_a9dff_row11_col1 {\n",
       "  background-color: #6384eb;\n",
       "  color: #f1f1f1;\n",
       "}\n",
       "#T_a9dff_row2_col3, #T_a9dff_row2_col4, #T_a9dff_row3_col2, #T_a9dff_row4_col2 {\n",
       "  background-color: #e16751;\n",
       "  color: #f1f1f1;\n",
       "}\n",
       "#T_a9dff_row2_col5, #T_a9dff_row5_col2 {\n",
       "  background-color: #d44e41;\n",
       "  color: #f1f1f1;\n",
       "}\n",
       "#T_a9dff_row2_col6, #T_a9dff_row6_col2, #T_a9dff_row8_col9, #T_a9dff_row9_col8 {\n",
       "  background-color: #f7b497;\n",
       "  color: #000000;\n",
       "}\n",
       "#T_a9dff_row2_col7, #T_a9dff_row7_col2, #T_a9dff_row10_col11, #T_a9dff_row11_col10 {\n",
       "  background-color: #ec7f63;\n",
       "  color: #f1f1f1;\n",
       "}\n",
       "#T_a9dff_row2_col8, #T_a9dff_row8_col2 {\n",
       "  background-color: #e36c55;\n",
       "  color: #f1f1f1;\n",
       "}\n",
       "#T_a9dff_row2_col9, #T_a9dff_row9_col2 {\n",
       "  background-color: #dc5d4a;\n",
       "  color: #f1f1f1;\n",
       "}\n",
       "#T_a9dff_row2_col10, #T_a9dff_row10_col2 {\n",
       "  background-color: #4e68d8;\n",
       "  color: #f1f1f1;\n",
       "}\n",
       "#T_a9dff_row2_col11, #T_a9dff_row6_col11, #T_a9dff_row9_col11, #T_a9dff_row11_col2, #T_a9dff_row11_col6, #T_a9dff_row11_col9 {\n",
       "  background-color: #5673e0;\n",
       "  color: #f1f1f1;\n",
       "}\n",
       "#T_a9dff_row3_col4, #T_a9dff_row4_col3 {\n",
       "  background-color: #f7b396;\n",
       "  color: #000000;\n",
       "}\n",
       "#T_a9dff_row3_col5, #T_a9dff_row5_col3 {\n",
       "  background-color: #f59d7e;\n",
       "  color: #000000;\n",
       "}\n",
       "#T_a9dff_row3_col6, #T_a9dff_row6_col3 {\n",
       "  background-color: #e7d7ce;\n",
       "  color: #000000;\n",
       "}\n",
       "#T_a9dff_row3_col7, #T_a9dff_row7_col3 {\n",
       "  background-color: #f1ccb8;\n",
       "  color: #000000;\n",
       "}\n",
       "#T_a9dff_row3_col8, #T_a9dff_row7_col9, #T_a9dff_row8_col3, #T_a9dff_row9_col7 {\n",
       "  background-color: #f6a586;\n",
       "  color: #000000;\n",
       "}\n",
       "#T_a9dff_row3_col9, #T_a9dff_row9_col3 {\n",
       "  background-color: #f39475;\n",
       "  color: #000000;\n",
       "}\n",
       "#T_a9dff_row3_col10, #T_a9dff_row10_col3 {\n",
       "  background-color: #465ecf;\n",
       "  color: #f1f1f1;\n",
       "}\n",
       "#T_a9dff_row4_col5, #T_a9dff_row5_col4 {\n",
       "  background-color: #e9785d;\n",
       "  color: #f1f1f1;\n",
       "}\n",
       "#T_a9dff_row4_col6, #T_a9dff_row6_col4 {\n",
       "  background-color: #d9dce1;\n",
       "  color: #000000;\n",
       "}\n",
       "#T_a9dff_row4_col7, #T_a9dff_row7_col4 {\n",
       "  background-color: #f6bfa6;\n",
       "  color: #000000;\n",
       "}\n",
       "#T_a9dff_row4_col8, #T_a9dff_row8_col4 {\n",
       "  background-color: #f7b599;\n",
       "  color: #000000;\n",
       "}\n",
       "#T_a9dff_row4_col9, #T_a9dff_row9_col4 {\n",
       "  background-color: #f6a385;\n",
       "  color: #000000;\n",
       "}\n",
       "#T_a9dff_row4_col10, #T_a9dff_row9_col10, #T_a9dff_row10_col4, #T_a9dff_row10_col9 {\n",
       "  background-color: #4f69d9;\n",
       "  color: #f1f1f1;\n",
       "}\n",
       "#T_a9dff_row4_col11, #T_a9dff_row11_col4 {\n",
       "  background-color: #5977e3;\n",
       "  color: #f1f1f1;\n",
       "}\n",
       "#T_a9dff_row5_col6, #T_a9dff_row6_col5 {\n",
       "  background-color: #e8d6cc;\n",
       "  color: #000000;\n",
       "}\n",
       "#T_a9dff_row5_col7, #T_a9dff_row7_col5 {\n",
       "  background-color: #f7b194;\n",
       "  color: #000000;\n",
       "}\n",
       "#T_a9dff_row5_col8, #T_a9dff_row7_col8, #T_a9dff_row8_col5, #T_a9dff_row8_col7 {\n",
       "  background-color: #f6a283;\n",
       "  color: #000000;\n",
       "}\n",
       "#T_a9dff_row5_col9, #T_a9dff_row9_col5 {\n",
       "  background-color: #f08b6e;\n",
       "  color: #f1f1f1;\n",
       "}\n",
       "#T_a9dff_row6_col7, #T_a9dff_row7_col6 {\n",
       "  background-color: #d1dae9;\n",
       "  color: #000000;\n",
       "}\n",
       "#T_a9dff_row6_col8, #T_a9dff_row8_col6 {\n",
       "  background-color: #dbdcde;\n",
       "  color: #000000;\n",
       "}\n",
       "#T_a9dff_row6_col9, #T_a9dff_row9_col6 {\n",
       "  background-color: #e4d9d2;\n",
       "  color: #000000;\n",
       "}\n",
       "#T_a9dff_row6_col10, #T_a9dff_row10_col6 {\n",
       "  background-color: #455cce;\n",
       "  color: #f1f1f1;\n",
       "}\n",
       "#T_a9dff_row7_col10, #T_a9dff_row10_col7 {\n",
       "  background-color: #6485ec;\n",
       "  color: #f1f1f1;\n",
       "}\n",
       "#T_a9dff_row8_col10, #T_a9dff_row10_col8 {\n",
       "  background-color: #5a78e4;\n",
       "  color: #f1f1f1;\n",
       "}\n",
       "</style>\n",
       "<table id=\"T_a9dff\">\n",
       "  <thead>\n",
       "    <tr>\n",
       "      <th class=\"blank level0\" >&nbsp;</th>\n",
       "      <th id=\"T_a9dff_level0_col0\" class=\"col_heading level0 col0\" >Unnamed: 0</th>\n",
       "      <th id=\"T_a9dff_level0_col1\" class=\"col_heading level0 col1\" >price.from</th>\n",
       "      <th id=\"T_a9dff_level0_col2\" class=\"col_heading level0 col2\" >summary.score</th>\n",
       "      <th id=\"T_a9dff_level0_col3\" class=\"col_heading level0 col3\" >atmosphere</th>\n",
       "      <th id=\"T_a9dff_level0_col4\" class=\"col_heading level0 col4\" >cleanliness</th>\n",
       "      <th id=\"T_a9dff_level0_col5\" class=\"col_heading level0 col5\" >facilities</th>\n",
       "      <th id=\"T_a9dff_level0_col6\" class=\"col_heading level0 col6\" >location.y</th>\n",
       "      <th id=\"T_a9dff_level0_col7\" class=\"col_heading level0 col7\" >security</th>\n",
       "      <th id=\"T_a9dff_level0_col8\" class=\"col_heading level0 col8\" >staff</th>\n",
       "      <th id=\"T_a9dff_level0_col9\" class=\"col_heading level0 col9\" >valueformoney</th>\n",
       "      <th id=\"T_a9dff_level0_col10\" class=\"col_heading level0 col10\" >lon</th>\n",
       "      <th id=\"T_a9dff_level0_col11\" class=\"col_heading level0 col11\" >lat</th>\n",
       "    </tr>\n",
       "  </thead>\n",
       "  <tbody>\n",
       "    <tr>\n",
       "      <th id=\"T_a9dff_level0_row0\" class=\"row_heading level0 row0\" >Unnamed: 0</th>\n",
       "      <td id=\"T_a9dff_row0_col0\" class=\"data row0 col0\" >1.00</td>\n",
       "      <td id=\"T_a9dff_row0_col1\" class=\"data row0 col1\" >0.10</td>\n",
       "      <td id=\"T_a9dff_row0_col2\" class=\"data row0 col2\" >-0.03</td>\n",
       "      <td id=\"T_a9dff_row0_col3\" class=\"data row0 col3\" >-0.01</td>\n",
       "      <td id=\"T_a9dff_row0_col4\" class=\"data row0 col4\" >-0.00</td>\n",
       "      <td id=\"T_a9dff_row0_col5\" class=\"data row0 col5\" >-0.01</td>\n",
       "      <td id=\"T_a9dff_row0_col6\" class=\"data row0 col6\" >-0.05</td>\n",
       "      <td id=\"T_a9dff_row0_col7\" class=\"data row0 col7\" >-0.02</td>\n",
       "      <td id=\"T_a9dff_row0_col8\" class=\"data row0 col8\" >0.01</td>\n",
       "      <td id=\"T_a9dff_row0_col9\" class=\"data row0 col9\" >-0.08</td>\n",
       "      <td id=\"T_a9dff_row0_col10\" class=\"data row0 col10\" >0.05</td>\n",
       "      <td id=\"T_a9dff_row0_col11\" class=\"data row0 col11\" >0.09</td>\n",
       "    </tr>\n",
       "    <tr>\n",
       "      <th id=\"T_a9dff_level0_row1\" class=\"row_heading level0 row1\" >price.from</th>\n",
       "      <td id=\"T_a9dff_row1_col0\" class=\"data row1 col0\" >0.10</td>\n",
       "      <td id=\"T_a9dff_row1_col1\" class=\"data row1 col1\" >1.00</td>\n",
       "      <td id=\"T_a9dff_row1_col2\" class=\"data row1 col2\" >-0.05</td>\n",
       "      <td id=\"T_a9dff_row1_col3\" class=\"data row1 col3\" >-0.13</td>\n",
       "      <td id=\"T_a9dff_row1_col4\" class=\"data row1 col4\" >0.00</td>\n",
       "      <td id=\"T_a9dff_row1_col5\" class=\"data row1 col5\" >0.06</td>\n",
       "      <td id=\"T_a9dff_row1_col6\" class=\"data row1 col6\" >-0.01</td>\n",
       "      <td id=\"T_a9dff_row1_col7\" class=\"data row1 col7\" >-0.03</td>\n",
       "      <td id=\"T_a9dff_row1_col8\" class=\"data row1 col8\" >-0.04</td>\n",
       "      <td id=\"T_a9dff_row1_col9\" class=\"data row1 col9\" >-0.14</td>\n",
       "      <td id=\"T_a9dff_row1_col10\" class=\"data row1 col10\" >0.02</td>\n",
       "      <td id=\"T_a9dff_row1_col11\" class=\"data row1 col11\" >0.01</td>\n",
       "    </tr>\n",
       "    <tr>\n",
       "      <th id=\"T_a9dff_level0_row2\" class=\"row_heading level0 row2\" >summary.score</th>\n",
       "      <td id=\"T_a9dff_row2_col0\" class=\"data row2 col0\" >-0.03</td>\n",
       "      <td id=\"T_a9dff_row2_col1\" class=\"data row2 col1\" >-0.05</td>\n",
       "      <td id=\"T_a9dff_row2_col2\" class=\"data row2 col2\" >1.00</td>\n",
       "      <td id=\"T_a9dff_row2_col3\" class=\"data row2 col3\" >0.84</td>\n",
       "      <td id=\"T_a9dff_row2_col4\" class=\"data row2 col4\" >0.84</td>\n",
       "      <td id=\"T_a9dff_row2_col5\" class=\"data row2 col5\" >0.90</td>\n",
       "      <td id=\"T_a9dff_row2_col6\" class=\"data row2 col6\" >0.63</td>\n",
       "      <td id=\"T_a9dff_row2_col7\" class=\"data row2 col7\" >0.79</td>\n",
       "      <td id=\"T_a9dff_row2_col8\" class=\"data row2 col8\" >0.83</td>\n",
       "      <td id=\"T_a9dff_row2_col9\" class=\"data row2 col9\" >0.87</td>\n",
       "      <td id=\"T_a9dff_row2_col10\" class=\"data row2 col10\" >-0.07</td>\n",
       "      <td id=\"T_a9dff_row2_col11\" class=\"data row2 col11\" >-0.04</td>\n",
       "    </tr>\n",
       "    <tr>\n",
       "      <th id=\"T_a9dff_level0_row3\" class=\"row_heading level0 row3\" >atmosphere</th>\n",
       "      <td id=\"T_a9dff_row3_col0\" class=\"data row3 col0\" >-0.01</td>\n",
       "      <td id=\"T_a9dff_row3_col1\" class=\"data row3 col1\" >-0.13</td>\n",
       "      <td id=\"T_a9dff_row3_col2\" class=\"data row3 col2\" >0.84</td>\n",
       "      <td id=\"T_a9dff_row3_col3\" class=\"data row3 col3\" >1.00</td>\n",
       "      <td id=\"T_a9dff_row3_col4\" class=\"data row3 col4\" >0.64</td>\n",
       "      <td id=\"T_a9dff_row3_col5\" class=\"data row3 col5\" >0.70</td>\n",
       "      <td id=\"T_a9dff_row3_col6\" class=\"data row3 col6\" >0.48</td>\n",
       "      <td id=\"T_a9dff_row3_col7\" class=\"data row3 col7\" >0.54</td>\n",
       "      <td id=\"T_a9dff_row3_col8\" class=\"data row3 col8\" >0.68</td>\n",
       "      <td id=\"T_a9dff_row3_col9\" class=\"data row3 col9\" >0.73</td>\n",
       "      <td id=\"T_a9dff_row3_col10\" class=\"data row3 col10\" >-0.09</td>\n",
       "      <td id=\"T_a9dff_row3_col11\" class=\"data row3 col11\" >-0.05</td>\n",
       "    </tr>\n",
       "    <tr>\n",
       "      <th id=\"T_a9dff_level0_row4\" class=\"row_heading level0 row4\" >cleanliness</th>\n",
       "      <td id=\"T_a9dff_row4_col0\" class=\"data row4 col0\" >-0.00</td>\n",
       "      <td id=\"T_a9dff_row4_col1\" class=\"data row4 col1\" >0.00</td>\n",
       "      <td id=\"T_a9dff_row4_col2\" class=\"data row4 col2\" >0.84</td>\n",
       "      <td id=\"T_a9dff_row4_col3\" class=\"data row4 col3\" >0.64</td>\n",
       "      <td id=\"T_a9dff_row4_col4\" class=\"data row4 col4\" >1.00</td>\n",
       "      <td id=\"T_a9dff_row4_col5\" class=\"data row4 col5\" >0.80</td>\n",
       "      <td id=\"T_a9dff_row4_col6\" class=\"data row4 col6\" >0.41</td>\n",
       "      <td id=\"T_a9dff_row4_col7\" class=\"data row4 col7\" >0.59</td>\n",
       "      <td id=\"T_a9dff_row4_col8\" class=\"data row4 col8\" >0.63</td>\n",
       "      <td id=\"T_a9dff_row4_col9\" class=\"data row4 col9\" >0.69</td>\n",
       "      <td id=\"T_a9dff_row4_col10\" class=\"data row4 col10\" >-0.06</td>\n",
       "      <td id=\"T_a9dff_row4_col11\" class=\"data row4 col11\" >-0.03</td>\n",
       "    </tr>\n",
       "    <tr>\n",
       "      <th id=\"T_a9dff_level0_row5\" class=\"row_heading level0 row5\" >facilities</th>\n",
       "      <td id=\"T_a9dff_row5_col0\" class=\"data row5 col0\" >-0.01</td>\n",
       "      <td id=\"T_a9dff_row5_col1\" class=\"data row5 col1\" >0.06</td>\n",
       "      <td id=\"T_a9dff_row5_col2\" class=\"data row5 col2\" >0.90</td>\n",
       "      <td id=\"T_a9dff_row5_col3\" class=\"data row5 col3\" >0.70</td>\n",
       "      <td id=\"T_a9dff_row5_col4\" class=\"data row5 col4\" >0.80</td>\n",
       "      <td id=\"T_a9dff_row5_col5\" class=\"data row5 col5\" >1.00</td>\n",
       "      <td id=\"T_a9dff_row5_col6\" class=\"data row5 col6\" >0.48</td>\n",
       "      <td id=\"T_a9dff_row5_col7\" class=\"data row5 col7\" >0.64</td>\n",
       "      <td id=\"T_a9dff_row5_col8\" class=\"data row5 col8\" >0.69</td>\n",
       "      <td id=\"T_a9dff_row5_col9\" class=\"data row5 col9\" >0.75</td>\n",
       "      <td id=\"T_a9dff_row5_col10\" class=\"data row5 col10\" >-0.05</td>\n",
       "      <td id=\"T_a9dff_row5_col11\" class=\"data row5 col11\" >-0.03</td>\n",
       "    </tr>\n",
       "    <tr>\n",
       "      <th id=\"T_a9dff_level0_row6\" class=\"row_heading level0 row6\" >location.y</th>\n",
       "      <td id=\"T_a9dff_row6_col0\" class=\"data row6 col0\" >-0.05</td>\n",
       "      <td id=\"T_a9dff_row6_col1\" class=\"data row6 col1\" >-0.01</td>\n",
       "      <td id=\"T_a9dff_row6_col2\" class=\"data row6 col2\" >0.63</td>\n",
       "      <td id=\"T_a9dff_row6_col3\" class=\"data row6 col3\" >0.48</td>\n",
       "      <td id=\"T_a9dff_row6_col4\" class=\"data row6 col4\" >0.41</td>\n",
       "      <td id=\"T_a9dff_row6_col5\" class=\"data row6 col5\" >0.48</td>\n",
       "      <td id=\"T_a9dff_row6_col6\" class=\"data row6 col6\" >1.00</td>\n",
       "      <td id=\"T_a9dff_row6_col7\" class=\"data row6 col7\" >0.38</td>\n",
       "      <td id=\"T_a9dff_row6_col8\" class=\"data row6 col8\" >0.42</td>\n",
       "      <td id=\"T_a9dff_row6_col9\" class=\"data row6 col9\" >0.46</td>\n",
       "      <td id=\"T_a9dff_row6_col10\" class=\"data row6 col10\" >-0.09</td>\n",
       "      <td id=\"T_a9dff_row6_col11\" class=\"data row6 col11\" >-0.03</td>\n",
       "    </tr>\n",
       "    <tr>\n",
       "      <th id=\"T_a9dff_level0_row7\" class=\"row_heading level0 row7\" >security</th>\n",
       "      <td id=\"T_a9dff_row7_col0\" class=\"data row7 col0\" >-0.02</td>\n",
       "      <td id=\"T_a9dff_row7_col1\" class=\"data row7 col1\" >-0.03</td>\n",
       "      <td id=\"T_a9dff_row7_col2\" class=\"data row7 col2\" >0.79</td>\n",
       "      <td id=\"T_a9dff_row7_col3\" class=\"data row7 col3\" >0.54</td>\n",
       "      <td id=\"T_a9dff_row7_col4\" class=\"data row7 col4\" >0.59</td>\n",
       "      <td id=\"T_a9dff_row7_col5\" class=\"data row7 col5\" >0.64</td>\n",
       "      <td id=\"T_a9dff_row7_col6\" class=\"data row7 col6\" >0.38</td>\n",
       "      <td id=\"T_a9dff_row7_col7\" class=\"data row7 col7\" >1.00</td>\n",
       "      <td id=\"T_a9dff_row7_col8\" class=\"data row7 col8\" >0.69</td>\n",
       "      <td id=\"T_a9dff_row7_col9\" class=\"data row7 col9\" >0.68</td>\n",
       "      <td id=\"T_a9dff_row7_col10\" class=\"data row7 col10\" >0.02</td>\n",
       "      <td id=\"T_a9dff_row7_col11\" class=\"data row7 col11\" >-0.00</td>\n",
       "    </tr>\n",
       "    <tr>\n",
       "      <th id=\"T_a9dff_level0_row8\" class=\"row_heading level0 row8\" >staff</th>\n",
       "      <td id=\"T_a9dff_row8_col0\" class=\"data row8 col0\" >0.01</td>\n",
       "      <td id=\"T_a9dff_row8_col1\" class=\"data row8 col1\" >-0.04</td>\n",
       "      <td id=\"T_a9dff_row8_col2\" class=\"data row8 col2\" >0.83</td>\n",
       "      <td id=\"T_a9dff_row8_col3\" class=\"data row8 col3\" >0.68</td>\n",
       "      <td id=\"T_a9dff_row8_col4\" class=\"data row8 col4\" >0.63</td>\n",
       "      <td id=\"T_a9dff_row8_col5\" class=\"data row8 col5\" >0.69</td>\n",
       "      <td id=\"T_a9dff_row8_col6\" class=\"data row8 col6\" >0.42</td>\n",
       "      <td id=\"T_a9dff_row8_col7\" class=\"data row8 col7\" >0.69</td>\n",
       "      <td id=\"T_a9dff_row8_col8\" class=\"data row8 col8\" >1.00</td>\n",
       "      <td id=\"T_a9dff_row8_col9\" class=\"data row8 col9\" >0.63</td>\n",
       "      <td id=\"T_a9dff_row8_col10\" class=\"data row8 col10\" >-0.02</td>\n",
       "      <td id=\"T_a9dff_row8_col11\" class=\"data row8 col11\" >-0.01</td>\n",
       "    </tr>\n",
       "    <tr>\n",
       "      <th id=\"T_a9dff_level0_row9\" class=\"row_heading level0 row9\" >valueformoney</th>\n",
       "      <td id=\"T_a9dff_row9_col0\" class=\"data row9 col0\" >-0.08</td>\n",
       "      <td id=\"T_a9dff_row9_col1\" class=\"data row9 col1\" >-0.14</td>\n",
       "      <td id=\"T_a9dff_row9_col2\" class=\"data row9 col2\" >0.87</td>\n",
       "      <td id=\"T_a9dff_row9_col3\" class=\"data row9 col3\" >0.73</td>\n",
       "      <td id=\"T_a9dff_row9_col4\" class=\"data row9 col4\" >0.69</td>\n",
       "      <td id=\"T_a9dff_row9_col5\" class=\"data row9 col5\" >0.75</td>\n",
       "      <td id=\"T_a9dff_row9_col6\" class=\"data row9 col6\" >0.46</td>\n",
       "      <td id=\"T_a9dff_row9_col7\" class=\"data row9 col7\" >0.68</td>\n",
       "      <td id=\"T_a9dff_row9_col8\" class=\"data row9 col8\" >0.63</td>\n",
       "      <td id=\"T_a9dff_row9_col9\" class=\"data row9 col9\" >1.00</td>\n",
       "      <td id=\"T_a9dff_row9_col10\" class=\"data row9 col10\" >-0.06</td>\n",
       "      <td id=\"T_a9dff_row9_col11\" class=\"data row9 col11\" >-0.04</td>\n",
       "    </tr>\n",
       "    <tr>\n",
       "      <th id=\"T_a9dff_level0_row10\" class=\"row_heading level0 row10\" >lon</th>\n",
       "      <td id=\"T_a9dff_row10_col0\" class=\"data row10 col0\" >0.05</td>\n",
       "      <td id=\"T_a9dff_row10_col1\" class=\"data row10 col1\" >0.02</td>\n",
       "      <td id=\"T_a9dff_row10_col2\" class=\"data row10 col2\" >-0.07</td>\n",
       "      <td id=\"T_a9dff_row10_col3\" class=\"data row10 col3\" >-0.09</td>\n",
       "      <td id=\"T_a9dff_row10_col4\" class=\"data row10 col4\" >-0.06</td>\n",
       "      <td id=\"T_a9dff_row10_col5\" class=\"data row10 col5\" >-0.05</td>\n",
       "      <td id=\"T_a9dff_row10_col6\" class=\"data row10 col6\" >-0.09</td>\n",
       "      <td id=\"T_a9dff_row10_col7\" class=\"data row10 col7\" >0.02</td>\n",
       "      <td id=\"T_a9dff_row10_col8\" class=\"data row10 col8\" >-0.02</td>\n",
       "      <td id=\"T_a9dff_row10_col9\" class=\"data row10 col9\" >-0.06</td>\n",
       "      <td id=\"T_a9dff_row10_col10\" class=\"data row10 col10\" >1.00</td>\n",
       "      <td id=\"T_a9dff_row10_col11\" class=\"data row10 col11\" >0.79</td>\n",
       "    </tr>\n",
       "    <tr>\n",
       "      <th id=\"T_a9dff_level0_row11\" class=\"row_heading level0 row11\" >lat</th>\n",
       "      <td id=\"T_a9dff_row11_col0\" class=\"data row11 col0\" >0.09</td>\n",
       "      <td id=\"T_a9dff_row11_col1\" class=\"data row11 col1\" >0.01</td>\n",
       "      <td id=\"T_a9dff_row11_col2\" class=\"data row11 col2\" >-0.04</td>\n",
       "      <td id=\"T_a9dff_row11_col3\" class=\"data row11 col3\" >-0.05</td>\n",
       "      <td id=\"T_a9dff_row11_col4\" class=\"data row11 col4\" >-0.03</td>\n",
       "      <td id=\"T_a9dff_row11_col5\" class=\"data row11 col5\" >-0.03</td>\n",
       "      <td id=\"T_a9dff_row11_col6\" class=\"data row11 col6\" >-0.03</td>\n",
       "      <td id=\"T_a9dff_row11_col7\" class=\"data row11 col7\" >-0.00</td>\n",
       "      <td id=\"T_a9dff_row11_col8\" class=\"data row11 col8\" >-0.01</td>\n",
       "      <td id=\"T_a9dff_row11_col9\" class=\"data row11 col9\" >-0.04</td>\n",
       "      <td id=\"T_a9dff_row11_col10\" class=\"data row11 col10\" >0.79</td>\n",
       "      <td id=\"T_a9dff_row11_col11\" class=\"data row11 col11\" >1.00</td>\n",
       "    </tr>\n",
       "  </tbody>\n",
       "</table>\n"
      ],
      "text/plain": [
       "<pandas.io.formats.style.Styler at 0x7fb21b1ec520>"
      ]
     },
     "execution_count": 7,
     "metadata": {},
     "output_type": "execute_result"
    }
   ],
   "source": [
    "hostels.corr().style.background_gradient(cmap='coolwarm', axis=None).set_precision(2)"
   ]
  },
  {
   "cell_type": "code",
   "execution_count": 8,
   "metadata": {},
   "outputs": [
    {
     "data": {
      "text/plain": [
       "<AxesSubplot:xlabel='summary.score', ylabel='facilities'>"
      ]
     },
     "execution_count": 8,
     "metadata": {},
     "output_type": "execute_result"
    },
    {
     "data": {
      "image/png": "[encoded data removed]",
      "text/plain": [
       "<Figure size 432x288 with 1 Axes>"
      ]
     },
     "metadata": {
      "needs_background": "light"
     },
     "output_type": "display_data"
    }
   ],
   "source": [
    "hostels.plot(kind='scatter', x='summary.score', y='facilities')"
   ]
  },
  {
   "cell_type": "code",
   "execution_count": 9,
   "metadata": {},
   "outputs": [
    {
     "data": {
      "text/plain": [
       "<AxesSubplot:xlabel='summary.score', ylabel='valueformoney'>"
      ]
     },
     "execution_count": 9,
     "metadata": {},
     "output_type": "execute_result"
    },
    {
     "data": {
      "image/png": "[encoded data removed]",
      "text/plain": [
       "<Figure size 432x288 with 1 Axes>"
      ]
     },
     "metadata": {
      "needs_background": "light"
     },
     "output_type": "display_data"
    }
   ],
   "source": [
    "hostels.plot(kind='scatter', x='summary.score', y='valueformoney')"
   ]
  },
  {
   "cell_type": "markdown",
   "metadata": {},
   "source": [
    "### Extra\n",
    "What's interesting is that the atmosphere has a large correlation with the score. This is interesting because it isn't anything that's directly involved in the hostel itself such as the staff or the price of the hostel."
   ]
  },
  {
   "cell_type": "code",
   "execution_count": 10,
   "metadata": {},
   "outputs": [
    {
     "data": {
      "text/plain": [
       "<AxesSubplot:xlabel='summary.score', ylabel='atmosphere'>"
      ]
     },
     "execution_count": 10,
     "metadata": {},
     "output_type": "execute_result"
    },
    {
     "data": {
      "image/png": "[encoded data removed]",
      "text/plain": [
       "<Figure size 432x288 with 1 Axes>"
      ]
     },
     "metadata": {
      "needs_background": "light"
     },
     "output_type": "display_data"
    }
   ],
   "source": [
    "hostels.plot(kind='scatter', x='summary.score', y='atmosphere')"
   ]
  },
  {
   "cell_type": "markdown",
   "metadata": {},
   "source": [
    "### Portfolio assignment 11\n",
    "20 min: Do a Numerical VS Categorical bivariate analysis on the penguins dataset.\n",
    "- Choose one of the categorical columns: species, island or sex\n",
    "- use .groupby('<columnname>').mean() too look at the means of the numerical columns. Does it look like there is a difference between categories?\n",
    "- Use the seaborn barplot to plot the mean and confidence. Create this plot for each of the numerical columns (bill_length_mm\tbill_depth_mm, flipper_length_mm, body_mass_g)\n",
    "- For each of the plots, write a conclusion: Is there a statistically significant difference for this numerical column for each category?\n",
    "- Optional: Repeat this proces for the other two categorical columns"
   ]
  },
  {
   "cell_type": "markdown",
   "metadata": {},
   "source": [
    "As seen below the Biscoe island shows values that are off compared to the values on the Dream and Torgersen island.\n",
    "The flipper length and body mass are higher than on the other two island.\n",
    "On the Torgersen island the mean for the bill length is a lot lower than on the other island with a similar mean of around 44-45."
   ]
  },
  {
   "cell_type": "code",
   "execution_count": 11,
   "metadata": {},
   "outputs": [
    {
     "data": {
      "text/html": [
       "<div>\n",
       "<style scoped>\n",
       "    .dataframe tbody tr th:only-of-type {\n",
       "        vertical-align: middle;\n",
       "    }\n",
       "\n",
       "    .dataframe tbody tr th {\n",
       "        vertical-align: top;\n",
       "    }\n",
       "\n",
       "    .dataframe thead th {\n",
       "        text-align: right;\n",
       "    }\n",
       "</style>\n",
       "<table border=\"1\" class=\"dataframe\">\n",
       "  <thead>\n",
       "    <tr style=\"text-align: right;\">\n",
       "      <th></th>\n",
       "      <th>bill_length_mm</th>\n",
       "      <th>bill_depth_mm</th>\n",
       "      <th>flipper_length_mm</th>\n",
       "      <th>body_mass_g</th>\n",
       "    </tr>\n",
       "    <tr>\n",
       "      <th>island</th>\n",
       "      <th></th>\n",
       "      <th></th>\n",
       "      <th></th>\n",
       "      <th></th>\n",
       "    </tr>\n",
       "  </thead>\n",
       "  <tbody>\n",
       "    <tr>\n",
       "      <th>Biscoe</th>\n",
       "      <td>45.257485</td>\n",
       "      <td>15.874850</td>\n",
       "      <td>209.706587</td>\n",
       "      <td>4716.017964</td>\n",
       "    </tr>\n",
       "    <tr>\n",
       "      <th>Dream</th>\n",
       "      <td>44.167742</td>\n",
       "      <td>18.344355</td>\n",
       "      <td>193.072581</td>\n",
       "      <td>3712.903226</td>\n",
       "    </tr>\n",
       "    <tr>\n",
       "      <th>Torgersen</th>\n",
       "      <td>38.950980</td>\n",
       "      <td>18.429412</td>\n",
       "      <td>191.196078</td>\n",
       "      <td>3706.372549</td>\n",
       "    </tr>\n",
       "  </tbody>\n",
       "</table>\n",
       "</div>"
      ],
      "text/plain": [
       "           bill_length_mm  bill_depth_mm  flipper_length_mm  body_mass_g\n",
       "island                                                                  \n",
       "Biscoe          45.257485      15.874850         209.706587  4716.017964\n",
       "Dream           44.167742      18.344355         193.072581  3712.903226\n",
       "Torgersen       38.950980      18.429412         191.196078  3706.372549"
      ]
     },
     "execution_count": 11,
     "metadata": {},
     "output_type": "execute_result"
    }
   ],
   "source": [
    "penguins.groupby([\"island\"]).mean()"
   ]
  },
  {
   "cell_type": "markdown",
   "metadata": {},
   "source": [
    "When looking at the bill length, the penguins of the Tongersen island have shorter bills."
   ]
  },
  {
   "cell_type": "code",
   "execution_count": 12,
   "metadata": {},
   "outputs": [
    {
     "data": {
      "text/plain": [
       "<AxesSubplot:xlabel='island', ylabel='bill_length_mm'>"
      ]
     },
     "execution_count": 12,
     "metadata": {},
     "output_type": "execute_result"
    },
    {
     "data": {
      "image/png": "[encoded data removed]",
      "text/plain": [
       "<Figure size 432x288 with 1 Axes>"
      ]
     },
     "metadata": {
      "needs_background": "light"
     },
     "output_type": "display_data"
    }
   ],
   "source": [
    "sns.barplot(y=\"bill_length_mm\", x=\"island\", data=penguins)\n"
   ]
  },
  {
   "cell_type": "markdown",
   "metadata": {},
   "source": [
    "When looking at the depth of the Bills you can see that the penguins on the Biscoe\n",
    "\n",
    "is flatter than compared to the penguins on the other islands.\n"
   ]
  },
  {
   "cell_type": "code",
   "execution_count": 13,
   "metadata": {},
   "outputs": [
    {
     "data": {
      "text/plain": [
       "<AxesSubplot:xlabel='island', ylabel='bill_depth_mm'>"
      ]
     },
     "execution_count": 13,
     "metadata": {},
     "output_type": "execute_result"
    },
    {
     "data": {
      "image/png": "[encoded data removed]",
      "text/plain": [
       "<Figure size 432x288 with 1 Axes>"
      ]
     },
     "metadata": {
      "needs_background": "light"
     },
     "output_type": "display_data"
    }
   ],
   "source": [
    "sns.barplot(y=\"bill_depth_mm\", x=\"island\", data=penguins)\n"
   ]
  },
  {
   "cell_type": "markdown",
   "metadata": {},
   "source": [
    "The flipper length doesn't show anything as significant as the other barplots. The Biscoe's flippers are a little longer followed by the Dream Penguins and then the Torgersen."
   ]
  },
  {
   "cell_type": "code",
   "execution_count": 14,
   "metadata": {},
   "outputs": [
    {
     "data": {
      "text/plain": [
       "<AxesSubplot:xlabel='island', ylabel='flipper_length_mm'>"
      ]
     },
     "execution_count": 14,
     "metadata": {},
     "output_type": "execute_result"
    },
    {
     "data": {
      "image/png": "[encoded data removed]",
      "text/plain": [
       "<Figure size 432x288 with 1 Axes>"
      ]
     },
     "metadata": {
      "needs_background": "light"
     },
     "output_type": "display_data"
    }
   ],
   "source": [
    "sns.barplot(y=\"flipper_length_mm\", x=\"island\", data=penguins)\n"
   ]
  },
  {
   "cell_type": "code",
   "execution_count": 15,
   "metadata": {},
   "outputs": [
    {
     "data": {
      "text/plain": [
       "<AxesSubplot:xlabel='island', ylabel='body_mass_g'>"
      ]
     },
     "execution_count": 15,
     "metadata": {},
     "output_type": "execute_result"
    },
    {
     "data": {
      "image/png": "[encoded data removed]",
      "text/plain": [
       "<Figure size 432x288 with 1 Axes>"
      ]
     },
     "metadata": {
      "needs_background": "light"
     },
     "output_type": "display_data"
    }
   ],
   "source": [
    "sns.barplot(y=\"body_mass_g\", x=\"island\", data=penguins)\n"
   ]
  },
  {
   "cell_type": "markdown",
   "metadata": {},
   "source": [
    "### Portfolio assignment 12\n",
    "30 min: Perform a bivariate analysis on at least 3 combinations of a numerical column with a categorical column in the dataset that you chose in portfolio assignment 4. Use <em>.groupby('columnname').mean()</em> to calculate the means. Is there a difference between categories? Then use seaborn barplots to check if there is a statistically significant difference. "
   ]
  },
  {
   "cell_type": "code",
   "execution_count": 16,
   "metadata": {},
   "outputs": [
    {
     "data": {
      "text/html": [
       "<div>\n",
       "<style scoped>\n",
       "    .dataframe tbody tr th:only-of-type {\n",
       "        vertical-align: middle;\n",
       "    }\n",
       "\n",
       "    .dataframe tbody tr th {\n",
       "        vertical-align: top;\n",
       "    }\n",
       "\n",
       "    .dataframe thead th {\n",
       "        text-align: right;\n",
       "    }\n",
       "</style>\n",
       "<table border=\"1\" class=\"dataframe\">\n",
       "  <thead>\n",
       "    <tr style=\"text-align: right;\">\n",
       "      <th></th>\n",
       "      <th>Unnamed: 0</th>\n",
       "      <th>hostel.name</th>\n",
       "      <th>City</th>\n",
       "      <th>price.from</th>\n",
       "      <th>Distance</th>\n",
       "      <th>summary.score</th>\n",
       "      <th>rating.band</th>\n",
       "      <th>atmosphere</th>\n",
       "      <th>cleanliness</th>\n",
       "      <th>facilities</th>\n",
       "      <th>location.y</th>\n",
       "      <th>security</th>\n",
       "      <th>staff</th>\n",
       "      <th>valueformoney</th>\n",
       "      <th>lon</th>\n",
       "      <th>lat</th>\n",
       "    </tr>\n",
       "  </thead>\n",
       "  <tbody>\n",
       "    <tr>\n",
       "      <th>0</th>\n",
       "      <td>1</td>\n",
       "      <td>\"Bike &amp; Bed\" CharinCo Hostel</td>\n",
       "      <td>Osaka</td>\n",
       "      <td>3300</td>\n",
       "      <td>2.9km from city centre</td>\n",
       "      <td>9.2</td>\n",
       "      <td>Superb</td>\n",
       "      <td>8.9</td>\n",
       "      <td>9.4</td>\n",
       "      <td>9.3</td>\n",
       "      <td>8.9</td>\n",
       "      <td>9.0</td>\n",
       "      <td>9.4</td>\n",
       "      <td>9.4</td>\n",
       "      <td>135.513767</td>\n",
       "      <td>34.682678</td>\n",
       "    </tr>\n",
       "    <tr>\n",
       "      <th>1</th>\n",
       "      <td>2</td>\n",
       "      <td>&amp; And Hostel</td>\n",
       "      <td>Fukuoka-City</td>\n",
       "      <td>2600</td>\n",
       "      <td>0.7km from city centre</td>\n",
       "      <td>9.5</td>\n",
       "      <td>Superb</td>\n",
       "      <td>9.4</td>\n",
       "      <td>9.7</td>\n",
       "      <td>9.5</td>\n",
       "      <td>9.7</td>\n",
       "      <td>9.2</td>\n",
       "      <td>9.7</td>\n",
       "      <td>9.5</td>\n",
       "      <td>NaN</td>\n",
       "      <td>NaN</td>\n",
       "    </tr>\n",
       "    <tr>\n",
       "      <th>2</th>\n",
       "      <td>3</td>\n",
       "      <td>&amp;And Hostel Akihabara</td>\n",
       "      <td>Tokyo</td>\n",
       "      <td>3600</td>\n",
       "      <td>7.8km from city centre</td>\n",
       "      <td>8.7</td>\n",
       "      <td>Fabulous</td>\n",
       "      <td>8.0</td>\n",
       "      <td>7.0</td>\n",
       "      <td>9.0</td>\n",
       "      <td>8.0</td>\n",
       "      <td>10.0</td>\n",
       "      <td>10.0</td>\n",
       "      <td>9.0</td>\n",
       "      <td>139.777472</td>\n",
       "      <td>35.697447</td>\n",
       "    </tr>\n",
       "    <tr>\n",
       "      <th>3</th>\n",
       "      <td>4</td>\n",
       "      <td>&amp;And Hostel Ueno</td>\n",
       "      <td>Tokyo</td>\n",
       "      <td>2600</td>\n",
       "      <td>8.7km from city centre</td>\n",
       "      <td>7.4</td>\n",
       "      <td>Very Good</td>\n",
       "      <td>8.0</td>\n",
       "      <td>7.5</td>\n",
       "      <td>7.5</td>\n",
       "      <td>7.5</td>\n",
       "      <td>7.0</td>\n",
       "      <td>8.0</td>\n",
       "      <td>6.5</td>\n",
       "      <td>139.783667</td>\n",
       "      <td>35.712716</td>\n",
       "    </tr>\n",
       "    <tr>\n",
       "      <th>4</th>\n",
       "      <td>5</td>\n",
       "      <td>&amp;And Hostel-Asakusa North-</td>\n",
       "      <td>Tokyo</td>\n",
       "      <td>1500</td>\n",
       "      <td>10.5km from city centre</td>\n",
       "      <td>9.4</td>\n",
       "      <td>Superb</td>\n",
       "      <td>9.5</td>\n",
       "      <td>9.5</td>\n",
       "      <td>9.0</td>\n",
       "      <td>9.0</td>\n",
       "      <td>9.5</td>\n",
       "      <td>10.0</td>\n",
       "      <td>9.5</td>\n",
       "      <td>139.798371</td>\n",
       "      <td>35.727898</td>\n",
       "    </tr>\n",
       "  </tbody>\n",
       "</table>\n",
       "</div>"
      ],
      "text/plain": [
       "   Unnamed: 0                   hostel.name          City  price.from  \\\n",
       "0           1  \"Bike & Bed\" CharinCo Hostel         Osaka        3300   \n",
       "1           2                  & And Hostel  Fukuoka-City        2600   \n",
       "2           3         &And Hostel Akihabara         Tokyo        3600   \n",
       "3           4              &And Hostel Ueno         Tokyo        2600   \n",
       "4           5    &And Hostel-Asakusa North-         Tokyo        1500   \n",
       "\n",
       "                  Distance  summary.score rating.band  atmosphere  \\\n",
       "0   2.9km from city centre            9.2      Superb         8.9   \n",
       "1   0.7km from city centre            9.5      Superb         9.4   \n",
       "2   7.8km from city centre            8.7    Fabulous         8.0   \n",
       "3   8.7km from city centre            7.4   Very Good         8.0   \n",
       "4  10.5km from city centre            9.4      Superb         9.5   \n",
       "\n",
       "   cleanliness  facilities  location.y  security  staff  valueformoney  \\\n",
       "0          9.4         9.3         8.9       9.0    9.4            9.4   \n",
       "1          9.7         9.5         9.7       9.2    9.7            9.5   \n",
       "2          7.0         9.0         8.0      10.0   10.0            9.0   \n",
       "3          7.5         7.5         7.5       7.0    8.0            6.5   \n",
       "4          9.5         9.0         9.0       9.5   10.0            9.5   \n",
       "\n",
       "          lon        lat  \n",
       "0  135.513767  34.682678  \n",
       "1         NaN        NaN  \n",
       "2  139.777472  35.697447  \n",
       "3  139.783667  35.712716  \n",
       "4  139.798371  35.727898  "
      ]
     },
     "execution_count": 16,
     "metadata": {},
     "output_type": "execute_result"
    }
   ],
   "source": [
    "hostels.head()"
   ]
  },
  {
   "cell_type": "code",
   "execution_count": 17,
   "metadata": {},
   "outputs": [
    {
     "data": {
      "text/html": [
       "<div>\n",
       "<style scoped>\n",
       "    .dataframe tbody tr th:only-of-type {\n",
       "        vertical-align: middle;\n",
       "    }\n",
       "\n",
       "    .dataframe tbody tr th {\n",
       "        vertical-align: top;\n",
       "    }\n",
       "\n",
       "    .dataframe thead th {\n",
       "        text-align: right;\n",
       "    }\n",
       "</style>\n",
       "<table border=\"1\" class=\"dataframe\">\n",
       "  <thead>\n",
       "    <tr style=\"text-align: right;\">\n",
       "      <th></th>\n",
       "      <th>Unnamed: 0</th>\n",
       "      <th>price.from</th>\n",
       "      <th>summary.score</th>\n",
       "      <th>atmosphere</th>\n",
       "      <th>cleanliness</th>\n",
       "      <th>facilities</th>\n",
       "      <th>location.y</th>\n",
       "      <th>security</th>\n",
       "      <th>staff</th>\n",
       "      <th>valueformoney</th>\n",
       "      <th>lon</th>\n",
       "      <th>lat</th>\n",
       "    </tr>\n",
       "    <tr>\n",
       "      <th>City</th>\n",
       "      <th></th>\n",
       "      <th></th>\n",
       "      <th></th>\n",
       "      <th></th>\n",
       "      <th></th>\n",
       "      <th></th>\n",
       "      <th></th>\n",
       "      <th></th>\n",
       "      <th></th>\n",
       "      <th></th>\n",
       "      <th></th>\n",
       "      <th></th>\n",
       "    </tr>\n",
       "  </thead>\n",
       "  <tbody>\n",
       "    <tr>\n",
       "      <th>Fukuoka-City</th>\n",
       "      <td>155.894737</td>\n",
       "      <td>2736.842105</td>\n",
       "      <td>9.070588</td>\n",
       "      <td>8.817647</td>\n",
       "      <td>9.376471</td>\n",
       "      <td>8.900000</td>\n",
       "      <td>9.017647</td>\n",
       "      <td>9.076471</td>\n",
       "      <td>9.358824</td>\n",
       "      <td>8.982353</td>\n",
       "      <td>130.420316</td>\n",
       "      <td>33.586296</td>\n",
       "    </tr>\n",
       "    <tr>\n",
       "      <th>Hiroshima</th>\n",
       "      <td>150.714286</td>\n",
       "      <td>2578.571429</td>\n",
       "      <td>9.171429</td>\n",
       "      <td>8.535714</td>\n",
       "      <td>9.535714</td>\n",
       "      <td>8.785714</td>\n",
       "      <td>9.228571</td>\n",
       "      <td>9.371429</td>\n",
       "      <td>9.450000</td>\n",
       "      <td>9.242857</td>\n",
       "      <td>132.435495</td>\n",
       "      <td>34.385859</td>\n",
       "    </tr>\n",
       "    <tr>\n",
       "      <th>Kyoto</th>\n",
       "      <td>174.320513</td>\n",
       "      <td>2293.589744</td>\n",
       "      <td>8.961644</td>\n",
       "      <td>8.441096</td>\n",
       "      <td>9.345205</td>\n",
       "      <td>8.793151</td>\n",
       "      <td>8.884932</td>\n",
       "      <td>9.094521</td>\n",
       "      <td>9.168493</td>\n",
       "      <td>9.013699</td>\n",
       "      <td>135.761126</td>\n",
       "      <td>34.997727</td>\n",
       "    </tr>\n",
       "    <tr>\n",
       "      <th>Osaka</th>\n",
       "      <td>177.673077</td>\n",
       "      <td>12014.423077</td>\n",
       "      <td>8.626733</td>\n",
       "      <td>8.091089</td>\n",
       "      <td>8.754455</td>\n",
       "      <td>8.501980</td>\n",
       "      <td>8.560396</td>\n",
       "      <td>8.697030</td>\n",
       "      <td>9.064356</td>\n",
       "      <td>8.700000</td>\n",
       "      <td>135.198067</td>\n",
       "      <td>34.324737</td>\n",
       "    </tr>\n",
       "    <tr>\n",
       "      <th>Tokyo</th>\n",
       "      <td>169.338583</td>\n",
       "      <td>10647.244094</td>\n",
       "      <td>8.719672</td>\n",
       "      <td>8.125410</td>\n",
       "      <td>8.914754</td>\n",
       "      <td>8.495902</td>\n",
       "      <td>8.586066</td>\n",
       "      <td>9.000000</td>\n",
       "      <td>9.101639</td>\n",
       "      <td>8.808197</td>\n",
       "      <td>139.767171</td>\n",
       "      <td>35.698671</td>\n",
       "    </tr>\n",
       "  </tbody>\n",
       "</table>\n",
       "</div>"
      ],
      "text/plain": [
       "              Unnamed: 0    price.from  summary.score  atmosphere  \\\n",
       "City                                                                \n",
       "Fukuoka-City  155.894737   2736.842105       9.070588    8.817647   \n",
       "Hiroshima     150.714286   2578.571429       9.171429    8.535714   \n",
       "Kyoto         174.320513   2293.589744       8.961644    8.441096   \n",
       "Osaka         177.673077  12014.423077       8.626733    8.091089   \n",
       "Tokyo         169.338583  10647.244094       8.719672    8.125410   \n",
       "\n",
       "              cleanliness  facilities  location.y  security     staff  \\\n",
       "City                                                                    \n",
       "Fukuoka-City     9.376471    8.900000    9.017647  9.076471  9.358824   \n",
       "Hiroshima        9.535714    8.785714    9.228571  9.371429  9.450000   \n",
       "Kyoto            9.345205    8.793151    8.884932  9.094521  9.168493   \n",
       "Osaka            8.754455    8.501980    8.560396  8.697030  9.064356   \n",
       "Tokyo            8.914754    8.495902    8.586066  9.000000  9.101639   \n",
       "\n",
       "              valueformoney         lon        lat  \n",
       "City                                                \n",
       "Fukuoka-City       8.982353  130.420316  33.586296  \n",
       "Hiroshima          9.242857  132.435495  34.385859  \n",
       "Kyoto              9.013699  135.761126  34.997727  \n",
       "Osaka              8.700000  135.198067  34.324737  \n",
       "Tokyo              8.808197  139.767171  35.698671  "
      ]
     },
     "execution_count": 17,
     "metadata": {},
     "output_type": "execute_result"
    }
   ],
   "source": [
    "hostels.groupby(['City']).mean()"
   ]
  },
  {
   "cell_type": "markdown",
   "metadata": {},
   "source": [
    "The confidence intervals are too big, so we can't really say certain cities are more expensive than others."
   ]
  },
  {
   "cell_type": "code",
   "execution_count": 18,
   "metadata": {},
   "outputs": [
    {
     "data": {
      "text/plain": [
       "<AxesSubplot:xlabel='City', ylabel='price.from'>"
      ]
     },
     "execution_count": 18,
     "metadata": {},
     "output_type": "execute_result"
    },
    {
     "data": {
      "image/png": "[encoded data removed]",
      "text/plain": [
       "<Figure size 432x288 with 1 Axes>"
      ]
     },
     "metadata": {
      "needs_background": "light"
     },
     "output_type": "display_data"
    }
   ],
   "source": [
    "sns.barplot(y=\"price.from\", x=\"City\", data=hostels)"
   ]
  },
  {
   "cell_type": "markdown",
   "metadata": {},
   "source": [
    "Superb and Fabulous hostels seem to score higher for value for money"
   ]
  },
  {
   "cell_type": "code",
   "execution_count": 21,
   "metadata": {},
   "outputs": [
    {
     "data": {
      "text/plain": [
       "<AxesSubplot:xlabel='rating.band', ylabel='valueformoney'>"
      ]
     },
     "execution_count": 21,
     "metadata": {},
     "output_type": "execute_result"
    },
    {
     "data": {
      "image/png": "[encoded data removed]",
      "text/plain": [
       "<Figure size 432x288 with 1 Axes>"
      ]
     },
     "metadata": {
      "needs_background": "light"
     },
     "output_type": "display_data"
    }
   ],
   "source": [
    "sns.barplot(y=\"valueformoney\", x=\"rating.band\", data=hostels)"
   ]
  },
  {
   "cell_type": "markdown",
   "metadata": {},
   "source": [
    "They all seem to score very high."
   ]
  },
  {
   "cell_type": "code",
   "execution_count": 20,
   "metadata": {},
   "outputs": [
    {
     "data": {
      "text/plain": [
       "<AxesSubplot:xlabel='City', ylabel='cleanliness'>"
      ]
     },
     "execution_count": 20,
     "metadata": {},
     "output_type": "execute_result"
    },
    {
     "data": {
      "image/png": "[encoded data removed]",
      "text/plain": [
       "<Figure size 432x288 with 1 Axes>"
      ]
     },
     "metadata": {
      "needs_background": "light"
     },
     "output_type": "display_data"
    }
   ],
   "source": [
    "sns.barplot(y=\"cleanliness\", x=\"City\", data=hostels)"
   ]
  },
  {
   "cell_type": "markdown",
   "metadata": {},
   "source": [
    "### Portfolio assignment 13\n",
    "10 min: Do a bivariate analysis on the penguins dataset for the following combination of columns:\n",
    "- species VS sex\n",
    "- island VS sex\n",
    "\n",
    "For this bivariate analysis, at least perform the following tasks:\n",
    "- Do you expect their to be a correlation between the two columns?\n",
    "- Create a contingency table. Do you observe different ratios between categories here?\n",
    "- Create a bar plot for this contingency table. Do you observe different ratios between categories here?\n",
    "- Do a chi-squared test. What does the result say? What's the chance of there being a correlation between the two columns?\n",
    "\n",
    "![](https://i.imgur.com/0v1CGNV.png)"
   ]
  },
  {
   "cell_type": "markdown",
   "metadata": {},
   "source": [
    "It's very common for animals to have a 50/50 ratio in sex, so wheter you compare it by island or species it shouldn't really matter all that much."
   ]
  },
  {
   "cell_type": "code",
   "execution_count": 22,
   "metadata": {},
   "outputs": [
    {
     "data": {
      "text/html": [
       "<div>\n",
       "<style scoped>\n",
       "    .dataframe tbody tr th:only-of-type {\n",
       "        vertical-align: middle;\n",
       "    }\n",
       "\n",
       "    .dataframe tbody tr th {\n",
       "        vertical-align: top;\n",
       "    }\n",
       "\n",
       "    .dataframe thead th {\n",
       "        text-align: right;\n",
       "    }\n",
       "</style>\n",
       "<table border=\"1\" class=\"dataframe\">\n",
       "  <thead>\n",
       "    <tr style=\"text-align: right;\">\n",
       "      <th>species</th>\n",
       "      <th>Adelie</th>\n",
       "      <th>Chinstrap</th>\n",
       "      <th>Gentoo</th>\n",
       "    </tr>\n",
       "    <tr>\n",
       "      <th>sex</th>\n",
       "      <th></th>\n",
       "      <th></th>\n",
       "      <th></th>\n",
       "    </tr>\n",
       "  </thead>\n",
       "  <tbody>\n",
       "    <tr>\n",
       "      <th>Female</th>\n",
       "      <td>73</td>\n",
       "      <td>34</td>\n",
       "      <td>58</td>\n",
       "    </tr>\n",
       "    <tr>\n",
       "      <th>Male</th>\n",
       "      <td>73</td>\n",
       "      <td>34</td>\n",
       "      <td>61</td>\n",
       "    </tr>\n",
       "  </tbody>\n",
       "</table>\n",
       "</div>"
      ],
      "text/plain": [
       "species  Adelie  Chinstrap  Gentoo\n",
       "sex                               \n",
       "Female       73         34      58\n",
       "Male         73         34      61"
      ]
     },
     "execution_count": 22,
     "metadata": {},
     "output_type": "execute_result"
    }
   ],
   "source": [
    "contingencyTable = penguins.groupby(['species','sex']).size().unstack('species', fill_value=0)\n",
    "contingencyTable"
   ]
  },
  {
   "cell_type": "code",
   "execution_count": 24,
   "metadata": {},
   "outputs": [
    {
     "data": {
      "text/html": [
       "<div>\n",
       "<style scoped>\n",
       "    .dataframe tbody tr th:only-of-type {\n",
       "        vertical-align: middle;\n",
       "    }\n",
       "\n",
       "    .dataframe tbody tr th {\n",
       "        vertical-align: top;\n",
       "    }\n",
       "\n",
       "    .dataframe thead th {\n",
       "        text-align: right;\n",
       "    }\n",
       "</style>\n",
       "<table border=\"1\" class=\"dataframe\">\n",
       "  <thead>\n",
       "    <tr style=\"text-align: right;\">\n",
       "      <th>island</th>\n",
       "      <th>Biscoe</th>\n",
       "      <th>Dream</th>\n",
       "      <th>Torgersen</th>\n",
       "    </tr>\n",
       "    <tr>\n",
       "      <th>sex</th>\n",
       "      <th></th>\n",
       "      <th></th>\n",
       "      <th></th>\n",
       "    </tr>\n",
       "  </thead>\n",
       "  <tbody>\n",
       "    <tr>\n",
       "      <th>Female</th>\n",
       "      <td>80</td>\n",
       "      <td>61</td>\n",
       "      <td>24</td>\n",
       "    </tr>\n",
       "    <tr>\n",
       "      <th>Male</th>\n",
       "      <td>83</td>\n",
       "      <td>62</td>\n",
       "      <td>23</td>\n",
       "    </tr>\n",
       "  </tbody>\n",
       "</table>\n",
       "</div>"
      ],
      "text/plain": [
       "island  Biscoe  Dream  Torgersen\n",
       "sex                             \n",
       "Female      80     61         24\n",
       "Male        83     62         23"
      ]
     },
     "execution_count": 24,
     "metadata": {},
     "output_type": "execute_result"
    }
   ],
   "source": [
    "contingencyTable = penguins.groupby(['island','sex']).size().unstack('island', fill_value=0)\n",
    "contingencyTable"
   ]
  },
  {
   "cell_type": "markdown",
   "metadata": {},
   "source": [
    "Looking at the results above what I said seems to be accurate for these penguins as well."
   ]
  },
  {
   "cell_type": "code",
   "execution_count": 25,
   "metadata": {},
   "outputs": [
    {
     "data": {
      "text/plain": [
       "<AxesSubplot:xlabel='sex'>"
      ]
     },
     "execution_count": 25,
     "metadata": {},
     "output_type": "execute_result"
    },
    {
     "data": {
      "image/png": "[encoded data removed]",
      "text/plain": [
       "<Figure size 432x288 with 1 Axes>"
      ]
     },
     "metadata": {
      "needs_background": "light"
     },
     "output_type": "display_data"
    }
   ],
   "source": [
    "contingencyTable.plot(kind='bar')"
   ]
  },
  {
   "cell_type": "markdown",
   "metadata": {},
   "source": [
    "There's a high chance of there being a correlation"
   ]
  },
  {
   "cell_type": "code",
   "execution_count": 27,
   "metadata": {},
   "outputs": [
    {
     "data": {
      "text/plain": [
       "(0.05759904881286206,\n",
       " 0.971611229281065,\n",
       " 2,\n",
       " array([[80.76576577, 60.94594595, 23.28828829],\n",
       "        [82.23423423, 62.05405405, 23.71171171]]))"
      ]
     },
     "execution_count": 27,
     "metadata": {},
     "output_type": "execute_result"
    }
   ],
   "source": [
    "from scipy.stats import chi2_contingency\n",
    "chi2_contingency(contingencyTable)"
   ]
  }
 ],
 "metadata": {
  "interpreter": {
   "hash": "d4d1e4263499bec80672ea0156c357c1ee493ec2b1c70f0acce89fc37c4a6abe"
  },
  "kernelspec": {
   "display_name": "Python 3.9.5 ('base')",
   "language": "python",
   "name": "python3"
  },
  "language_info": {
   "codemirror_mode": {
    "name": "ipython",
    "version": 3
   },
   "file_extension": ".py",
   "mimetype": "text/x-python",
   "name": "python",
   "nbconvert_exporter": "python",
   "pygments_lexer": "ipython3",
   "version": "3.9.5"
  },
  "orig_nbformat": 4
 },
 "nbformat": 4,
 "nbformat_minor": 2
}
