{
 "cells": [
  {
   "cell_type": "code",
   "execution_count": 12,
   "metadata": {},
   "outputs": [],
   "source": [
    "import pandas as pd\n",
    "import seaborn as sns"
   ]
  },
  {
   "cell_type": "code",
   "execution_count": 14,
   "metadata": {},
   "outputs": [],
   "source": [
    "hostels = pd.read_csv('../data/hostel.csv')\n",
    "penguins = sns.load_dataset(\"penguins\")"
   ]
  },
  {
   "cell_type": "markdown",
   "metadata": {},
   "source": [
    "# Exercise 9"
   ]
  },
  {
   "cell_type": "markdown",
   "metadata": {},
   "source": [
    "## Expectations\n",
    "I expect that there'll be a correlation between the length and depth of the flipper and the bill, but that the length/depth of a bill does not have a correlation with the length/depth of a flipper."
   ]
  },
  {
   "cell_type": "code",
   "execution_count": 15,
   "metadata": {},
   "outputs": [
    {
     "name": "stderr",
     "output_type": "stream",
     "text": [
      "/tmp/ipykernel_23491/1743595949.py:1: FutureWarning: this method is deprecated in favour of `Styler.format(precision=..)`\n",
      "  penguins.corr().style.background_gradient(cmap='coolwarm', axis=None).set_precision(2)\n"
     ]
    },
    {
     "data": {
      "text/html": [
       "<style type=\"text/css\">\n",
       "#T_25814_row0_col0, #T_25814_row1_col1, #T_25814_row2_col2, #T_25814_row3_col3 {\n",
       "  background-color: #b40426;\n",
       "  color: #f1f1f1;\n",
       "}\n",
       "#T_25814_row0_col1, #T_25814_row1_col0 {\n",
       "  background-color: #82a6fb;\n",
       "  color: #f1f1f1;\n",
       "}\n",
       "#T_25814_row0_col2, #T_25814_row2_col0 {\n",
       "  background-color: #f08b6e;\n",
       "  color: #f1f1f1;\n",
       "}\n",
       "#T_25814_row0_col3, #T_25814_row3_col0 {\n",
       "  background-color: #f59c7d;\n",
       "  color: #000000;\n",
       "}\n",
       "#T_25814_row1_col2, #T_25814_row2_col1 {\n",
       "  background-color: #3b4cc0;\n",
       "  color: #f1f1f1;\n",
       "}\n",
       "#T_25814_row1_col3, #T_25814_row3_col1 {\n",
       "  background-color: #506bda;\n",
       "  color: #f1f1f1;\n",
       "}\n",
       "#T_25814_row2_col3, #T_25814_row3_col2 {\n",
       "  background-color: #d0473d;\n",
       "  color: #f1f1f1;\n",
       "}\n",
       "</style>\n",
       "<table id=\"T_25814_\">\n",
       "  <thead>\n",
       "    <tr>\n",
       "      <th class=\"blank level0\" >&nbsp;</th>\n",
       "      <th class=\"col_heading level0 col0\" >bill_length_mm</th>\n",
       "      <th class=\"col_heading level0 col1\" >bill_depth_mm</th>\n",
       "      <th class=\"col_heading level0 col2\" >flipper_length_mm</th>\n",
       "      <th class=\"col_heading level0 col3\" >body_mass_g</th>\n",
       "    </tr>\n",
       "  </thead>\n",
       "  <tbody>\n",
       "    <tr>\n",
       "      <th id=\"T_25814_level0_row0\" class=\"row_heading level0 row0\" >bill_length_mm</th>\n",
       "      <td id=\"T_25814_row0_col0\" class=\"data row0 col0\" >1.00</td>\n",
       "      <td id=\"T_25814_row0_col1\" class=\"data row0 col1\" >-0.24</td>\n",
       "      <td id=\"T_25814_row0_col2\" class=\"data row0 col2\" >0.66</td>\n",
       "      <td id=\"T_25814_row0_col3\" class=\"data row0 col3\" >0.60</td>\n",
       "    </tr>\n",
       "    <tr>\n",
       "      <th id=\"T_25814_level0_row1\" class=\"row_heading level0 row1\" >bill_depth_mm</th>\n",
       "      <td id=\"T_25814_row1_col0\" class=\"data row1 col0\" >-0.24</td>\n",
       "      <td id=\"T_25814_row1_col1\" class=\"data row1 col1\" >1.00</td>\n",
       "      <td id=\"T_25814_row1_col2\" class=\"data row1 col2\" >-0.58</td>\n",
       "      <td id=\"T_25814_row1_col3\" class=\"data row1 col3\" >-0.47</td>\n",
       "    </tr>\n",
       "    <tr>\n",
       "      <th id=\"T_25814_level0_row2\" class=\"row_heading level0 row2\" >flipper_length_mm</th>\n",
       "      <td id=\"T_25814_row2_col0\" class=\"data row2 col0\" >0.66</td>\n",
       "      <td id=\"T_25814_row2_col1\" class=\"data row2 col1\" >-0.58</td>\n",
       "      <td id=\"T_25814_row2_col2\" class=\"data row2 col2\" >1.00</td>\n",
       "      <td id=\"T_25814_row2_col3\" class=\"data row2 col3\" >0.87</td>\n",
       "    </tr>\n",
       "    <tr>\n",
       "      <th id=\"T_25814_level0_row3\" class=\"row_heading level0 row3\" >body_mass_g</th>\n",
       "      <td id=\"T_25814_row3_col0\" class=\"data row3 col0\" >0.60</td>\n",
       "      <td id=\"T_25814_row3_col1\" class=\"data row3 col1\" >-0.47</td>\n",
       "      <td id=\"T_25814_row3_col2\" class=\"data row3 col2\" >0.87</td>\n",
       "      <td id=\"T_25814_row3_col3\" class=\"data row3 col3\" >1.00</td>\n",
       "    </tr>\n",
       "  </tbody>\n",
       "</table>\n"
      ],
      "text/plain": [
       "<pandas.io.formats.style.Styler at 0x7f079f4341f0>"
      ]
     },
     "execution_count": 15,
     "metadata": {},
     "output_type": "execute_result"
    }
   ],
   "source": [
    "penguins.corr().style.background_gradient(cmap='coolwarm', axis=None).set_precision(2)"
   ]
  },
  {
   "cell_type": "markdown",
   "metadata": {},
   "source": [
    "Strongest positive correlation."
   ]
  },
  {
   "cell_type": "code",
   "execution_count": 17,
   "metadata": {},
   "outputs": [
    {
     "data": {
      "text/plain": [
       "<AxesSubplot:xlabel='flipper_length_mm', ylabel='body_mass_g'>"
      ]
     },
     "execution_count": 17,
     "metadata": {},
     "output_type": "execute_result"
    },
    {
     "data": {
      "image/png": "[encoded data removed]",
      "text/plain": [
       "<Figure size 432x288 with 1 Axes>"
      ]
     },
     "metadata": {
      "needs_background": "light"
     },
     "output_type": "display_data"
    }
   ],
   "source": [
    "penguins.plot(kind=\"scatter\", x=\"flipper_length_mm\", y=\"body_mass_g\")"
   ]
  },
  {
   "cell_type": "markdown",
   "metadata": {},
   "source": [
    "Strongest negative correlation"
   ]
  },
  {
   "cell_type": "code",
   "execution_count": 18,
   "metadata": {},
   "outputs": [
    {
     "data": {
      "text/plain": [
       "<AxesSubplot:xlabel='flipper_length_mm', ylabel='bill_depth_mm'>"
      ]
     },
     "execution_count": 18,
     "metadata": {},
     "output_type": "execute_result"
    },
    {
     "data": {
      "image/png": "[encoded data removed]",
      "text/plain": [
       "<Figure size 432x288 with 1 Axes>"
      ]
     },
     "metadata": {
      "needs_background": "light"
     },
     "output_type": "display_data"
    }
   ],
   "source": [
    "penguins.plot(kind=\"scatter\", x=\"flipper_length_mm\", y=\"bill_depth_mm\")"
   ]
  },
  {
   "cell_type": "markdown",
   "metadata": {},
   "source": [
    "weakest correlation"
   ]
  },
  {
   "cell_type": "code",
   "execution_count": 19,
   "metadata": {},
   "outputs": [
    {
     "data": {
      "text/plain": [
       "<AxesSubplot:xlabel='bill_length_mm', ylabel='bill_depth_mm'>"
      ]
     },
     "execution_count": 19,
     "metadata": {},
     "output_type": "execute_result"
    },
    {
     "data": {
      "image/png": "[encoded data removed]",
      "text/plain": [
       "<Figure size 432x288 with 1 Axes>"
      ]
     },
     "metadata": {
      "needs_background": "light"
     },
     "output_type": "display_data"
    }
   ],
   "source": [
    "penguins.plot(kind=\"scatter\", x=\"bill_length_mm\", y=\"bill_depth_mm\")"
   ]
  },
  {
   "cell_type": "markdown",
   "metadata": {},
   "source": [
    "## Results\n",
    "Looking at the results there's actually a stronger correlation between bills and flippers instead of the depth/legnth having a orrelation with each other."
   ]
  },
  {
   "cell_type": "markdown",
   "metadata": {},
   "source": [
    "## Exercise 10"
   ]
  },
  {
   "cell_type": "code",
   "execution_count": 8,
   "metadata": {},
   "outputs": [
    {
     "name": "stderr",
     "output_type": "stream",
     "text": [
      "/tmp/ipykernel_23491/568957024.py:1: FutureWarning: this method is deprecated in favour of `Styler.format(precision=..)`\n",
      "  hostels.corr().style.background_gradient(cmap='coolwarm', axis=None).set_precision(2)\n"
     ]
    },
    {
     "data": {
      "text/html": [
       "<style type=\"text/css\">\n",
       "#T_a3840_row0_col0, #T_a3840_row1_col1, #T_a3840_row2_col2, #T_a3840_row3_col3, #T_a3840_row4_col4, #T_a3840_row5_col5, #T_a3840_row6_col6, #T_a3840_row7_col7, #T_a3840_row8_col8, #T_a3840_row9_col9, #T_a3840_row10_col10, #T_a3840_row11_col11 {\n",
       "  background-color: #b40426;\n",
       "  color: #f1f1f1;\n",
       "}\n",
       "#T_a3840_row0_col1, #T_a3840_row1_col0 {\n",
       "  background-color: #80a3fa;\n",
       "  color: #f1f1f1;\n",
       "}\n",
       "#T_a3840_row0_col2, #T_a3840_row1_col7, #T_a3840_row2_col0, #T_a3840_row5_col11, #T_a3840_row7_col1, #T_a3840_row11_col5 {\n",
       "  background-color: #5875e1;\n",
       "  color: #f1f1f1;\n",
       "}\n",
       "#T_a3840_row0_col3, #T_a3840_row0_col5, #T_a3840_row1_col6, #T_a3840_row3_col0, #T_a3840_row5_col0, #T_a3840_row6_col1, #T_a3840_row8_col11, #T_a3840_row11_col8 {\n",
       "  background-color: #5d7ce6;\n",
       "  color: #f1f1f1;\n",
       "}\n",
       "#T_a3840_row0_col4, #T_a3840_row4_col0, #T_a3840_row7_col11, #T_a3840_row11_col7 {\n",
       "  background-color: #5f7fe8;\n",
       "  color: #f1f1f1;\n",
       "}\n",
       "#T_a3840_row0_col6, #T_a3840_row6_col0 {\n",
       "  background-color: #506bda;\n",
       "  color: #f1f1f1;\n",
       "}\n",
       "#T_a3840_row0_col7, #T_a3840_row7_col0 {\n",
       "  background-color: #5b7ae5;\n",
       "  color: #f1f1f1;\n",
       "}\n",
       "#T_a3840_row0_col8, #T_a3840_row8_col0 {\n",
       "  background-color: #6282ea;\n",
       "  color: #f1f1f1;\n",
       "}\n",
       "#T_a3840_row0_col9, #T_a3840_row9_col0 {\n",
       "  background-color: #4a63d3;\n",
       "  color: #f1f1f1;\n",
       "}\n",
       "#T_a3840_row0_col10, #T_a3840_row10_col0 {\n",
       "  background-color: #6f92f3;\n",
       "  color: #f1f1f1;\n",
       "}\n",
       "#T_a3840_row0_col11, #T_a3840_row11_col0 {\n",
       "  background-color: #7b9ff9;\n",
       "  color: #f1f1f1;\n",
       "}\n",
       "#T_a3840_row1_col2, #T_a3840_row2_col1, #T_a3840_row3_col11, #T_a3840_row5_col10, #T_a3840_row10_col5, #T_a3840_row11_col3 {\n",
       "  background-color: #516ddb;\n",
       "  color: #f1f1f1;\n",
       "}\n",
       "#T_a3840_row1_col3, #T_a3840_row3_col1 {\n",
       "  background-color: #3d50c3;\n",
       "  color: #f1f1f1;\n",
       "}\n",
       "#T_a3840_row1_col4, #T_a3840_row4_col1 {\n",
       "  background-color: #6180e9;\n",
       "  color: #f1f1f1;\n",
       "}\n",
       "#T_a3840_row1_col5, #T_a3840_row5_col1 {\n",
       "  background-color: #7093f3;\n",
       "  color: #f1f1f1;\n",
       "}\n",
       "#T_a3840_row1_col8, #T_a3840_row8_col1 {\n",
       "  background-color: #5470de;\n",
       "  color: #f1f1f1;\n",
       "}\n",
       "#T_a3840_row1_col9, #T_a3840_row9_col1 {\n",
       "  background-color: #3b4cc0;\n",
       "  color: #f1f1f1;\n",
       "}\n",
       "#T_a3840_row1_col10, #T_a3840_row10_col1 {\n",
       "  background-color: #6788ee;\n",
       "  color: #f1f1f1;\n",
       "}\n",
       "#T_a3840_row1_col11, #T_a3840_row11_col1 {\n",
       "  background-color: #6384eb;\n",
       "  color: #f1f1f1;\n",
       "}\n",
       "#T_a3840_row2_col3, #T_a3840_row2_col4, #T_a3840_row3_col2, #T_a3840_row4_col2 {\n",
       "  background-color: #e16751;\n",
       "  color: #f1f1f1;\n",
       "}\n",
       "#T_a3840_row2_col5, #T_a3840_row5_col2 {\n",
       "  background-color: #d44e41;\n",
       "  color: #f1f1f1;\n",
       "}\n",
       "#T_a3840_row2_col6, #T_a3840_row6_col2, #T_a3840_row8_col9, #T_a3840_row9_col8 {\n",
       "  background-color: #f7b497;\n",
       "  color: #000000;\n",
       "}\n",
       "#T_a3840_row2_col7, #T_a3840_row7_col2, #T_a3840_row10_col11, #T_a3840_row11_col10 {\n",
       "  background-color: #ec7f63;\n",
       "  color: #f1f1f1;\n",
       "}\n",
       "#T_a3840_row2_col8, #T_a3840_row8_col2 {\n",
       "  background-color: #e36c55;\n",
       "  color: #f1f1f1;\n",
       "}\n",
       "#T_a3840_row2_col9, #T_a3840_row9_col2 {\n",
       "  background-color: #dc5d4a;\n",
       "  color: #f1f1f1;\n",
       "}\n",
       "#T_a3840_row2_col10, #T_a3840_row10_col2 {\n",
       "  background-color: #4e68d8;\n",
       "  color: #f1f1f1;\n",
       "}\n",
       "#T_a3840_row2_col11, #T_a3840_row6_col11, #T_a3840_row9_col11, #T_a3840_row11_col2, #T_a3840_row11_col6, #T_a3840_row11_col9 {\n",
       "  background-color: #5673e0;\n",
       "  color: #f1f1f1;\n",
       "}\n",
       "#T_a3840_row3_col4, #T_a3840_row4_col3 {\n",
       "  background-color: #f7b396;\n",
       "  color: #000000;\n",
       "}\n",
       "#T_a3840_row3_col5, #T_a3840_row5_col3 {\n",
       "  background-color: #f59d7e;\n",
       "  color: #000000;\n",
       "}\n",
       "#T_a3840_row3_col6, #T_a3840_row6_col3 {\n",
       "  background-color: #e7d7ce;\n",
       "  color: #000000;\n",
       "}\n",
       "#T_a3840_row3_col7, #T_a3840_row7_col3 {\n",
       "  background-color: #f1ccb8;\n",
       "  color: #000000;\n",
       "}\n",
       "#T_a3840_row3_col8, #T_a3840_row7_col9, #T_a3840_row8_col3, #T_a3840_row9_col7 {\n",
       "  background-color: #f6a586;\n",
       "  color: #000000;\n",
       "}\n",
       "#T_a3840_row3_col9, #T_a3840_row9_col3 {\n",
       "  background-color: #f39475;\n",
       "  color: #000000;\n",
       "}\n",
       "#T_a3840_row3_col10, #T_a3840_row10_col3 {\n",
       "  background-color: #465ecf;\n",
       "  color: #f1f1f1;\n",
       "}\n",
       "#T_a3840_row4_col5, #T_a3840_row5_col4 {\n",
       "  background-color: #e9785d;\n",
       "  color: #f1f1f1;\n",
       "}\n",
       "#T_a3840_row4_col6, #T_a3840_row6_col4 {\n",
       "  background-color: #d9dce1;\n",
       "  color: #000000;\n",
       "}\n",
       "#T_a3840_row4_col7, #T_a3840_row7_col4 {\n",
       "  background-color: #f6bfa6;\n",
       "  color: #000000;\n",
       "}\n",
       "#T_a3840_row4_col8, #T_a3840_row8_col4 {\n",
       "  background-color: #f7b599;\n",
       "  color: #000000;\n",
       "}\n",
       "#T_a3840_row4_col9, #T_a3840_row9_col4 {\n",
       "  background-color: #f6a385;\n",
       "  color: #000000;\n",
       "}\n",
       "#T_a3840_row4_col10, #T_a3840_row9_col10, #T_a3840_row10_col4, #T_a3840_row10_col9 {\n",
       "  background-color: #4f69d9;\n",
       "  color: #f1f1f1;\n",
       "}\n",
       "#T_a3840_row4_col11, #T_a3840_row11_col4 {\n",
       "  background-color: #5977e3;\n",
       "  color: #f1f1f1;\n",
       "}\n",
       "#T_a3840_row5_col6, #T_a3840_row6_col5 {\n",
       "  background-color: #e8d6cc;\n",
       "  color: #000000;\n",
       "}\n",
       "#T_a3840_row5_col7, #T_a3840_row7_col5 {\n",
       "  background-color: #f7b194;\n",
       "  color: #000000;\n",
       "}\n",
       "#T_a3840_row5_col8, #T_a3840_row7_col8, #T_a3840_row8_col5, #T_a3840_row8_col7 {\n",
       "  background-color: #f6a283;\n",
       "  color: #000000;\n",
       "}\n",
       "#T_a3840_row5_col9, #T_a3840_row9_col5 {\n",
       "  background-color: #f08b6e;\n",
       "  color: #f1f1f1;\n",
       "}\n",
       "#T_a3840_row6_col7, #T_a3840_row7_col6 {\n",
       "  background-color: #d1dae9;\n",
       "  color: #000000;\n",
       "}\n",
       "#T_a3840_row6_col8, #T_a3840_row8_col6 {\n",
       "  background-color: #dbdcde;\n",
       "  color: #000000;\n",
       "}\n",
       "#T_a3840_row6_col9, #T_a3840_row9_col6 {\n",
       "  background-color: #e4d9d2;\n",
       "  color: #000000;\n",
       "}\n",
       "#T_a3840_row6_col10, #T_a3840_row10_col6 {\n",
       "  background-color: #455cce;\n",
       "  color: #f1f1f1;\n",
       "}\n",
       "#T_a3840_row7_col10, #T_a3840_row10_col7 {\n",
       "  background-color: #6485ec;\n",
       "  color: #f1f1f1;\n",
       "}\n",
       "#T_a3840_row8_col10, #T_a3840_row10_col8 {\n",
       "  background-color: #5a78e4;\n",
       "  color: #f1f1f1;\n",
       "}\n",
       "</style>\n",
       "<table id=\"T_a3840_\">\n",
       "  <thead>\n",
       "    <tr>\n",
       "      <th class=\"blank level0\" >&nbsp;</th>\n",
       "      <th class=\"col_heading level0 col0\" >Unnamed: 0</th>\n",
       "      <th class=\"col_heading level0 col1\" >price.from</th>\n",
       "      <th class=\"col_heading level0 col2\" >summary.score</th>\n",
       "      <th class=\"col_heading level0 col3\" >atmosphere</th>\n",
       "      <th class=\"col_heading level0 col4\" >cleanliness</th>\n",
       "      <th class=\"col_heading level0 col5\" >facilities</th>\n",
       "      <th class=\"col_heading level0 col6\" >location.y</th>\n",
       "      <th class=\"col_heading level0 col7\" >security</th>\n",
       "      <th class=\"col_heading level0 col8\" >staff</th>\n",
       "      <th class=\"col_heading level0 col9\" >valueformoney</th>\n",
       "      <th class=\"col_heading level0 col10\" >lon</th>\n",
       "      <th class=\"col_heading level0 col11\" >lat</th>\n",
       "    </tr>\n",
       "  </thead>\n",
       "  <tbody>\n",
       "    <tr>\n",
       "      <th id=\"T_a3840_level0_row0\" class=\"row_heading level0 row0\" >Unnamed: 0</th>\n",
       "      <td id=\"T_a3840_row0_col0\" class=\"data row0 col0\" >1.00</td>\n",
       "      <td id=\"T_a3840_row0_col1\" class=\"data row0 col1\" >0.10</td>\n",
       "      <td id=\"T_a3840_row0_col2\" class=\"data row0 col2\" >-0.03</td>\n",
       "      <td id=\"T_a3840_row0_col3\" class=\"data row0 col3\" >-0.01</td>\n",
       "      <td id=\"T_a3840_row0_col4\" class=\"data row0 col4\" >-0.00</td>\n",
       "      <td id=\"T_a3840_row0_col5\" class=\"data row0 col5\" >-0.01</td>\n",
       "      <td id=\"T_a3840_row0_col6\" class=\"data row0 col6\" >-0.05</td>\n",
       "      <td id=\"T_a3840_row0_col7\" class=\"data row0 col7\" >-0.02</td>\n",
       "      <td id=\"T_a3840_row0_col8\" class=\"data row0 col8\" >0.01</td>\n",
       "      <td id=\"T_a3840_row0_col9\" class=\"data row0 col9\" >-0.08</td>\n",
       "      <td id=\"T_a3840_row0_col10\" class=\"data row0 col10\" >0.05</td>\n",
       "      <td id=\"T_a3840_row0_col11\" class=\"data row0 col11\" >0.09</td>\n",
       "    </tr>\n",
       "    <tr>\n",
       "      <th id=\"T_a3840_level0_row1\" class=\"row_heading level0 row1\" >price.from</th>\n",
       "      <td id=\"T_a3840_row1_col0\" class=\"data row1 col0\" >0.10</td>\n",
       "      <td id=\"T_a3840_row1_col1\" class=\"data row1 col1\" >1.00</td>\n",
       "      <td id=\"T_a3840_row1_col2\" class=\"data row1 col2\" >-0.05</td>\n",
       "      <td id=\"T_a3840_row1_col3\" class=\"data row1 col3\" >-0.13</td>\n",
       "      <td id=\"T_a3840_row1_col4\" class=\"data row1 col4\" >0.00</td>\n",
       "      <td id=\"T_a3840_row1_col5\" class=\"data row1 col5\" >0.06</td>\n",
       "      <td id=\"T_a3840_row1_col6\" class=\"data row1 col6\" >-0.01</td>\n",
       "      <td id=\"T_a3840_row1_col7\" class=\"data row1 col7\" >-0.03</td>\n",
       "      <td id=\"T_a3840_row1_col8\" class=\"data row1 col8\" >-0.04</td>\n",
       "      <td id=\"T_a3840_row1_col9\" class=\"data row1 col9\" >-0.14</td>\n",
       "      <td id=\"T_a3840_row1_col10\" class=\"data row1 col10\" >0.02</td>\n",
       "      <td id=\"T_a3840_row1_col11\" class=\"data row1 col11\" >0.01</td>\n",
       "    </tr>\n",
       "    <tr>\n",
       "      <th id=\"T_a3840_level0_row2\" class=\"row_heading level0 row2\" >summary.score</th>\n",
       "      <td id=\"T_a3840_row2_col0\" class=\"data row2 col0\" >-0.03</td>\n",
       "      <td id=\"T_a3840_row2_col1\" class=\"data row2 col1\" >-0.05</td>\n",
       "      <td id=\"T_a3840_row2_col2\" class=\"data row2 col2\" >1.00</td>\n",
       "      <td id=\"T_a3840_row2_col3\" class=\"data row2 col3\" >0.84</td>\n",
       "      <td id=\"T_a3840_row2_col4\" class=\"data row2 col4\" >0.84</td>\n",
       "      <td id=\"T_a3840_row2_col5\" class=\"data row2 col5\" >0.90</td>\n",
       "      <td id=\"T_a3840_row2_col6\" class=\"data row2 col6\" >0.63</td>\n",
       "      <td id=\"T_a3840_row2_col7\" class=\"data row2 col7\" >0.79</td>\n",
       "      <td id=\"T_a3840_row2_col8\" class=\"data row2 col8\" >0.83</td>\n",
       "      <td id=\"T_a3840_row2_col9\" class=\"data row2 col9\" >0.87</td>\n",
       "      <td id=\"T_a3840_row2_col10\" class=\"data row2 col10\" >-0.07</td>\n",
       "      <td id=\"T_a3840_row2_col11\" class=\"data row2 col11\" >-0.04</td>\n",
       "    </tr>\n",
       "    <tr>\n",
       "      <th id=\"T_a3840_level0_row3\" class=\"row_heading level0 row3\" >atmosphere</th>\n",
       "      <td id=\"T_a3840_row3_col0\" class=\"data row3 col0\" >-0.01</td>\n",
       "      <td id=\"T_a3840_row3_col1\" class=\"data row3 col1\" >-0.13</td>\n",
       "      <td id=\"T_a3840_row3_col2\" class=\"data row3 col2\" >0.84</td>\n",
       "      <td id=\"T_a3840_row3_col3\" class=\"data row3 col3\" >1.00</td>\n",
       "      <td id=\"T_a3840_row3_col4\" class=\"data row3 col4\" >0.64</td>\n",
       "      <td id=\"T_a3840_row3_col5\" class=\"data row3 col5\" >0.70</td>\n",
       "      <td id=\"T_a3840_row3_col6\" class=\"data row3 col6\" >0.48</td>\n",
       "      <td id=\"T_a3840_row3_col7\" class=\"data row3 col7\" >0.54</td>\n",
       "      <td id=\"T_a3840_row3_col8\" class=\"data row3 col8\" >0.68</td>\n",
       "      <td id=\"T_a3840_row3_col9\" class=\"data row3 col9\" >0.73</td>\n",
       "      <td id=\"T_a3840_row3_col10\" class=\"data row3 col10\" >-0.09</td>\n",
       "      <td id=\"T_a3840_row3_col11\" class=\"data row3 col11\" >-0.05</td>\n",
       "    </tr>\n",
       "    <tr>\n",
       "      <th id=\"T_a3840_level0_row4\" class=\"row_heading level0 row4\" >cleanliness</th>\n",
       "      <td id=\"T_a3840_row4_col0\" class=\"data row4 col0\" >-0.00</td>\n",
       "      <td id=\"T_a3840_row4_col1\" class=\"data row4 col1\" >0.00</td>\n",
       "      <td id=\"T_a3840_row4_col2\" class=\"data row4 col2\" >0.84</td>\n",
       "      <td id=\"T_a3840_row4_col3\" class=\"data row4 col3\" >0.64</td>\n",
       "      <td id=\"T_a3840_row4_col4\" class=\"data row4 col4\" >1.00</td>\n",
       "      <td id=\"T_a3840_row4_col5\" class=\"data row4 col5\" >0.80</td>\n",
       "      <td id=\"T_a3840_row4_col6\" class=\"data row4 col6\" >0.41</td>\n",
       "      <td id=\"T_a3840_row4_col7\" class=\"data row4 col7\" >0.59</td>\n",
       "      <td id=\"T_a3840_row4_col8\" class=\"data row4 col8\" >0.63</td>\n",
       "      <td id=\"T_a3840_row4_col9\" class=\"data row4 col9\" >0.69</td>\n",
       "      <td id=\"T_a3840_row4_col10\" class=\"data row4 col10\" >-0.06</td>\n",
       "      <td id=\"T_a3840_row4_col11\" class=\"data row4 col11\" >-0.03</td>\n",
       "    </tr>\n",
       "    <tr>\n",
       "      <th id=\"T_a3840_level0_row5\" class=\"row_heading level0 row5\" >facilities</th>\n",
       "      <td id=\"T_a3840_row5_col0\" class=\"data row5 col0\" >-0.01</td>\n",
       "      <td id=\"T_a3840_row5_col1\" class=\"data row5 col1\" >0.06</td>\n",
       "      <td id=\"T_a3840_row5_col2\" class=\"data row5 col2\" >0.90</td>\n",
       "      <td id=\"T_a3840_row5_col3\" class=\"data row5 col3\" >0.70</td>\n",
       "      <td id=\"T_a3840_row5_col4\" class=\"data row5 col4\" >0.80</td>\n",
       "      <td id=\"T_a3840_row5_col5\" class=\"data row5 col5\" >1.00</td>\n",
       "      <td id=\"T_a3840_row5_col6\" class=\"data row5 col6\" >0.48</td>\n",
       "      <td id=\"T_a3840_row5_col7\" class=\"data row5 col7\" >0.64</td>\n",
       "      <td id=\"T_a3840_row5_col8\" class=\"data row5 col8\" >0.69</td>\n",
       "      <td id=\"T_a3840_row5_col9\" class=\"data row5 col9\" >0.75</td>\n",
       "      <td id=\"T_a3840_row5_col10\" class=\"data row5 col10\" >-0.05</td>\n",
       "      <td id=\"T_a3840_row5_col11\" class=\"data row5 col11\" >-0.03</td>\n",
       "    </tr>\n",
       "    <tr>\n",
       "      <th id=\"T_a3840_level0_row6\" class=\"row_heading level0 row6\" >location.y</th>\n",
       "      <td id=\"T_a3840_row6_col0\" class=\"data row6 col0\" >-0.05</td>\n",
       "      <td id=\"T_a3840_row6_col1\" class=\"data row6 col1\" >-0.01</td>\n",
       "      <td id=\"T_a3840_row6_col2\" class=\"data row6 col2\" >0.63</td>\n",
       "      <td id=\"T_a3840_row6_col3\" class=\"data row6 col3\" >0.48</td>\n",
       "      <td id=\"T_a3840_row6_col4\" class=\"data row6 col4\" >0.41</td>\n",
       "      <td id=\"T_a3840_row6_col5\" class=\"data row6 col5\" >0.48</td>\n",
       "      <td id=\"T_a3840_row6_col6\" class=\"data row6 col6\" >1.00</td>\n",
       "      <td id=\"T_a3840_row6_col7\" class=\"data row6 col7\" >0.38</td>\n",
       "      <td id=\"T_a3840_row6_col8\" class=\"data row6 col8\" >0.42</td>\n",
       "      <td id=\"T_a3840_row6_col9\" class=\"data row6 col9\" >0.46</td>\n",
       "      <td id=\"T_a3840_row6_col10\" class=\"data row6 col10\" >-0.09</td>\n",
       "      <td id=\"T_a3840_row6_col11\" class=\"data row6 col11\" >-0.03</td>\n",
       "    </tr>\n",
       "    <tr>\n",
       "      <th id=\"T_a3840_level0_row7\" class=\"row_heading level0 row7\" >security</th>\n",
       "      <td id=\"T_a3840_row7_col0\" class=\"data row7 col0\" >-0.02</td>\n",
       "      <td id=\"T_a3840_row7_col1\" class=\"data row7 col1\" >-0.03</td>\n",
       "      <td id=\"T_a3840_row7_col2\" class=\"data row7 col2\" >0.79</td>\n",
       "      <td id=\"T_a3840_row7_col3\" class=\"data row7 col3\" >0.54</td>\n",
       "      <td id=\"T_a3840_row7_col4\" class=\"data row7 col4\" >0.59</td>\n",
       "      <td id=\"T_a3840_row7_col5\" class=\"data row7 col5\" >0.64</td>\n",
       "      <td id=\"T_a3840_row7_col6\" class=\"data row7 col6\" >0.38</td>\n",
       "      <td id=\"T_a3840_row7_col7\" class=\"data row7 col7\" >1.00</td>\n",
       "      <td id=\"T_a3840_row7_col8\" class=\"data row7 col8\" >0.69</td>\n",
       "      <td id=\"T_a3840_row7_col9\" class=\"data row7 col9\" >0.68</td>\n",
       "      <td id=\"T_a3840_row7_col10\" class=\"data row7 col10\" >0.02</td>\n",
       "      <td id=\"T_a3840_row7_col11\" class=\"data row7 col11\" >-0.00</td>\n",
       "    </tr>\n",
       "    <tr>\n",
       "      <th id=\"T_a3840_level0_row8\" class=\"row_heading level0 row8\" >staff</th>\n",
       "      <td id=\"T_a3840_row8_col0\" class=\"data row8 col0\" >0.01</td>\n",
       "      <td id=\"T_a3840_row8_col1\" class=\"data row8 col1\" >-0.04</td>\n",
       "      <td id=\"T_a3840_row8_col2\" class=\"data row8 col2\" >0.83</td>\n",
       "      <td id=\"T_a3840_row8_col3\" class=\"data row8 col3\" >0.68</td>\n",
       "      <td id=\"T_a3840_row8_col4\" class=\"data row8 col4\" >0.63</td>\n",
       "      <td id=\"T_a3840_row8_col5\" class=\"data row8 col5\" >0.69</td>\n",
       "      <td id=\"T_a3840_row8_col6\" class=\"data row8 col6\" >0.42</td>\n",
       "      <td id=\"T_a3840_row8_col7\" class=\"data row8 col7\" >0.69</td>\n",
       "      <td id=\"T_a3840_row8_col8\" class=\"data row8 col8\" >1.00</td>\n",
       "      <td id=\"T_a3840_row8_col9\" class=\"data row8 col9\" >0.63</td>\n",
       "      <td id=\"T_a3840_row8_col10\" class=\"data row8 col10\" >-0.02</td>\n",
       "      <td id=\"T_a3840_row8_col11\" class=\"data row8 col11\" >-0.01</td>\n",
       "    </tr>\n",
       "    <tr>\n",
       "      <th id=\"T_a3840_level0_row9\" class=\"row_heading level0 row9\" >valueformoney</th>\n",
       "      <td id=\"T_a3840_row9_col0\" class=\"data row9 col0\" >-0.08</td>\n",
       "      <td id=\"T_a3840_row9_col1\" class=\"data row9 col1\" >-0.14</td>\n",
       "      <td id=\"T_a3840_row9_col2\" class=\"data row9 col2\" >0.87</td>\n",
       "      <td id=\"T_a3840_row9_col3\" class=\"data row9 col3\" >0.73</td>\n",
       "      <td id=\"T_a3840_row9_col4\" class=\"data row9 col4\" >0.69</td>\n",
       "      <td id=\"T_a3840_row9_col5\" class=\"data row9 col5\" >0.75</td>\n",
       "      <td id=\"T_a3840_row9_col6\" class=\"data row9 col6\" >0.46</td>\n",
       "      <td id=\"T_a3840_row9_col7\" class=\"data row9 col7\" >0.68</td>\n",
       "      <td id=\"T_a3840_row9_col8\" class=\"data row9 col8\" >0.63</td>\n",
       "      <td id=\"T_a3840_row9_col9\" class=\"data row9 col9\" >1.00</td>\n",
       "      <td id=\"T_a3840_row9_col10\" class=\"data row9 col10\" >-0.06</td>\n",
       "      <td id=\"T_a3840_row9_col11\" class=\"data row9 col11\" >-0.04</td>\n",
       "    </tr>\n",
       "    <tr>\n",
       "      <th id=\"T_a3840_level0_row10\" class=\"row_heading level0 row10\" >lon</th>\n",
       "      <td id=\"T_a3840_row10_col0\" class=\"data row10 col0\" >0.05</td>\n",
       "      <td id=\"T_a3840_row10_col1\" class=\"data row10 col1\" >0.02</td>\n",
       "      <td id=\"T_a3840_row10_col2\" class=\"data row10 col2\" >-0.07</td>\n",
       "      <td id=\"T_a3840_row10_col3\" class=\"data row10 col3\" >-0.09</td>\n",
       "      <td id=\"T_a3840_row10_col4\" class=\"data row10 col4\" >-0.06</td>\n",
       "      <td id=\"T_a3840_row10_col5\" class=\"data row10 col5\" >-0.05</td>\n",
       "      <td id=\"T_a3840_row10_col6\" class=\"data row10 col6\" >-0.09</td>\n",
       "      <td id=\"T_a3840_row10_col7\" class=\"data row10 col7\" >0.02</td>\n",
       "      <td id=\"T_a3840_row10_col8\" class=\"data row10 col8\" >-0.02</td>\n",
       "      <td id=\"T_a3840_row10_col9\" class=\"data row10 col9\" >-0.06</td>\n",
       "      <td id=\"T_a3840_row10_col10\" class=\"data row10 col10\" >1.00</td>\n",
       "      <td id=\"T_a3840_row10_col11\" class=\"data row10 col11\" >0.79</td>\n",
       "    </tr>\n",
       "    <tr>\n",
       "      <th id=\"T_a3840_level0_row11\" class=\"row_heading level0 row11\" >lat</th>\n",
       "      <td id=\"T_a3840_row11_col0\" class=\"data row11 col0\" >0.09</td>\n",
       "      <td id=\"T_a3840_row11_col1\" class=\"data row11 col1\" >0.01</td>\n",
       "      <td id=\"T_a3840_row11_col2\" class=\"data row11 col2\" >-0.04</td>\n",
       "      <td id=\"T_a3840_row11_col3\" class=\"data row11 col3\" >-0.05</td>\n",
       "      <td id=\"T_a3840_row11_col4\" class=\"data row11 col4\" >-0.03</td>\n",
       "      <td id=\"T_a3840_row11_col5\" class=\"data row11 col5\" >-0.03</td>\n",
       "      <td id=\"T_a3840_row11_col6\" class=\"data row11 col6\" >-0.03</td>\n",
       "      <td id=\"T_a3840_row11_col7\" class=\"data row11 col7\" >-0.00</td>\n",
       "      <td id=\"T_a3840_row11_col8\" class=\"data row11 col8\" >-0.01</td>\n",
       "      <td id=\"T_a3840_row11_col9\" class=\"data row11 col9\" >-0.04</td>\n",
       "      <td id=\"T_a3840_row11_col10\" class=\"data row11 col10\" >0.79</td>\n",
       "      <td id=\"T_a3840_row11_col11\" class=\"data row11 col11\" >1.00</td>\n",
       "    </tr>\n",
       "  </tbody>\n",
       "</table>\n"
      ],
      "text/plain": [
       "<pandas.io.formats.style.Styler at 0x7f07dc1b2be0>"
      ]
     },
     "execution_count": 8,
     "metadata": {},
     "output_type": "execute_result"
    }
   ],
   "source": [
    "hostels.corr().style.background_gradient(cmap='coolwarm', axis=None).set_precision(2)"
   ]
  },
  {
   "cell_type": "code",
   "execution_count": 9,
   "metadata": {},
   "outputs": [
    {
     "data": {
      "text/plain": [
       "<AxesSubplot:xlabel='summary.score', ylabel='facilities'>"
      ]
     },
     "execution_count": 9,
     "metadata": {},
     "output_type": "execute_result"
    },
    {
     "data": {
      "image/png": "[encoded data removed]",
      "text/plain": [
       "<Figure size 432x288 with 1 Axes>"
      ]
     },
     "metadata": {
      "needs_background": "light"
     },
     "output_type": "display_data"
    }
   ],
   "source": [
    "hostels.plot(kind='scatter', x='summary.score', y='facilities')"
   ]
  },
  {
   "cell_type": "code",
   "execution_count": 10,
   "metadata": {},
   "outputs": [
    {
     "data": {
      "text/plain": [
       "<AxesSubplot:xlabel='summary.score', ylabel='valueformoney'>"
      ]
     },
     "execution_count": 10,
     "metadata": {},
     "output_type": "execute_result"
    },
    {
     "data": {
      "image/png": "[encoded data removed]",
      "text/plain": [
       "<Figure size 432x288 with 1 Axes>"
      ]
     },
     "metadata": {
      "needs_background": "light"
     },
     "output_type": "display_data"
    }
   ],
   "source": [
    "hostels.plot(kind='scatter', x='summary.score', y='valueformoney')"
   ]
  },
  {
   "cell_type": "markdown",
   "metadata": {},
   "source": [
    "### Extra\n",
    "What's interesting is that the atmosphere has a large correlation with the score. This is interesting because it isn't anything that's directly involved in the hostel itself such as the staff or the price of the hostel."
   ]
  },
  {
   "cell_type": "code",
   "execution_count": 11,
   "metadata": {},
   "outputs": [
    {
     "data": {
      "text/plain": [
       "<AxesSubplot:xlabel='summary.score', ylabel='atmosphere'>"
      ]
     },
     "execution_count": 11,
     "metadata": {},
     "output_type": "execute_result"
    },
    {
     "data": {
      "image/png": "[encoded data removed]",
      "text/plain": [
       "<Figure size 432x288 with 1 Axes>"
      ]
     },
     "metadata": {
      "needs_background": "light"
     },
     "output_type": "display_data"
    }
   ],
   "source": [
    "hostels.plot(kind='scatter', x='summary.score', y='atmosphere')"
   ]
  }
 ],
 "metadata": {
  "interpreter": {
   "hash": "d4d1e4263499bec80672ea0156c357c1ee493ec2b1c70f0acce89fc37c4a6abe"
  },
  "kernelspec": {
   "display_name": "Python 3.9.5 ('base')",
   "language": "python",
   "name": "python3"
  },
  "language_info": {
   "codemirror_mode": {
    "name": "ipython",
    "version": 3
   },
   "file_extension": ".py",
   "mimetype": "text/x-python",
   "name": "python",
   "nbconvert_exporter": "python",
   "pygments_lexer": "ipython3",
   "version": "3.9.7"
  },
  "orig_nbformat": 4
 },
 "nbformat": 4,
 "nbformat_minor": 2
}
