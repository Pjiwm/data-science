{
 "cells": [
  {
   "cell_type": "code",
   "execution_count": 47,
   "metadata": {},
   "outputs": [],
   "source": [
    "import pandas as pd\n",
    "import seaborn as sns"
   ]
  },
  {
   "cell_type": "code",
   "execution_count": 48,
   "metadata": {},
   "outputs": [],
   "source": [
    "hostels = pd.read_csv('../data/hostel.csv')\n",
    "penguins = sns.load_dataset(\"penguins\")"
   ]
  },
  {
   "cell_type": "code",
   "execution_count": 49,
   "metadata": {},
   "outputs": [
    {
     "data": {
      "text/html": [
       "<div>\n",
       "<style scoped>\n",
       "    .dataframe tbody tr th:only-of-type {\n",
       "        vertical-align: middle;\n",
       "    }\n",
       "\n",
       "    .dataframe tbody tr th {\n",
       "        vertical-align: top;\n",
       "    }\n",
       "\n",
       "    .dataframe thead th {\n",
       "        text-align: right;\n",
       "    }\n",
       "</style>\n",
       "<table border=\"1\" class=\"dataframe\">\n",
       "  <thead>\n",
       "    <tr style=\"text-align: right;\">\n",
       "      <th></th>\n",
       "      <th>Unnamed: 0</th>\n",
       "      <th>hostel.name</th>\n",
       "      <th>City</th>\n",
       "      <th>price.from</th>\n",
       "      <th>Distance</th>\n",
       "      <th>summary.score</th>\n",
       "      <th>rating.band</th>\n",
       "      <th>atmosphere</th>\n",
       "      <th>cleanliness</th>\n",
       "      <th>facilities</th>\n",
       "      <th>location.y</th>\n",
       "      <th>security</th>\n",
       "      <th>staff</th>\n",
       "      <th>valueformoney</th>\n",
       "      <th>lon</th>\n",
       "      <th>lat</th>\n",
       "    </tr>\n",
       "  </thead>\n",
       "  <tbody>\n",
       "    <tr>\n",
       "      <th>0</th>\n",
       "      <td>1</td>\n",
       "      <td>\"Bike &amp; Bed\" CharinCo Hostel</td>\n",
       "      <td>Osaka</td>\n",
       "      <td>3300</td>\n",
       "      <td>2.9km from city centre</td>\n",
       "      <td>9.2</td>\n",
       "      <td>Superb</td>\n",
       "      <td>8.9</td>\n",
       "      <td>9.4</td>\n",
       "      <td>9.3</td>\n",
       "      <td>8.9</td>\n",
       "      <td>9.0</td>\n",
       "      <td>9.4</td>\n",
       "      <td>9.4</td>\n",
       "      <td>135.513767</td>\n",
       "      <td>34.682678</td>\n",
       "    </tr>\n",
       "    <tr>\n",
       "      <th>1</th>\n",
       "      <td>2</td>\n",
       "      <td>&amp; And Hostel</td>\n",
       "      <td>Fukuoka-City</td>\n",
       "      <td>2600</td>\n",
       "      <td>0.7km from city centre</td>\n",
       "      <td>9.5</td>\n",
       "      <td>Superb</td>\n",
       "      <td>9.4</td>\n",
       "      <td>9.7</td>\n",
       "      <td>9.5</td>\n",
       "      <td>9.7</td>\n",
       "      <td>9.2</td>\n",
       "      <td>9.7</td>\n",
       "      <td>9.5</td>\n",
       "      <td>NaN</td>\n",
       "      <td>NaN</td>\n",
       "    </tr>\n",
       "    <tr>\n",
       "      <th>2</th>\n",
       "      <td>3</td>\n",
       "      <td>&amp;And Hostel Akihabara</td>\n",
       "      <td>Tokyo</td>\n",
       "      <td>3600</td>\n",
       "      <td>7.8km from city centre</td>\n",
       "      <td>8.7</td>\n",
       "      <td>Fabulous</td>\n",
       "      <td>8.0</td>\n",
       "      <td>7.0</td>\n",
       "      <td>9.0</td>\n",
       "      <td>8.0</td>\n",
       "      <td>10.0</td>\n",
       "      <td>10.0</td>\n",
       "      <td>9.0</td>\n",
       "      <td>139.777472</td>\n",
       "      <td>35.697447</td>\n",
       "    </tr>\n",
       "    <tr>\n",
       "      <th>3</th>\n",
       "      <td>4</td>\n",
       "      <td>&amp;And Hostel Ueno</td>\n",
       "      <td>Tokyo</td>\n",
       "      <td>2600</td>\n",
       "      <td>8.7km from city centre</td>\n",
       "      <td>7.4</td>\n",
       "      <td>Very Good</td>\n",
       "      <td>8.0</td>\n",
       "      <td>7.5</td>\n",
       "      <td>7.5</td>\n",
       "      <td>7.5</td>\n",
       "      <td>7.0</td>\n",
       "      <td>8.0</td>\n",
       "      <td>6.5</td>\n",
       "      <td>139.783667</td>\n",
       "      <td>35.712716</td>\n",
       "    </tr>\n",
       "    <tr>\n",
       "      <th>4</th>\n",
       "      <td>5</td>\n",
       "      <td>&amp;And Hostel-Asakusa North-</td>\n",
       "      <td>Tokyo</td>\n",
       "      <td>1500</td>\n",
       "      <td>10.5km from city centre</td>\n",
       "      <td>9.4</td>\n",
       "      <td>Superb</td>\n",
       "      <td>9.5</td>\n",
       "      <td>9.5</td>\n",
       "      <td>9.0</td>\n",
       "      <td>9.0</td>\n",
       "      <td>9.5</td>\n",
       "      <td>10.0</td>\n",
       "      <td>9.5</td>\n",
       "      <td>139.798371</td>\n",
       "      <td>35.727898</td>\n",
       "    </tr>\n",
       "  </tbody>\n",
       "</table>\n",
       "</div>"
      ],
      "text/plain": [
       "   Unnamed: 0                   hostel.name          City  price.from  \\\n",
       "0           1  \"Bike & Bed\" CharinCo Hostel         Osaka        3300   \n",
       "1           2                  & And Hostel  Fukuoka-City        2600   \n",
       "2           3         &And Hostel Akihabara         Tokyo        3600   \n",
       "3           4              &And Hostel Ueno         Tokyo        2600   \n",
       "4           5    &And Hostel-Asakusa North-         Tokyo        1500   \n",
       "\n",
       "                  Distance  summary.score rating.band  atmosphere  \\\n",
       "0   2.9km from city centre            9.2      Superb         8.9   \n",
       "1   0.7km from city centre            9.5      Superb         9.4   \n",
       "2   7.8km from city centre            8.7    Fabulous         8.0   \n",
       "3   8.7km from city centre            7.4   Very Good         8.0   \n",
       "4  10.5km from city centre            9.4      Superb         9.5   \n",
       "\n",
       "   cleanliness  facilities  location.y  security  staff  valueformoney  \\\n",
       "0          9.4         9.3         8.9       9.0    9.4            9.4   \n",
       "1          9.7         9.5         9.7       9.2    9.7            9.5   \n",
       "2          7.0         9.0         8.0      10.0   10.0            9.0   \n",
       "3          7.5         7.5         7.5       7.0    8.0            6.5   \n",
       "4          9.5         9.0         9.0       9.5   10.0            9.5   \n",
       "\n",
       "          lon        lat  \n",
       "0  135.513767  34.682678  \n",
       "1         NaN        NaN  \n",
       "2  139.777472  35.697447  \n",
       "3  139.783667  35.712716  \n",
       "4  139.798371  35.727898  "
      ]
     },
     "execution_count": 49,
     "metadata": {},
     "output_type": "execute_result"
    }
   ],
   "source": [
    "hostels.head()"
   ]
  },
  {
   "cell_type": "markdown",
   "metadata": {},
   "source": [
    "### Portfolio assignment 8\n",
    "15 min: \n",
    "- Calculate the 90%, 95%, 99% and 99.99% confidence interval for at least 2 columns with numerical data in the dataset that you chose in portfolio assignment 4. Do you see the impact the confidence has on the interval?\n",
    "- Now calculate the 95% confidence interval again but use only the first 10% of your rows. Compare this interval to the previous 95% confidence interval you calculated. Do you see the impact of having less data?"
   ]
  },
  {
   "cell_type": "markdown",
   "metadata": {},
   "source": [
    "The confidence interval becomes wider when we use a higher percentage."
   ]
  },
  {
   "cell_type": "code",
   "execution_count": 50,
   "metadata": {},
   "outputs": [
    {
     "data": {
      "text/plain": [
       "(1572.8552727121687, 15203.168119100694)"
      ]
     },
     "execution_count": 50,
     "metadata": {},
     "output_type": "execute_result"
    }
   ],
   "source": [
    "import scipy.stats as st\n",
    "confidence = 0.90\n",
    "st.t.interval(confidence, len(hostels)-1, loc=hostels['price.from'].mean(), scale=st.sem(hostels['price.from']))"
   ]
  },
  {
   "cell_type": "code",
   "execution_count": 51,
   "metadata": {},
   "outputs": [
    {
     "data": {
      "text/plain": [
       "(260.4671783663762, 16515.55621344649)"
      ]
     },
     "execution_count": 51,
     "metadata": {},
     "output_type": "execute_result"
    }
   ],
   "source": [
    "confidence = 0.95\n",
    "st.t.interval(confidence, len(hostels)-1, loc=hostels['price.from'].mean(), scale=st.sem(hostels['price.from']))"
   ]
  },
  {
   "cell_type": "code",
   "execution_count": 52,
   "metadata": {},
   "outputs": [
    {
     "data": {
      "text/plain": [
       "(-2315.3730576822127, 19091.396449495078)"
      ]
     },
     "execution_count": 52,
     "metadata": {},
     "output_type": "execute_result"
    }
   ],
   "source": [
    "confidence = 0.99\n",
    "st.t.interval(confidence, len(hostels)-1, loc=hostels['price.from'].mean(), scale=st.sem(hostels['price.from']))"
   ]
  },
  {
   "cell_type": "code",
   "execution_count": 53,
   "metadata": {},
   "outputs": [
    {
     "data": {
      "text/plain": [
       "(-7880.372587621379, 24656.395979434245)"
      ]
     },
     "execution_count": 53,
     "metadata": {},
     "output_type": "execute_result"
    }
   ],
   "source": [
    "confidence = 0.9999\n",
    "st.t.interval(confidence, len(hostels)-1, loc=hostels['price.from'].mean(), scale=st.sem(hostels['price.from']))"
   ]
  },
  {
   "cell_type": "markdown",
   "metadata": {},
   "source": [
    "For 99% and 99.99% the confidence interval lacks data."
   ]
  },
  {
   "cell_type": "markdown",
   "metadata": {},
   "source": [
    "From the web: \"If the distribution only has positive values then both limits ought to be positive. But it is not unknown for the lower confidence limit for a proportion to be negative or the upper limit to be greater than 1. This occurs because the method used is an approximation and the approximation is not good enough, perhaps because there is not enough data. An exact method should not have this defect, but the normal approximation can be badly behaved if there are too few successes and failures.\""
   ]
  }
 ],
 "metadata": {
  "interpreter": {
   "hash": "d4d1e4263499bec80672ea0156c357c1ee493ec2b1c70f0acce89fc37c4a6abe"
  },
  "kernelspec": {
   "display_name": "Python 3.9.5 ('base')",
   "language": "python",
   "name": "python3"
  },
  "language_info": {
   "codemirror_mode": {
    "name": "ipython",
    "version": 3
   },
   "file_extension": ".py",
   "mimetype": "text/x-python",
   "name": "python",
   "nbconvert_exporter": "python",
   "pygments_lexer": "ipython3",
   "version": "3.9.10"
  },
  "orig_nbformat": 4
 },
 "nbformat": 4,
 "nbformat_minor": 2
}
