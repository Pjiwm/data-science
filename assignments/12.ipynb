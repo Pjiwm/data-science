{
 "cells": [
  {
   "cell_type": "code",
   "execution_count": 1,
   "metadata": {},
   "outputs": [],
   "source": [
    "import pandas as pd\n",
    "import seaborn as sns"
   ]
  },
  {
   "cell_type": "code",
   "execution_count": 2,
   "metadata": {},
   "outputs": [],
   "source": [
    "hostels = pd.read_csv('../data/hostel.csv')\n",
    "penguins = sns.load_dataset(\"penguins\")"
   ]
  },
  {
   "cell_type": "markdown",
   "metadata": {},
   "source": [
    "### Portfolio assignment 12\n",
    "30 min: Perform a bivariate analysis on at least 3 combinations of a numerical column with a categorical column in the dataset that you chose in portfolio assignment 4. Use <em>.groupby('columnname').mean()</em> to calculate the means. Is there a difference between categories? Then use seaborn barplots to check if there is a statistically significant difference. "
   ]
  },
  {
   "cell_type": "code",
   "execution_count": 3,
   "metadata": {},
   "outputs": [
    {
     "data": {
      "text/html": [
       "<div>\n",
       "<style scoped>\n",
       "    .dataframe tbody tr th:only-of-type {\n",
       "        vertical-align: middle;\n",
       "    }\n",
       "\n",
       "    .dataframe tbody tr th {\n",
       "        vertical-align: top;\n",
       "    }\n",
       "\n",
       "    .dataframe thead th {\n",
       "        text-align: right;\n",
       "    }\n",
       "</style>\n",
       "<table border=\"1\" class=\"dataframe\">\n",
       "  <thead>\n",
       "    <tr style=\"text-align: right;\">\n",
       "      <th></th>\n",
       "      <th>Unnamed: 0</th>\n",
       "      <th>hostel.name</th>\n",
       "      <th>City</th>\n",
       "      <th>price.from</th>\n",
       "      <th>Distance</th>\n",
       "      <th>summary.score</th>\n",
       "      <th>rating.band</th>\n",
       "      <th>atmosphere</th>\n",
       "      <th>cleanliness</th>\n",
       "      <th>facilities</th>\n",
       "      <th>location.y</th>\n",
       "      <th>security</th>\n",
       "      <th>staff</th>\n",
       "      <th>valueformoney</th>\n",
       "      <th>lon</th>\n",
       "      <th>lat</th>\n",
       "    </tr>\n",
       "  </thead>\n",
       "  <tbody>\n",
       "    <tr>\n",
       "      <th>0</th>\n",
       "      <td>1</td>\n",
       "      <td>\"Bike &amp; Bed\" CharinCo Hostel</td>\n",
       "      <td>Osaka</td>\n",
       "      <td>3300</td>\n",
       "      <td>2.9km from city centre</td>\n",
       "      <td>9.2</td>\n",
       "      <td>Superb</td>\n",
       "      <td>8.9</td>\n",
       "      <td>9.4</td>\n",
       "      <td>9.3</td>\n",
       "      <td>8.9</td>\n",
       "      <td>9.0</td>\n",
       "      <td>9.4</td>\n",
       "      <td>9.4</td>\n",
       "      <td>135.513767</td>\n",
       "      <td>34.682678</td>\n",
       "    </tr>\n",
       "    <tr>\n",
       "      <th>1</th>\n",
       "      <td>2</td>\n",
       "      <td>&amp; And Hostel</td>\n",
       "      <td>Fukuoka-City</td>\n",
       "      <td>2600</td>\n",
       "      <td>0.7km from city centre</td>\n",
       "      <td>9.5</td>\n",
       "      <td>Superb</td>\n",
       "      <td>9.4</td>\n",
       "      <td>9.7</td>\n",
       "      <td>9.5</td>\n",
       "      <td>9.7</td>\n",
       "      <td>9.2</td>\n",
       "      <td>9.7</td>\n",
       "      <td>9.5</td>\n",
       "      <td>NaN</td>\n",
       "      <td>NaN</td>\n",
       "    </tr>\n",
       "    <tr>\n",
       "      <th>2</th>\n",
       "      <td>3</td>\n",
       "      <td>&amp;And Hostel Akihabara</td>\n",
       "      <td>Tokyo</td>\n",
       "      <td>3600</td>\n",
       "      <td>7.8km from city centre</td>\n",
       "      <td>8.7</td>\n",
       "      <td>Fabulous</td>\n",
       "      <td>8.0</td>\n",
       "      <td>7.0</td>\n",
       "      <td>9.0</td>\n",
       "      <td>8.0</td>\n",
       "      <td>10.0</td>\n",
       "      <td>10.0</td>\n",
       "      <td>9.0</td>\n",
       "      <td>139.777472</td>\n",
       "      <td>35.697447</td>\n",
       "    </tr>\n",
       "    <tr>\n",
       "      <th>3</th>\n",
       "      <td>4</td>\n",
       "      <td>&amp;And Hostel Ueno</td>\n",
       "      <td>Tokyo</td>\n",
       "      <td>2600</td>\n",
       "      <td>8.7km from city centre</td>\n",
       "      <td>7.4</td>\n",
       "      <td>Very Good</td>\n",
       "      <td>8.0</td>\n",
       "      <td>7.5</td>\n",
       "      <td>7.5</td>\n",
       "      <td>7.5</td>\n",
       "      <td>7.0</td>\n",
       "      <td>8.0</td>\n",
       "      <td>6.5</td>\n",
       "      <td>139.783667</td>\n",
       "      <td>35.712716</td>\n",
       "    </tr>\n",
       "    <tr>\n",
       "      <th>4</th>\n",
       "      <td>5</td>\n",
       "      <td>&amp;And Hostel-Asakusa North-</td>\n",
       "      <td>Tokyo</td>\n",
       "      <td>1500</td>\n",
       "      <td>10.5km from city centre</td>\n",
       "      <td>9.4</td>\n",
       "      <td>Superb</td>\n",
       "      <td>9.5</td>\n",
       "      <td>9.5</td>\n",
       "      <td>9.0</td>\n",
       "      <td>9.0</td>\n",
       "      <td>9.5</td>\n",
       "      <td>10.0</td>\n",
       "      <td>9.5</td>\n",
       "      <td>139.798371</td>\n",
       "      <td>35.727898</td>\n",
       "    </tr>\n",
       "  </tbody>\n",
       "</table>\n",
       "</div>"
      ],
      "text/plain": [
       "   Unnamed: 0                   hostel.name          City  price.from  \\\n",
       "0           1  \"Bike & Bed\" CharinCo Hostel         Osaka        3300   \n",
       "1           2                  & And Hostel  Fukuoka-City        2600   \n",
       "2           3         &And Hostel Akihabara         Tokyo        3600   \n",
       "3           4              &And Hostel Ueno         Tokyo        2600   \n",
       "4           5    &And Hostel-Asakusa North-         Tokyo        1500   \n",
       "\n",
       "                  Distance  summary.score rating.band  atmosphere  \\\n",
       "0   2.9km from city centre            9.2      Superb         8.9   \n",
       "1   0.7km from city centre            9.5      Superb         9.4   \n",
       "2   7.8km from city centre            8.7    Fabulous         8.0   \n",
       "3   8.7km from city centre            7.4   Very Good         8.0   \n",
       "4  10.5km from city centre            9.4      Superb         9.5   \n",
       "\n",
       "   cleanliness  facilities  location.y  security  staff  valueformoney  \\\n",
       "0          9.4         9.3         8.9       9.0    9.4            9.4   \n",
       "1          9.7         9.5         9.7       9.2    9.7            9.5   \n",
       "2          7.0         9.0         8.0      10.0   10.0            9.0   \n",
       "3          7.5         7.5         7.5       7.0    8.0            6.5   \n",
       "4          9.5         9.0         9.0       9.5   10.0            9.5   \n",
       "\n",
       "          lon        lat  \n",
       "0  135.513767  34.682678  \n",
       "1         NaN        NaN  \n",
       "2  139.777472  35.697447  \n",
       "3  139.783667  35.712716  \n",
       "4  139.798371  35.727898  "
      ]
     },
     "execution_count": 3,
     "metadata": {},
     "output_type": "execute_result"
    }
   ],
   "source": [
    "hostels.head()"
   ]
  },
  {
   "cell_type": "code",
   "execution_count": 4,
   "metadata": {},
   "outputs": [
    {
     "data": {
      "text/html": [
       "<div>\n",
       "<style scoped>\n",
       "    .dataframe tbody tr th:only-of-type {\n",
       "        vertical-align: middle;\n",
       "    }\n",
       "\n",
       "    .dataframe tbody tr th {\n",
       "        vertical-align: top;\n",
       "    }\n",
       "\n",
       "    .dataframe thead th {\n",
       "        text-align: right;\n",
       "    }\n",
       "</style>\n",
       "<table border=\"1\" class=\"dataframe\">\n",
       "  <thead>\n",
       "    <tr style=\"text-align: right;\">\n",
       "      <th></th>\n",
       "      <th>Unnamed: 0</th>\n",
       "      <th>price.from</th>\n",
       "      <th>summary.score</th>\n",
       "      <th>atmosphere</th>\n",
       "      <th>cleanliness</th>\n",
       "      <th>facilities</th>\n",
       "      <th>location.y</th>\n",
       "      <th>security</th>\n",
       "      <th>staff</th>\n",
       "      <th>valueformoney</th>\n",
       "      <th>lon</th>\n",
       "      <th>lat</th>\n",
       "    </tr>\n",
       "    <tr>\n",
       "      <th>City</th>\n",
       "      <th></th>\n",
       "      <th></th>\n",
       "      <th></th>\n",
       "      <th></th>\n",
       "      <th></th>\n",
       "      <th></th>\n",
       "      <th></th>\n",
       "      <th></th>\n",
       "      <th></th>\n",
       "      <th></th>\n",
       "      <th></th>\n",
       "      <th></th>\n",
       "    </tr>\n",
       "  </thead>\n",
       "  <tbody>\n",
       "    <tr>\n",
       "      <th>Fukuoka-City</th>\n",
       "      <td>155.894737</td>\n",
       "      <td>2736.842105</td>\n",
       "      <td>9.070588</td>\n",
       "      <td>8.817647</td>\n",
       "      <td>9.376471</td>\n",
       "      <td>8.900000</td>\n",
       "      <td>9.017647</td>\n",
       "      <td>9.076471</td>\n",
       "      <td>9.358824</td>\n",
       "      <td>8.982353</td>\n",
       "      <td>130.420316</td>\n",
       "      <td>33.586296</td>\n",
       "    </tr>\n",
       "    <tr>\n",
       "      <th>Hiroshima</th>\n",
       "      <td>150.714286</td>\n",
       "      <td>2578.571429</td>\n",
       "      <td>9.171429</td>\n",
       "      <td>8.535714</td>\n",
       "      <td>9.535714</td>\n",
       "      <td>8.785714</td>\n",
       "      <td>9.228571</td>\n",
       "      <td>9.371429</td>\n",
       "      <td>9.450000</td>\n",
       "      <td>9.242857</td>\n",
       "      <td>132.435495</td>\n",
       "      <td>34.385859</td>\n",
       "    </tr>\n",
       "    <tr>\n",
       "      <th>Kyoto</th>\n",
       "      <td>174.320513</td>\n",
       "      <td>2293.589744</td>\n",
       "      <td>8.961644</td>\n",
       "      <td>8.441096</td>\n",
       "      <td>9.345205</td>\n",
       "      <td>8.793151</td>\n",
       "      <td>8.884932</td>\n",
       "      <td>9.094521</td>\n",
       "      <td>9.168493</td>\n",
       "      <td>9.013699</td>\n",
       "      <td>135.761126</td>\n",
       "      <td>34.997727</td>\n",
       "    </tr>\n",
       "    <tr>\n",
       "      <th>Osaka</th>\n",
       "      <td>177.673077</td>\n",
       "      <td>12014.423077</td>\n",
       "      <td>8.626733</td>\n",
       "      <td>8.091089</td>\n",
       "      <td>8.754455</td>\n",
       "      <td>8.501980</td>\n",
       "      <td>8.560396</td>\n",
       "      <td>8.697030</td>\n",
       "      <td>9.064356</td>\n",
       "      <td>8.700000</td>\n",
       "      <td>135.198067</td>\n",
       "      <td>34.324737</td>\n",
       "    </tr>\n",
       "    <tr>\n",
       "      <th>Tokyo</th>\n",
       "      <td>169.338583</td>\n",
       "      <td>10647.244094</td>\n",
       "      <td>8.719672</td>\n",
       "      <td>8.125410</td>\n",
       "      <td>8.914754</td>\n",
       "      <td>8.495902</td>\n",
       "      <td>8.586066</td>\n",
       "      <td>9.000000</td>\n",
       "      <td>9.101639</td>\n",
       "      <td>8.808197</td>\n",
       "      <td>139.767171</td>\n",
       "      <td>35.698671</td>\n",
       "    </tr>\n",
       "  </tbody>\n",
       "</table>\n",
       "</div>"
      ],
      "text/plain": [
       "              Unnamed: 0    price.from  summary.score  atmosphere  \\\n",
       "City                                                                \n",
       "Fukuoka-City  155.894737   2736.842105       9.070588    8.817647   \n",
       "Hiroshima     150.714286   2578.571429       9.171429    8.535714   \n",
       "Kyoto         174.320513   2293.589744       8.961644    8.441096   \n",
       "Osaka         177.673077  12014.423077       8.626733    8.091089   \n",
       "Tokyo         169.338583  10647.244094       8.719672    8.125410   \n",
       "\n",
       "              cleanliness  facilities  location.y  security     staff  \\\n",
       "City                                                                    \n",
       "Fukuoka-City     9.376471    8.900000    9.017647  9.076471  9.358824   \n",
       "Hiroshima        9.535714    8.785714    9.228571  9.371429  9.450000   \n",
       "Kyoto            9.345205    8.793151    8.884932  9.094521  9.168493   \n",
       "Osaka            8.754455    8.501980    8.560396  8.697030  9.064356   \n",
       "Tokyo            8.914754    8.495902    8.586066  9.000000  9.101639   \n",
       "\n",
       "              valueformoney         lon        lat  \n",
       "City                                                \n",
       "Fukuoka-City       8.982353  130.420316  33.586296  \n",
       "Hiroshima          9.242857  132.435495  34.385859  \n",
       "Kyoto              9.013699  135.761126  34.997727  \n",
       "Osaka              8.700000  135.198067  34.324737  \n",
       "Tokyo              8.808197  139.767171  35.698671  "
      ]
     },
     "execution_count": 4,
     "metadata": {},
     "output_type": "execute_result"
    }
   ],
   "source": [
    "hostels.groupby(['City']).mean()"
   ]
  },
  {
   "cell_type": "markdown",
   "metadata": {},
   "source": [
    "The confidence intervals are too big, so we can't really say certain cities are more expensive than others."
   ]
  },
  {
   "cell_type": "code",
   "execution_count": 5,
   "metadata": {},
   "outputs": [
    {
     "data": {
      "text/plain": [
       "<AxesSubplot:xlabel='City', ylabel='price.from'>"
      ]
     },
     "execution_count": 5,
     "metadata": {},
     "output_type": "execute_result"
    },
    {
     "data": {
      "image/png": "[encoded data removed]",
      "text/plain": [
       "<Figure size 432x288 with 1 Axes>"
      ]
     },
     "metadata": {
      "needs_background": "light"
     },
     "output_type": "display_data"
    }
   ],
   "source": [
    "sns.barplot(y=\"price.from\", x=\"City\", data=hostels)"
   ]
  },
  {
   "cell_type": "markdown",
   "metadata": {},
   "source": [
    "Superb and Fabulous hostels seem to score higher for value for money"
   ]
  },
  {
   "cell_type": "code",
   "execution_count": 6,
   "metadata": {},
   "outputs": [
    {
     "data": {
      "text/plain": [
       "<AxesSubplot:xlabel='rating.band', ylabel='valueformoney'>"
      ]
     },
     "execution_count": 6,
     "metadata": {},
     "output_type": "execute_result"
    },
    {
     "data": {
      "image/png": "[encoded data removed]",
      "text/plain": [
       "<Figure size 432x288 with 1 Axes>"
      ]
     },
     "metadata": {
      "needs_background": "light"
     },
     "output_type": "display_data"
    }
   ],
   "source": [
    "sns.barplot(y=\"valueformoney\", x=\"rating.band\", data=hostels)"
   ]
  },
  {
   "cell_type": "markdown",
   "metadata": {},
   "source": [
    "They all seem to score very high."
   ]
  },
  {
   "cell_type": "code",
   "execution_count": 7,
   "metadata": {},
   "outputs": [
    {
     "data": {
      "text/plain": [
       "<AxesSubplot:xlabel='City', ylabel='cleanliness'>"
      ]
     },
     "execution_count": 7,
     "metadata": {},
     "output_type": "execute_result"
    },
    {
     "data": {
      "image/png": "[encoded data removed]",
      "text/plain": [
       "<Figure size 432x288 with 1 Axes>"
      ]
     },
     "metadata": {
      "needs_background": "light"
     },
     "output_type": "display_data"
    }
   ],
   "source": [
    "sns.barplot(y=\"cleanliness\", x=\"City\", data=hostels)"
   ]
  }
 ],
 "metadata": {
  "interpreter": {
   "hash": "d4d1e4263499bec80672ea0156c357c1ee493ec2b1c70f0acce89fc37c4a6abe"
  },
  "kernelspec": {
   "display_name": "Python 3.9.5 ('base')",
   "language": "python",
   "name": "python3"
  },
  "language_info": {
   "codemirror_mode": {
    "name": "ipython",
    "version": 3
   },
   "file_extension": ".py",
   "mimetype": "text/x-python",
   "name": "python",
   "nbconvert_exporter": "python",
   "pygments_lexer": "ipython3",
   "version": "3.9.10"
  },
  "orig_nbformat": 4
 },
 "nbformat": 4,
 "nbformat_minor": 2
}
