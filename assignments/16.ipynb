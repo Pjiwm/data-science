{
 "cells": [
  {
   "cell_type": "markdown",
   "metadata": {},
   "source": [
    "## Portfolio assignment 16\n",
    "30 min: Train a decision tree to predict one of the categorical columns of your own dataset.\n",
    "- Split your dataset into a train (70%) and test (30%) set.\n",
    "- Use the train set to fit a DecisionTreeClassifier. You are free to to choose which columns you want to use as feature variables and you are also free to choose the max_depth of the tree. \n",
    "- Use your decision tree model to make predictions for both the train and test set.\n",
    "- Calculate the accuracy for both the train set predictions and test set predictions.\n",
    "- Is the accurracy different? Did you expect this difference?\n",
    "- Use the plot_tree function above to create a plot of the decision tree. Take a few minutes to analyse the decision tree. Do you understand the tree?\n",
    "    \n",
    "![](https://i.imgur.com/0v1CGNV.png)"
   ]
  },
  {
   "cell_type": "code",
   "execution_count": 15,
   "metadata": {},
   "outputs": [],
   "source": [
    "import pandas as pd\n",
    "import seaborn as sns\n"
   ]
  },
  {
   "cell_type": "code",
   "execution_count": 30,
   "metadata": {},
   "outputs": [],
   "source": [
    "hostels = pd.read_csv('../data/hostel.csv')\n",
    "penguins = sns.load_dataset(\"penguins\")\n",
    "hostels = hostels.dropna()"
   ]
  },
  {
   "cell_type": "code",
   "execution_count": 17,
   "metadata": {},
   "outputs": [],
   "source": [
    "from sklearn.model_selection import train_test_split\n",
    "from sklearn.tree import DecisionTreeClassifier\n",
    "def calculate_accuracy(predictions, actuals):\n",
    "    if(len(predictions) != len(actuals)):\n",
    "        raise Exception(\"The amount of predictions did not equal the amount of actuals\")\n",
    "    return (predictions == actuals).sum() / len(actuals)"
   ]
  },
  {
   "cell_type": "code",
   "execution_count": 18,
   "metadata": {},
   "outputs": [
    {
     "data": {
      "text/html": [
       "<div>\n",
       "<style scoped>\n",
       "    .dataframe tbody tr th:only-of-type {\n",
       "        vertical-align: middle;\n",
       "    }\n",
       "\n",
       "    .dataframe tbody tr th {\n",
       "        vertical-align: top;\n",
       "    }\n",
       "\n",
       "    .dataframe thead th {\n",
       "        text-align: right;\n",
       "    }\n",
       "</style>\n",
       "<table border=\"1\" class=\"dataframe\">\n",
       "  <thead>\n",
       "    <tr style=\"text-align: right;\">\n",
       "      <th></th>\n",
       "      <th>Unnamed: 0</th>\n",
       "      <th>hostel.name</th>\n",
       "      <th>City</th>\n",
       "      <th>price.from</th>\n",
       "      <th>Distance</th>\n",
       "      <th>summary.score</th>\n",
       "      <th>rating.band</th>\n",
       "      <th>atmosphere</th>\n",
       "      <th>cleanliness</th>\n",
       "      <th>facilities</th>\n",
       "      <th>location.y</th>\n",
       "      <th>security</th>\n",
       "      <th>staff</th>\n",
       "      <th>valueformoney</th>\n",
       "      <th>lon</th>\n",
       "      <th>lat</th>\n",
       "    </tr>\n",
       "  </thead>\n",
       "  <tbody>\n",
       "    <tr>\n",
       "      <th>0</th>\n",
       "      <td>1</td>\n",
       "      <td>\"Bike &amp; Bed\" CharinCo Hostel</td>\n",
       "      <td>Osaka</td>\n",
       "      <td>3300</td>\n",
       "      <td>2.9km from city centre</td>\n",
       "      <td>9.2</td>\n",
       "      <td>Superb</td>\n",
       "      <td>8.9</td>\n",
       "      <td>9.4</td>\n",
       "      <td>9.3</td>\n",
       "      <td>8.9</td>\n",
       "      <td>9.0</td>\n",
       "      <td>9.4</td>\n",
       "      <td>9.4</td>\n",
       "      <td>135.513767</td>\n",
       "      <td>34.682678</td>\n",
       "    </tr>\n",
       "    <tr>\n",
       "      <th>2</th>\n",
       "      <td>3</td>\n",
       "      <td>&amp;And Hostel Akihabara</td>\n",
       "      <td>Tokyo</td>\n",
       "      <td>3600</td>\n",
       "      <td>7.8km from city centre</td>\n",
       "      <td>8.7</td>\n",
       "      <td>Fabulous</td>\n",
       "      <td>8.0</td>\n",
       "      <td>7.0</td>\n",
       "      <td>9.0</td>\n",
       "      <td>8.0</td>\n",
       "      <td>10.0</td>\n",
       "      <td>10.0</td>\n",
       "      <td>9.0</td>\n",
       "      <td>139.777472</td>\n",
       "      <td>35.697447</td>\n",
       "    </tr>\n",
       "    <tr>\n",
       "      <th>3</th>\n",
       "      <td>4</td>\n",
       "      <td>&amp;And Hostel Ueno</td>\n",
       "      <td>Tokyo</td>\n",
       "      <td>2600</td>\n",
       "      <td>8.7km from city centre</td>\n",
       "      <td>7.4</td>\n",
       "      <td>Very Good</td>\n",
       "      <td>8.0</td>\n",
       "      <td>7.5</td>\n",
       "      <td>7.5</td>\n",
       "      <td>7.5</td>\n",
       "      <td>7.0</td>\n",
       "      <td>8.0</td>\n",
       "      <td>6.5</td>\n",
       "      <td>139.783667</td>\n",
       "      <td>35.712716</td>\n",
       "    </tr>\n",
       "  </tbody>\n",
       "</table>\n",
       "</div>"
      ],
      "text/plain": [
       "   Unnamed: 0                   hostel.name   City  price.from  \\\n",
       "0           1  \"Bike & Bed\" CharinCo Hostel  Osaka        3300   \n",
       "2           3         &And Hostel Akihabara  Tokyo        3600   \n",
       "3           4              &And Hostel Ueno  Tokyo        2600   \n",
       "\n",
       "                 Distance  summary.score rating.band  atmosphere  cleanliness  \\\n",
       "0  2.9km from city centre            9.2      Superb         8.9          9.4   \n",
       "2  7.8km from city centre            8.7    Fabulous         8.0          7.0   \n",
       "3  8.7km from city centre            7.4   Very Good         8.0          7.5   \n",
       "\n",
       "   facilities  location.y  security  staff  valueformoney         lon  \\\n",
       "0         9.3         8.9       9.0    9.4            9.4  135.513767   \n",
       "2         9.0         8.0      10.0   10.0            9.0  139.777472   \n",
       "3         7.5         7.5       7.0    8.0            6.5  139.783667   \n",
       "\n",
       "         lat  \n",
       "0  34.682678  \n",
       "2  35.697447  \n",
       "3  35.712716  "
      ]
     },
     "execution_count": 18,
     "metadata": {},
     "output_type": "execute_result"
    }
   ],
   "source": [
    "hostels.head(3)"
   ]
  },
  {
   "cell_type": "code",
   "execution_count": 19,
   "metadata": {},
   "outputs": [
    {
     "name": "stdout",
     "output_type": "stream",
     "text": [
      "(208, 16) (90, 16)\n"
     ]
    }
   ],
   "source": [
    "hostels_train, hostels_test = train_test_split(hostels, test_size=0.3, stratify=hostels['City'], random_state=3)\n",
    "print(hostels_train.shape, hostels_test.shape)"
   ]
  },
  {
   "cell_type": "code",
   "execution_count": 27,
   "metadata": {},
   "outputs": [
    {
     "data": {
      "text/plain": [
       "DecisionTreeClassifier(max_depth=3)"
      ]
     },
     "execution_count": 27,
     "metadata": {},
     "output_type": "execute_result"
    }
   ],
   "source": [
    "features= ['cleanliness', 'atmosphere', 'facilities']\n",
    "dt_classification = DecisionTreeClassifier(max_depth = 3)\n",
    "dt_classification.fit(hostels_train[features], hostels_train['City'])"
   ]
  },
  {
   "cell_type": "markdown",
   "metadata": {},
   "source": [
    "It isn't too surprising the accuracy isn't that high as there aren't a lot of samples in the used dataset. However the test set surprisingly scores close to the training set."
   ]
  },
  {
   "cell_type": "code",
   "execution_count": 28,
   "metadata": {},
   "outputs": [
    {
     "name": "stdout",
     "output_type": "stream",
     "text": [
      "Accuracy on training set 0.5\n",
      "Accuracy on test set 0.45555555555555555\n"
     ]
    }
   ],
   "source": [
    "predictionsOnTrainset = dt_classification.predict(hostels_train[features])\n",
    "predictionsOnTestset = dt_classification.predict(hostels_test[features])\n",
    "\n",
    "accuracyTrain = calculate_accuracy(predictionsOnTrainset, hostels_train.City)\n",
    "accuracyTest = calculate_accuracy(predictionsOnTestset, hostels_test.City)\n",
    "\n",
    "print(\"Accuracy on training set \" + str(accuracyTrain))\n",
    "print(\"Accuracy on test set \" + str(accuracyTest))"
   ]
  },
  {
   "cell_type": "code",
   "execution_count": 22,
   "metadata": {},
   "outputs": [],
   "source": [
    "from sklearn import tree\n",
    "import graphviz\n",
    "\n",
    "def plot_tree_classification(model, features, class_names):\n",
    "    # Generate plot data\n",
    "    dot_data = tree.export_graphviz(model, out_file=None, \n",
    "                          feature_names=features,  \n",
    "                          class_names=class_names,  \n",
    "                          filled=True, rounded=True,  \n",
    "                          special_characters=True)  \n",
    "\n",
    "    # Turn into graph using graphviz\n",
    "    graph = graphviz.Source(dot_data)  \n",
    "\n",
    "    # Write out a pdf\n",
    "    graph.render(\"decision_tree\")\n",
    "\n",
    "    # Display in the notebook\n",
    "    return graph "
   ]
  },
  {
   "cell_type": "code",
   "execution_count": 23,
   "metadata": {},
   "outputs": [
    {
     "data": {
      "text/html": [
       "<div>\n",
       "<style scoped>\n",
       "    .dataframe tbody tr th:only-of-type {\n",
       "        vertical-align: middle;\n",
       "    }\n",
       "\n",
       "    .dataframe tbody tr th {\n",
       "        vertical-align: top;\n",
       "    }\n",
       "\n",
       "    .dataframe thead th {\n",
       "        text-align: right;\n",
       "    }\n",
       "</style>\n",
       "<table border=\"1\" class=\"dataframe\">\n",
       "  <thead>\n",
       "    <tr style=\"text-align: right;\">\n",
       "      <th></th>\n",
       "      <th>Unnamed: 0</th>\n",
       "      <th>hostel.name</th>\n",
       "      <th>City</th>\n",
       "      <th>price.from</th>\n",
       "      <th>Distance</th>\n",
       "      <th>summary.score</th>\n",
       "      <th>rating.band</th>\n",
       "      <th>atmosphere</th>\n",
       "      <th>cleanliness</th>\n",
       "      <th>facilities</th>\n",
       "      <th>location.y</th>\n",
       "      <th>security</th>\n",
       "      <th>staff</th>\n",
       "      <th>valueformoney</th>\n",
       "      <th>lon</th>\n",
       "      <th>lat</th>\n",
       "    </tr>\n",
       "  </thead>\n",
       "  <tbody>\n",
       "    <tr>\n",
       "      <th>0</th>\n",
       "      <td>1</td>\n",
       "      <td>\"Bike &amp; Bed\" CharinCo Hostel</td>\n",
       "      <td>Osaka</td>\n",
       "      <td>3300</td>\n",
       "      <td>2.9km from city centre</td>\n",
       "      <td>9.2</td>\n",
       "      <td>Superb</td>\n",
       "      <td>8.9</td>\n",
       "      <td>9.4</td>\n",
       "      <td>9.3</td>\n",
       "      <td>8.9</td>\n",
       "      <td>9.0</td>\n",
       "      <td>9.4</td>\n",
       "      <td>9.4</td>\n",
       "      <td>135.513767</td>\n",
       "      <td>34.682678</td>\n",
       "    </tr>\n",
       "    <tr>\n",
       "      <th>2</th>\n",
       "      <td>3</td>\n",
       "      <td>&amp;And Hostel Akihabara</td>\n",
       "      <td>Tokyo</td>\n",
       "      <td>3600</td>\n",
       "      <td>7.8km from city centre</td>\n",
       "      <td>8.7</td>\n",
       "      <td>Fabulous</td>\n",
       "      <td>8.0</td>\n",
       "      <td>7.0</td>\n",
       "      <td>9.0</td>\n",
       "      <td>8.0</td>\n",
       "      <td>10.0</td>\n",
       "      <td>10.0</td>\n",
       "      <td>9.0</td>\n",
       "      <td>139.777472</td>\n",
       "      <td>35.697447</td>\n",
       "    </tr>\n",
       "    <tr>\n",
       "      <th>3</th>\n",
       "      <td>4</td>\n",
       "      <td>&amp;And Hostel Ueno</td>\n",
       "      <td>Tokyo</td>\n",
       "      <td>2600</td>\n",
       "      <td>8.7km from city centre</td>\n",
       "      <td>7.4</td>\n",
       "      <td>Very Good</td>\n",
       "      <td>8.0</td>\n",
       "      <td>7.5</td>\n",
       "      <td>7.5</td>\n",
       "      <td>7.5</td>\n",
       "      <td>7.0</td>\n",
       "      <td>8.0</td>\n",
       "      <td>6.5</td>\n",
       "      <td>139.783667</td>\n",
       "      <td>35.712716</td>\n",
       "    </tr>\n",
       "    <tr>\n",
       "      <th>4</th>\n",
       "      <td>5</td>\n",
       "      <td>&amp;And Hostel-Asakusa North-</td>\n",
       "      <td>Tokyo</td>\n",
       "      <td>1500</td>\n",
       "      <td>10.5km from city centre</td>\n",
       "      <td>9.4</td>\n",
       "      <td>Superb</td>\n",
       "      <td>9.5</td>\n",
       "      <td>9.5</td>\n",
       "      <td>9.0</td>\n",
       "      <td>9.0</td>\n",
       "      <td>9.5</td>\n",
       "      <td>10.0</td>\n",
       "      <td>9.5</td>\n",
       "      <td>139.798371</td>\n",
       "      <td>35.727898</td>\n",
       "    </tr>\n",
       "    <tr>\n",
       "      <th>5</th>\n",
       "      <td>6</td>\n",
       "      <td>1night1980hostel Tokyo</td>\n",
       "      <td>Tokyo</td>\n",
       "      <td>2100</td>\n",
       "      <td>9.4km from city centre</td>\n",
       "      <td>7.0</td>\n",
       "      <td>Very Good</td>\n",
       "      <td>5.5</td>\n",
       "      <td>8.0</td>\n",
       "      <td>6.0</td>\n",
       "      <td>6.0</td>\n",
       "      <td>8.5</td>\n",
       "      <td>8.5</td>\n",
       "      <td>6.5</td>\n",
       "      <td>139.786950</td>\n",
       "      <td>35.724384</td>\n",
       "    </tr>\n",
       "  </tbody>\n",
       "</table>\n",
       "</div>"
      ],
      "text/plain": [
       "   Unnamed: 0                   hostel.name   City  price.from  \\\n",
       "0           1  \"Bike & Bed\" CharinCo Hostel  Osaka        3300   \n",
       "2           3         &And Hostel Akihabara  Tokyo        3600   \n",
       "3           4              &And Hostel Ueno  Tokyo        2600   \n",
       "4           5    &And Hostel-Asakusa North-  Tokyo        1500   \n",
       "5           6        1night1980hostel Tokyo  Tokyo        2100   \n",
       "\n",
       "                  Distance  summary.score rating.band  atmosphere  \\\n",
       "0   2.9km from city centre            9.2      Superb         8.9   \n",
       "2   7.8km from city centre            8.7    Fabulous         8.0   \n",
       "3   8.7km from city centre            7.4   Very Good         8.0   \n",
       "4  10.5km from city centre            9.4      Superb         9.5   \n",
       "5   9.4km from city centre            7.0   Very Good         5.5   \n",
       "\n",
       "   cleanliness  facilities  location.y  security  staff  valueformoney  \\\n",
       "0          9.4         9.3         8.9       9.0    9.4            9.4   \n",
       "2          7.0         9.0         8.0      10.0   10.0            9.0   \n",
       "3          7.5         7.5         7.5       7.0    8.0            6.5   \n",
       "4          9.5         9.0         9.0       9.5   10.0            9.5   \n",
       "5          8.0         6.0         6.0       8.5    8.5            6.5   \n",
       "\n",
       "          lon        lat  \n",
       "0  135.513767  34.682678  \n",
       "2  139.777472  35.697447  \n",
       "3  139.783667  35.712716  \n",
       "4  139.798371  35.727898  \n",
       "5  139.786950  35.724384  "
      ]
     },
     "execution_count": 23,
     "metadata": {},
     "output_type": "execute_result"
    }
   ],
   "source": [
    "hostels.head()"
   ]
  },
  {
   "cell_type": "code",
   "execution_count": 29,
   "metadata": {},
   "outputs": [
    {
     "data": {
      "image/svg+xml": "<?xml version=\"1.0\" encoding=\"UTF-8\" standalone=\"no\"?>\n<!DOCTYPE svg PUBLIC \"-//W3C//DTD SVG 1.1//EN\"\n \"http://www.w3.org/Graphics/SVG/1.1/DTD/svg11.dtd\">\n<!-- Generated by graphviz version 2.50.0 (20220117.2223)\n -->\n<!-- Title: Tree Pages: 1 -->\n<svg width=\"1540pt\" height=\"433pt\"\n viewBox=\"0.00 0.00 1540.00 433.00\" xmlns=\"http://www.w3.org/2000/svg\" xmlns:xlink=\"http://www.w3.org/1999/xlink\">\n<g id=\"graph0\" class=\"graph\" transform=\"scale(1 1) rotate(0) translate(4 429)\">\n<title>Tree</title>\n<polygon fill=\"white\" stroke=\"transparent\" points=\"-4,4 -4,-429 1536,-429 1536,4 -4,4\"/>\n<!-- 0 -->\n<g id=\"node1\" class=\"node\">\n<title>0</title>\n<path fill=\"#fce5f7\" stroke=\"black\" d=\"M871,-425C871,-425 692,-425 692,-425 686,-425 680,-419 680,-413 680,-413 680,-354 680,-354 680,-348 686,-342 692,-342 692,-342 871,-342 871,-342 877,-342 883,-348 883,-354 883,-354 883,-413 883,-413 883,-419 877,-425 871,-425\"/>\n<text text-anchor=\"start\" x=\"726.5\" y=\"-409.8\" font-family=\"Helvetica,sans-Serif\" font-size=\"14.00\">facilities ≤ 9.45</text>\n<text text-anchor=\"start\" x=\"737.5\" y=\"-394.8\" font-family=\"Helvetica,sans-Serif\" font-size=\"14.00\">gini = 0.706</text>\n<text text-anchor=\"start\" x=\"728.5\" y=\"-379.8\" font-family=\"Helvetica,sans-Serif\" font-size=\"14.00\">samples = 208</text>\n<text text-anchor=\"start\" x=\"688\" y=\"-364.8\" font-family=\"Helvetica,sans-Serif\" font-size=\"14.00\">value = [10, 9, 46, 62, 81]</text>\n<text text-anchor=\"start\" x=\"709\" y=\"-349.8\" font-family=\"Helvetica,sans-Serif\" font-size=\"14.00\">class = Fukuoka&#45;City</text>\n</g>\n<!-- 1 -->\n<g id=\"node2\" class=\"node\">\n<title>1</title>\n<path fill=\"#fbe0f5\" stroke=\"black\" d=\"M675.5,-306C675.5,-306 505.5,-306 505.5,-306 499.5,-306 493.5,-300 493.5,-294 493.5,-294 493.5,-235 493.5,-235 493.5,-229 499.5,-223 505.5,-223 505.5,-223 675.5,-223 675.5,-223 681.5,-223 687.5,-229 687.5,-235 687.5,-235 687.5,-294 687.5,-294 687.5,-300 681.5,-306 675.5,-306\"/>\n<text text-anchor=\"start\" x=\"522.5\" y=\"-290.8\" font-family=\"Helvetica,sans-Serif\" font-size=\"14.00\">atmosphere ≤ 8.25</text>\n<text text-anchor=\"start\" x=\"546.5\" y=\"-275.8\" font-family=\"Helvetica,sans-Serif\" font-size=\"14.00\">gini = 0.693</text>\n<text text-anchor=\"start\" x=\"537.5\" y=\"-260.8\" font-family=\"Helvetica,sans-Serif\" font-size=\"14.00\">samples = 169</text>\n<text text-anchor=\"start\" x=\"501.5\" y=\"-245.8\" font-family=\"Helvetica,sans-Serif\" font-size=\"14.00\">value = [8, 9, 28, 53, 71]</text>\n<text text-anchor=\"start\" x=\"518\" y=\"-230.8\" font-family=\"Helvetica,sans-Serif\" font-size=\"14.00\">class = Fukuoka&#45;City</text>\n</g>\n<!-- 0&#45;&gt;1 -->\n<g id=\"edge1\" class=\"edge\">\n<title>0&#45;&gt;1</title>\n<path fill=\"none\" stroke=\"black\" d=\"M715.23,-341.91C699.09,-332.02 681.7,-321.37 665.19,-311.25\"/>\n<polygon fill=\"black\" stroke=\"black\" points=\"667,-308.26 656.65,-306.02 663.35,-314.23 667,-308.26\"/>\n<text text-anchor=\"middle\" x=\"662.49\" y=\"-326.63\" font-family=\"Helvetica,sans-Serif\" font-size=\"14.00\">True</text>\n</g>\n<!-- 8 -->\n<g id=\"node9\" class=\"node\">\n<title>8</title>\n<path fill=\"#c8f8ef\" stroke=\"black\" d=\"M1058,-306C1058,-306 897,-306 897,-306 891,-306 885,-300 885,-294 885,-294 885,-235 885,-235 885,-229 891,-223 897,-223 897,-223 1058,-223 1058,-223 1064,-223 1070,-229 1070,-235 1070,-235 1070,-294 1070,-294 1070,-300 1064,-306 1058,-306\"/>\n<text text-anchor=\"start\" x=\"909.5\" y=\"-290.8\" font-family=\"Helvetica,sans-Serif\" font-size=\"14.00\">atmosphere ≤ 8.55</text>\n<text text-anchor=\"start\" x=\"933.5\" y=\"-275.8\" font-family=\"Helvetica,sans-Serif\" font-size=\"14.00\">gini = 0.665</text>\n<text text-anchor=\"start\" x=\"929\" y=\"-260.8\" font-family=\"Helvetica,sans-Serif\" font-size=\"14.00\">samples = 39</text>\n<text text-anchor=\"start\" x=\"893\" y=\"-245.8\" font-family=\"Helvetica,sans-Serif\" font-size=\"14.00\">value = [2, 0, 18, 9, 10]</text>\n<text text-anchor=\"start\" x=\"914.5\" y=\"-230.8\" font-family=\"Helvetica,sans-Serif\" font-size=\"14.00\">class = Hiroshima</text>\n</g>\n<!-- 0&#45;&gt;8 -->\n<g id=\"edge8\" class=\"edge\">\n<title>0&#45;&gt;8</title>\n<path fill=\"none\" stroke=\"black\" d=\"M849.5,-341.91C866.07,-332.02 883.91,-321.37 900.85,-311.25\"/>\n<polygon fill=\"black\" stroke=\"black\" points=\"902.83,-314.15 909.62,-306.02 899.24,-308.14 902.83,-314.15\"/>\n<text text-anchor=\"middle\" x=\"903.5\" y=\"-326.56\" font-family=\"Helvetica,sans-Serif\" font-size=\"14.00\">False</text>\n</g>\n<!-- 2 -->\n<g id=\"node3\" class=\"node\">\n<title>2</title>\n<path fill=\"#f6bae9\" stroke=\"black\" d=\"M375.5,-187C375.5,-187 205.5,-187 205.5,-187 199.5,-187 193.5,-181 193.5,-175 193.5,-175 193.5,-116 193.5,-116 193.5,-110 199.5,-104 205.5,-104 205.5,-104 375.5,-104 375.5,-104 381.5,-104 387.5,-110 387.5,-116 387.5,-116 387.5,-175 387.5,-175 387.5,-181 381.5,-187 375.5,-187\"/>\n<text text-anchor=\"start\" x=\"222.5\" y=\"-171.8\" font-family=\"Helvetica,sans-Serif\" font-size=\"14.00\">atmosphere ≤ 7.65</text>\n<text text-anchor=\"start\" x=\"246.5\" y=\"-156.8\" font-family=\"Helvetica,sans-Serif\" font-size=\"14.00\">gini = 0.634</text>\n<text text-anchor=\"start\" x=\"242\" y=\"-141.8\" font-family=\"Helvetica,sans-Serif\" font-size=\"14.00\">samples = 82</text>\n<text text-anchor=\"start\" x=\"201.5\" y=\"-126.8\" font-family=\"Helvetica,sans-Serif\" font-size=\"14.00\">value = [4, 3, 10, 22, 43]</text>\n<text text-anchor=\"start\" x=\"218\" y=\"-111.8\" font-family=\"Helvetica,sans-Serif\" font-size=\"14.00\">class = Fukuoka&#45;City</text>\n</g>\n<!-- 1&#45;&gt;2 -->\n<g id=\"edge2\" class=\"edge\">\n<title>1&#45;&gt;2</title>\n<path fill=\"none\" stroke=\"black\" d=\"M493.1,-225.51C462.48,-213.57 428.51,-200.32 397.27,-188.14\"/>\n<polygon fill=\"black\" stroke=\"black\" points=\"398.26,-184.77 387.67,-184.4 395.71,-191.29 398.26,-184.77\"/>\n</g>\n<!-- 5 -->\n<g id=\"node6\" class=\"node\">\n<title>5</title>\n<path fill=\"#f5f5fe\" stroke=\"black\" d=\"M675.5,-187C675.5,-187 505.5,-187 505.5,-187 499.5,-187 493.5,-181 493.5,-175 493.5,-175 493.5,-116 493.5,-116 493.5,-110 499.5,-104 505.5,-104 505.5,-104 675.5,-104 675.5,-104 681.5,-104 687.5,-110 687.5,-116 687.5,-116 687.5,-175 687.5,-175 687.5,-181 681.5,-187 675.5,-187\"/>\n<text text-anchor=\"start\" x=\"525.5\" y=\"-171.8\" font-family=\"Helvetica,sans-Serif\" font-size=\"14.00\">cleanliness ≤ 9.05</text>\n<text text-anchor=\"start\" x=\"551\" y=\"-156.8\" font-family=\"Helvetica,sans-Serif\" font-size=\"14.00\">gini = 0.72</text>\n<text text-anchor=\"start\" x=\"542\" y=\"-141.8\" font-family=\"Helvetica,sans-Serif\" font-size=\"14.00\">samples = 87</text>\n<text text-anchor=\"start\" x=\"501.5\" y=\"-126.8\" font-family=\"Helvetica,sans-Serif\" font-size=\"14.00\">value = [4, 6, 18, 31, 28]</text>\n<text text-anchor=\"start\" x=\"543.5\" y=\"-111.8\" font-family=\"Helvetica,sans-Serif\" font-size=\"14.00\">class = Kyoto</text>\n</g>\n<!-- 1&#45;&gt;5 -->\n<g id=\"edge5\" class=\"edge\">\n<title>1&#45;&gt;5</title>\n<path fill=\"none\" stroke=\"black\" d=\"M590.5,-222.91C590.5,-214.65 590.5,-205.86 590.5,-197.3\"/>\n<polygon fill=\"black\" stroke=\"black\" points=\"594,-197.02 590.5,-187.02 587,-197.02 594,-197.02\"/>\n</g>\n<!-- 3 -->\n<g id=\"node4\" class=\"node\">\n<title>3</title>\n<path fill=\"#e8e7fc\" stroke=\"black\" d=\"M173,-68C173,-68 12,-68 12,-68 6,-68 0,-62 0,-56 0,-56 0,-12 0,-12 0,-6 6,0 12,0 12,0 173,0 173,0 179,0 185,-6 185,-12 185,-12 185,-56 185,-56 185,-62 179,-68 173,-68\"/>\n<text text-anchor=\"start\" x=\"48.5\" y=\"-52.8\" font-family=\"Helvetica,sans-Serif\" font-size=\"14.00\">gini = 0.683</text>\n<text text-anchor=\"start\" x=\"44\" y=\"-37.8\" font-family=\"Helvetica,sans-Serif\" font-size=\"14.00\">samples = 38</text>\n<text text-anchor=\"start\" x=\"8\" y=\"-22.8\" font-family=\"Helvetica,sans-Serif\" font-size=\"14.00\">value = [2, 2, 5, 16, 13]</text>\n<text text-anchor=\"start\" x=\"45.5\" y=\"-7.8\" font-family=\"Helvetica,sans-Serif\" font-size=\"14.00\">class = Kyoto</text>\n</g>\n<!-- 2&#45;&gt;3 -->\n<g id=\"edge3\" class=\"edge\">\n<title>2&#45;&gt;3</title>\n<path fill=\"none\" stroke=\"black\" d=\"M217.05,-103.88C198.71,-93.73 179.1,-82.89 161,-72.88\"/>\n<polygon fill=\"black\" stroke=\"black\" points=\"162.69,-69.82 152.25,-68.04 159.31,-75.95 162.69,-69.82\"/>\n</g>\n<!-- 4 -->\n<g id=\"node5\" class=\"node\">\n<title>4</title>\n<path fill=\"#ef82d7\" stroke=\"black\" d=\"M366.5,-68C366.5,-68 214.5,-68 214.5,-68 208.5,-68 202.5,-62 202.5,-56 202.5,-56 202.5,-12 202.5,-12 202.5,-6 208.5,0 214.5,0 214.5,0 366.5,0 366.5,0 372.5,0 378.5,-6 378.5,-12 378.5,-12 378.5,-56 378.5,-56 378.5,-62 372.5,-68 366.5,-68\"/>\n<text text-anchor=\"start\" x=\"246.5\" y=\"-52.8\" font-family=\"Helvetica,sans-Serif\" font-size=\"14.00\">gini = 0.501</text>\n<text text-anchor=\"start\" x=\"242\" y=\"-37.8\" font-family=\"Helvetica,sans-Serif\" font-size=\"14.00\">samples = 44</text>\n<text text-anchor=\"start\" x=\"210.5\" y=\"-22.8\" font-family=\"Helvetica,sans-Serif\" font-size=\"14.00\">value = [2, 1, 5, 6, 30]</text>\n<text text-anchor=\"start\" x=\"218\" y=\"-7.8\" font-family=\"Helvetica,sans-Serif\" font-size=\"14.00\">class = Fukuoka&#45;City</text>\n</g>\n<!-- 2&#45;&gt;4 -->\n<g id=\"edge4\" class=\"edge\">\n<title>2&#45;&gt;4</title>\n<path fill=\"none\" stroke=\"black\" d=\"M290.5,-103.73C290.5,-95.52 290.5,-86.86 290.5,-78.56\"/>\n<polygon fill=\"black\" stroke=\"black\" points=\"294,-78.3 290.5,-68.3 287,-78.3 294,-78.3\"/>\n</g>\n<!-- 6 -->\n<g id=\"node7\" class=\"node\">\n<title>6</title>\n<path fill=\"#b6b5f5\" stroke=\"black\" d=\"M560.5,-68C560.5,-68 408.5,-68 408.5,-68 402.5,-68 396.5,-62 396.5,-56 396.5,-56 396.5,-12 396.5,-12 396.5,-6 402.5,0 408.5,0 408.5,0 560.5,0 560.5,0 566.5,0 572.5,-6 572.5,-12 572.5,-12 572.5,-56 572.5,-56 572.5,-62 566.5,-68 560.5,-68\"/>\n<text text-anchor=\"start\" x=\"440.5\" y=\"-52.8\" font-family=\"Helvetica,sans-Serif\" font-size=\"14.00\">gini = 0.675</text>\n<text text-anchor=\"start\" x=\"436\" y=\"-37.8\" font-family=\"Helvetica,sans-Serif\" font-size=\"14.00\">samples = 20</text>\n<text text-anchor=\"start\" x=\"404.5\" y=\"-22.8\" font-family=\"Helvetica,sans-Serif\" font-size=\"14.00\">value = [3, 1, 2, 10, 4]</text>\n<text text-anchor=\"start\" x=\"437.5\" y=\"-7.8\" font-family=\"Helvetica,sans-Serif\" font-size=\"14.00\">class = Kyoto</text>\n</g>\n<!-- 5&#45;&gt;6 -->\n<g id=\"edge6\" class=\"edge\">\n<title>5&#45;&gt;6</title>\n<path fill=\"none\" stroke=\"black\" d=\"M551.03,-103.73C542.11,-94.51 532.65,-84.74 523.74,-75.53\"/>\n<polygon fill=\"black\" stroke=\"black\" points=\"526.21,-73.05 516.74,-68.3 521.18,-77.92 526.21,-73.05\"/>\n</g>\n<!-- 7 -->\n<g id=\"node8\" class=\"node\">\n<title>7</title>\n<path fill=\"#fdf2fb\" stroke=\"black\" d=\"M772.5,-68C772.5,-68 602.5,-68 602.5,-68 596.5,-68 590.5,-62 590.5,-56 590.5,-56 590.5,-12 590.5,-12 590.5,-6 596.5,0 602.5,0 602.5,0 772.5,0 772.5,0 778.5,0 784.5,-6 784.5,-12 784.5,-12 784.5,-56 784.5,-56 784.5,-62 778.5,-68 772.5,-68\"/>\n<text text-anchor=\"start\" x=\"643.5\" y=\"-52.8\" font-family=\"Helvetica,sans-Serif\" font-size=\"14.00\">gini = 0.711</text>\n<text text-anchor=\"start\" x=\"639\" y=\"-37.8\" font-family=\"Helvetica,sans-Serif\" font-size=\"14.00\">samples = 67</text>\n<text text-anchor=\"start\" x=\"598.5\" y=\"-22.8\" font-family=\"Helvetica,sans-Serif\" font-size=\"14.00\">value = [1, 5, 16, 21, 24]</text>\n<text text-anchor=\"start\" x=\"615\" y=\"-7.8\" font-family=\"Helvetica,sans-Serif\" font-size=\"14.00\">class = Fukuoka&#45;City</text>\n</g>\n<!-- 5&#45;&gt;7 -->\n<g id=\"edge7\" class=\"edge\">\n<title>5&#45;&gt;7</title>\n<path fill=\"none\" stroke=\"black\" d=\"M626.62,-103.73C634.7,-94.61 643.27,-84.93 651.35,-75.81\"/>\n<polygon fill=\"black\" stroke=\"black\" points=\"653.99,-78.11 658,-68.3 648.75,-73.46 653.99,-78.11\"/>\n</g>\n<!-- 9 -->\n<g id=\"node10\" class=\"node\">\n<title>9</title>\n<path fill=\"#bebdf6\" stroke=\"black\" d=\"M1049,-187C1049,-187 906,-187 906,-187 900,-187 894,-181 894,-175 894,-175 894,-116 894,-116 894,-110 900,-104 906,-104 906,-104 1049,-104 1049,-104 1055,-104 1061,-110 1061,-116 1061,-116 1061,-175 1061,-175 1061,-181 1055,-187 1049,-187\"/>\n<text text-anchor=\"start\" x=\"922.5\" y=\"-171.8\" font-family=\"Helvetica,sans-Serif\" font-size=\"14.00\">facilities ≤ 9.55</text>\n<text text-anchor=\"start\" x=\"933.5\" y=\"-156.8\" font-family=\"Helvetica,sans-Serif\" font-size=\"14.00\">gini = 0.625</text>\n<text text-anchor=\"start\" x=\"933.5\" y=\"-141.8\" font-family=\"Helvetica,sans-Serif\" font-size=\"14.00\">samples = 8</text>\n<text text-anchor=\"start\" x=\"902\" y=\"-126.8\" font-family=\"Helvetica,sans-Serif\" font-size=\"14.00\">value = [0, 0, 2, 4, 2]</text>\n<text text-anchor=\"start\" x=\"930.5\" y=\"-111.8\" font-family=\"Helvetica,sans-Serif\" font-size=\"14.00\">class = Kyoto</text>\n</g>\n<!-- 8&#45;&gt;9 -->\n<g id=\"edge9\" class=\"edge\">\n<title>8&#45;&gt;9</title>\n<path fill=\"none\" stroke=\"black\" d=\"M977.5,-222.91C977.5,-214.65 977.5,-205.86 977.5,-197.3\"/>\n<polygon fill=\"black\" stroke=\"black\" points=\"981,-197.02 977.5,-187.02 974,-197.02 981,-197.02\"/>\n</g>\n<!-- 12 -->\n<g id=\"node13\" class=\"node\">\n<title>12</title>\n<path fill=\"#baf6eb\" stroke=\"black\" d=\"M1335.5,-187C1335.5,-187 1183.5,-187 1183.5,-187 1177.5,-187 1171.5,-181 1171.5,-175 1171.5,-175 1171.5,-116 1171.5,-116 1171.5,-110 1177.5,-104 1183.5,-104 1183.5,-104 1335.5,-104 1335.5,-104 1341.5,-104 1347.5,-110 1347.5,-116 1347.5,-116 1347.5,-175 1347.5,-175 1347.5,-181 1341.5,-187 1335.5,-187\"/>\n<text text-anchor=\"start\" x=\"1204.5\" y=\"-171.8\" font-family=\"Helvetica,sans-Serif\" font-size=\"14.00\">facilities ≤ 9.95</text>\n<text text-anchor=\"start\" x=\"1215.5\" y=\"-156.8\" font-family=\"Helvetica,sans-Serif\" font-size=\"14.00\">gini = 0.637</text>\n<text text-anchor=\"start\" x=\"1211\" y=\"-141.8\" font-family=\"Helvetica,sans-Serif\" font-size=\"14.00\">samples = 31</text>\n<text text-anchor=\"start\" x=\"1179.5\" y=\"-126.8\" font-family=\"Helvetica,sans-Serif\" font-size=\"14.00\">value = [2, 0, 16, 5, 8]</text>\n<text text-anchor=\"start\" x=\"1196.5\" y=\"-111.8\" font-family=\"Helvetica,sans-Serif\" font-size=\"14.00\">class = Hiroshima</text>\n</g>\n<!-- 8&#45;&gt;12 -->\n<g id=\"edge12\" class=\"edge\">\n<title>8&#45;&gt;12</title>\n<path fill=\"none\" stroke=\"black\" d=\"M1070.23,-225.03C1099.49,-212.89 1131.9,-199.44 1161.52,-187.15\"/>\n<polygon fill=\"black\" stroke=\"black\" points=\"1163.13,-190.27 1171.03,-183.21 1160.45,-183.81 1163.13,-190.27\"/>\n</g>\n<!-- 10 -->\n<g id=\"node11\" class=\"node\">\n<title>10</title>\n<path fill=\"#e539c0\" stroke=\"black\" d=\"M957,-68C957,-68 814,-68 814,-68 808,-68 802,-62 802,-56 802,-56 802,-12 802,-12 802,-6 808,0 814,0 814,0 957,0 957,0 963,0 969,-6 969,-12 969,-12 969,-56 969,-56 969,-62 963,-68 957,-68\"/>\n<text text-anchor=\"start\" x=\"850.5\" y=\"-52.8\" font-family=\"Helvetica,sans-Serif\" font-size=\"14.00\">gini = 0.0</text>\n<text text-anchor=\"start\" x=\"841.5\" y=\"-37.8\" font-family=\"Helvetica,sans-Serif\" font-size=\"14.00\">samples = 2</text>\n<text text-anchor=\"start\" x=\"810\" y=\"-22.8\" font-family=\"Helvetica,sans-Serif\" font-size=\"14.00\">value = [0, 0, 0, 0, 2]</text>\n<text text-anchor=\"start\" x=\"813\" y=\"-7.8\" font-family=\"Helvetica,sans-Serif\" font-size=\"14.00\">class = Fukuoka&#45;City</text>\n</g>\n<!-- 9&#45;&gt;10 -->\n<g id=\"edge10\" class=\"edge\">\n<title>9&#45;&gt;10</title>\n<path fill=\"none\" stroke=\"black\" d=\"M943.24,-103.73C935.66,-94.7 927.61,-85.12 920.02,-76.08\"/>\n<polygon fill=\"black\" stroke=\"black\" points=\"922.59,-73.7 913.48,-68.3 917.23,-78.21 922.59,-73.7\"/>\n</g>\n<!-- 11 -->\n<g id=\"node12\" class=\"node\">\n<title>11</title>\n<path fill=\"#9e9cf2\" stroke=\"black\" d=\"M1142,-68C1142,-68 999,-68 999,-68 993,-68 987,-62 987,-56 987,-56 987,-12 987,-12 987,-6 993,0 999,0 999,0 1142,0 1142,0 1148,0 1154,-6 1154,-12 1154,-12 1154,-56 1154,-56 1154,-62 1148,-68 1142,-68\"/>\n<text text-anchor=\"start\" x=\"1026.5\" y=\"-52.8\" font-family=\"Helvetica,sans-Serif\" font-size=\"14.00\">gini = 0.444</text>\n<text text-anchor=\"start\" x=\"1026.5\" y=\"-37.8\" font-family=\"Helvetica,sans-Serif\" font-size=\"14.00\">samples = 6</text>\n<text text-anchor=\"start\" x=\"995\" y=\"-22.8\" font-family=\"Helvetica,sans-Serif\" font-size=\"14.00\">value = [0, 0, 2, 4, 0]</text>\n<text text-anchor=\"start\" x=\"1023.5\" y=\"-7.8\" font-family=\"Helvetica,sans-Serif\" font-size=\"14.00\">class = Kyoto</text>\n</g>\n<!-- 9&#45;&gt;11 -->\n<g id=\"edge11\" class=\"edge\">\n<title>9&#45;&gt;11</title>\n<path fill=\"none\" stroke=\"black\" d=\"M1012.13,-103.73C1019.8,-94.7 1027.93,-85.12 1035.61,-76.08\"/>\n<polygon fill=\"black\" stroke=\"black\" points=\"1038.41,-78.19 1042.22,-68.3 1033.08,-73.66 1038.41,-78.19\"/>\n</g>\n<!-- 13 -->\n<g id=\"node14\" class=\"node\">\n<title>13</title>\n<path fill=\"#9cf2e2\" stroke=\"black\" d=\"M1335.5,-68C1335.5,-68 1183.5,-68 1183.5,-68 1177.5,-68 1171.5,-62 1171.5,-56 1171.5,-56 1171.5,-12 1171.5,-12 1171.5,-6 1177.5,0 1183.5,0 1183.5,0 1335.5,0 1335.5,0 1341.5,0 1347.5,-6 1347.5,-12 1347.5,-12 1347.5,-56 1347.5,-56 1347.5,-62 1341.5,-68 1335.5,-68\"/>\n<text text-anchor=\"start\" x=\"1215.5\" y=\"-52.8\" font-family=\"Helvetica,sans-Serif\" font-size=\"14.00\">gini = 0.538</text>\n<text text-anchor=\"start\" x=\"1211\" y=\"-37.8\" font-family=\"Helvetica,sans-Serif\" font-size=\"14.00\">samples = 24</text>\n<text text-anchor=\"start\" x=\"1179.5\" y=\"-22.8\" font-family=\"Helvetica,sans-Serif\" font-size=\"14.00\">value = [1, 0, 15, 2, 6]</text>\n<text text-anchor=\"start\" x=\"1196.5\" y=\"-7.8\" font-family=\"Helvetica,sans-Serif\" font-size=\"14.00\">class = Hiroshima</text>\n</g>\n<!-- 12&#45;&gt;13 -->\n<g id=\"edge13\" class=\"edge\">\n<title>12&#45;&gt;13</title>\n<path fill=\"none\" stroke=\"black\" d=\"M1259.5,-103.73C1259.5,-95.52 1259.5,-86.86 1259.5,-78.56\"/>\n<polygon fill=\"black\" stroke=\"black\" points=\"1263,-78.3 1259.5,-68.3 1256,-78.3 1263,-78.3\"/>\n</g>\n<!-- 14 -->\n<g id=\"node15\" class=\"node\">\n<title>14</title>\n<path fill=\"#d8d7fa\" stroke=\"black\" d=\"M1520,-68C1520,-68 1377,-68 1377,-68 1371,-68 1365,-62 1365,-56 1365,-56 1365,-12 1365,-12 1365,-6 1371,0 1377,0 1377,0 1520,0 1520,0 1526,0 1532,-6 1532,-12 1532,-12 1532,-56 1532,-56 1532,-62 1526,-68 1520,-68\"/>\n<text text-anchor=\"start\" x=\"1404.5\" y=\"-52.8\" font-family=\"Helvetica,sans-Serif\" font-size=\"14.00\">gini = 0.694</text>\n<text text-anchor=\"start\" x=\"1404.5\" y=\"-37.8\" font-family=\"Helvetica,sans-Serif\" font-size=\"14.00\">samples = 7</text>\n<text text-anchor=\"start\" x=\"1373\" y=\"-22.8\" font-family=\"Helvetica,sans-Serif\" font-size=\"14.00\">value = [1, 0, 1, 3, 2]</text>\n<text text-anchor=\"start\" x=\"1401.5\" y=\"-7.8\" font-family=\"Helvetica,sans-Serif\" font-size=\"14.00\">class = Kyoto</text>\n</g>\n<!-- 12&#45;&gt;14 -->\n<g id=\"edge14\" class=\"edge\">\n<title>12&#45;&gt;14</title>\n<path fill=\"none\" stroke=\"black\" d=\"M1329.61,-103.88C1346.96,-93.83 1365.5,-83.09 1382.64,-73.16\"/>\n<polygon fill=\"black\" stroke=\"black\" points=\"1384.57,-76.08 1391.47,-68.04 1381.06,-70.03 1384.57,-76.08\"/>\n</g>\n</g>\n</svg>\n",
      "text/plain": [
       "<graphviz.files.Source at 0x7f89baad47c0>"
      ]
     },
     "execution_count": 29,
     "metadata": {},
     "output_type": "execute_result"
    }
   ],
   "source": [
    "plot_tree_classification(dt_classification, features, hostels.City.unique())\n"
   ]
  },
  {
   "cell_type": "markdown",
   "metadata": {},
   "source": [
    "The likelyhood of there being a correlation seems lower than expected, when looking at the bottom of the tree the same Cities are represented several times."
   ]
  }
 ],
 "metadata": {
  "interpreter": {
   "hash": "d4d1e4263499bec80672ea0156c357c1ee493ec2b1c70f0acce89fc37c4a6abe"
  },
  "kernelspec": {
   "display_name": "Python 3.9.10 ('base')",
   "language": "python",
   "name": "python3"
  },
  "language_info": {
   "codemirror_mode": {
    "name": "ipython",
    "version": 3
   },
   "file_extension": ".py",
   "mimetype": "text/x-python",
   "name": "python",
   "nbconvert_exporter": "python",
   "pygments_lexer": "ipython3",
   "version": "3.9.10"
  },
  "orig_nbformat": 4
 },
 "nbformat": 4,
 "nbformat_minor": 2
}
