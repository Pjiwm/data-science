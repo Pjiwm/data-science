{
 "cells": [
  {
   "cell_type": "markdown",
   "metadata": {},
   "source": [
    "## Portfolio assignment 16\n",
    "30 min: Train a decision tree to predict one of the categorical columns of your own dataset.\n",
    "- Split your dataset into a train (70%) and test (30%) set.\n",
    "- Use the train set to fit a DecisionTreeClassifier. You are free to to choose which columns you want to use as feature variables and you are also free to choose the max_depth of the tree. \n",
    "- Use your decision tree model to make predictions for both the train and test set.\n",
    "- Calculate the accuracy for both the train set predictions and test set predictions.\n",
    "- Is the accurracy different? Did you expect this difference?\n",
    "- Use the plot_tree function above to create a plot of the decision tree. Take a few minutes to analyse the decision tree. Do you understand the tree?\n",
    "    \n",
    "![](https://i.imgur.com/0v1CGNV.png)"
   ]
  },
  {
   "cell_type": "code",
   "execution_count": 5,
   "metadata": {},
   "outputs": [],
   "source": [
    "import pandas as pd\n",
    "import seaborn as sns\n"
   ]
  },
  {
   "cell_type": "code",
   "execution_count": 6,
   "metadata": {},
   "outputs": [],
   "source": [
    "hostels = pd.read_csv('../data/hostel.csv')\n",
    "penguins = sns.load_dataset(\"penguins\")\n",
    "hostels = hostels.dropna()"
   ]
  },
  {
   "cell_type": "code",
   "execution_count": 1,
   "metadata": {},
   "outputs": [],
   "source": [
    "from sklearn.model_selection import train_test_split\n",
    "from sklearn.tree import DecisionTreeClassifier\n",
    "def calculate_accuracy(predictions, actuals):\n",
    "    if(len(predictions) != len(actuals)):\n",
    "        raise Exception(\"The amount of predictions did not equal the amount of actuals\")\n",
    "    return (predictions == actuals).sum() / len(actuals)"
   ]
  },
  {
   "cell_type": "code",
   "execution_count": 10,
   "metadata": {},
   "outputs": [
    {
     "data": {
      "text/html": [
       "<div>\n",
       "<style scoped>\n",
       "    .dataframe tbody tr th:only-of-type {\n",
       "        vertical-align: middle;\n",
       "    }\n",
       "\n",
       "    .dataframe tbody tr th {\n",
       "        vertical-align: top;\n",
       "    }\n",
       "\n",
       "    .dataframe thead th {\n",
       "        text-align: right;\n",
       "    }\n",
       "</style>\n",
       "<table border=\"1\" class=\"dataframe\">\n",
       "  <thead>\n",
       "    <tr style=\"text-align: right;\">\n",
       "      <th></th>\n",
       "      <th>Unnamed: 0</th>\n",
       "      <th>hostel.name</th>\n",
       "      <th>City</th>\n",
       "      <th>price.from</th>\n",
       "      <th>Distance</th>\n",
       "      <th>summary.score</th>\n",
       "      <th>rating.band</th>\n",
       "      <th>atmosphere</th>\n",
       "      <th>cleanliness</th>\n",
       "      <th>facilities</th>\n",
       "      <th>location.y</th>\n",
       "      <th>security</th>\n",
       "      <th>staff</th>\n",
       "      <th>valueformoney</th>\n",
       "      <th>lon</th>\n",
       "      <th>lat</th>\n",
       "    </tr>\n",
       "  </thead>\n",
       "  <tbody>\n",
       "    <tr>\n",
       "      <th>0</th>\n",
       "      <td>1</td>\n",
       "      <td>\"Bike &amp; Bed\" CharinCo Hostel</td>\n",
       "      <td>Osaka</td>\n",
       "      <td>3300</td>\n",
       "      <td>2.9km from city centre</td>\n",
       "      <td>9.2</td>\n",
       "      <td>Superb</td>\n",
       "      <td>8.9</td>\n",
       "      <td>9.4</td>\n",
       "      <td>9.3</td>\n",
       "      <td>8.9</td>\n",
       "      <td>9.0</td>\n",
       "      <td>9.4</td>\n",
       "      <td>9.4</td>\n",
       "      <td>135.513767</td>\n",
       "      <td>34.682678</td>\n",
       "    </tr>\n",
       "    <tr>\n",
       "      <th>2</th>\n",
       "      <td>3</td>\n",
       "      <td>&amp;And Hostel Akihabara</td>\n",
       "      <td>Tokyo</td>\n",
       "      <td>3600</td>\n",
       "      <td>7.8km from city centre</td>\n",
       "      <td>8.7</td>\n",
       "      <td>Fabulous</td>\n",
       "      <td>8.0</td>\n",
       "      <td>7.0</td>\n",
       "      <td>9.0</td>\n",
       "      <td>8.0</td>\n",
       "      <td>10.0</td>\n",
       "      <td>10.0</td>\n",
       "      <td>9.0</td>\n",
       "      <td>139.777472</td>\n",
       "      <td>35.697447</td>\n",
       "    </tr>\n",
       "    <tr>\n",
       "      <th>3</th>\n",
       "      <td>4</td>\n",
       "      <td>&amp;And Hostel Ueno</td>\n",
       "      <td>Tokyo</td>\n",
       "      <td>2600</td>\n",
       "      <td>8.7km from city centre</td>\n",
       "      <td>7.4</td>\n",
       "      <td>Very Good</td>\n",
       "      <td>8.0</td>\n",
       "      <td>7.5</td>\n",
       "      <td>7.5</td>\n",
       "      <td>7.5</td>\n",
       "      <td>7.0</td>\n",
       "      <td>8.0</td>\n",
       "      <td>6.5</td>\n",
       "      <td>139.783667</td>\n",
       "      <td>35.712716</td>\n",
       "    </tr>\n",
       "  </tbody>\n",
       "</table>\n",
       "</div>"
      ],
      "text/plain": [
       "   Unnamed: 0                   hostel.name   City  price.from  \\\n",
       "0           1  \"Bike & Bed\" CharinCo Hostel  Osaka        3300   \n",
       "2           3         &And Hostel Akihabara  Tokyo        3600   \n",
       "3           4              &And Hostel Ueno  Tokyo        2600   \n",
       "\n",
       "                 Distance  summary.score rating.band  atmosphere  cleanliness  \\\n",
       "0  2.9km from city centre            9.2      Superb         8.9          9.4   \n",
       "2  7.8km from city centre            8.7    Fabulous         8.0          7.0   \n",
       "3  8.7km from city centre            7.4   Very Good         8.0          7.5   \n",
       "\n",
       "   facilities  location.y  security  staff  valueformoney         lon  \\\n",
       "0         9.3         8.9       9.0    9.4            9.4  135.513767   \n",
       "2         9.0         8.0      10.0   10.0            9.0  139.777472   \n",
       "3         7.5         7.5       7.0    8.0            6.5  139.783667   \n",
       "\n",
       "         lat  \n",
       "0  34.682678  \n",
       "2  35.697447  \n",
       "3  35.712716  "
      ]
     },
     "execution_count": 10,
     "metadata": {},
     "output_type": "execute_result"
    }
   ],
   "source": [
    "hostels.head(3)"
   ]
  },
  {
   "cell_type": "code",
   "execution_count": 7,
   "metadata": {},
   "outputs": [
    {
     "name": "stdout",
     "output_type": "stream",
     "text": [
      "(208, 16) (90, 16)\n"
     ]
    }
   ],
   "source": [
    "hostels_train, hostels_test = train_test_split(hostels, test_size=0.3, stratify=hostels['City'], random_state=3)\n",
    "print(hostels_train.shape, hostels_test.shape)"
   ]
  },
  {
   "cell_type": "code",
   "execution_count": 12,
   "metadata": {},
   "outputs": [
    {
     "data": {
      "text/plain": [
       "DecisionTreeClassifier(max_depth=3)"
      ]
     },
     "execution_count": 12,
     "metadata": {},
     "output_type": "execute_result"
    }
   ],
   "source": [
    "features= ['summary.score']\n",
    "dt_classification = DecisionTreeClassifier(max_depth = 3)\n",
    "dt_classification.fit(hostels_train[features], hostels_train['City'])"
   ]
  },
  {
   "cell_type": "markdown",
   "metadata": {},
   "source": [
    "It isn't too surprising the accuracy isn't that high as there aren't a lot of samples in the used dataset. However the test set surprisingly scores close to the training set."
   ]
  },
  {
   "cell_type": "code",
   "execution_count": 13,
   "metadata": {},
   "outputs": [
    {
     "name": "stdout",
     "output_type": "stream",
     "text": [
      "Accuracy on training set 0.49038461538461536\n",
      "Accuracy on test set 0.4222222222222222\n"
     ]
    }
   ],
   "source": [
    "predictionsOnTrainset = dt_classification.predict(hostels_train[features])\n",
    "predictionsOnTestset = dt_classification.predict(hostels_test[features])\n",
    "\n",
    "accuracyTrain = calculate_accuracy(predictionsOnTrainset, hostels_train.City)\n",
    "accuracyTest = calculate_accuracy(predictionsOnTestset, hostels_test.City)\n",
    "\n",
    "print(\"Accuracy on training set \" + str(accuracyTrain))\n",
    "print(\"Accuracy on test set \" + str(accuracyTest))"
   ]
  },
  {
   "cell_type": "code",
   "execution_count": 15,
   "metadata": {},
   "outputs": [],
   "source": [
    "from sklearn import tree\n",
    "import graphviz\n",
    "\n",
    "def plot_tree_classification(model, features, class_names):\n",
    "    # Generate plot data\n",
    "    dot_data = tree.export_graphviz(model, out_file=None, \n",
    "                          feature_names=features,  \n",
    "                          class_names=class_names,  \n",
    "                          filled=True, rounded=True,  \n",
    "                          special_characters=True)  \n",
    "\n",
    "    # Turn into graph using graphviz\n",
    "    graph = graphviz.Source(dot_data)  \n",
    "\n",
    "    # Write out a pdf\n",
    "    graph.render(\"decision_tree\")\n",
    "\n",
    "    # Display in the notebook\n",
    "    return graph "
   ]
  },
  {
   "cell_type": "code",
   "execution_count": 17,
   "metadata": {},
   "outputs": [
    {
     "data": {
      "image/svg+xml": "<?xml version=\"1.0\" encoding=\"UTF-8\" standalone=\"no\"?>\n<!DOCTYPE svg PUBLIC \"-//W3C//DTD SVG 1.1//EN\"\n \"http://www.w3.org/Graphics/SVG/1.1/DTD/svg11.dtd\">\n<!-- Generated by graphviz version 2.50.0 (20220117.2223)\n -->\n<!-- Title: Tree Pages: 1 -->\n<svg width=\"1144pt\" height=\"433pt\"\n viewBox=\"0.00 0.00 1144.00 433.00\" xmlns=\"http://www.w3.org/2000/svg\" xmlns:xlink=\"http://www.w3.org/1999/xlink\">\n<g id=\"graph0\" class=\"graph\" transform=\"scale(1 1) rotate(0) translate(4 429)\">\n<title>Tree</title>\n<polygon fill=\"white\" stroke=\"transparent\" points=\"-4,4 -4,-429 1140,-429 1140,4 -4,4\"/>\n<!-- 0 -->\n<g id=\"node1\" class=\"node\">\n<title>0</title>\n<path fill=\"#fce5f7\" stroke=\"black\" d=\"M660,-425C660,-425 481,-425 481,-425 475,-425 469,-419 469,-413 469,-413 469,-354 469,-354 469,-348 475,-342 481,-342 481,-342 660,-342 660,-342 666,-342 672,-348 672,-354 672,-354 672,-413 672,-413 672,-419 666,-425 660,-425\"/>\n<text text-anchor=\"start\" x=\"491.5\" y=\"-409.8\" font-family=\"Helvetica,sans-Serif\" font-size=\"14.00\">summary.score ≤ 9.45</text>\n<text text-anchor=\"start\" x=\"526.5\" y=\"-394.8\" font-family=\"Helvetica,sans-Serif\" font-size=\"14.00\">gini = 0.706</text>\n<text text-anchor=\"start\" x=\"517.5\" y=\"-379.8\" font-family=\"Helvetica,sans-Serif\" font-size=\"14.00\">samples = 208</text>\n<text text-anchor=\"start\" x=\"477\" y=\"-364.8\" font-family=\"Helvetica,sans-Serif\" font-size=\"14.00\">value = [10, 9, 46, 62, 81]</text>\n<text text-anchor=\"start\" x=\"498\" y=\"-349.8\" font-family=\"Helvetica,sans-Serif\" font-size=\"14.00\">class = Fukuoka&#45;City</text>\n</g>\n<!-- 1 -->\n<g id=\"node2\" class=\"node\">\n<title>1</title>\n<path fill=\"#f9d4f1\" stroke=\"black\" d=\"M551.5,-306C551.5,-306 381.5,-306 381.5,-306 375.5,-306 369.5,-300 369.5,-294 369.5,-294 369.5,-235 369.5,-235 369.5,-229 375.5,-223 381.5,-223 381.5,-223 551.5,-223 551.5,-223 557.5,-223 563.5,-229 563.5,-235 563.5,-235 563.5,-294 563.5,-294 563.5,-300 557.5,-306 551.5,-306\"/>\n<text text-anchor=\"start\" x=\"392\" y=\"-290.8\" font-family=\"Helvetica,sans-Serif\" font-size=\"14.00\">summary.score ≤ 6.9</text>\n<text text-anchor=\"start\" x=\"422.5\" y=\"-275.8\" font-family=\"Helvetica,sans-Serif\" font-size=\"14.00\">gini = 0.677</text>\n<text text-anchor=\"start\" x=\"413.5\" y=\"-260.8\" font-family=\"Helvetica,sans-Serif\" font-size=\"14.00\">samples = 170</text>\n<text text-anchor=\"start\" x=\"377.5\" y=\"-245.8\" font-family=\"Helvetica,sans-Serif\" font-size=\"14.00\">value = [8, 8, 26, 51, 77]</text>\n<text text-anchor=\"start\" x=\"394\" y=\"-230.8\" font-family=\"Helvetica,sans-Serif\" font-size=\"14.00\">class = Fukuoka&#45;City</text>\n</g>\n<!-- 0&#45;&gt;1 -->\n<g id=\"edge1\" class=\"edge\">\n<title>0&#45;&gt;1</title>\n<path fill=\"none\" stroke=\"black\" d=\"M534.42,-341.91C526.35,-332.83 517.72,-323.12 509.41,-313.77\"/>\n<polygon fill=\"black\" stroke=\"black\" points=\"511.78,-311.17 502.52,-306.02 506.55,-315.82 511.78,-311.17\"/>\n<text text-anchor=\"middle\" x=\"501.05\" y=\"-327.28\" font-family=\"Helvetica,sans-Serif\" font-size=\"14.00\">True</text>\n</g>\n<!-- 8 -->\n<g id=\"node9\" class=\"node\">\n<title>8</title>\n<path fill=\"#bdf6ec\" stroke=\"black\" d=\"M755,-306C755,-306 594,-306 594,-306 588,-306 582,-300 582,-294 582,-294 582,-235 582,-235 582,-229 588,-223 594,-223 594,-223 755,-223 755,-223 761,-223 767,-229 767,-235 767,-235 767,-294 767,-294 767,-300 761,-306 755,-306\"/>\n<text text-anchor=\"start\" x=\"595.5\" y=\"-290.8\" font-family=\"Helvetica,sans-Serif\" font-size=\"14.00\">summary.score ≤ 9.55</text>\n<text text-anchor=\"start\" x=\"630.5\" y=\"-275.8\" font-family=\"Helvetica,sans-Serif\" font-size=\"14.00\">gini = 0.625</text>\n<text text-anchor=\"start\" x=\"626\" y=\"-260.8\" font-family=\"Helvetica,sans-Serif\" font-size=\"14.00\">samples = 38</text>\n<text text-anchor=\"start\" x=\"590\" y=\"-245.8\" font-family=\"Helvetica,sans-Serif\" font-size=\"14.00\">value = [2, 1, 20, 11, 4]</text>\n<text text-anchor=\"start\" x=\"611.5\" y=\"-230.8\" font-family=\"Helvetica,sans-Serif\" font-size=\"14.00\">class = Hiroshima</text>\n</g>\n<!-- 0&#45;&gt;8 -->\n<g id=\"edge8\" class=\"edge\">\n<title>0&#45;&gt;8</title>\n<path fill=\"none\" stroke=\"black\" d=\"M606.58,-341.91C614.65,-332.83 623.28,-323.12 631.59,-313.77\"/>\n<polygon fill=\"black\" stroke=\"black\" points=\"634.45,-315.82 638.48,-306.02 629.22,-311.17 634.45,-315.82\"/>\n<text text-anchor=\"middle\" x=\"639.95\" y=\"-327.28\" font-family=\"Helvetica,sans-Serif\" font-size=\"14.00\">False</text>\n</g>\n<!-- 2 -->\n<g id=\"node3\" class=\"node\">\n<title>2</title>\n<path fill=\"#9e9cf2\" stroke=\"black\" d=\"M340,-187C340,-187 197,-187 197,-187 191,-187 185,-181 185,-175 185,-175 185,-116 185,-116 185,-110 191,-104 197,-104 197,-104 340,-104 340,-104 346,-104 352,-110 352,-116 352,-116 352,-175 352,-175 352,-181 346,-187 340,-187\"/>\n<text text-anchor=\"start\" x=\"194\" y=\"-171.8\" font-family=\"Helvetica,sans-Serif\" font-size=\"14.00\">summary.score ≤ 6.1</text>\n<text text-anchor=\"start\" x=\"224.5\" y=\"-156.8\" font-family=\"Helvetica,sans-Serif\" font-size=\"14.00\">gini = 0.531</text>\n<text text-anchor=\"start\" x=\"224.5\" y=\"-141.8\" font-family=\"Helvetica,sans-Serif\" font-size=\"14.00\">samples = 8</text>\n<text text-anchor=\"start\" x=\"193\" y=\"-126.8\" font-family=\"Helvetica,sans-Serif\" font-size=\"14.00\">value = [0, 0, 2, 5, 1]</text>\n<text text-anchor=\"start\" x=\"221.5\" y=\"-111.8\" font-family=\"Helvetica,sans-Serif\" font-size=\"14.00\">class = Kyoto</text>\n</g>\n<!-- 1&#45;&gt;2 -->\n<g id=\"edge2\" class=\"edge\">\n<title>1&#45;&gt;2</title>\n<path fill=\"none\" stroke=\"black\" d=\"M397.8,-222.91C381.06,-213.02 363.05,-202.37 345.93,-192.25\"/>\n<polygon fill=\"black\" stroke=\"black\" points=\"347.46,-189.09 337.07,-187.02 343.9,-195.12 347.46,-189.09\"/>\n</g>\n<!-- 5 -->\n<g id=\"node6\" class=\"node\">\n<title>5</title>\n<path fill=\"#f8ccef\" stroke=\"black\" d=\"M551.5,-187C551.5,-187 381.5,-187 381.5,-187 375.5,-187 369.5,-181 369.5,-175 369.5,-175 369.5,-116 369.5,-116 369.5,-110 375.5,-104 381.5,-104 381.5,-104 551.5,-104 551.5,-104 557.5,-104 563.5,-110 563.5,-116 563.5,-116 563.5,-175 563.5,-175 563.5,-181 557.5,-187 551.5,-187\"/>\n<text text-anchor=\"start\" x=\"387.5\" y=\"-171.8\" font-family=\"Helvetica,sans-Serif\" font-size=\"14.00\">summary.score ≤ 7.75</text>\n<text text-anchor=\"start\" x=\"422.5\" y=\"-156.8\" font-family=\"Helvetica,sans-Serif\" font-size=\"14.00\">gini = 0.672</text>\n<text text-anchor=\"start\" x=\"413.5\" y=\"-141.8\" font-family=\"Helvetica,sans-Serif\" font-size=\"14.00\">samples = 162</text>\n<text text-anchor=\"start\" x=\"377.5\" y=\"-126.8\" font-family=\"Helvetica,sans-Serif\" font-size=\"14.00\">value = [8, 8, 24, 46, 76]</text>\n<text text-anchor=\"start\" x=\"394\" y=\"-111.8\" font-family=\"Helvetica,sans-Serif\" font-size=\"14.00\">class = Fukuoka&#45;City</text>\n</g>\n<!-- 1&#45;&gt;5 -->\n<g id=\"edge5\" class=\"edge\">\n<title>1&#45;&gt;5</title>\n<path fill=\"none\" stroke=\"black\" d=\"M466.5,-222.91C466.5,-214.65 466.5,-205.86 466.5,-197.3\"/>\n<polygon fill=\"black\" stroke=\"black\" points=\"470,-197.02 466.5,-187.02 463,-197.02 470,-197.02\"/>\n</g>\n<!-- 3 -->\n<g id=\"node4\" class=\"node\">\n<title>3</title>\n<path fill=\"#7d7bee\" stroke=\"black\" d=\"M155,-68C155,-68 12,-68 12,-68 6,-68 0,-62 0,-56 0,-56 0,-12 0,-12 0,-6 6,0 12,0 12,0 155,0 155,0 161,0 167,-6 167,-12 167,-12 167,-56 167,-56 167,-62 161,-68 155,-68\"/>\n<text text-anchor=\"start\" x=\"39.5\" y=\"-52.8\" font-family=\"Helvetica,sans-Serif\" font-size=\"14.00\">gini = 0.375</text>\n<text text-anchor=\"start\" x=\"39.5\" y=\"-37.8\" font-family=\"Helvetica,sans-Serif\" font-size=\"14.00\">samples = 4</text>\n<text text-anchor=\"start\" x=\"8\" y=\"-22.8\" font-family=\"Helvetica,sans-Serif\" font-size=\"14.00\">value = [0, 0, 0, 3, 1]</text>\n<text text-anchor=\"start\" x=\"36.5\" y=\"-7.8\" font-family=\"Helvetica,sans-Serif\" font-size=\"14.00\">class = Kyoto</text>\n</g>\n<!-- 2&#45;&gt;3 -->\n<g id=\"edge3\" class=\"edge\">\n<title>2&#45;&gt;3</title>\n<path fill=\"none\" stroke=\"black\" d=\"M199.88,-103.88C182.89,-93.83 164.75,-83.09 147.97,-73.16\"/>\n<polygon fill=\"black\" stroke=\"black\" points=\"149.71,-70.12 139.33,-68.04 146.15,-76.15 149.71,-70.12\"/>\n</g>\n<!-- 4 -->\n<g id=\"node5\" class=\"node\">\n<title>4</title>\n<path fill=\"#ffffff\" stroke=\"black\" d=\"M340,-68C340,-68 197,-68 197,-68 191,-68 185,-62 185,-56 185,-56 185,-12 185,-12 185,-6 191,0 197,0 197,0 340,0 340,0 346,0 352,-6 352,-12 352,-12 352,-56 352,-56 352,-62 346,-68 340,-68\"/>\n<text text-anchor=\"start\" x=\"233.5\" y=\"-52.8\" font-family=\"Helvetica,sans-Serif\" font-size=\"14.00\">gini = 0.5</text>\n<text text-anchor=\"start\" x=\"224.5\" y=\"-37.8\" font-family=\"Helvetica,sans-Serif\" font-size=\"14.00\">samples = 4</text>\n<text text-anchor=\"start\" x=\"193\" y=\"-22.8\" font-family=\"Helvetica,sans-Serif\" font-size=\"14.00\">value = [0, 0, 2, 2, 0]</text>\n<text text-anchor=\"start\" x=\"205.5\" y=\"-7.8\" font-family=\"Helvetica,sans-Serif\" font-size=\"14.00\">class = Hiroshima</text>\n</g>\n<!-- 2&#45;&gt;4 -->\n<g id=\"edge4\" class=\"edge\">\n<title>2&#45;&gt;4</title>\n<path fill=\"none\" stroke=\"black\" d=\"M268.5,-103.73C268.5,-95.52 268.5,-86.86 268.5,-78.56\"/>\n<polygon fill=\"black\" stroke=\"black\" points=\"272,-78.3 268.5,-68.3 265,-78.3 272,-78.3\"/>\n</g>\n<!-- 6 -->\n<g id=\"node7\" class=\"node\">\n<title>6</title>\n<path fill=\"#ec6fd1\" stroke=\"black\" d=\"M533.5,-68C533.5,-68 381.5,-68 381.5,-68 375.5,-68 369.5,-62 369.5,-56 369.5,-56 369.5,-12 369.5,-12 369.5,-6 375.5,0 381.5,0 381.5,0 533.5,0 533.5,0 539.5,0 545.5,-6 545.5,-12 545.5,-12 545.5,-56 545.5,-56 545.5,-62 539.5,-68 533.5,-68\"/>\n<text text-anchor=\"start\" x=\"413.5\" y=\"-52.8\" font-family=\"Helvetica,sans-Serif\" font-size=\"14.00\">gini = 0.379</text>\n<text text-anchor=\"start\" x=\"409\" y=\"-37.8\" font-family=\"Helvetica,sans-Serif\" font-size=\"14.00\">samples = 13</text>\n<text text-anchor=\"start\" x=\"377.5\" y=\"-22.8\" font-family=\"Helvetica,sans-Serif\" font-size=\"14.00\">value = [0, 0, 1, 2, 10]</text>\n<text text-anchor=\"start\" x=\"385\" y=\"-7.8\" font-family=\"Helvetica,sans-Serif\" font-size=\"14.00\">class = Fukuoka&#45;City</text>\n</g>\n<!-- 5&#45;&gt;6 -->\n<g id=\"edge6\" class=\"edge\">\n<title>5&#45;&gt;6</title>\n<path fill=\"none\" stroke=\"black\" d=\"M463.15,-103.73C462.47,-95.43 461.75,-86.67 461.06,-78.28\"/>\n<polygon fill=\"black\" stroke=\"black\" points=\"464.54,-77.98 460.24,-68.3 457.57,-78.55 464.54,-77.98\"/>\n</g>\n<!-- 7 -->\n<g id=\"node8\" class=\"node\">\n<title>7</title>\n<path fill=\"#fad6f2\" stroke=\"black\" d=\"M745.5,-68C745.5,-68 575.5,-68 575.5,-68 569.5,-68 563.5,-62 563.5,-56 563.5,-56 563.5,-12 563.5,-12 563.5,-6 569.5,0 575.5,0 575.5,0 745.5,0 745.5,0 751.5,0 757.5,-6 757.5,-12 757.5,-12 757.5,-56 757.5,-56 757.5,-62 751.5,-68 745.5,-68\"/>\n<text text-anchor=\"start\" x=\"616.5\" y=\"-52.8\" font-family=\"Helvetica,sans-Serif\" font-size=\"14.00\">gini = 0.687</text>\n<text text-anchor=\"start\" x=\"607.5\" y=\"-37.8\" font-family=\"Helvetica,sans-Serif\" font-size=\"14.00\">samples = 149</text>\n<text text-anchor=\"start\" x=\"571.5\" y=\"-22.8\" font-family=\"Helvetica,sans-Serif\" font-size=\"14.00\">value = [8, 8, 23, 44, 66]</text>\n<text text-anchor=\"start\" x=\"588\" y=\"-7.8\" font-family=\"Helvetica,sans-Serif\" font-size=\"14.00\">class = Fukuoka&#45;City</text>\n</g>\n<!-- 5&#45;&gt;7 -->\n<g id=\"edge7\" class=\"edge\">\n<title>5&#45;&gt;7</title>\n<path fill=\"none\" stroke=\"black\" d=\"M538.46,-103.88C556.28,-93.83 575.3,-83.09 592.9,-73.16\"/>\n<polygon fill=\"black\" stroke=\"black\" points=\"594.97,-76.01 601.96,-68.04 591.53,-69.91 594.97,-76.01\"/>\n</g>\n<!-- 9 -->\n<g id=\"node10\" class=\"node\">\n<title>9</title>\n<path fill=\"#e9e9fc\" stroke=\"black\" d=\"M746,-179.5C746,-179.5 603,-179.5 603,-179.5 597,-179.5 591,-173.5 591,-167.5 591,-167.5 591,-123.5 591,-123.5 591,-117.5 597,-111.5 603,-111.5 603,-111.5 746,-111.5 746,-111.5 752,-111.5 758,-117.5 758,-123.5 758,-123.5 758,-167.5 758,-167.5 758,-173.5 752,-179.5 746,-179.5\"/>\n<text text-anchor=\"start\" x=\"630.5\" y=\"-164.3\" font-family=\"Helvetica,sans-Serif\" font-size=\"14.00\">gini = 0.673</text>\n<text text-anchor=\"start\" x=\"626\" y=\"-149.3\" font-family=\"Helvetica,sans-Serif\" font-size=\"14.00\">samples = 14</text>\n<text text-anchor=\"start\" x=\"599\" y=\"-134.3\" font-family=\"Helvetica,sans-Serif\" font-size=\"14.00\">value = [1, 1, 5, 6, 1]</text>\n<text text-anchor=\"start\" x=\"627.5\" y=\"-119.3\" font-family=\"Helvetica,sans-Serif\" font-size=\"14.00\">class = Kyoto</text>\n</g>\n<!-- 8&#45;&gt;9 -->\n<g id=\"edge9\" class=\"edge\">\n<title>8&#45;&gt;9</title>\n<path fill=\"none\" stroke=\"black\" d=\"M674.5,-222.91C674.5,-212.2 674.5,-200.62 674.5,-189.78\"/>\n<polygon fill=\"black\" stroke=\"black\" points=\"678,-189.67 674.5,-179.67 671,-189.67 678,-189.67\"/>\n</g>\n<!-- 10 -->\n<g id=\"node11\" class=\"node\">\n<title>10</title>\n<path fill=\"#97f1e0\" stroke=\"black\" d=\"M939.5,-187C939.5,-187 787.5,-187 787.5,-187 781.5,-187 775.5,-181 775.5,-175 775.5,-175 775.5,-116 775.5,-116 775.5,-110 781.5,-104 787.5,-104 787.5,-104 939.5,-104 939.5,-104 945.5,-104 951.5,-110 951.5,-116 951.5,-116 951.5,-175 951.5,-175 951.5,-181 945.5,-187 939.5,-187\"/>\n<text text-anchor=\"start\" x=\"784.5\" y=\"-171.8\" font-family=\"Helvetica,sans-Serif\" font-size=\"14.00\">summary.score ≤ 9.85</text>\n<text text-anchor=\"start\" x=\"819.5\" y=\"-156.8\" font-family=\"Helvetica,sans-Serif\" font-size=\"14.00\">gini = 0.549</text>\n<text text-anchor=\"start\" x=\"815\" y=\"-141.8\" font-family=\"Helvetica,sans-Serif\" font-size=\"14.00\">samples = 24</text>\n<text text-anchor=\"start\" x=\"783.5\" y=\"-126.8\" font-family=\"Helvetica,sans-Serif\" font-size=\"14.00\">value = [1, 0, 15, 5, 3]</text>\n<text text-anchor=\"start\" x=\"800.5\" y=\"-111.8\" font-family=\"Helvetica,sans-Serif\" font-size=\"14.00\">class = Hiroshima</text>\n</g>\n<!-- 8&#45;&gt;10 -->\n<g id=\"edge10\" class=\"edge\">\n<title>8&#45;&gt;10</title>\n<path fill=\"none\" stroke=\"black\" d=\"M740.07,-222.91C755.91,-213.11 772.94,-202.56 789.14,-192.53\"/>\n<polygon fill=\"black\" stroke=\"black\" points=\"791.38,-195.26 798.04,-187.02 787.7,-189.31 791.38,-195.26\"/>\n</g>\n<!-- 11 -->\n<g id=\"node12\" class=\"node\">\n<title>11</title>\n<path fill=\"#83efdb\" stroke=\"black\" d=\"M939.5,-68C939.5,-68 787.5,-68 787.5,-68 781.5,-68 775.5,-62 775.5,-56 775.5,-56 775.5,-12 775.5,-12 775.5,-6 781.5,0 787.5,0 787.5,0 939.5,0 939.5,0 945.5,0 951.5,-6 951.5,-12 951.5,-12 951.5,-56 951.5,-56 951.5,-62 945.5,-68 939.5,-68\"/>\n<text text-anchor=\"start\" x=\"824\" y=\"-52.8\" font-family=\"Helvetica,sans-Serif\" font-size=\"14.00\">gini = 0.46</text>\n<text text-anchor=\"start\" x=\"815\" y=\"-37.8\" font-family=\"Helvetica,sans-Serif\" font-size=\"14.00\">samples = 20</text>\n<text text-anchor=\"start\" x=\"783.5\" y=\"-22.8\" font-family=\"Helvetica,sans-Serif\" font-size=\"14.00\">value = [0, 0, 14, 4, 2]</text>\n<text text-anchor=\"start\" x=\"800.5\" y=\"-7.8\" font-family=\"Helvetica,sans-Serif\" font-size=\"14.00\">class = Hiroshima</text>\n</g>\n<!-- 10&#45;&gt;11 -->\n<g id=\"edge11\" class=\"edge\">\n<title>10&#45;&gt;11</title>\n<path fill=\"none\" stroke=\"black\" d=\"M863.5,-103.73C863.5,-95.52 863.5,-86.86 863.5,-78.56\"/>\n<polygon fill=\"black\" stroke=\"black\" points=\"867,-78.3 863.5,-68.3 860,-78.3 867,-78.3\"/>\n</g>\n<!-- 12 -->\n<g id=\"node13\" class=\"node\">\n<title>12</title>\n<path fill=\"#ffffff\" stroke=\"black\" d=\"M1124,-68C1124,-68 981,-68 981,-68 975,-68 969,-62 969,-56 969,-56 969,-12 969,-12 969,-6 975,0 981,0 981,0 1124,0 1124,0 1130,0 1136,-6 1136,-12 1136,-12 1136,-56 1136,-56 1136,-62 1130,-68 1124,-68\"/>\n<text text-anchor=\"start\" x=\"1013\" y=\"-52.8\" font-family=\"Helvetica,sans-Serif\" font-size=\"14.00\">gini = 0.75</text>\n<text text-anchor=\"start\" x=\"1008.5\" y=\"-37.8\" font-family=\"Helvetica,sans-Serif\" font-size=\"14.00\">samples = 4</text>\n<text text-anchor=\"start\" x=\"977\" y=\"-22.8\" font-family=\"Helvetica,sans-Serif\" font-size=\"14.00\">value = [1, 0, 1, 1, 1]</text>\n<text text-anchor=\"start\" x=\"1003\" y=\"-7.8\" font-family=\"Helvetica,sans-Serif\" font-size=\"14.00\">class = Osaka</text>\n</g>\n<!-- 10&#45;&gt;12 -->\n<g id=\"edge12\" class=\"edge\">\n<title>10&#45;&gt;12</title>\n<path fill=\"none\" stroke=\"black\" d=\"M933.61,-103.88C950.96,-93.83 969.5,-83.09 986.64,-73.16\"/>\n<polygon fill=\"black\" stroke=\"black\" points=\"988.57,-76.08 995.47,-68.04 985.06,-70.03 988.57,-76.08\"/>\n</g>\n</g>\n</svg>\n",
      "text/plain": [
       "<graphviz.files.Source at 0x7ff1fcdb2a30>"
      ]
     },
     "execution_count": 17,
     "metadata": {},
     "output_type": "execute_result"
    }
   ],
   "source": [
    "plot_tree_classification(dt_classification, features, hostels.City.unique())\n"
   ]
  }
 ],
 "metadata": {
  "interpreter": {
   "hash": "d4d1e4263499bec80672ea0156c357c1ee493ec2b1c70f0acce89fc37c4a6abe"
  },
  "kernelspec": {
   "display_name": "Python 3.9.10 ('base')",
   "language": "python",
   "name": "python3"
  },
  "language_info": {
   "codemirror_mode": {
    "name": "ipython",
    "version": 3
   },
   "file_extension": ".py",
   "mimetype": "text/x-python",
   "name": "python",
   "nbconvert_exporter": "python",
   "pygments_lexer": "ipython3",
   "version": "3.9.10"
  },
  "orig_nbformat": 4
 },
 "nbformat": 4,
 "nbformat_minor": 2
}
